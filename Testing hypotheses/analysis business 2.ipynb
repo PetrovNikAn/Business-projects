{
 "cells": [
  {
   "cell_type": "markdown",
   "metadata": {},
   "source": [
    "<div class=\"alert alert-info\"> <b>\n",
    "Проект по исследованию гипотез для увеличения выручки</b> \n",
    "    \n",
    "Исходя из подготовленного, при участии отдела маркетинга, списка гипотез для увеличения выручки интернет-магазина необходимо\n",
    "приоритизировать гипотезы, запустить A/B-тест и проанализировать результаты.\n",
    "\n",
    "Целью проекта является:\n",
    "\n",
    "1. Проведение приоритезации гипотез с применением фреймворков ICE и RICE. Определение причин изменений в приоритезации при применении разных фреймворков.\n",
    "2. Анализ А/В теста с определением динамики кумулятивной выручки и среднего чека по группам, аномальных заказов и статистической значимости различий в среднем количестве заказов и среднем чеке по сырым и очищенным данным.\n",
    "3. Принять решение о победе одной из групп по результатам теста, отсутствии различий между ними либо о продолжении теста.\n",
    "    \n",
    "Для выполнения поставленных целей необходимо решить следующие задачи:\n",
    "    \n",
    "1. Построить и проанализировать графики кумулятивной выручки, кумулятивного среднего чека и кумулятивного среднего количества заказов по группам.\n",
    "2. Посчитать 95-й и 99-й перцентили количества заказов и их стоимости на пользователя.\n",
    "3. Определить статистическую значимость различий в среднем количестве заказов между группами по «сырым» и по «очищенным» данным.\n",
    "4. Определить статистическую значимость различий в среднем чеке заказа между группами по «сырым» и по «очищенным» данным.\n",
    "\n",
    "\n",
    "</div>"
   ]
  },
  {
   "cell_type": "markdown",
   "metadata": {},
   "source": [
    "# 1 Приоритезация гипотез"
   ]
  },
  {
   "cell_type": "markdown",
   "metadata": {},
   "source": [
    "В целях максимизации увеличения выручки проведем приоритезацию 9 гипотез.\n",
    "\n",
    "Для этого выполним следующие задачи:\n",
    "- Применим фреймворк ICE.\n",
    "- Применим фреймворк RICE.\n",
    "- Выясним, как изменилась приоритизация гипотез при применении RICE вместо ICE. Сделаем краткие выводы."
   ]
  },
  {
   "cell_type": "markdown",
   "metadata": {},
   "source": [
    "Импортируем необходимые для работы в рамках всего проекта библиотеки"
   ]
  },
  {
   "cell_type": "code",
   "execution_count": 1,
   "metadata": {},
   "outputs": [],
   "source": [
    "import pandas as pd\n",
    "import scipy.stats as stats\n",
    "import datetime as dt\n",
    "import numpy as np\n",
    "import matplotlib.pyplot as plt"
   ]
  },
  {
   "cell_type": "markdown",
   "metadata": {},
   "source": [
    "# Предобработка данных"
   ]
  },
  {
   "cell_type": "code",
   "execution_count": 2,
   "metadata": {},
   "outputs": [
    {
     "name": "stdout",
     "output_type": "stream",
     "text": [
      "                                          Hypothesis  Reach  Impact  \\\n",
      "0  Добавить два новых канала привлечения трафика,...      3      10   \n",
      "1  Запустить собственную службу доставки, что сок...      2       5   \n",
      "2  Добавить блоки рекомендаций товаров на сайт ин...      8       3   \n",
      "3  Изменить структура категорий, что увеличит кон...      8       3   \n",
      "4  Изменить цвет фона главной страницы, чтобы уве...      3       1   \n",
      "5  Добавить страницу отзывов клиентов о магазине,...      3       2   \n",
      "6  Показать на главной странице баннеры с актуаль...      5       3   \n",
      "7  Добавить форму подписки на все основные страни...     10       7   \n",
      "8  Запустить акцию, дающую скидку на товар в день...      1       9   \n",
      "\n",
      "   Confidence  Efforts  \n",
      "0           8        6  \n",
      "1           4       10  \n",
      "2           7        3  \n",
      "3           3        8  \n",
      "4           1        1  \n",
      "5           2        3  \n",
      "6           8        3  \n",
      "7           8        5  \n",
      "8           9        5  \n"
     ]
    }
   ],
   "source": [
    "data = pd.read_csv('/datasets/hypothesis.csv', sep=',')\n",
    "print (data)"
   ]
  },
  {
   "cell_type": "code",
   "execution_count": 3,
   "metadata": {},
   "outputs": [
    {
     "name": "stdout",
     "output_type": "stream",
     "text": [
      "<class 'pandas.core.frame.DataFrame'>\n",
      "RangeIndex: 9 entries, 0 to 8\n",
      "Data columns (total 5 columns):\n",
      " #   Column      Non-Null Count  Dtype \n",
      "---  ------      --------------  ----- \n",
      " 0   Hypothesis  9 non-null      object\n",
      " 1   Reach       9 non-null      int64 \n",
      " 2   Impact      9 non-null      int64 \n",
      " 3   Confidence  9 non-null      int64 \n",
      " 4   Efforts     9 non-null      int64 \n",
      "dtypes: int64(4), object(1)\n",
      "memory usage: 488.0+ bytes\n"
     ]
    }
   ],
   "source": [
    "# проверим типы данных\n",
    "data.info()"
   ]
  },
  {
   "cell_type": "code",
   "execution_count": 4,
   "metadata": {},
   "outputs": [
    {
     "data": {
      "text/plain": [
       "Hypothesis    0\n",
       "Reach         0\n",
       "Impact        0\n",
       "Confidence    0\n",
       "Efforts       0\n",
       "dtype: int64"
      ]
     },
     "execution_count": 4,
     "metadata": {},
     "output_type": "execute_result"
    }
   ],
   "source": [
    "# поиск пропущенных значений\n",
    "data.isna().sum()"
   ]
  },
  {
   "cell_type": "code",
   "execution_count": 5,
   "metadata": {},
   "outputs": [
    {
     "data": {
      "text/plain": [
       "array(['Добавить два новых канала привлечения трафика, что позволит привлекать на 30% больше пользователей',\n",
       "       'Запустить собственную службу доставки, что сократит срок доставки заказов',\n",
       "       'Добавить блоки рекомендаций товаров на сайт интернет магазина, чтобы повысить конверсию и средний чек заказа',\n",
       "       'Изменить структура категорий, что увеличит конверсию, т.к. пользователи быстрее найдут нужный товар',\n",
       "       'Изменить цвет фона главной страницы, чтобы увеличить вовлеченность пользователей',\n",
       "       'Добавить страницу отзывов клиентов о магазине, что позволит увеличить количество заказов',\n",
       "       'Показать на главной странице баннеры с актуальными акциями и распродажами, чтобы увеличить конверсию',\n",
       "       'Добавить форму подписки на все основные страницы, чтобы собрать базу клиентов для email-рассылок',\n",
       "       'Запустить акцию, дающую скидку на товар в день рождения'],\n",
       "      dtype=object)"
      ]
     },
     "execution_count": 5,
     "metadata": {},
     "output_type": "execute_result"
    }
   ],
   "source": [
    "# прочитаем гипотезы\n",
    "data['Hypothesis'].unique()"
   ]
  },
  {
   "cell_type": "markdown",
   "metadata": {},
   "source": [
    "Заменим названия столбцов (приведение к нижнему регистру)"
   ]
  },
  {
   "cell_type": "code",
   "execution_count": 6,
   "metadata": {},
   "outputs": [
    {
     "name": "stdout",
     "output_type": "stream",
     "text": [
      "                                          hypothesis  reach  impact  \\\n",
      "0  Добавить два новых канала привлечения трафика,...      3      10   \n",
      "1  Запустить собственную службу доставки, что сок...      2       5   \n",
      "2  Добавить блоки рекомендаций товаров на сайт ин...      8       3   \n",
      "3  Изменить структура категорий, что увеличит кон...      8       3   \n",
      "4  Изменить цвет фона главной страницы, чтобы уве...      3       1   \n",
      "5  Добавить страницу отзывов клиентов о магазине,...      3       2   \n",
      "6  Показать на главной странице баннеры с актуаль...      5       3   \n",
      "7  Добавить форму подписки на все основные страни...     10       7   \n",
      "8  Запустить акцию, дающую скидку на товар в день...      1       9   \n",
      "\n",
      "   confidence  efforts  \n",
      "0           8        6  \n",
      "1           4       10  \n",
      "2           7        3  \n",
      "3           3        8  \n",
      "4           1        1  \n",
      "5           2        3  \n",
      "6           8        3  \n",
      "7           8        5  \n",
      "8           9        5  \n"
     ]
    }
   ],
   "source": [
    "data.columns = data.columns.str.lower()\n",
    "print(data)"
   ]
  },
  {
   "cell_type": "markdown",
   "metadata": {},
   "source": [
    "**Применение фреймворка ICE для приоритизации гипотез**"
   ]
  },
  {
   "cell_type": "code",
   "execution_count": 7,
   "metadata": {},
   "outputs": [],
   "source": [
    "data['ICE'] = (data['impact']*data['confidence'])/data['efforts']"
   ]
  },
  {
   "cell_type": "code",
   "execution_count": 8,
   "metadata": {},
   "outputs": [
    {
     "name": "stdout",
     "output_type": "stream",
     "text": [
      "                                          hypothesis        ICE\n",
      "8  Запустить акцию, дающую скидку на товар в день...  16.200000\n",
      "0  Добавить два новых канала привлечения трафика,...  13.333333\n",
      "7  Добавить форму подписки на все основные страни...  11.200000\n",
      "6  Показать на главной странице баннеры с актуаль...   8.000000\n",
      "2  Добавить блоки рекомендаций товаров на сайт ин...   7.000000\n",
      "1  Запустить собственную службу доставки, что сок...   2.000000\n",
      "5  Добавить страницу отзывов клиентов о магазине,...   1.333333\n",
      "3  Изменить структура категорий, что увеличит кон...   1.125000\n",
      "4  Изменить цвет фона главной страницы, чтобы уве...   1.000000\n"
     ]
    }
   ],
   "source": [
    "data_ICE = data[['hypothesis', 'ICE']].sort_values(by='ICE', ascending = False)\n",
    "print (data_ICE)"
   ]
  },
  {
   "cell_type": "markdown",
   "metadata": {},
   "source": [
    "**Наиболее перспективные гипотезы:**\n",
    "\n",
    "    - Акция со скидкой в ДР пользователя;\n",
    "    - Добавление двух новых каналов привлечения трафика;\n",
    "    - Добавление формы подписки в целях формирования БД клиентов для е-mail рассылки."
   ]
  },
  {
   "cell_type": "markdown",
   "metadata": {},
   "source": [
    "**Применение фреймворка RICE для приоритизации гипотез**"
   ]
  },
  {
   "cell_type": "code",
   "execution_count": 9,
   "metadata": {},
   "outputs": [],
   "source": [
    "data['RICE'] = (data['reach']*data['impact']*data['confidence'])/data['efforts']"
   ]
  },
  {
   "cell_type": "code",
   "execution_count": 10,
   "metadata": {},
   "outputs": [
    {
     "name": "stdout",
     "output_type": "stream",
     "text": [
      "                                          hypothesis   RICE\n",
      "7  Добавить форму подписки на все основные страни...  112.0\n",
      "2  Добавить блоки рекомендаций товаров на сайт ин...   56.0\n",
      "0  Добавить два новых канала привлечения трафика,...   40.0\n",
      "6  Показать на главной странице баннеры с актуаль...   40.0\n",
      "8  Запустить акцию, дающую скидку на товар в день...   16.2\n",
      "3  Изменить структура категорий, что увеличит кон...    9.0\n",
      "1  Запустить собственную службу доставки, что сок...    4.0\n",
      "5  Добавить страницу отзывов клиентов о магазине,...    4.0\n",
      "4  Изменить цвет фона главной страницы, чтобы уве...    3.0\n"
     ]
    }
   ],
   "source": [
    "data_RICE = data[['hypothesis', 'RICE']].sort_values(by='RICE', ascending = False)\n",
    "print (data_RICE)"
   ]
  },
  {
   "cell_type": "markdown",
   "metadata": {},
   "source": [
    "**Наиболее перспективные гипотезы:**\n",
    "\n",
    "    - Добавление формы подписки в целях формирования БД клиентов для е-mail рассылки;\n",
    "    - Добавление блоков рекомендаций товаров на сайт интернет магазина, чтобы повысить конверсию и средний чек заказа;\n",
    "    - Добавление двух новых каналов привлечения трафика."
   ]
  },
  {
   "cell_type": "markdown",
   "metadata": {},
   "source": [
    "# Промежуточный краткий вывод:"
   ]
  },
  {
   "cell_type": "markdown",
   "metadata": {},
   "source": [
    "Изменения в проритезации гипотез с использованием фреймворков ICE и RICE связано с применением в RICE параметра охвата пользователей (reach). \n",
    "\n",
    "Так, нампример, гипотеза \"Добавление формы подписки в целях формирования БД клиентов для е-mail рассылки\" в фреймворке RICE на 1-ом месте, т.к. ее параметр reach равен 10. В фреймворке ICE эта гипотеза по приоритету занимает 3-е место."
   ]
  },
  {
   "cell_type": "markdown",
   "metadata": {},
   "source": [
    "# 2 Анализ A/B теста"
   ]
  },
  {
   "cell_type": "markdown",
   "metadata": {},
   "source": [
    "# Предобработка данных"
   ]
  },
  {
   "cell_type": "markdown",
   "metadata": {},
   "source": [
    "**работа с таблицей \"orders\"**"
   ]
  },
  {
   "cell_type": "code",
   "execution_count": 11,
   "metadata": {},
   "outputs": [
    {
     "name": "stdout",
     "output_type": "stream",
     "text": [
      "      transactionId   visitorId        date  revenue group\n",
      "0        3667963787  3312258926  2019-08-15     1650     B\n",
      "1        2804400009  3642806036  2019-08-15      730     B\n",
      "2        2961555356  4069496402  2019-08-15      400     A\n",
      "3        3797467345  1196621759  2019-08-15     9759     B\n",
      "4        2282983706  2322279887  2019-08-15     2308     B\n",
      "...             ...         ...         ...      ...   ...\n",
      "1192     2662137336  3733762160  2019-08-14     6490     B\n",
      "1193     2203539145   370388673  2019-08-14     3190     A\n",
      "1194     1807773912   573423106  2019-08-14    10550     A\n",
      "1195     1947021204  1614305549  2019-08-14      100     A\n",
      "1196     3936777065  2108080724  2019-08-15   202740     B\n",
      "\n",
      "[1197 rows x 5 columns]\n"
     ]
    }
   ],
   "source": [
    "orders = pd.read_csv('/datasets/orders.csv', sep = ',')\n",
    "print (orders)"
   ]
  },
  {
   "cell_type": "code",
   "execution_count": 12,
   "metadata": {
    "scrolled": true
   },
   "outputs": [
    {
     "name": "stdout",
     "output_type": "stream",
     "text": [
      "<class 'pandas.core.frame.DataFrame'>\n",
      "RangeIndex: 1197 entries, 0 to 1196\n",
      "Data columns (total 5 columns):\n",
      " #   Column         Non-Null Count  Dtype \n",
      "---  ------         --------------  ----- \n",
      " 0   transactionId  1197 non-null   int64 \n",
      " 1   visitorId      1197 non-null   int64 \n",
      " 2   date           1197 non-null   object\n",
      " 3   revenue        1197 non-null   int64 \n",
      " 4   group          1197 non-null   object\n",
      "dtypes: int64(3), object(2)\n",
      "memory usage: 46.9+ KB\n"
     ]
    }
   ],
   "source": [
    "orders.info()"
   ]
  },
  {
   "cell_type": "code",
   "execution_count": 13,
   "metadata": {},
   "outputs": [],
   "source": [
    "# изменение типов данных:\n",
    "orders['date'] = orders['date'].map(\n",
    "    lambda x: dt.datetime.strptime(x, '%Y-%m-%d')\n",
    ")"
   ]
  },
  {
   "cell_type": "code",
   "execution_count": 14,
   "metadata": {},
   "outputs": [
    {
     "name": "stdout",
     "output_type": "stream",
     "text": [
      "<class 'pandas.core.frame.DataFrame'>\n",
      "RangeIndex: 1197 entries, 0 to 1196\n",
      "Data columns (total 5 columns):\n",
      " #   Column         Non-Null Count  Dtype         \n",
      "---  ------         --------------  -----         \n",
      " 0   transactionId  1197 non-null   int64         \n",
      " 1   visitorId      1197 non-null   int64         \n",
      " 2   date           1197 non-null   datetime64[ns]\n",
      " 3   revenue        1197 non-null   int64         \n",
      " 4   group          1197 non-null   object        \n",
      "dtypes: datetime64[ns](1), int64(3), object(1)\n",
      "memory usage: 46.9+ KB\n"
     ]
    }
   ],
   "source": [
    "orders.info()"
   ]
  },
  {
   "cell_type": "code",
   "execution_count": 15,
   "metadata": {},
   "outputs": [],
   "source": [
    "#переименуем столбцы:\n",
    "orders = orders.rename(\n",
    "    columns={'transactionId': 'transaction_id','visitorId': 'visitor_id'})"
   ]
  },
  {
   "cell_type": "code",
   "execution_count": 16,
   "metadata": {},
   "outputs": [
    {
     "name": "stdout",
     "output_type": "stream",
     "text": [
      "   transaction_id  visitor_id       date  revenue group\n",
      "0      3667963787  3312258926 2019-08-15     1650     B\n",
      "1      2804400009  3642806036 2019-08-15      730     B\n",
      "2      2961555356  4069496402 2019-08-15      400     A\n",
      "3      3797467345  1196621759 2019-08-15     9759     B\n",
      "4      2282983706  2322279887 2019-08-15     2308     B\n"
     ]
    }
   ],
   "source": [
    "print (orders.head())"
   ]
  },
  {
   "cell_type": "code",
   "execution_count": 17,
   "metadata": {},
   "outputs": [
    {
     "data": {
      "text/plain": [
       "transaction_id    0\n",
       "visitor_id        0\n",
       "date              0\n",
       "revenue           0\n",
       "group             0\n",
       "dtype: int64"
      ]
     },
     "execution_count": 17,
     "metadata": {},
     "output_type": "execute_result"
    }
   ],
   "source": [
    "# проверим наличие пропущенных значений:\n",
    "orders.isna().sum()"
   ]
  },
  {
   "cell_type": "code",
   "execution_count": 18,
   "metadata": {},
   "outputs": [
    {
     "data": {
      "text/plain": [
       "0"
      ]
     },
     "execution_count": 18,
     "metadata": {},
     "output_type": "execute_result"
    }
   ],
   "source": [
    "# поиск строк-дубликатов:\n",
    "orders.duplicated().sum()"
   ]
  },
  {
   "cell_type": "markdown",
   "metadata": {},
   "source": [
    "**работа с таблицей \"visitors\"**"
   ]
  },
  {
   "cell_type": "code",
   "execution_count": 19,
   "metadata": {},
   "outputs": [
    {
     "name": "stdout",
     "output_type": "stream",
     "text": [
      "          date group  visitors\n",
      "0   2019-08-01     A       719\n",
      "1   2019-08-02     A       619\n",
      "2   2019-08-03     A       507\n",
      "3   2019-08-04     A       717\n",
      "4   2019-08-05     A       756\n",
      "..         ...   ...       ...\n",
      "57  2019-08-27     B       720\n",
      "58  2019-08-28     B       654\n",
      "59  2019-08-29     B       531\n",
      "60  2019-08-30     B       490\n",
      "61  2019-08-31     B       718\n",
      "\n",
      "[62 rows x 3 columns]\n"
     ]
    }
   ],
   "source": [
    "visitors = pd.read_csv('/datasets/visitors.csv', sep = ',')\n",
    "print (visitors)"
   ]
  },
  {
   "cell_type": "code",
   "execution_count": 20,
   "metadata": {},
   "outputs": [
    {
     "name": "stdout",
     "output_type": "stream",
     "text": [
      "<class 'pandas.core.frame.DataFrame'>\n",
      "RangeIndex: 62 entries, 0 to 61\n",
      "Data columns (total 3 columns):\n",
      " #   Column    Non-Null Count  Dtype \n",
      "---  ------    --------------  ----- \n",
      " 0   date      62 non-null     object\n",
      " 1   group     62 non-null     object\n",
      " 2   visitors  62 non-null     int64 \n",
      "dtypes: int64(1), object(2)\n",
      "memory usage: 1.6+ KB\n"
     ]
    }
   ],
   "source": [
    "visitors.info()"
   ]
  },
  {
   "cell_type": "code",
   "execution_count": 21,
   "metadata": {},
   "outputs": [],
   "source": [
    "# изменение типов данных:\n",
    "visitors['date'] = visitors['date'].map(\n",
    "    lambda x: dt.datetime.strptime(x, '%Y-%m-%d')\n",
    ")"
   ]
  },
  {
   "cell_type": "code",
   "execution_count": 22,
   "metadata": {},
   "outputs": [
    {
     "name": "stdout",
     "output_type": "stream",
     "text": [
      "<class 'pandas.core.frame.DataFrame'>\n",
      "RangeIndex: 62 entries, 0 to 61\n",
      "Data columns (total 3 columns):\n",
      " #   Column    Non-Null Count  Dtype         \n",
      "---  ------    --------------  -----         \n",
      " 0   date      62 non-null     datetime64[ns]\n",
      " 1   group     62 non-null     object        \n",
      " 2   visitors  62 non-null     int64         \n",
      "dtypes: datetime64[ns](1), int64(1), object(1)\n",
      "memory usage: 1.6+ KB\n"
     ]
    }
   ],
   "source": [
    "visitors.info()"
   ]
  },
  {
   "cell_type": "code",
   "execution_count": 23,
   "metadata": {},
   "outputs": [
    {
     "data": {
      "text/plain": [
       "date        0\n",
       "group       0\n",
       "visitors    0\n",
       "dtype: int64"
      ]
     },
     "execution_count": 23,
     "metadata": {},
     "output_type": "execute_result"
    }
   ],
   "source": [
    "# проверим наличие пропущенных значений:\n",
    "visitors.isna().sum()"
   ]
  },
  {
   "cell_type": "code",
   "execution_count": 24,
   "metadata": {},
   "outputs": [
    {
     "data": {
      "text/plain": [
       "0"
      ]
     },
     "execution_count": 24,
     "metadata": {},
     "output_type": "execute_result"
    }
   ],
   "source": [
    "# поиск строк-дубликатов:\n",
    "visitors.duplicated().sum()"
   ]
  },
  {
   "cell_type": "markdown",
   "metadata": {},
   "source": [
    "**Проверим количество посетителей сайта в двух группах**"
   ]
  },
  {
   "cell_type": "code",
   "execution_count": 25,
   "metadata": {
    "scrolled": true
   },
   "outputs": [
    {
     "data": {
      "text/plain": [
       "557"
      ]
     },
     "execution_count": 25,
     "metadata": {},
     "output_type": "execute_result"
    }
   ],
   "source": [
    "ordersA = orders[orders['group']=='A']\n",
    "len(ordersA)"
   ]
  },
  {
   "cell_type": "code",
   "execution_count": 26,
   "metadata": {},
   "outputs": [
    {
     "data": {
      "text/html": [
       "<div>\n",
       "<style scoped>\n",
       "    .dataframe tbody tr th:only-of-type {\n",
       "        vertical-align: middle;\n",
       "    }\n",
       "\n",
       "    .dataframe tbody tr th {\n",
       "        vertical-align: top;\n",
       "    }\n",
       "\n",
       "    .dataframe thead th {\n",
       "        text-align: right;\n",
       "    }\n",
       "</style>\n",
       "<table border=\"1\" class=\"dataframe\">\n",
       "  <thead>\n",
       "    <tr style=\"text-align: right;\">\n",
       "      <th></th>\n",
       "      <th>transaction_id</th>\n",
       "      <th>visitor_id</th>\n",
       "      <th>date</th>\n",
       "      <th>revenue</th>\n",
       "      <th>group</th>\n",
       "    </tr>\n",
       "  </thead>\n",
       "  <tbody>\n",
       "    <tr>\n",
       "      <th>2</th>\n",
       "      <td>2961555356</td>\n",
       "      <td>4069496402</td>\n",
       "      <td>2019-08-15</td>\n",
       "      <td>400</td>\n",
       "      <td>A</td>\n",
       "    </tr>\n",
       "    <tr>\n",
       "      <th>7</th>\n",
       "      <td>2626614568</td>\n",
       "      <td>78758296</td>\n",
       "      <td>2019-08-15</td>\n",
       "      <td>1044</td>\n",
       "      <td>A</td>\n",
       "    </tr>\n",
       "    <tr>\n",
       "      <th>8</th>\n",
       "      <td>1576988021</td>\n",
       "      <td>295230930</td>\n",
       "      <td>2019-08-15</td>\n",
       "      <td>13710</td>\n",
       "      <td>A</td>\n",
       "    </tr>\n",
       "    <tr>\n",
       "      <th>10</th>\n",
       "      <td>3649131742</td>\n",
       "      <td>879864040</td>\n",
       "      <td>2019-08-15</td>\n",
       "      <td>4008</td>\n",
       "      <td>A</td>\n",
       "    </tr>\n",
       "    <tr>\n",
       "      <th>12</th>\n",
       "      <td>2809384911</td>\n",
       "      <td>3213223594</td>\n",
       "      <td>2019-08-15</td>\n",
       "      <td>7370</td>\n",
       "      <td>A</td>\n",
       "    </tr>\n",
       "    <tr>\n",
       "      <th>...</th>\n",
       "      <td>...</td>\n",
       "      <td>...</td>\n",
       "      <td>...</td>\n",
       "      <td>...</td>\n",
       "      <td>...</td>\n",
       "    </tr>\n",
       "    <tr>\n",
       "      <th>1187</th>\n",
       "      <td>2274188238</td>\n",
       "      <td>132143192</td>\n",
       "      <td>2019-08-14</td>\n",
       "      <td>750</td>\n",
       "      <td>A</td>\n",
       "    </tr>\n",
       "    <tr>\n",
       "      <th>1188</th>\n",
       "      <td>1692103379</td>\n",
       "      <td>1022829655</td>\n",
       "      <td>2019-08-14</td>\n",
       "      <td>112</td>\n",
       "      <td>A</td>\n",
       "    </tr>\n",
       "    <tr>\n",
       "      <th>1193</th>\n",
       "      <td>2203539145</td>\n",
       "      <td>370388673</td>\n",
       "      <td>2019-08-14</td>\n",
       "      <td>3190</td>\n",
       "      <td>A</td>\n",
       "    </tr>\n",
       "    <tr>\n",
       "      <th>1194</th>\n",
       "      <td>1807773912</td>\n",
       "      <td>573423106</td>\n",
       "      <td>2019-08-14</td>\n",
       "      <td>10550</td>\n",
       "      <td>A</td>\n",
       "    </tr>\n",
       "    <tr>\n",
       "      <th>1195</th>\n",
       "      <td>1947021204</td>\n",
       "      <td>1614305549</td>\n",
       "      <td>2019-08-14</td>\n",
       "      <td>100</td>\n",
       "      <td>A</td>\n",
       "    </tr>\n",
       "  </tbody>\n",
       "</table>\n",
       "<p>557 rows × 5 columns</p>\n",
       "</div>"
      ],
      "text/plain": [
       "      transaction_id  visitor_id       date  revenue group\n",
       "2         2961555356  4069496402 2019-08-15      400     A\n",
       "7         2626614568    78758296 2019-08-15     1044     A\n",
       "8         1576988021   295230930 2019-08-15    13710     A\n",
       "10        3649131742   879864040 2019-08-15     4008     A\n",
       "12        2809384911  3213223594 2019-08-15     7370     A\n",
       "...              ...         ...        ...      ...   ...\n",
       "1187      2274188238   132143192 2019-08-14      750     A\n",
       "1188      1692103379  1022829655 2019-08-14      112     A\n",
       "1193      2203539145   370388673 2019-08-14     3190     A\n",
       "1194      1807773912   573423106 2019-08-14    10550     A\n",
       "1195      1947021204  1614305549 2019-08-14      100     A\n",
       "\n",
       "[557 rows x 5 columns]"
      ]
     },
     "execution_count": 26,
     "metadata": {},
     "output_type": "execute_result"
    }
   ],
   "source": [
    "ordersA"
   ]
  },
  {
   "cell_type": "code",
   "execution_count": 27,
   "metadata": {},
   "outputs": [
    {
     "data": {
      "text/plain": [
       "640"
      ]
     },
     "execution_count": 27,
     "metadata": {},
     "output_type": "execute_result"
    }
   ],
   "source": [
    "# создаем Series\n",
    "ordersB = orders[orders['group']=='B']['visitor_id']\n",
    "len(ordersB)"
   ]
  },
  {
   "cell_type": "code",
   "execution_count": 28,
   "metadata": {},
   "outputs": [
    {
     "data": {
      "text/plain": [
       "0       3312258926\n",
       "1       3642806036\n",
       "3       1196621759\n",
       "4       2322279887\n",
       "5        935554773\n",
       "           ...    \n",
       "1189     393266494\n",
       "1190    1197745035\n",
       "1191     608641596\n",
       "1192    3733762160\n",
       "1196    2108080724\n",
       "Name: visitor_id, Length: 640, dtype: int64"
      ]
     },
     "execution_count": 28,
     "metadata": {},
     "output_type": "execute_result"
    }
   ],
   "source": [
    "ordersB"
   ]
  },
  {
   "cell_type": "markdown",
   "metadata": {},
   "source": [
    "Разница в числе посетителей в разрезе групп = 14,9%."
   ]
  },
  {
   "cell_type": "markdown",
   "metadata": {},
   "source": [
    "Проверим, какое количество человек попало в обе группы (и есть ли такие вообще)."
   ]
  },
  {
   "cell_type": "code",
   "execution_count": 29,
   "metadata": {},
   "outputs": [
    {
     "data": {
      "text/plain": [
       "89"
      ]
     },
     "execution_count": 29,
     "metadata": {},
     "output_type": "execute_result"
    }
   ],
   "source": [
    "double_client = ordersA.query(\"visitor_id in @ordersB\")['visitor_id']\n",
    "len(double_client)"
   ]
  },
  {
   "cell_type": "markdown",
   "metadata": {},
   "source": [
    "В итоге у нас 89 человек, попавших в тесте и в группу А и в группу В. Исключим их из анализа."
   ]
  },
  {
   "cell_type": "code",
   "execution_count": 30,
   "metadata": {},
   "outputs": [
    {
     "data": {
      "text/plain": [
       "1197"
      ]
     },
     "execution_count": 30,
     "metadata": {},
     "output_type": "execute_result"
    }
   ],
   "source": [
    "# общее количество пользователей\n",
    "orders.shape[0]"
   ]
  },
  {
   "cell_type": "code",
   "execution_count": 31,
   "metadata": {},
   "outputs": [
    {
     "data": {
      "text/plain": [
       "1016"
      ]
     },
     "execution_count": 31,
     "metadata": {},
     "output_type": "execute_result"
    }
   ],
   "source": [
    "# количество клиентов, принявщих участие в А и В сегменте без дублирования\n",
    "orders = orders.query('visitor_id not in @double_client')\n",
    "len(orders)"
   ]
  },
  {
   "cell_type": "code",
   "execution_count": 32,
   "metadata": {},
   "outputs": [
    {
     "name": "stdout",
     "output_type": "stream",
     "text": [
      "Число участников group A:  468\n",
      "Число участников group B:  548\n",
      "Разница в численности:  14.60%\n"
     ]
    }
   ],
   "source": [
    "print('Число участников group A: ', len(orders[orders['group']=='A']))\n",
    "print('Число участников group B: ', len(orders[orders['group']=='B']))\n",
    "print('Разница в численности: ', '{0:.2%}'.format(1 - len(orders[orders['group']=='A'])/len(orders[orders['group']=='B'])))"
   ]
  },
  {
   "cell_type": "markdown",
   "metadata": {},
   "source": [
    "В итоге в группе В на 14,6% больше участников теста."
   ]
  },
  {
   "cell_type": "markdown",
   "metadata": {},
   "source": [
    "# Анализ A/B теста"
   ]
  },
  {
   "cell_type": "markdown",
   "metadata": {},
   "source": [
    "**1. Построим график кумулятивной выручки по группам**"
   ]
  },
  {
   "cell_type": "code",
   "execution_count": 33,
   "metadata": {},
   "outputs": [],
   "source": [
    "# массив уникальных пар значений дат и групп теста\n",
    "datesGroups = orders[['date','group']].drop_duplicates()"
   ]
  },
  {
   "cell_type": "code",
   "execution_count": 34,
   "metadata": {},
   "outputs": [],
   "source": [
    "# Соберём агрегированные кумулятивные по дням данные о заказах:\n",
    "ordersAggregated = datesGroups.apply(lambda x: orders[np.logical_and(orders['date'] <= x['date'], orders['group'] == x['group'])]\\\n",
    ".agg({'date' : 'max', 'group' : 'max', 'transaction_id' :'nunique', 'visitor_id' : 'nunique', 'revenue' : 'sum'}), axis=1).sort_values(by=['date','group'])"
   ]
  },
  {
   "cell_type": "code",
   "execution_count": 35,
   "metadata": {},
   "outputs": [],
   "source": [
    "# Получим агрегированные кумулятивные по дням данные о посетителях интернет-магазина:\n",
    "visitorsAggregated = datesGroups.apply(lambda x: visitors[np.logical_and(visitors['date'] <= x['date'], visitors['group'] == x['group'])]\\\n",
    ".agg({'date' : 'max', 'group' : 'max', 'visitors' : 'sum'}), axis=1).sort_values(by=['date','group'])"
   ]
  },
  {
   "cell_type": "code",
   "execution_count": 36,
   "metadata": {},
   "outputs": [],
   "source": [
    "# объединяем кумулятивные данные в одной таблице:\n",
    "cumulativeData = ordersAggregated.merge(visitorsAggregated, left_on=['date', 'group'], right_on=['date', 'group'])\n",
    "cumulativeData.columns = ['date', 'group', 'orders', 'buyers', 'revenue', 'visitors']\n"
   ]
  },
  {
   "cell_type": "code",
   "execution_count": 37,
   "metadata": {},
   "outputs": [
    {
     "name": "stdout",
     "output_type": "stream",
     "text": [
      "         date group  orders  buyers  revenue  visitors\n",
      "0  2019-08-01     A      23      19   142779       719\n",
      "1  2019-08-01     B      17      17    59758       713\n",
      "2  2019-08-02     A      42      36   234381      1338\n",
      "3  2019-08-02     B      40      39   221801      1294\n",
      "4  2019-08-03     A      66      60   346854      1845\n",
      "5  2019-08-03     B      54      53   288850      1803\n",
      "6  2019-08-04     A      77      71   388030      2562\n",
      "7  2019-08-04     B      68      66   385740      2573\n",
      "8  2019-08-05     A      99      92   474413      3318\n",
      "9  2019-08-05     B      89      87   475648      3280\n",
      "10 2019-08-06     A     114     104   515332      3985\n",
      "11 2019-08-06     B     112     109   690490      3935\n",
      "12 2019-08-07     A     130     120   638580      4629\n",
      "13 2019-08-07     B     135     132   909654      4644\n",
      "14 2019-08-08     A     144     133   727219      5239\n"
     ]
    }
   ],
   "source": [
    "print(cumulativeData.head(15))"
   ]
  },
  {
   "cell_type": "code",
   "execution_count": 69,
   "metadata": {},
   "outputs": [
    {
     "data": {
      "image/png": "[encoded data removed]",
      "text/plain": [
       "<Figure size 1080x360 with 1 Axes>"
      ]
     },
     "metadata": {
      "needs_background": "light"
     },
     "output_type": "display_data"
    }
   ],
   "source": [
    "# строим график по группам:\n",
    "cumulativeRevenueA = cumulativeData[cumulativeData['group']=='A'][['date','revenue', 'orders']]\n",
    "cumulativeRevenueB = cumulativeData[cumulativeData['group']=='B'][['date','revenue', 'orders']]\n",
    "plt.figure(figsize=(15,5))\n",
    "plt.plot(cumulativeRevenueA['date'], cumulativeRevenueA['revenue'], label='A')\n",
    "plt.plot(cumulativeRevenueB['date'], cumulativeRevenueB['revenue'], label='B')\n",
    "plt.legend()\n",
    "plt.ylabel('Суммарная выручка')\n",
    "plt.xlabel('Дата')\n",
    "plt.title('График кумулятивной выручки по группам')\n",
    "plt.show()\n"
   ]
  },
  {
   "cell_type": "markdown",
   "metadata": {},
   "source": [
    "- График выручки группы А практически равномерно увеличивается в течение всего теста, что является положительным фактором.\n",
    "- График выручки группы В в отдельный период имеет резкую тенденцию к росту.Это может сигнализировать о всплесках числа заказов, либо о появлении очень дорогих заказов в выборке. "
   ]
  },
  {
   "cell_type": "markdown",
   "metadata": {},
   "source": [
    "**2. Построим график кумулятивного среднего чека по группам**"
   ]
  },
  {
   "cell_type": "code",
   "execution_count": 72,
   "metadata": {},
   "outputs": [
    {
     "data": {
      "image/png": "[encoded data removed]",
      "text/plain": [
       "<Figure size 1080x360 with 1 Axes>"
      ]
     },
     "metadata": {
      "needs_background": "light"
     },
     "output_type": "display_data"
    }
   ],
   "source": [
    "plt.figure(figsize=(15,5))\n",
    "plt.plot(cumulativeRevenueA['date'], cumulativeRevenueA['revenue']/cumulativeRevenueA['orders'], label='A')\n",
    "plt.plot(cumulativeRevenueB['date'], cumulativeRevenueB['revenue']/cumulativeRevenueB['orders'], label='B')\n",
    "plt.legend()\n",
    "plt.ylabel('Суммарная выручка')\n",
    "plt.xlabel('Дата')\n",
    "plt.title('График кумулятивного среднего чека по группам')\n",
    "plt.show()"
   ]
  },
  {
   "cell_type": "markdown",
   "metadata": {},
   "source": [
    " - Средний чек группы А становится равномерным к ближе к концу теста. Ближе к началу теста заметен резкий всплеск на графике, возможно в группу А в начале теста попали крупные заказы.\n",
    " \n",
    " - Средний чек группы В продолжает падать к концу теста. Примерно в середине теста заметен резкий всплеск на графике - вероятнно такая же ситуация как и с группой А: в группу В в середине теста попали крупные заказы."
   ]
  },
  {
   "cell_type": "markdown",
   "metadata": {},
   "source": [
    "**3. Построим график относительного изменения кумулятивного среднего чека группы B к группе A**"
   ]
  },
  {
   "cell_type": "code",
   "execution_count": 74,
   "metadata": {},
   "outputs": [
    {
     "data": {
      "image/png": "[encoded data removed]",
      "text/plain": [
       "<Figure size 1080x360 with 1 Axes>"
      ]
     },
     "metadata": {
      "needs_background": "light"
     },
     "output_type": "display_data"
    }
   ],
   "source": [
    "mergedCumulativeRevenue = cumulativeRevenueA.merge(cumulativeRevenueB, left_on='date', right_on='date', how='left', suffixes=['A', 'B'])\n",
    "plt.figure(figsize=(15,5))\n",
    "plt.plot(mergedCumulativeRevenue['date'], (mergedCumulativeRevenue['revenueB']/mergedCumulativeRevenue['ordersB'])/(mergedCumulativeRevenue['revenueA']/mergedCumulativeRevenue['ordersA'])-1)\n",
    "\n",
    "plt.axhline(y=0, color='black', linestyle='--')\n",
    "plt.ylabel('изменение в процентнах, %')\n",
    "plt.xlabel('Дата')\n",
    "plt.title('График относительного изменения кумулятивного среднего чека группы B к группе A')\n",
    "plt.show()"
   ]
  },
  {
   "cell_type": "markdown",
   "metadata": {},
   "source": [
    "Результаты теста значительно меняются в ряд временных промежутков. Вероятно из-за совершения аномально крупных заказов."
   ]
  },
  {
   "cell_type": "markdown",
   "metadata": {},
   "source": [
    "**4. Построим график кумулятивного среднего количества заказов по группам**"
   ]
  },
  {
   "cell_type": "code",
   "execution_count": 77,
   "metadata": {},
   "outputs": [
    {
     "data": {
      "image/png": "[encoded data removed]",
      "text/plain": [
       "<Figure size 1080x360 with 1 Axes>"
      ]
     },
     "metadata": {
      "needs_background": "light"
     },
     "output_type": "display_data"
    }
   ],
   "source": [
    "cumulativeData['conversion'] = cumulativeData['orders']/cumulativeData['visitors']\n",
    "cumulativeDataA = cumulativeData[cumulativeData['group']=='A']\n",
    "cumulativeDataB = cumulativeData[cumulativeData['group']=='B']\n",
    "plt.figure(figsize=(15,5))\n",
    "plt.plot(cumulativeDataA['date'], cumulativeDataA['conversion'], label='A')\n",
    "plt.plot(cumulativeDataB['date'], cumulativeDataB['conversion'], label='B')\n",
    "plt.legend()\n",
    "plt.axis([dt.datetime(2019, 8, 1), dt.datetime(2019, 9, 1), 0, 0.04])\n",
    "plt.ylabel('изменение в процентнах, %')\n",
    "plt.xlabel('Дата')\n",
    "plt.title('График кумулятивного среднего количества заказов по группам')\n",
    "plt.show()"
   ]
  },
  {
   "cell_type": "markdown",
   "metadata": {},
   "source": [
    "Конверсия сегмента А в первые дни августа имела большую конверсию. Конверсия сегмента В вырвалась вперед и ближе к концу теста стабилизировалась (как и конверсия сегмента А). Абсолютное значение колебания конверсии небольшое: от приблизительно 2.5% до 3.4%."
   ]
  },
  {
   "cell_type": "markdown",
   "metadata": {},
   "source": [
    "**5. Построим график относительного изменения кумулятивного среднего количества заказов группы B к группе A**"
   ]
  },
  {
   "cell_type": "code",
   "execution_count": 80,
   "metadata": {},
   "outputs": [
    {
     "data": {
      "image/png": "[encoded data removed]",
      "text/plain": [
       "<Figure size 1080x360 with 1 Axes>"
      ]
     },
     "metadata": {
      "needs_background": "light"
     },
     "output_type": "display_data"
    }
   ],
   "source": [
    "mergedCumulativeConversions = cumulativeDataA[['date','conversion']].merge(cumulativeDataB[['date','conversion']], left_on='date', right_on='date', how='left', suffixes=['A', 'B'])\n",
    "plt.figure(figsize=(15,5))\n",
    "plt.plot(mergedCumulativeConversions['date'], mergedCumulativeConversions['conversionB']/mergedCumulativeConversions['conversionA']-1, label=\"Относительный прирост конверсии группы B относительно группы A\")\n",
    "plt.legend()\n",
    "\n",
    "plt.axhline(y=0, color='black', linestyle='--')\n",
    "plt.axhline(y=0.2, color='grey', linestyle='--')\n",
    "plt.axis([dt.datetime.strptime('2019-08-01', '%Y-%m-%d'), dt.datetime.strptime('2019-09-01', '%Y-%m-%d'), -0.4, 0.4])\n",
    "plt.ylabel('изменение в процентнах, %')\n",
    "plt.xlabel('Дата')\n",
    "plt.title('График относительного изменения кумулятивного среднего количества заказов группы B к группе A')\n",
    "plt.show()"
   ]
  },
  {
   "cell_type": "markdown",
   "metadata": {},
   "source": [
    "Практически с самого начала теста группа В лидирует по конверсии, допуская крактовременные \"проигрыши\" сегменту А. Большая часть колебаний конверсии идет в 20% прироста отноcительно сегмента А."
   ]
  },
  {
   "cell_type": "markdown",
   "metadata": {},
   "source": [
    "**6. Построим точечный график количества заказов по пользователям**"
   ]
  },
  {
   "cell_type": "code",
   "execution_count": 43,
   "metadata": {},
   "outputs": [],
   "source": [
    "ordersByUsers = (\n",
    "    orders.groupby('visitor_id', as_index=False)\n",
    "    .agg({'transaction_id': 'nunique'})\n",
    ")\n",
    "ordersByUsers.columns = ['userId', 'orders']"
   ]
  },
  {
   "cell_type": "code",
   "execution_count": 44,
   "metadata": {},
   "outputs": [
    {
     "name": "stdout",
     "output_type": "stream",
     "text": [
      "         userId  orders\n",
      "908  3967698036       3\n",
      "55    249864742       3\n",
      "478  2108163459       3\n",
      "687  2988190573       3\n",
      "890  3908431265       3\n",
      "138   611059232       3\n",
      "632  2742574263       3\n",
      "157   678354126       2\n",
      "323  1404560065       2\n",
      "452  1985475298       2\n"
     ]
    }
   ],
   "source": [
    "print(ordersByUsers.sort_values(by='orders', ascending=False).head(10))"
   ]
  },
  {
   "cell_type": "markdown",
   "metadata": {},
   "source": [
    "Есть пользователи, которые совершали по 3 и 2 заказа."
   ]
  },
  {
   "cell_type": "code",
   "execution_count": 85,
   "metadata": {},
   "outputs": [
    {
     "data": {
      "image/png": "[encoded data removed]",
      "text/plain": [
       "<Figure size 720x360 with 1 Axes>"
      ]
     },
     "metadata": {
      "needs_background": "light"
     },
     "output_type": "display_data"
    }
   ],
   "source": [
    "plt.figure(figsize=(10,5))\n",
    "x_values = pd.Series(range(0, len(ordersByUsers)))\n",
    "plt.scatter(x_values,ordersByUsers['orders'])\n",
    "plt.ylabel('Количество заказов')\n",
    "plt.xlabel('число покупателей')\n",
    "plt.title('Точечный график количества заказов по пользователям')\n",
    "plt.show()"
   ]
  },
  {
   "cell_type": "markdown",
   "metadata": {},
   "source": [
    "Большая часть покупателей заказывала 1-2 раза. Так же есть заказы, совершенные  3 раза - они вполне могут быть аномальными. Нужно посчитать их долю."
   ]
  },
  {
   "cell_type": "markdown",
   "metadata": {},
   "source": [
    "**7. Посчитаем 95-й и 99-й перцентили количества заказов на пользователя**"
   ]
  },
  {
   "cell_type": "code",
   "execution_count": 46,
   "metadata": {},
   "outputs": [
    {
     "name": "stdout",
     "output_type": "stream",
     "text": [
      "[1. 2.]\n"
     ]
    }
   ],
   "source": [
    "print(np.percentile(ordersByUsers['orders'], [95, 99])) "
   ]
  },
  {
   "cell_type": "markdown",
   "metadata": {},
   "source": [
    "Не более 5% пользователей совершали более 1 заказа и не более 1% пользователей совершали более 2 заказов."
   ]
  },
  {
   "cell_type": "markdown",
   "metadata": {},
   "source": [
    "**8. Построим точечный график стоимостей заказов**"
   ]
  },
  {
   "cell_type": "code",
   "execution_count": 87,
   "metadata": {},
   "outputs": [
    {
     "data": {
      "image/png": "[encoded data removed]",
      "text/plain": [
       "<Figure size 720x360 with 1 Axes>"
      ]
     },
     "metadata": {
      "needs_background": "light"
     },
     "output_type": "display_data"
    }
   ],
   "source": [
    "plt.figure(figsize=(10,5))\n",
    "x_values = pd.Series(range(0, len(orders['revenue'])))\n",
    "plt.scatter(x_values, orders['revenue'])\n",
    "plt.ylim(0, 100000)\n",
    "plt.ylabel('Сумма')\n",
    "plt.xlabel('число заказов')\n",
    "plt.title('Точечный график стоимостей заказов')\n",
    "plt.show()"
   ]
  },
  {
   "cell_type": "code",
   "execution_count": 48,
   "metadata": {},
   "outputs": [
    {
     "data": {
      "text/plain": [
       "425     1294500\n",
       "1196     202740\n",
       "1136      92550\n",
       "744       86620\n",
       "743       67990\n",
       "         ...   \n",
       "404          70\n",
       "933          60\n",
       "584          50\n",
       "756          50\n",
       "459          50\n",
       "Name: revenue, Length: 1016, dtype: int64"
      ]
     },
     "execution_count": 48,
     "metadata": {},
     "output_type": "execute_result"
    }
   ],
   "source": [
    "orders['revenue'].sort_values(ascending = False)"
   ]
  },
  {
   "cell_type": "markdown",
   "metadata": {},
   "source": [
    "Есть два аномально больших заказа: на 202 740 руб. и на 1 294 500 руб."
   ]
  },
  {
   "cell_type": "markdown",
   "metadata": {},
   "source": [
    "**9. Посчитаем 95-й и 99-й перцентили стоимости заказов** "
   ]
  },
  {
   "cell_type": "code",
   "execution_count": 49,
   "metadata": {},
   "outputs": [
    {
     "name": "stdout",
     "output_type": "stream",
     "text": [
      "[17990. 26785. 53904.]\n"
     ]
    }
   ],
   "source": [
    "print(np.percentile(orders['revenue'],[90, 95,99]))"
   ]
  },
  {
   "cell_type": "markdown",
   "metadata": {},
   "source": [
    "Не более 5% пользователей заказывают товары дороже 26 785 руб. Не более 1% пользователей заказывают товары дороже 53 904 руб. Заказы свышее 28000 руб. можно считать аномальными. Не более 10% пользователей позволяют себе покупки свыше 17 990 руб."
   ]
  },
  {
   "cell_type": "markdown",
   "metadata": {},
   "source": [
    "**10. Посчитаем статистическую значимость различий в среднем количестве заказов между группами по «сырым» данным**"
   ]
  },
  {
   "cell_type": "markdown",
   "metadata": {},
   "source": [
    "Сформулируем гипотезы:\n",
    "\n",
    "**Нулевая**: различий в среднем количестве заказов между группами нет. \n",
    "\n",
    "**Альтернативная**: различия в среднем между группами есть."
   ]
  },
  {
   "cell_type": "code",
   "execution_count": 50,
   "metadata": {},
   "outputs": [
    {
     "name": "stdout",
     "output_type": "stream",
     "text": [
      "        date  ordersPerDateA  revenuePerDateA  ordersPerDateB  \\\n",
      "0 2019-08-01              23           142779              17   \n",
      "1 2019-08-02              19            91602              23   \n",
      "2 2019-08-03              24           112473              14   \n",
      "3 2019-08-04              11            41176              14   \n",
      "4 2019-08-05              22            86383              21   \n",
      "\n",
      "   revenuePerDateB  ordersCummulativeA  revenueCummulativeA  \\\n",
      "0            59758                  23               142779   \n",
      "1           162043                  42               234381   \n",
      "2            67049                  66               346854   \n",
      "3            96890                  77               388030   \n",
      "4            89908                  99               474413   \n",
      "\n",
      "   ordersCummulativeB  revenueCummulativeB  visitorsPerDateA  \\\n",
      "0                  17                59758               719   \n",
      "1                  40               221801               619   \n",
      "2                  54               288850               507   \n",
      "3                  68               385740               717   \n",
      "4                  89               475648               756   \n",
      "\n",
      "   visitorsPerDateB  visitorsCummulativeA  visitorsCummulativeB  \n",
      "0               713                   719                   713  \n",
      "1               581                  1338                  1294  \n",
      "2               509                  1845                  1803  \n",
      "3               770                  2562                  2573  \n",
      "4               707                  3318                  3280  \n"
     ]
    }
   ],
   "source": [
    "visitorsADaily = visitors[visitors['group'] == 'A'][['date', 'visitors']]\n",
    "visitorsADaily.columns = ['date', 'visitorsPerDateA']\n",
    "\n",
    "visitorsACummulative = visitorsADaily.apply(\n",
    "    lambda x: visitorsADaily[visitorsADaily['date'] <= x['date']].agg(\n",
    "        {'date': 'max', 'visitorsPerDateA': 'sum'}\n",
    "    ),\n",
    "    axis=1,\n",
    ")\n",
    "visitorsACummulative.columns = ['date', 'visitorsCummulativeA']\n",
    "\n",
    "visitorsBDaily = visitors[visitors['group'] == 'B'][['date', 'visitors']]\n",
    "visitorsBDaily.columns = ['date', 'visitorsPerDateB']\n",
    "\n",
    "visitorsBCummulative = visitorsBDaily.apply(\n",
    "    lambda x: visitorsBDaily[visitorsBDaily['date'] <= x['date']].agg(\n",
    "        {'date': 'max', 'visitorsPerDateB': 'sum'}\n",
    "    ),\n",
    "    axis=1,\n",
    ")\n",
    "visitorsBCummulative.columns = ['date', 'visitorsCummulativeB']\n",
    "\n",
    "ordersADaily = (\n",
    "    orders[orders['group'] == 'A'][['date', 'transaction_id', 'visitor_id', 'revenue']]\n",
    "    .groupby('date', as_index=False)\n",
    "    .agg({'transaction_id': pd.Series.nunique, 'revenue': 'sum'})\n",
    ")\n",
    "ordersADaily.columns = ['date', 'ordersPerDateA', 'revenuePerDateA']\n",
    "\n",
    "ordersACummulative = ordersADaily.apply(\n",
    "    lambda x: ordersADaily[ordersADaily['date'] <= x['date']].agg(\n",
    "        {'date': 'max', 'ordersPerDateA': 'sum', 'revenuePerDateA': 'sum'}\n",
    "    ),\n",
    "    axis=1,\n",
    ").sort_values(by=['date'])\n",
    "ordersACummulative.columns = [\n",
    "    'date',\n",
    "    'ordersCummulativeA',\n",
    "    'revenueCummulativeA',\n",
    "]\n",
    "\n",
    "ordersBDaily = (\n",
    "    orders[orders['group'] == 'B'][['date', 'transaction_id', 'visitor_id', 'revenue']]\n",
    "    .groupby('date', as_index=False)\n",
    "    .agg({'transaction_id': pd.Series.nunique, 'revenue': 'sum'})\n",
    ")\n",
    "ordersBDaily.columns = ['date', 'ordersPerDateB', 'revenuePerDateB']\n",
    "\n",
    "ordersBCummulative = ordersBDaily.apply(\n",
    "    lambda x: ordersBDaily[ordersBDaily['date'] <= x['date']].agg(\n",
    "        {'date': 'max', 'ordersPerDateB': 'sum', 'revenuePerDateB': 'sum'}\n",
    "    ),\n",
    "    axis=1,\n",
    ").sort_values(by=['date'])\n",
    "ordersBCummulative.columns = [\n",
    "    'date',\n",
    "    'ordersCummulativeB',\n",
    "    'revenueCummulativeB',\n",
    "]\n",
    "\n",
    "data = (\n",
    "    ordersADaily.merge(\n",
    "        ordersBDaily, left_on='date', right_on='date', how='left'\n",
    "    )\n",
    "    .merge(ordersACummulative, left_on='date', right_on='date', how='left')\n",
    "    .merge(ordersBCummulative, left_on='date', right_on='date', how='left')\n",
    "    .merge(visitorsADaily, left_on='date', right_on='date', how='left')\n",
    "    .merge(visitorsBDaily, left_on='date', right_on='date', how='left')\n",
    "    .merge(visitorsACummulative, left_on='date', right_on='date', how='left')\n",
    "    .merge(visitorsBCummulative, left_on='date', right_on='date', how='left')\n",
    ")\n",
    "\n",
    "print(data.head(5))"
   ]
  },
  {
   "cell_type": "code",
   "execution_count": 91,
   "metadata": {},
   "outputs": [
    {
     "name": "stdout",
     "output_type": "stream",
     "text": [
      "p-value: 0.01102\n",
      "Различие в средних: 0.160\n"
     ]
    }
   ],
   "source": [
    "ordersByUsersA = (\n",
    "    orders[orders['group'] == 'A']\n",
    "    .groupby('visitor_id', as_index=False)\n",
    "    .agg({'transaction_id': pd.Series.nunique})\n",
    ")\n",
    "ordersByUsersA.columns = ['userId', 'orders']\n",
    "\n",
    "ordersByUsersB = (\n",
    "    orders[orders['group'] == 'B']\n",
    "    .groupby('visitor_id', as_index=False)\n",
    "    .agg({'transaction_id': pd.Series.nunique})\n",
    ")\n",
    "ordersByUsersB.columns = ['userId', 'orders']\n",
    "\n",
    "sampleA = pd.concat(\n",
    "    [\n",
    "        ordersByUsersA['orders'],\n",
    "        pd.Series(\n",
    "            0,\n",
    "            index=np.arange(\n",
    "                data['visitorsPerDateA'].sum() - len(ordersByUsersA['orders'])\n",
    "            ),\n",
    "            name='orders',\n",
    "        ),\n",
    "    ],\n",
    "    axis=0,\n",
    ")\n",
    "\n",
    "sampleB = pd.concat(\n",
    "    [\n",
    "        ordersByUsersB['orders'],\n",
    "        pd.Series(\n",
    "            0,\n",
    "            index=np.arange(\n",
    "                data['visitorsPerDateB'].sum() - len(ordersByUsersB['orders'])\n",
    "            ),\n",
    "            name='orders',\n",
    "        ),\n",
    "    ],\n",
    "    axis=0,\n",
    ")\n",
    "\n",
    "print('p-value:', \"{0:.5f}\".format(stats.mannwhitneyu(sampleA, sampleB)[1]))\n",
    "\n",
    "print('Различие в средних:', \"{0:.3f}\".format(sampleB.mean() / sampleA.mean() - 1))\n"
   ]
  },
  {
   "cell_type": "markdown",
   "metadata": {},
   "source": [
    "Вывод: По «сырым» данным различия в среднем числе заказов групп A и B имеются. Вероятно, одним из объяснений является большее число клиентов в сегменте В, выявленное в начале анализа.\n",
    "\n",
    "p-value=0.01102 меньше 0.05 - значит, нулевую гипотезу о том, что статистически значимых различий в среднем числе заказов между группами нет, отвергаем.\n",
    "\n",
    "относительный выигрыш группы B равен 16.0%"
   ]
  },
  {
   "cell_type": "markdown",
   "metadata": {},
   "source": [
    "**11. Посчитаем статистическую значимость различий в среднем чеке заказа между группами по «сырым» данным**"
   ]
  },
  {
   "cell_type": "markdown",
   "metadata": {},
   "source": [
    "Нулевая гипотеза: различий в среднем чеке между группами нет. \n",
    "\n",
    "Альтернативная гипотеза: различия в среднем чеке между группами есть."
   ]
  },
  {
   "cell_type": "code",
   "execution_count": 92,
   "metadata": {},
   "outputs": [
    {
     "name": "stdout",
     "output_type": "stream",
     "text": [
      "p-value: 0.829\n",
      "Различие в средних: 0.287\n"
     ]
    }
   ],
   "source": [
    "print('p-value:', '{0:.3f}'.format(stats.mannwhitneyu(orders[orders['group']=='A']['revenue'], orders[orders['group']=='B']['revenue'])[1]))\n",
    "print('Различие в средних:','{0:.3f}'.format(orders[orders['group']=='B']['revenue'].mean()/orders[orders['group']=='A']['revenue'].mean()-1))"
   ]
  },
  {
   "cell_type": "markdown",
   "metadata": {},
   "source": [
    "P-value больше 0.05. Причин отвергать нулевую гипотезу и считать, что в среднем чеке есть различия, нет. \n",
    "\n",
    "Средний чек группы B выше среднего чека группы A.\n",
    "\n",
    "В нашем случае, когда в данных есть выбросы, как правило, применяются непараметрические критерии, в частности критерий Манна-Уитни для проверки, что распределения двух выборок не отличаются. Следовательно мы использовали критерий Манна-Уитни."
   ]
  },
  {
   "cell_type": "markdown",
   "metadata": {},
   "source": [
    "**12. Посчитаем статистическую значимость различий в среднем количестве заказов между группами по «очищенным» данным**"
   ]
  },
  {
   "cell_type": "markdown",
   "metadata": {},
   "source": [
    "Найденные в прошлых заданиях 95-й и 99-й перцентили средних чеков равны 26 785 и 53 904 рублям. А 95-й и 99-й перцентили количества заказов на одного пользователя равны 1 и 2 заказам на пользователя.\n",
    "\n",
    "Примем за аномальных пользователей тех, кто совершил от 2 заказов или совершил заказ дороже 30 000 рублей. Так мы уберём 5% пользователей с наибольшим числом заказов и от 1% до 5% пользователей с дорогими заказами. Сделаем срезы пользователей с числом заказов больше 1 — usersWithManyOrders и пользователей, совершивших заказы дороже 30 000 — usersWithExpensiveOrders. Объединим их в таблице abnormalUsers."
   ]
  },
  {
   "cell_type": "code",
   "execution_count": 53,
   "metadata": {},
   "outputs": [
    {
     "name": "stdout",
     "output_type": "stream",
     "text": [
      "1099    148427295\n",
      "928     204675465\n",
      "33      249864742\n",
      "684     358944393\n",
      "36      366673373\n",
      "dtype: int64\n",
      "77\n"
     ]
    }
   ],
   "source": [
    "# Узнаем, сколько всего аномальных пользователей\n",
    "usersWithManyOrders = pd.concat(\n",
    "    [\n",
    "        ordersByUsersA[ordersByUsersA['orders'] > 1]['userId'],\n",
    "        ordersByUsersB[ordersByUsersB['orders'] > 1]['userId'],\n",
    "    ],\n",
    "    axis=0,\n",
    ")\n",
    "usersWithExpensiveOrders = orders[orders['revenue'] > 30000]['visitor_id']\n",
    "abnormalUsers = (\n",
    "    pd.concat([usersWithManyOrders, usersWithExpensiveOrders], axis=0)\n",
    "    .drop_duplicates()\n",
    "    .sort_values()\n",
    ")\n",
    "print(abnormalUsers.head(5))\n",
    "print(abnormalUsers.shape[0])"
   ]
  },
  {
   "cell_type": "markdown",
   "metadata": {},
   "source": [
    "Всего 77 аномальных пользователей."
   ]
  },
  {
   "cell_type": "code",
   "execution_count": 54,
   "metadata": {},
   "outputs": [],
   "source": [
    "sampleAFiltered = pd.concat(\n",
    "    [\n",
    "        ordersByUsersA[\n",
    "            np.logical_not(ordersByUsersA['userId'].isin(abnormalUsers))\n",
    "        ]['orders'],\n",
    "        pd.Series(\n",
    "            0,\n",
    "            index=np.arange(\n",
    "                data['visitorsPerDateA'].sum() - len(ordersByUsersA['orders'])\n",
    "            ),\n",
    "            name='orders',\n",
    "        ),\n",
    "    ],\n",
    "    axis=0,\n",
    ")\n",
    "\n",
    "sampleBFiltered = pd.concat(\n",
    "    [\n",
    "        ordersByUsersB[\n",
    "            np.logical_not(ordersByUsersB['userId'].isin(abnormalUsers))\n",
    "        ]['orders'],\n",
    "        pd.Series(\n",
    "            0,\n",
    "            index=np.arange(\n",
    "                data['visitorsPerDateB'].sum() - len(ordersByUsersB['orders'])\n",
    "            ),\n",
    "            name='orders',\n",
    "        ),\n",
    "    ],\n",
    "    axis=0,\n",
    ")"
   ]
  },
  {
   "cell_type": "code",
   "execution_count": 94,
   "metadata": {},
   "outputs": [
    {
     "name": "stdout",
     "output_type": "stream",
     "text": [
      "p-value 0.013\n",
      "Различие в средних:0.180\n"
     ]
    }
   ],
   "source": [
    "print('p-value', '{0:.3f}'.format(stats.mannwhitneyu(sampleAFiltered, sampleBFiltered)[1]))\n",
    "print('Различие в средних:''{0:.3f}'.format(sampleBFiltered.mean()/sampleAFiltered.mean()-1))"
   ]
  },
  {
   "cell_type": "markdown",
   "metadata": {},
   "source": [
    "Результаты по среднему количеству заказов практически не изменились.\n",
    "\n",
    "p-value=0.013, меньше 0.05 - значит, нулевую гипотезу о том, что статистически значимых различий в среднем числе заказов между группами нет, отвергаем.\n",
    "\n",
    "относительный выигрыш группы B равен 18.0%"
   ]
  },
  {
   "cell_type": "markdown",
   "metadata": {},
   "source": [
    "**13. Посчитаем статистическую значимость различий в среднем чеке заказа между группами по «очищенным» данным**"
   ]
  },
  {
   "cell_type": "code",
   "execution_count": 95,
   "metadata": {},
   "outputs": [
    {
     "name": "stdout",
     "output_type": "stream",
     "text": [
      "p-value 0.829\n",
      "-0.011\n"
     ]
    }
   ],
   "source": [
    "print('p-value',\n",
    "    '{0:.3f}'.format(\n",
    "        stats.mannwhitneyu(\n",
    "            orders[\n",
    "                np.logical_and(\n",
    "                    orders['group'] == 'A',\n",
    "                    np.logical_not(orders['visitor_id'].isin(abnormalUsers)),\n",
    "                )\n",
    "            ]['revenue'],\n",
    "            orders[\n",
    "                np.logical_and(\n",
    "                    orders['group'] == 'B',\n",
    "                    np.logical_not(orders['visitor_id'].isin(abnormalUsers)),\n",
    "                )\n",
    "            ]['revenue'],\n",
    "        )[1]\n",
    "    )\n",
    ")\n",
    "\n",
    "print(\n",
    "    \"{0:.3f}\".format(\n",
    "        orders[\n",
    "            np.logical_and(\n",
    "                orders['group'] == 'B',\n",
    "                np.logical_not(orders['visitor_id'].isin(abnormalUsers)),\n",
    "            )\n",
    "        ]['revenue'].mean()\n",
    "        / orders[\n",
    "            np.logical_and(\n",
    "                orders['group'] == 'A',\n",
    "                np.logical_not(orders['visitor_id'].isin(abnormalUsers)),\n",
    "            )\n",
    "        ]['revenue'].mean()\n",
    "        - 1\n",
    "    )\n",
    ")"
   ]
  },
  {
   "cell_type": "markdown",
   "metadata": {},
   "source": [
    "P-value неизменный, разница между сегментами сократилась с 28% до -1%\n",
    "\n",
    "Средний чек группы B стал меньше среднего чека группы A. Убрали аномально дорогие заказы и заказы более 2 ед."
   ]
  },
  {
   "cell_type": "markdown",
   "metadata": {},
   "source": [
    "В результате проведенного исследования была проведена приоритезация 9 гипотез.\n",
    "\n",
    "Выполнены следующие задачи:\n",
    "- Применен фреймворк ICE.\n",
    "- Применен фреймворк RICE.\n",
    "- Выяснено, как изменилась приоритизация гипотез при применении RICE вместо ICE\n",
    "\n",
    "Определено, что наиболее перспективными гипотезами по ICE являются:\n",
    "\n",
    "- Акция со скидкой в ДР пользователя;\n",
    "- Добавление двух новых каналов привлечения трафика;\n",
    "- Добавление формы подписки в целях формирования БД клиентов для е-mail рассылки.\n",
    "\n",
    "Наиболее перспективные гипотезы по RICE:\n",
    "\n",
    "- Добавление формы подписки в целях формирования БД клиентов для е-mail рассылки;\n",
    "- Добавление блоков рекомендаций товаров на сайт интернет магазина, чтобы повысить конверсию и средний чек заказа;\n",
    "- Добавление двух новых каналов привлечения трафика.\n",
    "\n",
    "**В ИТОГЕ** изменения в проритезации гипотез с использованием фреймворков ICE и RICE связано с применением в RICE параметра охвата пользователей (reach).\n",
    "\n",
    "Так, нампример, гипотеза \"Добавление формы подписки в целях формирования БД клиентов для е-mail рассылки\" в фреймворке RICE на 1-ом месте, т.к. ее параметр reach равен 10. В фреймворке ICE эта гипотеза по приоритету занимает 3-е место.\n",
    "\n",
    "\n",
    "При проведении анализа А/В теста проведена предлбработка данных:\n",
    "в таблицах orders И visitors изменен тип данных столбца date, проведен анализ пропущенных значений и дубликатов.\n",
    "Также проведен анализ клиентов, попавших в тесте и в группу А и в группу В. Они были исключены из анализа.\n",
    "\n",
    "При анализа  графика  кумулятивной выручки по группам определено, что:\n",
    "\n",
    "- График выручки группы А практически равномерно увеличивается в течение всего теста, что является положительным фактором.\n",
    "- График выручки группы В в отдельный период имеет резкую тенденцию к росту.Это может сигнализировать о всплесках числа заказов, либо о появлении очень дорогих заказов в выборке.\n",
    "\n",
    "При анализа графика кумулятивного среднего чека по группам определено, что:\n",
    "- Средний чек группы А становится равномерным к ближе к концу теста. Ближе к началу теста заметен резкий всплеск на графике, возможно в группу А в начале теста попали крупные заказы.\n",
    "- Средний чек группы В продолжает падать к концу теста. Примерно в середине теста заметен резкий всплеск на графике - вероятнно такая же ситуация как и с группой А: в группу В в середине теста попали крупные заказы.\n",
    "\n",
    "Определено, что конверсия сегмента А в первые дни августа имела большую конверсию. Конверсия сегмента В вырвалась вперед и ближе к концу теста стабилизировалась (как и конверсия сегмента А). Абсолютное значение колебания конверсии небольшое: от приблизительно 2.5% до 3.4%.\n",
    "\n",
    "Также, практически с самого начала теста группа В лидирует по конверсии, допуская крактовременные \"проигрыши\" сегменту А. Большая часть колебаний конверсии идет в 20% прироста отноcительно сегмента А.\n",
    "\n",
    "\n",
    "Выявлено, что большая часть покупателей заказывала 1-2 раза. Так же есть заказы, совершенные 3 раза. Не более 5% пользователей совершали более 1 заказа и не более 1% пользователей совершали более 2 заказов. Не более 5% пользователей заказывают товары дороже 26 785 руб. Не более 1% пользователей заказывают товары дороже 53 904 руб. Заказы свышее 28000 руб. можно считать аномальными. Не более 10% пользователей позволяют себе покупки свыше 17 990 руб.\n",
    "\n",
    "\n",
    "\n",
    "Определено, что по «сырым» данным различия в среднем числе заказов групп A и B имеются. Вероятно, одним из объяснений является большее число клиентов в сегменте В, выявленное в начале анализа.\n",
    "\n",
    "p-value=0.01102 меньше 0.05 - значит, нулевую гипотезу о том, что статистически значимых различий в среднем числе заказов между группами нет, отвергаем.\n",
    "\n",
    "относительный выигрыш группы B равен 16.0%\n",
    "\n",
    "\n",
    "Также, по сырым данным причин отвергать нулевую гипотезу и считать, что в среднем чеке есть различия, нет.\n",
    "\n",
    "Средний чек группы B выше среднего чека группы A.\n",
    "\n",
    "\n",
    "В целях анализа стат. значимости различий в среднем количестве заказов и в среднем чеке по группа было принято следующее решение: \n",
    "\n",
    "Найденные в прошлых заданиях 95-й и 99-й перцентили средних чеков равны 26 785 и 53 904 рублям. А 95-й и 99-й перцентили количества заказов на одного пользователя равны 1 и 2 заказам на пользователя.\n",
    "\n",
    "Примем за аномальных пользователей тех, кто совершил от 2 заказов или совершил заказ дороже 30 000 рублей. Так мы уберём 5% пользователей с наибольшим числом заказов и от 1% до 5% пользователей с дорогими заказами. Таким образом определено 77 аномальных пользователей.\n",
    "\n",
    "По очищенным данным результаты по среднему количеству заказов практически не изменились.\n",
    "\n",
    "p-value=0.013, меньше 0.05 - значит, нулевую гипотезу о том, что статистически значимых различий в среднем числе заказов между группами нет, отвергаем.\n",
    "\n",
    "относительный выигрыш группы B равен 18.0%\n",
    "\n",
    "Однако по очищенным данным разница между сегментами сократилась с 28% до -1%. Средний чек группы B стал меньше среднего чека группы A. Вероятно, вследствии того, что убрали аномально дорогие заказы и заказы более 2 ед.\n",
    "\n"
   ]
  },
  {
   "cell_type": "markdown",
   "metadata": {},
   "source": [
    "<div class=\"alert alert-info\">\n",
    "   \n",
    "В ИТОГЕ:\n",
    "    \n",
    "Есть статистически значимое различие по как по сырым так и по очищенным данным по среднему количеству заказов между группами.\n",
    "По сырым данным нет статистически значимого различия по среднему чеку между группами. Однако после удаления аномалий статистически значимое различие есть.\n",
    "    \n",
    "По графику относительного изменения кумулятивного среднего количества заказов группы B к группе A мы видим, что результаты группы B лучше группы A: имеют тенденцию к росту, в отдельные периоды теста зафиксировались около среднего значения.\n",
    "    \n",
    "По графику относительного изменения кумулятивного среднего чека группы B к группе A мы видим, что график колеблется, он позволил  найти аномалии. Сделать из этого графика определённые выводы нельзя. В итоге нужно остановить тест, признать его успешным и признать победу группы В.\n",
    "</div>"
   ]
  }
 ],
 "metadata": {
  "ExecuteTimeLog": [
   {
    "duration": 1340,
    "start_time": "2022-10-10T05:10:58.779Z"
   },
   {
    "duration": 3,
    "start_time": "2022-10-10T05:11:01.324Z"
   },
   {
    "duration": 64,
    "start_time": "2022-10-10T05:14:25.922Z"
   },
   {
    "duration": 33,
    "start_time": "2022-10-10T05:14:50.279Z"
   },
   {
    "duration": 29,
    "start_time": "2022-10-10T05:14:53.323Z"
   },
   {
    "duration": 31,
    "start_time": "2022-10-10T05:14:57.729Z"
   },
   {
    "duration": 12,
    "start_time": "2022-10-10T05:17:45.444Z"
   },
   {
    "duration": 8,
    "start_time": "2022-10-10T05:19:02.482Z"
   },
   {
    "duration": 5,
    "start_time": "2022-10-10T05:19:30.407Z"
   },
   {
    "duration": 5,
    "start_time": "2022-10-10T05:20:04.736Z"
   },
   {
    "duration": 4,
    "start_time": "2022-10-10T05:21:25.292Z"
   },
   {
    "duration": 6,
    "start_time": "2022-10-10T05:21:36.433Z"
   },
   {
    "duration": 6,
    "start_time": "2022-10-10T05:34:24.037Z"
   },
   {
    "duration": 8,
    "start_time": "2022-10-10T05:46:49.769Z"
   },
   {
    "duration": 4,
    "start_time": "2022-10-10T05:47:17.837Z"
   },
   {
    "duration": 7,
    "start_time": "2022-10-10T05:47:19.800Z"
   },
   {
    "duration": 63,
    "start_time": "2022-10-10T05:49:42.687Z"
   },
   {
    "duration": 965,
    "start_time": "2022-10-10T05:50:49.234Z"
   },
   {
    "duration": 811,
    "start_time": "2022-10-10T05:50:57.695Z"
   },
   {
    "duration": 6,
    "start_time": "2022-10-10T05:51:15.182Z"
   },
   {
    "duration": 48,
    "start_time": "2022-10-10T05:52:19.342Z"
   },
   {
    "duration": 5,
    "start_time": "2022-10-10T05:55:07.141Z"
   },
   {
    "duration": 8,
    "start_time": "2022-10-10T05:56:10.092Z"
   },
   {
    "duration": 1171,
    "start_time": "2022-10-10T06:06:05.571Z"
   },
   {
    "duration": 99,
    "start_time": "2022-10-10T06:06:06.744Z"
   },
   {
    "duration": 11,
    "start_time": "2022-10-10T06:06:06.845Z"
   },
   {
    "duration": 9,
    "start_time": "2022-10-10T06:06:06.858Z"
   },
   {
    "duration": 1178,
    "start_time": "2022-10-10T06:06:06.870Z"
   },
   {
    "duration": 0,
    "start_time": "2022-10-10T06:06:08.050Z"
   },
   {
    "duration": 0,
    "start_time": "2022-10-10T06:06:08.051Z"
   },
   {
    "duration": 0,
    "start_time": "2022-10-10T06:06:08.052Z"
   },
   {
    "duration": 0,
    "start_time": "2022-10-10T06:06:08.053Z"
   },
   {
    "duration": 0,
    "start_time": "2022-10-10T06:06:08.054Z"
   },
   {
    "duration": 5,
    "start_time": "2022-10-10T06:06:22.399Z"
   },
   {
    "duration": 1053,
    "start_time": "2022-10-10T06:06:30.596Z"
   },
   {
    "duration": 100,
    "start_time": "2022-10-10T06:06:31.652Z"
   },
   {
    "duration": 13,
    "start_time": "2022-10-10T06:06:31.755Z"
   },
   {
    "duration": 16,
    "start_time": "2022-10-10T06:06:31.770Z"
   },
   {
    "duration": 7,
    "start_time": "2022-10-10T06:06:31.789Z"
   },
   {
    "duration": 17,
    "start_time": "2022-10-10T06:06:31.797Z"
   },
   {
    "duration": 23,
    "start_time": "2022-10-10T06:06:31.815Z"
   },
   {
    "duration": 26,
    "start_time": "2022-10-10T06:06:31.840Z"
   },
   {
    "duration": 15,
    "start_time": "2022-10-10T06:06:31.868Z"
   },
   {
    "duration": 20,
    "start_time": "2022-10-10T06:06:31.885Z"
   },
   {
    "duration": 3,
    "start_time": "2022-10-10T06:07:04.326Z"
   },
   {
    "duration": 3,
    "start_time": "2022-10-10T06:20:11.809Z"
   },
   {
    "duration": 201,
    "start_time": "2022-10-10T06:21:06.505Z"
   },
   {
    "duration": 52,
    "start_time": "2022-10-10T06:21:17.610Z"
   },
   {
    "duration": 68,
    "start_time": "2022-10-10T06:22:27.055Z"
   },
   {
    "duration": 12,
    "start_time": "2022-10-10T06:24:20.941Z"
   },
   {
    "duration": 13,
    "start_time": "2022-10-10T06:26:24.371Z"
   },
   {
    "duration": 13,
    "start_time": "2022-10-10T06:26:42.707Z"
   },
   {
    "duration": 4,
    "start_time": "2022-10-10T06:30:04.066Z"
   },
   {
    "duration": 7,
    "start_time": "2022-10-10T06:30:28.196Z"
   },
   {
    "duration": 77,
    "start_time": "2022-10-10T06:31:24.612Z"
   },
   {
    "duration": 7,
    "start_time": "2022-10-10T06:32:31.841Z"
   },
   {
    "duration": 6,
    "start_time": "2022-10-10T06:33:38.236Z"
   },
   {
    "duration": 5,
    "start_time": "2022-10-10T06:33:53.604Z"
   },
   {
    "duration": 11,
    "start_time": "2022-10-10T06:36:48.902Z"
   },
   {
    "duration": 5,
    "start_time": "2022-10-10T06:37:25.282Z"
   },
   {
    "duration": 12,
    "start_time": "2022-10-10T06:37:37.964Z"
   },
   {
    "duration": 6,
    "start_time": "2022-10-10T06:38:13.294Z"
   },
   {
    "duration": 8,
    "start_time": "2022-10-10T06:38:58.700Z"
   },
   {
    "duration": 5,
    "start_time": "2022-10-10T06:39:28.321Z"
   },
   {
    "duration": 6,
    "start_time": "2022-10-10T06:42:03.884Z"
   },
   {
    "duration": 7,
    "start_time": "2022-10-10T06:42:41.603Z"
   },
   {
    "duration": 4,
    "start_time": "2022-10-10T06:43:36.862Z"
   },
   {
    "duration": 4,
    "start_time": "2022-10-10T06:43:45.454Z"
   },
   {
    "duration": 6,
    "start_time": "2022-10-10T07:25:53.506Z"
   },
   {
    "duration": 7,
    "start_time": "2022-10-10T07:26:09.616Z"
   },
   {
    "duration": 7,
    "start_time": "2022-10-10T07:26:30.138Z"
   },
   {
    "duration": 7,
    "start_time": "2022-10-10T07:26:43.956Z"
   },
   {
    "duration": 7,
    "start_time": "2022-10-10T07:27:10.602Z"
   },
   {
    "duration": 8,
    "start_time": "2022-10-10T07:27:17.902Z"
   },
   {
    "duration": 8,
    "start_time": "2022-10-10T07:28:12.674Z"
   },
   {
    "duration": 10,
    "start_time": "2022-10-10T07:28:21.538Z"
   },
   {
    "duration": 44,
    "start_time": "2022-10-10T12:10:24.325Z"
   },
   {
    "duration": 1152,
    "start_time": "2022-10-10T12:10:50.643Z"
   },
   {
    "duration": 133,
    "start_time": "2022-10-10T12:10:51.797Z"
   },
   {
    "duration": 11,
    "start_time": "2022-10-10T12:10:51.931Z"
   },
   {
    "duration": 11,
    "start_time": "2022-10-10T12:10:51.943Z"
   },
   {
    "duration": 6,
    "start_time": "2022-10-10T12:10:51.956Z"
   },
   {
    "duration": 8,
    "start_time": "2022-10-10T12:10:51.963Z"
   },
   {
    "duration": 8,
    "start_time": "2022-10-10T12:10:51.972Z"
   },
   {
    "duration": 9,
    "start_time": "2022-10-10T12:10:51.981Z"
   },
   {
    "duration": 13,
    "start_time": "2022-10-10T12:10:51.992Z"
   },
   {
    "duration": 10,
    "start_time": "2022-10-10T12:10:52.007Z"
   },
   {
    "duration": 94,
    "start_time": "2022-10-10T12:10:52.019Z"
   },
   {
    "duration": 11,
    "start_time": "2022-10-10T12:10:52.115Z"
   },
   {
    "duration": 16,
    "start_time": "2022-10-10T12:10:52.128Z"
   },
   {
    "duration": 13,
    "start_time": "2022-10-10T12:10:52.147Z"
   },
   {
    "duration": 6,
    "start_time": "2022-10-10T12:10:52.162Z"
   },
   {
    "duration": 8,
    "start_time": "2022-10-10T12:10:52.169Z"
   },
   {
    "duration": 8,
    "start_time": "2022-10-10T12:10:52.178Z"
   },
   {
    "duration": 22,
    "start_time": "2022-10-10T12:10:52.187Z"
   },
   {
    "duration": 59,
    "start_time": "2022-10-10T12:10:52.211Z"
   },
   {
    "duration": 8,
    "start_time": "2022-10-10T12:10:52.272Z"
   },
   {
    "duration": 6,
    "start_time": "2022-10-10T12:10:52.281Z"
   },
   {
    "duration": 11,
    "start_time": "2022-10-10T12:10:52.288Z"
   },
   {
    "duration": 7,
    "start_time": "2022-10-10T12:10:52.301Z"
   },
   {
    "duration": 21,
    "start_time": "2022-10-10T12:10:52.310Z"
   },
   {
    "duration": 9,
    "start_time": "2022-10-10T12:10:52.333Z"
   },
   {
    "duration": 7,
    "start_time": "2022-10-10T12:10:52.343Z"
   },
   {
    "duration": 6,
    "start_time": "2022-10-10T12:10:52.351Z"
   },
   {
    "duration": 127,
    "start_time": "2022-10-10T12:17:59.019Z"
   },
   {
    "duration": 93,
    "start_time": "2022-10-10T12:19:04.549Z"
   },
   {
    "duration": 956,
    "start_time": "2022-10-10T12:19:22.378Z"
   },
   {
    "duration": 75,
    "start_time": "2022-10-10T12:19:23.336Z"
   },
   {
    "duration": 15,
    "start_time": "2022-10-10T12:19:23.412Z"
   },
   {
    "duration": 18,
    "start_time": "2022-10-10T12:19:23.428Z"
   },
   {
    "duration": 6,
    "start_time": "2022-10-10T12:19:23.448Z"
   },
   {
    "duration": 6,
    "start_time": "2022-10-10T12:19:23.456Z"
   },
   {
    "duration": 5,
    "start_time": "2022-10-10T12:19:23.464Z"
   },
   {
    "duration": 5,
    "start_time": "2022-10-10T12:19:23.471Z"
   },
   {
    "duration": 5,
    "start_time": "2022-10-10T12:19:23.478Z"
   },
   {
    "duration": 29,
    "start_time": "2022-10-10T12:19:23.484Z"
   },
   {
    "duration": 47,
    "start_time": "2022-10-10T12:19:23.515Z"
   },
   {
    "duration": 9,
    "start_time": "2022-10-10T12:19:23.564Z"
   },
   {
    "duration": 16,
    "start_time": "2022-10-10T12:19:23.575Z"
   },
   {
    "duration": 12,
    "start_time": "2022-10-10T12:19:23.594Z"
   },
   {
    "duration": 12,
    "start_time": "2022-10-10T12:19:23.608Z"
   },
   {
    "duration": 24,
    "start_time": "2022-10-10T12:19:23.622Z"
   },
   {
    "duration": 9,
    "start_time": "2022-10-10T12:19:23.647Z"
   },
   {
    "duration": 8,
    "start_time": "2022-10-10T12:19:23.658Z"
   },
   {
    "duration": 20,
    "start_time": "2022-10-10T12:19:23.667Z"
   },
   {
    "duration": 8,
    "start_time": "2022-10-10T12:19:23.688Z"
   },
   {
    "duration": 6,
    "start_time": "2022-10-10T12:19:23.697Z"
   },
   {
    "duration": 23,
    "start_time": "2022-10-10T12:19:23.704Z"
   },
   {
    "duration": 9,
    "start_time": "2022-10-10T12:19:23.729Z"
   },
   {
    "duration": 7,
    "start_time": "2022-10-10T12:19:23.739Z"
   },
   {
    "duration": 7,
    "start_time": "2022-10-10T12:19:23.747Z"
   },
   {
    "duration": 7,
    "start_time": "2022-10-10T12:19:23.756Z"
   },
   {
    "duration": 6,
    "start_time": "2022-10-10T12:19:23.764Z"
   },
   {
    "duration": 173,
    "start_time": "2022-10-10T12:19:23.771Z"
   },
   {
    "duration": 123,
    "start_time": "2022-10-10T12:19:23.945Z"
   },
   {
    "duration": 6,
    "start_time": "2022-10-10T12:19:24.069Z"
   },
   {
    "duration": 7,
    "start_time": "2022-10-10T12:19:51.685Z"
   },
   {
    "duration": 5,
    "start_time": "2022-10-10T12:19:58.706Z"
   },
   {
    "duration": 6,
    "start_time": "2022-10-10T12:20:56.534Z"
   },
   {
    "duration": 240,
    "start_time": "2022-10-10T12:22:38.450Z"
   },
   {
    "duration": 210,
    "start_time": "2022-10-10T12:29:43.070Z"
   },
   {
    "duration": 158,
    "start_time": "2022-10-10T12:30:01.247Z"
   },
   {
    "duration": 156,
    "start_time": "2022-10-10T12:30:11.668Z"
   },
   {
    "duration": 154,
    "start_time": "2022-10-10T12:30:18.793Z"
   },
   {
    "duration": 154,
    "start_time": "2022-10-10T12:30:28.521Z"
   },
   {
    "duration": 154,
    "start_time": "2022-10-10T12:38:22.345Z"
   },
   {
    "duration": 50,
    "start_time": "2022-10-11T07:21:49.752Z"
   },
   {
    "duration": 1293,
    "start_time": "2022-10-11T07:21:58.692Z"
   },
   {
    "duration": 137,
    "start_time": "2022-10-11T07:21:59.988Z"
   },
   {
    "duration": 13,
    "start_time": "2022-10-11T07:22:00.127Z"
   },
   {
    "duration": 11,
    "start_time": "2022-10-11T07:22:00.142Z"
   },
   {
    "duration": 10,
    "start_time": "2022-10-11T07:22:00.156Z"
   },
   {
    "duration": 24,
    "start_time": "2022-10-11T07:22:00.168Z"
   },
   {
    "duration": 11,
    "start_time": "2022-10-11T07:22:00.194Z"
   },
   {
    "duration": 17,
    "start_time": "2022-10-11T07:22:00.207Z"
   },
   {
    "duration": 8,
    "start_time": "2022-10-11T07:22:00.226Z"
   },
   {
    "duration": 15,
    "start_time": "2022-10-11T07:22:00.236Z"
   },
   {
    "duration": 92,
    "start_time": "2022-10-11T07:22:00.253Z"
   },
   {
    "duration": 11,
    "start_time": "2022-10-11T07:22:00.347Z"
   },
   {
    "duration": 37,
    "start_time": "2022-10-11T07:22:00.359Z"
   },
   {
    "duration": 26,
    "start_time": "2022-10-11T07:22:00.399Z"
   },
   {
    "duration": 21,
    "start_time": "2022-10-11T07:22:00.427Z"
   },
   {
    "duration": 25,
    "start_time": "2022-10-11T07:22:00.450Z"
   },
   {
    "duration": 23,
    "start_time": "2022-10-11T07:22:00.477Z"
   },
   {
    "duration": 42,
    "start_time": "2022-10-11T07:22:00.502Z"
   },
   {
    "duration": 71,
    "start_time": "2022-10-11T07:22:00.546Z"
   },
   {
    "duration": 11,
    "start_time": "2022-10-11T07:22:00.619Z"
   },
   {
    "duration": 23,
    "start_time": "2022-10-11T07:22:00.632Z"
   },
   {
    "duration": 35,
    "start_time": "2022-10-11T07:22:00.657Z"
   },
   {
    "duration": 31,
    "start_time": "2022-10-11T07:22:00.694Z"
   },
   {
    "duration": 14,
    "start_time": "2022-10-11T07:22:00.728Z"
   },
   {
    "duration": 23,
    "start_time": "2022-10-11T07:22:00.745Z"
   },
   {
    "duration": 25,
    "start_time": "2022-10-11T07:22:00.770Z"
   },
   {
    "duration": 32,
    "start_time": "2022-10-11T07:22:00.797Z"
   },
   {
    "duration": 187,
    "start_time": "2022-10-11T07:22:00.831Z"
   },
   {
    "duration": 137,
    "start_time": "2022-10-11T07:22:01.020Z"
   },
   {
    "duration": 8,
    "start_time": "2022-10-11T07:22:01.159Z"
   },
   {
    "duration": 35,
    "start_time": "2022-10-11T07:22:01.169Z"
   },
   {
    "duration": 296,
    "start_time": "2022-10-11T07:22:01.206Z"
   },
   {
    "duration": 218,
    "start_time": "2022-10-11T07:22:01.505Z"
   },
   {
    "duration": 361,
    "start_time": "2022-10-11T07:22:01.725Z"
   },
   {
    "duration": 211,
    "start_time": "2022-10-11T07:31:05.620Z"
   },
   {
    "duration": 7,
    "start_time": "2022-10-11T07:31:14.892Z"
   },
   {
    "duration": 181,
    "start_time": "2022-10-11T07:31:30.999Z"
   },
   {
    "duration": 185,
    "start_time": "2022-10-11T07:33:36.134Z"
   },
   {
    "duration": 397,
    "start_time": "2022-10-11T07:39:59.890Z"
   },
   {
    "duration": 296,
    "start_time": "2022-10-11T07:42:29.088Z"
   },
   {
    "duration": 335,
    "start_time": "2022-10-11T07:42:53.158Z"
   },
   {
    "duration": 428,
    "start_time": "2022-10-11T07:43:03.648Z"
   },
   {
    "duration": 329,
    "start_time": "2022-10-11T07:47:27.220Z"
   },
   {
    "duration": 346,
    "start_time": "2022-10-11T07:47:38.463Z"
   },
   {
    "duration": 14,
    "start_time": "2022-10-11T08:02:58.602Z"
   },
   {
    "duration": 15,
    "start_time": "2022-10-11T08:08:51.194Z"
   },
   {
    "duration": 1079,
    "start_time": "2022-10-11T08:09:16.855Z"
   },
   {
    "duration": 74,
    "start_time": "2022-10-11T08:09:17.936Z"
   },
   {
    "duration": 11,
    "start_time": "2022-10-11T08:09:18.012Z"
   },
   {
    "duration": 11,
    "start_time": "2022-10-11T08:09:18.024Z"
   },
   {
    "duration": 18,
    "start_time": "2022-10-11T08:09:18.037Z"
   },
   {
    "duration": 8,
    "start_time": "2022-10-11T08:09:18.056Z"
   },
   {
    "duration": 8,
    "start_time": "2022-10-11T08:09:18.066Z"
   },
   {
    "duration": 11,
    "start_time": "2022-10-11T08:09:18.076Z"
   },
   {
    "duration": 8,
    "start_time": "2022-10-11T08:09:18.088Z"
   },
   {
    "duration": 15,
    "start_time": "2022-10-11T08:09:18.098Z"
   },
   {
    "duration": 48,
    "start_time": "2022-10-11T08:09:18.115Z"
   },
   {
    "duration": 11,
    "start_time": "2022-10-11T08:09:18.165Z"
   },
   {
    "duration": 19,
    "start_time": "2022-10-11T08:09:18.177Z"
   },
   {
    "duration": 12,
    "start_time": "2022-10-11T08:09:18.199Z"
   },
   {
    "duration": 3,
    "start_time": "2022-10-11T08:09:18.213Z"
   },
   {
    "duration": 8,
    "start_time": "2022-10-11T08:09:18.218Z"
   },
   {
    "duration": 27,
    "start_time": "2022-10-11T08:09:18.228Z"
   },
   {
    "duration": 10,
    "start_time": "2022-10-11T08:09:18.257Z"
   },
   {
    "duration": 28,
    "start_time": "2022-10-11T08:09:18.269Z"
   },
   {
    "duration": 26,
    "start_time": "2022-10-11T08:09:18.298Z"
   },
   {
    "duration": 6,
    "start_time": "2022-10-11T08:09:18.326Z"
   },
   {
    "duration": 15,
    "start_time": "2022-10-11T08:09:18.333Z"
   },
   {
    "duration": 13,
    "start_time": "2022-10-11T08:09:18.350Z"
   },
   {
    "duration": 11,
    "start_time": "2022-10-11T08:09:18.365Z"
   },
   {
    "duration": 10,
    "start_time": "2022-10-11T08:09:18.378Z"
   },
   {
    "duration": 10,
    "start_time": "2022-10-11T08:09:18.390Z"
   },
   {
    "duration": 10,
    "start_time": "2022-10-11T08:09:18.402Z"
   },
   {
    "duration": 169,
    "start_time": "2022-10-11T08:09:18.414Z"
   },
   {
    "duration": 142,
    "start_time": "2022-10-11T08:09:18.585Z"
   },
   {
    "duration": 7,
    "start_time": "2022-10-11T08:09:18.729Z"
   },
   {
    "duration": 20,
    "start_time": "2022-10-11T08:09:18.738Z"
   },
   {
    "duration": 300,
    "start_time": "2022-10-11T08:09:18.760Z"
   },
   {
    "duration": 201,
    "start_time": "2022-10-11T08:09:19.061Z"
   },
   {
    "duration": 282,
    "start_time": "2022-10-11T08:09:19.264Z"
   },
   {
    "duration": 196,
    "start_time": "2022-10-11T08:09:19.554Z"
   },
   {
    "duration": 431,
    "start_time": "2022-10-11T08:09:19.754Z"
   },
   {
    "duration": 0,
    "start_time": "2022-10-11T08:09:20.187Z"
   },
   {
    "duration": 0,
    "start_time": "2022-10-11T08:09:20.189Z"
   },
   {
    "duration": 15,
    "start_time": "2022-10-11T08:09:26.972Z"
   },
   {
    "duration": 15,
    "start_time": "2022-10-11T08:09:29.414Z"
   },
   {
    "duration": 6,
    "start_time": "2022-10-11T08:09:44.774Z"
   },
   {
    "duration": 7,
    "start_time": "2022-10-11T08:09:59.005Z"
   },
   {
    "duration": 204,
    "start_time": "2022-10-11T08:12:06.832Z"
   },
   {
    "duration": 7,
    "start_time": "2022-10-11T08:12:13.922Z"
   },
   {
    "duration": 7,
    "start_time": "2022-10-11T08:12:21.024Z"
   },
   {
    "duration": 8,
    "start_time": "2022-10-11T08:12:34.024Z"
   },
   {
    "duration": 130,
    "start_time": "2022-10-11T08:13:45.569Z"
   },
   {
    "duration": 123,
    "start_time": "2022-10-11T08:14:16.238Z"
   },
   {
    "duration": 5,
    "start_time": "2022-10-11T08:22:13.073Z"
   },
   {
    "duration": 12,
    "start_time": "2022-10-11T08:34:01.050Z"
   },
   {
    "duration": 15,
    "start_time": "2022-10-11T08:40:06.739Z"
   },
   {
    "duration": 131,
    "start_time": "2022-10-11T08:40:23.105Z"
   },
   {
    "duration": 128,
    "start_time": "2022-10-11T08:41:59.779Z"
   },
   {
    "duration": 5,
    "start_time": "2022-10-11T08:45:03.113Z"
   },
   {
    "duration": 1142,
    "start_time": "2022-10-11T09:02:34.320Z"
   },
   {
    "duration": 101,
    "start_time": "2022-10-11T09:02:35.464Z"
   },
   {
    "duration": 14,
    "start_time": "2022-10-11T09:02:35.567Z"
   },
   {
    "duration": 12,
    "start_time": "2022-10-11T09:02:35.584Z"
   },
   {
    "duration": 11,
    "start_time": "2022-10-11T09:02:35.597Z"
   },
   {
    "duration": 11,
    "start_time": "2022-10-11T09:02:35.609Z"
   },
   {
    "duration": 15,
    "start_time": "2022-10-11T09:02:35.622Z"
   },
   {
    "duration": 22,
    "start_time": "2022-10-11T09:02:35.640Z"
   },
   {
    "duration": 6,
    "start_time": "2022-10-11T09:02:35.664Z"
   },
   {
    "duration": 12,
    "start_time": "2022-10-11T09:02:35.673Z"
   },
   {
    "duration": 46,
    "start_time": "2022-10-11T09:02:35.687Z"
   },
   {
    "duration": 16,
    "start_time": "2022-10-11T09:02:35.736Z"
   },
   {
    "duration": 17,
    "start_time": "2022-10-11T09:02:35.755Z"
   },
   {
    "duration": 19,
    "start_time": "2022-10-11T09:02:35.774Z"
   },
   {
    "duration": 9,
    "start_time": "2022-10-11T09:02:35.794Z"
   },
   {
    "duration": 13,
    "start_time": "2022-10-11T09:02:35.805Z"
   },
   {
    "duration": 9,
    "start_time": "2022-10-11T09:02:35.820Z"
   },
   {
    "duration": 11,
    "start_time": "2022-10-11T09:02:35.831Z"
   },
   {
    "duration": 21,
    "start_time": "2022-10-11T09:02:35.855Z"
   },
   {
    "duration": 14,
    "start_time": "2022-10-11T09:02:35.878Z"
   },
   {
    "duration": 10,
    "start_time": "2022-10-11T09:02:35.894Z"
   },
   {
    "duration": 16,
    "start_time": "2022-10-11T09:02:35.906Z"
   },
   {
    "duration": 9,
    "start_time": "2022-10-11T09:02:35.924Z"
   },
   {
    "duration": 21,
    "start_time": "2022-10-11T09:02:35.935Z"
   },
   {
    "duration": 12,
    "start_time": "2022-10-11T09:02:35.958Z"
   },
   {
    "duration": 8,
    "start_time": "2022-10-11T09:02:35.972Z"
   },
   {
    "duration": 8,
    "start_time": "2022-10-11T09:02:35.982Z"
   },
   {
    "duration": 188,
    "start_time": "2022-10-11T09:02:35.993Z"
   },
   {
    "duration": 138,
    "start_time": "2022-10-11T09:02:36.183Z"
   },
   {
    "duration": 7,
    "start_time": "2022-10-11T09:02:36.323Z"
   },
   {
    "duration": 22,
    "start_time": "2022-10-11T09:02:36.332Z"
   },
   {
    "duration": 278,
    "start_time": "2022-10-11T09:02:36.356Z"
   },
   {
    "duration": 232,
    "start_time": "2022-10-11T09:02:36.636Z"
   },
   {
    "duration": 288,
    "start_time": "2022-10-11T09:02:36.870Z"
   },
   {
    "duration": 218,
    "start_time": "2022-10-11T09:02:37.160Z"
   },
   {
    "duration": 411,
    "start_time": "2022-10-11T09:02:37.380Z"
   },
   {
    "duration": 0,
    "start_time": "2022-10-11T09:02:37.793Z"
   },
   {
    "duration": 0,
    "start_time": "2022-10-11T09:02:37.794Z"
   },
   {
    "duration": 0,
    "start_time": "2022-10-11T09:02:37.796Z"
   },
   {
    "duration": 0,
    "start_time": "2022-10-11T09:02:37.797Z"
   },
   {
    "duration": 0,
    "start_time": "2022-10-11T09:02:37.798Z"
   },
   {
    "duration": 0,
    "start_time": "2022-10-11T09:02:37.799Z"
   },
   {
    "duration": 0,
    "start_time": "2022-10-11T09:02:37.801Z"
   },
   {
    "duration": 131,
    "start_time": "2022-10-11T09:03:38.296Z"
   },
   {
    "duration": 5,
    "start_time": "2022-10-11T09:03:41.446Z"
   },
   {
    "duration": 10,
    "start_time": "2022-10-11T09:03:47.350Z"
   },
   {
    "duration": 7,
    "start_time": "2022-10-11T09:03:57.327Z"
   },
   {
    "duration": 7,
    "start_time": "2022-10-11T09:03:59.930Z"
   },
   {
    "duration": 115,
    "start_time": "2022-10-11T09:04:02.717Z"
   },
   {
    "duration": 112,
    "start_time": "2022-10-11T09:04:06.045Z"
   },
   {
    "duration": 5,
    "start_time": "2022-10-11T09:04:08.874Z"
   },
   {
    "duration": 5,
    "start_time": "2022-10-11T09:07:20.579Z"
   },
   {
    "duration": 7,
    "start_time": "2022-10-11T09:07:48.948Z"
   },
   {
    "duration": 6,
    "start_time": "2022-10-11T09:07:53.389Z"
   },
   {
    "duration": 6,
    "start_time": "2022-10-11T09:08:05.435Z"
   },
   {
    "duration": 323,
    "start_time": "2022-10-11T09:12:28.704Z"
   },
   {
    "duration": 412,
    "start_time": "2022-10-11T09:12:41.072Z"
   },
   {
    "duration": 6,
    "start_time": "2022-10-11T09:14:23.283Z"
   },
   {
    "duration": 329,
    "start_time": "2022-10-11T09:14:42.020Z"
   },
   {
    "duration": 13,
    "start_time": "2022-10-11T09:16:40.203Z"
   },
   {
    "duration": 13,
    "start_time": "2022-10-11T09:16:44.078Z"
   },
   {
    "duration": 15,
    "start_time": "2022-10-11T09:17:09.553Z"
   },
   {
    "duration": 15,
    "start_time": "2022-10-11T09:19:54.473Z"
   },
   {
    "duration": 1139,
    "start_time": "2022-10-11T09:24:28.127Z"
   },
   {
    "duration": 93,
    "start_time": "2022-10-11T09:24:29.268Z"
   },
   {
    "duration": 11,
    "start_time": "2022-10-11T09:24:29.363Z"
   },
   {
    "duration": 12,
    "start_time": "2022-10-11T09:24:29.376Z"
   },
   {
    "duration": 20,
    "start_time": "2022-10-11T09:24:29.389Z"
   },
   {
    "duration": 18,
    "start_time": "2022-10-11T09:24:29.411Z"
   },
   {
    "duration": 8,
    "start_time": "2022-10-11T09:24:29.431Z"
   },
   {
    "duration": 16,
    "start_time": "2022-10-11T09:24:29.441Z"
   },
   {
    "duration": 7,
    "start_time": "2022-10-11T09:24:29.459Z"
   },
   {
    "duration": 10,
    "start_time": "2022-10-11T09:24:29.469Z"
   },
   {
    "duration": 46,
    "start_time": "2022-10-11T09:24:29.481Z"
   },
   {
    "duration": 11,
    "start_time": "2022-10-11T09:24:29.529Z"
   },
   {
    "duration": 26,
    "start_time": "2022-10-11T09:24:29.542Z"
   },
   {
    "duration": 18,
    "start_time": "2022-10-11T09:24:29.570Z"
   },
   {
    "duration": 11,
    "start_time": "2022-10-11T09:24:29.590Z"
   },
   {
    "duration": 17,
    "start_time": "2022-10-11T09:24:29.603Z"
   },
   {
    "duration": 9,
    "start_time": "2022-10-11T09:24:29.621Z"
   },
   {
    "duration": 15,
    "start_time": "2022-10-11T09:24:29.632Z"
   },
   {
    "duration": 22,
    "start_time": "2022-10-11T09:24:29.649Z"
   },
   {
    "duration": 10,
    "start_time": "2022-10-11T09:24:29.673Z"
   },
   {
    "duration": 10,
    "start_time": "2022-10-11T09:24:29.685Z"
   },
   {
    "duration": 14,
    "start_time": "2022-10-11T09:24:29.697Z"
   },
   {
    "duration": 10,
    "start_time": "2022-10-11T09:24:29.712Z"
   },
   {
    "duration": 7,
    "start_time": "2022-10-11T09:24:29.724Z"
   },
   {
    "duration": 9,
    "start_time": "2022-10-11T09:24:29.732Z"
   },
   {
    "duration": 13,
    "start_time": "2022-10-11T09:24:29.744Z"
   },
   {
    "duration": 9,
    "start_time": "2022-10-11T09:24:29.759Z"
   },
   {
    "duration": 13,
    "start_time": "2022-10-11T09:24:29.773Z"
   },
   {
    "duration": 10,
    "start_time": "2022-10-11T09:24:29.788Z"
   },
   {
    "duration": 191,
    "start_time": "2022-10-11T09:24:29.799Z"
   },
   {
    "duration": 167,
    "start_time": "2022-10-11T09:24:29.992Z"
   },
   {
    "duration": 10,
    "start_time": "2022-10-11T09:24:30.161Z"
   },
   {
    "duration": 14,
    "start_time": "2022-10-11T09:24:30.173Z"
   },
   {
    "duration": 299,
    "start_time": "2022-10-11T09:24:30.189Z"
   },
   {
    "duration": 219,
    "start_time": "2022-10-11T09:24:30.490Z"
   },
   {
    "duration": 288,
    "start_time": "2022-10-11T09:24:30.711Z"
   },
   {
    "duration": 229,
    "start_time": "2022-10-11T09:24:31.000Z"
   },
   {
    "duration": 416,
    "start_time": "2022-10-11T09:24:31.231Z"
   },
   {
    "duration": 12,
    "start_time": "2022-10-11T09:24:31.650Z"
   },
   {
    "duration": 24,
    "start_time": "2022-10-11T09:24:31.665Z"
   },
   {
    "duration": 169,
    "start_time": "2022-10-11T09:24:31.691Z"
   },
   {
    "duration": 144,
    "start_time": "2022-10-11T09:24:31.862Z"
   },
   {
    "duration": 6,
    "start_time": "2022-10-11T09:24:32.008Z"
   },
   {
    "duration": 165,
    "start_time": "2022-10-11T09:24:32.015Z"
   },
   {
    "duration": 5,
    "start_time": "2022-10-11T09:24:32.182Z"
   },
   {
    "duration": 14,
    "start_time": "2022-10-11T09:28:25.253Z"
   },
   {
    "duration": 6,
    "start_time": "2022-10-11T09:29:15.378Z"
   },
   {
    "duration": 6,
    "start_time": "2022-10-11T09:29:36.801Z"
   },
   {
    "duration": 217,
    "start_time": "2022-10-11T09:30:02.525Z"
   },
   {
    "duration": 123,
    "start_time": "2022-10-11T09:30:22.266Z"
   },
   {
    "duration": 1026,
    "start_time": "2022-10-11T09:30:47.600Z"
   },
   {
    "duration": 103,
    "start_time": "2022-10-11T09:30:48.628Z"
   },
   {
    "duration": 11,
    "start_time": "2022-10-11T09:30:48.733Z"
   },
   {
    "duration": 15,
    "start_time": "2022-10-11T09:30:48.746Z"
   },
   {
    "duration": 12,
    "start_time": "2022-10-11T09:30:48.763Z"
   },
   {
    "duration": 11,
    "start_time": "2022-10-11T09:30:48.777Z"
   },
   {
    "duration": 19,
    "start_time": "2022-10-11T09:30:48.790Z"
   },
   {
    "duration": 16,
    "start_time": "2022-10-11T09:30:48.811Z"
   },
   {
    "duration": 6,
    "start_time": "2022-10-11T09:30:48.829Z"
   },
   {
    "duration": 13,
    "start_time": "2022-10-11T09:30:48.836Z"
   },
   {
    "duration": 57,
    "start_time": "2022-10-11T09:30:48.850Z"
   },
   {
    "duration": 11,
    "start_time": "2022-10-11T09:30:48.909Z"
   },
   {
    "duration": 16,
    "start_time": "2022-10-11T09:30:48.921Z"
   },
   {
    "duration": 12,
    "start_time": "2022-10-11T09:30:48.941Z"
   },
   {
    "duration": 6,
    "start_time": "2022-10-11T09:30:48.955Z"
   },
   {
    "duration": 11,
    "start_time": "2022-10-11T09:30:48.962Z"
   },
   {
    "duration": 10,
    "start_time": "2022-10-11T09:30:48.975Z"
   },
   {
    "duration": 11,
    "start_time": "2022-10-11T09:30:48.987Z"
   },
   {
    "duration": 25,
    "start_time": "2022-10-11T09:30:49.000Z"
   },
   {
    "duration": 11,
    "start_time": "2022-10-11T09:30:49.026Z"
   },
   {
    "duration": 20,
    "start_time": "2022-10-11T09:30:49.039Z"
   },
   {
    "duration": 23,
    "start_time": "2022-10-11T09:30:49.061Z"
   },
   {
    "duration": 11,
    "start_time": "2022-10-11T09:30:49.086Z"
   },
   {
    "duration": 10,
    "start_time": "2022-10-11T09:30:49.098Z"
   },
   {
    "duration": 8,
    "start_time": "2022-10-11T09:30:49.110Z"
   },
   {
    "duration": 8,
    "start_time": "2022-10-11T09:30:49.119Z"
   },
   {
    "duration": 7,
    "start_time": "2022-10-11T09:30:49.129Z"
   },
   {
    "duration": 18,
    "start_time": "2022-10-11T09:30:49.138Z"
   },
   {
    "duration": 7,
    "start_time": "2022-10-11T09:30:49.158Z"
   },
   {
    "duration": 139,
    "start_time": "2022-10-11T09:30:49.167Z"
   },
   {
    "duration": 0,
    "start_time": "2022-10-11T09:30:49.308Z"
   },
   {
    "duration": 0,
    "start_time": "2022-10-11T09:30:49.309Z"
   },
   {
    "duration": 1,
    "start_time": "2022-10-11T09:30:49.310Z"
   },
   {
    "duration": 0,
    "start_time": "2022-10-11T09:30:49.312Z"
   },
   {
    "duration": 1,
    "start_time": "2022-10-11T09:30:49.312Z"
   },
   {
    "duration": 0,
    "start_time": "2022-10-11T09:30:49.314Z"
   },
   {
    "duration": 0,
    "start_time": "2022-10-11T09:30:49.315Z"
   },
   {
    "duration": 0,
    "start_time": "2022-10-11T09:30:49.316Z"
   },
   {
    "duration": 1,
    "start_time": "2022-10-11T09:30:49.316Z"
   },
   {
    "duration": 0,
    "start_time": "2022-10-11T09:30:49.317Z"
   },
   {
    "duration": 0,
    "start_time": "2022-10-11T09:30:49.319Z"
   },
   {
    "duration": 0,
    "start_time": "2022-10-11T09:30:49.320Z"
   },
   {
    "duration": 0,
    "start_time": "2022-10-11T09:30:49.321Z"
   },
   {
    "duration": 0,
    "start_time": "2022-10-11T09:30:49.322Z"
   },
   {
    "duration": 0,
    "start_time": "2022-10-11T09:30:49.323Z"
   },
   {
    "duration": 0,
    "start_time": "2022-10-11T09:30:49.354Z"
   },
   {
    "duration": 0,
    "start_time": "2022-10-11T09:30:49.357Z"
   },
   {
    "duration": 12,
    "start_time": "2022-10-11T09:31:58.072Z"
   },
   {
    "duration": 1045,
    "start_time": "2022-10-11T09:32:09.493Z"
   },
   {
    "duration": 96,
    "start_time": "2022-10-11T09:32:10.540Z"
   },
   {
    "duration": 12,
    "start_time": "2022-10-11T09:32:10.638Z"
   },
   {
    "duration": 24,
    "start_time": "2022-10-11T09:32:10.653Z"
   },
   {
    "duration": 12,
    "start_time": "2022-10-11T09:32:10.679Z"
   },
   {
    "duration": 16,
    "start_time": "2022-10-11T09:32:10.693Z"
   },
   {
    "duration": 8,
    "start_time": "2022-10-11T09:32:10.710Z"
   },
   {
    "duration": 17,
    "start_time": "2022-10-11T09:32:10.720Z"
   },
   {
    "duration": 15,
    "start_time": "2022-10-11T09:32:10.738Z"
   },
   {
    "duration": 9,
    "start_time": "2022-10-11T09:32:10.755Z"
   },
   {
    "duration": 57,
    "start_time": "2022-10-11T09:32:10.765Z"
   },
   {
    "duration": 12,
    "start_time": "2022-10-11T09:32:10.824Z"
   },
   {
    "duration": 25,
    "start_time": "2022-10-11T09:32:10.837Z"
   },
   {
    "duration": 23,
    "start_time": "2022-10-11T09:32:10.864Z"
   },
   {
    "duration": 15,
    "start_time": "2022-10-11T09:32:10.889Z"
   },
   {
    "duration": 11,
    "start_time": "2022-10-11T09:32:10.906Z"
   },
   {
    "duration": 14,
    "start_time": "2022-10-11T09:32:10.919Z"
   },
   {
    "duration": 10,
    "start_time": "2022-10-11T09:32:10.935Z"
   },
   {
    "duration": 23,
    "start_time": "2022-10-11T09:32:10.947Z"
   },
   {
    "duration": 11,
    "start_time": "2022-10-11T09:32:10.971Z"
   },
   {
    "duration": 23,
    "start_time": "2022-10-11T09:32:10.984Z"
   },
   {
    "duration": 20,
    "start_time": "2022-10-11T09:32:11.009Z"
   },
   {
    "duration": 10,
    "start_time": "2022-10-11T09:32:11.031Z"
   },
   {
    "duration": 34,
    "start_time": "2022-10-11T09:32:11.043Z"
   },
   {
    "duration": 10,
    "start_time": "2022-10-11T09:32:11.079Z"
   },
   {
    "duration": 18,
    "start_time": "2022-10-11T09:32:11.090Z"
   },
   {
    "duration": 27,
    "start_time": "2022-10-11T09:32:11.110Z"
   },
   {
    "duration": 17,
    "start_time": "2022-10-11T09:32:11.140Z"
   },
   {
    "duration": 18,
    "start_time": "2022-10-11T09:32:11.159Z"
   },
   {
    "duration": 125,
    "start_time": "2022-10-11T09:32:11.179Z"
   },
   {
    "duration": 0,
    "start_time": "2022-10-11T09:32:11.306Z"
   },
   {
    "duration": 0,
    "start_time": "2022-10-11T09:32:11.308Z"
   },
   {
    "duration": 0,
    "start_time": "2022-10-11T09:32:11.309Z"
   },
   {
    "duration": 0,
    "start_time": "2022-10-11T09:32:11.310Z"
   },
   {
    "duration": 0,
    "start_time": "2022-10-11T09:32:11.311Z"
   },
   {
    "duration": 0,
    "start_time": "2022-10-11T09:32:11.312Z"
   },
   {
    "duration": 0,
    "start_time": "2022-10-11T09:32:11.314Z"
   },
   {
    "duration": 0,
    "start_time": "2022-10-11T09:32:11.315Z"
   },
   {
    "duration": 0,
    "start_time": "2022-10-11T09:32:11.316Z"
   },
   {
    "duration": 0,
    "start_time": "2022-10-11T09:32:11.317Z"
   },
   {
    "duration": 0,
    "start_time": "2022-10-11T09:32:11.318Z"
   },
   {
    "duration": 0,
    "start_time": "2022-10-11T09:32:11.319Z"
   },
   {
    "duration": 0,
    "start_time": "2022-10-11T09:32:11.320Z"
   },
   {
    "duration": 0,
    "start_time": "2022-10-11T09:32:11.321Z"
   },
   {
    "duration": 0,
    "start_time": "2022-10-11T09:32:11.322Z"
   },
   {
    "duration": 0,
    "start_time": "2022-10-11T09:32:11.323Z"
   },
   {
    "duration": 0,
    "start_time": "2022-10-11T09:32:11.355Z"
   },
   {
    "duration": 4,
    "start_time": "2022-10-11T09:32:39.261Z"
   },
   {
    "duration": 5,
    "start_time": "2022-10-11T09:32:43.005Z"
   },
   {
    "duration": 4,
    "start_time": "2022-10-11T09:34:19.372Z"
   },
   {
    "duration": 15,
    "start_time": "2022-10-11T09:34:23.846Z"
   },
   {
    "duration": 7,
    "start_time": "2022-10-11T09:34:27.097Z"
   },
   {
    "duration": 174,
    "start_time": "2022-10-11T09:34:28.520Z"
   },
   {
    "duration": 133,
    "start_time": "2022-10-11T09:34:29.752Z"
   },
   {
    "duration": 8,
    "start_time": "2022-10-11T09:34:30.874Z"
   },
   {
    "duration": 9,
    "start_time": "2022-10-11T09:34:32.193Z"
   },
   {
    "duration": 268,
    "start_time": "2022-10-11T09:34:33.813Z"
   },
   {
    "duration": 182,
    "start_time": "2022-10-11T09:34:40.055Z"
   },
   {
    "duration": 298,
    "start_time": "2022-10-11T09:34:42.444Z"
   },
   {
    "duration": 204,
    "start_time": "2022-10-11T09:34:45.073Z"
   },
   {
    "duration": 290,
    "start_time": "2022-10-11T09:35:02.385Z"
   },
   {
    "duration": 7,
    "start_time": "2022-10-11T09:35:05.151Z"
   },
   {
    "duration": 7,
    "start_time": "2022-10-11T09:35:07.265Z"
   },
   {
    "duration": 116,
    "start_time": "2022-10-11T09:35:09.227Z"
   },
   {
    "duration": 166,
    "start_time": "2022-10-11T09:35:11.563Z"
   },
   {
    "duration": 5,
    "start_time": "2022-10-11T09:35:13.682Z"
   },
   {
    "duration": 134,
    "start_time": "2022-10-11T09:35:16.136Z"
   },
   {
    "duration": 5,
    "start_time": "2022-10-11T09:35:18.305Z"
   },
   {
    "duration": 15,
    "start_time": "2022-10-11T09:38:00.133Z"
   },
   {
    "duration": 7,
    "start_time": "2022-10-11T09:39:04.658Z"
   },
   {
    "duration": 7,
    "start_time": "2022-10-11T09:39:44.624Z"
   },
   {
    "duration": 7,
    "start_time": "2022-10-11T09:40:10.893Z"
   },
   {
    "duration": 14,
    "start_time": "2022-10-11T09:40:12.746Z"
   },
   {
    "duration": 5,
    "start_time": "2022-10-11T09:40:20.741Z"
   },
   {
    "duration": 15,
    "start_time": "2022-10-11T09:40:55.278Z"
   },
   {
    "duration": 6,
    "start_time": "2022-10-11T09:41:14.626Z"
   },
   {
    "duration": 12,
    "start_time": "2022-10-11T09:41:46.158Z"
   },
   {
    "duration": 7,
    "start_time": "2022-10-11T09:42:12.808Z"
   },
   {
    "duration": 7,
    "start_time": "2022-10-11T09:42:14.590Z"
   },
   {
    "duration": 16,
    "start_time": "2022-10-11T09:42:33.590Z"
   },
   {
    "duration": 7,
    "start_time": "2022-10-11T09:43:00.297Z"
   },
   {
    "duration": 6,
    "start_time": "2022-10-11T09:43:15.053Z"
   },
   {
    "duration": 695,
    "start_time": "2022-10-11T09:43:27.028Z"
   },
   {
    "duration": 6,
    "start_time": "2022-10-11T09:43:49.489Z"
   },
   {
    "duration": 6,
    "start_time": "2022-10-11T09:43:53.103Z"
   },
   {
    "duration": 6,
    "start_time": "2022-10-11T09:44:06.773Z"
   },
   {
    "duration": 7,
    "start_time": "2022-10-11T09:44:09.122Z"
   },
   {
    "duration": 14,
    "start_time": "2022-10-11T09:44:29.853Z"
   },
   {
    "duration": 6,
    "start_time": "2022-10-11T09:44:33.498Z"
   },
   {
    "duration": 9,
    "start_time": "2022-10-11T09:44:40.656Z"
   },
   {
    "duration": 6,
    "start_time": "2022-10-11T09:44:42.115Z"
   },
   {
    "duration": 5,
    "start_time": "2022-10-11T09:46:20.215Z"
   },
   {
    "duration": 7,
    "start_time": "2022-10-11T09:48:23.229Z"
   },
   {
    "duration": 8,
    "start_time": "2022-10-11T09:48:33.159Z"
   },
   {
    "duration": 8,
    "start_time": "2022-10-11T09:49:05.510Z"
   },
   {
    "duration": 47,
    "start_time": "2022-10-11T09:50:27.155Z"
   },
   {
    "duration": 57,
    "start_time": "2022-10-11T09:50:38.735Z"
   },
   {
    "duration": 45,
    "start_time": "2022-10-11T09:51:06.316Z"
   },
   {
    "duration": 54,
    "start_time": "2022-10-11T09:51:20.218Z"
   },
   {
    "duration": 5,
    "start_time": "2022-10-11T09:51:32.050Z"
   },
   {
    "duration": 7,
    "start_time": "2022-10-11T09:51:42.420Z"
   },
   {
    "duration": 8,
    "start_time": "2022-10-11T09:51:50.811Z"
   },
   {
    "duration": 10,
    "start_time": "2022-10-11T09:53:31.483Z"
   },
   {
    "duration": 9,
    "start_time": "2022-10-11T09:55:25.674Z"
   },
   {
    "duration": 10,
    "start_time": "2022-10-11T09:55:30.860Z"
   },
   {
    "duration": 1108,
    "start_time": "2022-10-11T09:57:28.044Z"
   },
   {
    "duration": 101,
    "start_time": "2022-10-11T09:57:29.154Z"
   },
   {
    "duration": 22,
    "start_time": "2022-10-11T09:57:29.261Z"
   },
   {
    "duration": 15,
    "start_time": "2022-10-11T09:57:29.286Z"
   },
   {
    "duration": 21,
    "start_time": "2022-10-11T09:57:29.303Z"
   },
   {
    "duration": 20,
    "start_time": "2022-10-11T09:57:29.326Z"
   },
   {
    "duration": 16,
    "start_time": "2022-10-11T09:57:29.348Z"
   },
   {
    "duration": 9,
    "start_time": "2022-10-11T09:57:29.367Z"
   },
   {
    "duration": 14,
    "start_time": "2022-10-11T09:57:29.378Z"
   },
   {
    "duration": 16,
    "start_time": "2022-10-11T09:57:29.396Z"
   },
   {
    "duration": 47,
    "start_time": "2022-10-11T09:57:29.414Z"
   },
   {
    "duration": 13,
    "start_time": "2022-10-11T09:57:29.463Z"
   },
   {
    "duration": 20,
    "start_time": "2022-10-11T09:57:29.478Z"
   },
   {
    "duration": 27,
    "start_time": "2022-10-11T09:57:29.500Z"
   },
   {
    "duration": 17,
    "start_time": "2022-10-11T09:57:29.529Z"
   },
   {
    "duration": 17,
    "start_time": "2022-10-11T09:57:29.548Z"
   },
   {
    "duration": 15,
    "start_time": "2022-10-11T09:57:29.567Z"
   },
   {
    "duration": 12,
    "start_time": "2022-10-11T09:57:29.584Z"
   },
   {
    "duration": 77,
    "start_time": "2022-10-11T09:57:29.598Z"
   },
   {
    "duration": 14,
    "start_time": "2022-10-11T09:57:29.677Z"
   },
   {
    "duration": 23,
    "start_time": "2022-10-11T09:57:29.693Z"
   },
   {
    "duration": 17,
    "start_time": "2022-10-11T09:57:29.718Z"
   },
   {
    "duration": 23,
    "start_time": "2022-10-11T09:57:29.737Z"
   },
   {
    "duration": 15,
    "start_time": "2022-10-11T09:57:29.763Z"
   },
   {
    "duration": 14,
    "start_time": "2022-10-11T09:57:29.780Z"
   },
   {
    "duration": 25,
    "start_time": "2022-10-11T09:57:29.796Z"
   },
   {
    "duration": 17,
    "start_time": "2022-10-11T09:57:29.823Z"
   },
   {
    "duration": 12,
    "start_time": "2022-10-11T09:57:29.843Z"
   },
   {
    "duration": 18,
    "start_time": "2022-10-11T09:57:29.857Z"
   },
   {
    "duration": 11,
    "start_time": "2022-10-11T09:57:29.877Z"
   },
   {
    "duration": 11,
    "start_time": "2022-10-11T09:57:29.890Z"
   },
   {
    "duration": 24,
    "start_time": "2022-10-11T09:57:29.903Z"
   },
   {
    "duration": 8,
    "start_time": "2022-10-11T09:57:29.929Z"
   },
   {
    "duration": 173,
    "start_time": "2022-10-11T09:57:29.939Z"
   },
   {
    "duration": 142,
    "start_time": "2022-10-11T09:57:30.114Z"
   },
   {
    "duration": 7,
    "start_time": "2022-10-11T09:57:30.258Z"
   },
   {
    "duration": 21,
    "start_time": "2022-10-11T09:57:30.267Z"
   },
   {
    "duration": 328,
    "start_time": "2022-10-11T09:57:30.290Z"
   },
   {
    "duration": 226,
    "start_time": "2022-10-11T09:57:30.620Z"
   },
   {
    "duration": 296,
    "start_time": "2022-10-11T09:57:30.848Z"
   },
   {
    "duration": 218,
    "start_time": "2022-10-11T09:57:31.145Z"
   },
   {
    "duration": 363,
    "start_time": "2022-10-11T09:57:31.366Z"
   },
   {
    "duration": 12,
    "start_time": "2022-10-11T09:57:31.732Z"
   },
   {
    "duration": 30,
    "start_time": "2022-10-11T09:57:31.757Z"
   },
   {
    "duration": 156,
    "start_time": "2022-10-11T09:57:31.789Z"
   },
   {
    "duration": 146,
    "start_time": "2022-10-11T09:57:31.947Z"
   },
   {
    "duration": 5,
    "start_time": "2022-10-11T09:57:32.095Z"
   },
   {
    "duration": 151,
    "start_time": "2022-10-11T09:57:32.103Z"
   },
   {
    "duration": 5,
    "start_time": "2022-10-11T09:57:32.256Z"
   },
   {
    "duration": 6,
    "start_time": "2022-10-11T09:59:39.204Z"
   },
   {
    "duration": 4,
    "start_time": "2022-10-11T10:00:37.765Z"
   },
   {
    "duration": 140,
    "start_time": "2022-10-11T10:00:56.454Z"
   },
   {
    "duration": 6,
    "start_time": "2022-10-11T10:01:35.810Z"
   },
   {
    "duration": 9,
    "start_time": "2022-10-11T10:02:00.003Z"
   },
   {
    "duration": 5,
    "start_time": "2022-10-11T10:02:44.785Z"
   },
   {
    "duration": 5,
    "start_time": "2022-10-11T10:03:30.738Z"
   },
   {
    "duration": 330,
    "start_time": "2022-10-11T10:06:42.558Z"
   },
   {
    "duration": 129,
    "start_time": "2022-10-11T10:07:15.029Z"
   },
   {
    "duration": 140,
    "start_time": "2022-10-11T10:07:20.506Z"
   },
   {
    "duration": 135,
    "start_time": "2022-10-11T10:07:24.720Z"
   },
   {
    "duration": 547,
    "start_time": "2022-10-11T10:07:33.381Z"
   },
   {
    "duration": 125,
    "start_time": "2022-10-11T10:07:35.423Z"
   },
   {
    "duration": 5,
    "start_time": "2022-10-11T10:08:41.856Z"
   },
   {
    "duration": 4,
    "start_time": "2022-10-11T10:08:48.411Z"
   },
   {
    "duration": 5,
    "start_time": "2022-10-11T10:09:19.445Z"
   },
   {
    "duration": 4,
    "start_time": "2022-10-11T10:09:33.221Z"
   },
   {
    "duration": 51,
    "start_time": "2022-10-11T16:45:55.910Z"
   },
   {
    "duration": 1115,
    "start_time": "2022-10-11T16:46:37.722Z"
   },
   {
    "duration": 117,
    "start_time": "2022-10-11T16:46:38.840Z"
   },
   {
    "duration": 10,
    "start_time": "2022-10-11T16:46:38.958Z"
   },
   {
    "duration": 23,
    "start_time": "2022-10-11T16:46:38.970Z"
   },
   {
    "duration": 6,
    "start_time": "2022-10-11T16:46:38.995Z"
   },
   {
    "duration": 26,
    "start_time": "2022-10-11T16:46:39.003Z"
   },
   {
    "duration": 10,
    "start_time": "2022-10-11T16:46:39.030Z"
   },
   {
    "duration": 13,
    "start_time": "2022-10-11T16:46:39.041Z"
   },
   {
    "duration": 18,
    "start_time": "2022-10-11T16:46:39.055Z"
   },
   {
    "duration": 9,
    "start_time": "2022-10-11T16:46:39.074Z"
   },
   {
    "duration": 141,
    "start_time": "2022-10-11T16:46:39.085Z"
   },
   {
    "duration": 10,
    "start_time": "2022-10-11T16:46:39.228Z"
   },
   {
    "duration": 15,
    "start_time": "2022-10-11T16:46:39.239Z"
   },
   {
    "duration": 11,
    "start_time": "2022-10-11T16:46:39.257Z"
   },
   {
    "duration": 4,
    "start_time": "2022-10-11T16:46:39.270Z"
   },
   {
    "duration": 7,
    "start_time": "2022-10-11T16:46:39.276Z"
   },
   {
    "duration": 11,
    "start_time": "2022-10-11T16:46:39.284Z"
   },
   {
    "duration": 11,
    "start_time": "2022-10-11T16:46:39.296Z"
   },
   {
    "duration": 55,
    "start_time": "2022-10-11T16:46:39.308Z"
   },
   {
    "duration": 10,
    "start_time": "2022-10-11T16:46:39.364Z"
   },
   {
    "duration": 9,
    "start_time": "2022-10-11T16:46:39.376Z"
   },
   {
    "duration": 21,
    "start_time": "2022-10-11T16:46:39.386Z"
   },
   {
    "duration": 9,
    "start_time": "2022-10-11T16:46:39.408Z"
   },
   {
    "duration": 6,
    "start_time": "2022-10-11T16:46:39.419Z"
   },
   {
    "duration": 6,
    "start_time": "2022-10-11T16:46:39.426Z"
   },
   {
    "duration": 21,
    "start_time": "2022-10-11T16:46:39.434Z"
   },
   {
    "duration": 6,
    "start_time": "2022-10-11T16:46:39.456Z"
   },
   {
    "duration": 7,
    "start_time": "2022-10-11T16:46:39.463Z"
   },
   {
    "duration": 29,
    "start_time": "2022-10-11T16:46:39.472Z"
   },
   {
    "duration": 4,
    "start_time": "2022-10-11T16:46:39.502Z"
   },
   {
    "duration": 8,
    "start_time": "2022-10-11T16:46:39.507Z"
   },
   {
    "duration": 8,
    "start_time": "2022-10-11T16:46:39.517Z"
   },
   {
    "duration": 8,
    "start_time": "2022-10-11T16:46:39.527Z"
   },
   {
    "duration": 174,
    "start_time": "2022-10-11T16:46:39.537Z"
   },
   {
    "duration": 122,
    "start_time": "2022-10-11T16:46:39.713Z"
   },
   {
    "duration": 6,
    "start_time": "2022-10-11T16:46:39.836Z"
   },
   {
    "duration": 8,
    "start_time": "2022-10-11T16:46:39.843Z"
   },
   {
    "duration": 239,
    "start_time": "2022-10-11T16:46:39.853Z"
   },
   {
    "duration": 165,
    "start_time": "2022-10-11T16:46:40.094Z"
   },
   {
    "duration": 332,
    "start_time": "2022-10-11T16:46:40.260Z"
   },
   {
    "duration": 173,
    "start_time": "2022-10-11T16:46:40.599Z"
   },
   {
    "duration": 318,
    "start_time": "2022-10-11T16:46:40.774Z"
   },
   {
    "duration": 11,
    "start_time": "2022-10-11T16:46:41.093Z"
   },
   {
    "duration": 6,
    "start_time": "2022-10-11T16:46:41.105Z"
   },
   {
    "duration": 137,
    "start_time": "2022-10-11T16:46:41.112Z"
   },
   {
    "duration": 4,
    "start_time": "2022-10-11T16:46:41.251Z"
   },
   {
    "duration": 127,
    "start_time": "2022-10-11T16:46:41.257Z"
   },
   {
    "duration": 17,
    "start_time": "2022-10-11T16:46:41.386Z"
   },
   {
    "duration": 14,
    "start_time": "2022-10-11T16:46:41.405Z"
   },
   {
    "duration": 230,
    "start_time": "2022-10-11T16:46:41.421Z"
   },
   {
    "duration": 131,
    "start_time": "2022-10-11T16:48:53.448Z"
   },
   {
    "duration": 123,
    "start_time": "2022-10-11T16:49:00.014Z"
   },
   {
    "duration": 7,
    "start_time": "2022-10-12T09:42:55.563Z"
   },
   {
    "duration": 15,
    "start_time": "2022-10-12T09:43:59.267Z"
   },
   {
    "duration": 46,
    "start_time": "2022-10-12T09:43:59.283Z"
   },
   {
    "duration": 9,
    "start_time": "2022-10-12T09:43:59.330Z"
   },
   {
    "duration": 21,
    "start_time": "2022-10-12T09:43:59.340Z"
   },
   {
    "duration": 12,
    "start_time": "2022-10-12T09:43:59.362Z"
   },
   {
    "duration": 23,
    "start_time": "2022-10-12T09:43:59.376Z"
   },
   {
    "duration": 20,
    "start_time": "2022-10-12T09:43:59.400Z"
   },
   {
    "duration": 22,
    "start_time": "2022-10-12T09:43:59.421Z"
   },
   {
    "duration": 22,
    "start_time": "2022-10-12T09:43:59.444Z"
   },
   {
    "duration": 16,
    "start_time": "2022-10-12T09:43:59.468Z"
   },
   {
    "duration": 47,
    "start_time": "2022-10-12T09:43:59.486Z"
   },
   {
    "duration": 9,
    "start_time": "2022-10-12T09:43:59.534Z"
   },
   {
    "duration": 25,
    "start_time": "2022-10-12T09:43:59.544Z"
   },
   {
    "duration": 25,
    "start_time": "2022-10-12T09:43:59.570Z"
   },
   {
    "duration": 7,
    "start_time": "2022-10-12T09:43:59.596Z"
   },
   {
    "duration": 7,
    "start_time": "2022-10-12T09:43:59.605Z"
   },
   {
    "duration": 9,
    "start_time": "2022-10-12T09:43:59.613Z"
   },
   {
    "duration": 6,
    "start_time": "2022-10-12T09:43:59.628Z"
   },
   {
    "duration": 22,
    "start_time": "2022-10-12T09:43:59.636Z"
   },
   {
    "duration": 13,
    "start_time": "2022-10-12T09:43:59.660Z"
   },
   {
    "duration": 7,
    "start_time": "2022-10-12T09:43:59.674Z"
   },
   {
    "duration": 24,
    "start_time": "2022-10-12T09:43:59.682Z"
   },
   {
    "duration": 9,
    "start_time": "2022-10-12T09:43:59.708Z"
   },
   {
    "duration": 13,
    "start_time": "2022-10-12T09:43:59.719Z"
   },
   {
    "duration": 13,
    "start_time": "2022-10-12T09:43:59.734Z"
   },
   {
    "duration": 21,
    "start_time": "2022-10-12T09:43:59.748Z"
   },
   {
    "duration": 12,
    "start_time": "2022-10-12T09:43:59.771Z"
   },
   {
    "duration": 11,
    "start_time": "2022-10-12T09:43:59.784Z"
   },
   {
    "duration": 11,
    "start_time": "2022-10-12T09:43:59.797Z"
   },
   {
    "duration": 10,
    "start_time": "2022-10-12T09:43:59.809Z"
   },
   {
    "duration": 9,
    "start_time": "2022-10-12T09:43:59.820Z"
   },
   {
    "duration": 8,
    "start_time": "2022-10-12T09:43:59.831Z"
   },
   {
    "duration": 9,
    "start_time": "2022-10-12T09:43:59.840Z"
   },
   {
    "duration": 156,
    "start_time": "2022-10-12T09:43:59.851Z"
   },
   {
    "duration": 119,
    "start_time": "2022-10-12T09:44:00.009Z"
   },
   {
    "duration": 6,
    "start_time": "2022-10-12T09:44:00.129Z"
   },
   {
    "duration": 9,
    "start_time": "2022-10-12T09:44:00.136Z"
   },
   {
    "duration": 172,
    "start_time": "2022-10-12T09:44:00.147Z"
   },
   {
    "duration": 173,
    "start_time": "2022-10-12T09:44:00.321Z"
   },
   {
    "duration": 275,
    "start_time": "2022-10-12T09:44:00.496Z"
   },
   {
    "duration": 182,
    "start_time": "2022-10-12T09:44:00.773Z"
   },
   {
    "duration": 264,
    "start_time": "2022-10-12T09:44:00.956Z"
   },
   {
    "duration": 7,
    "start_time": "2022-10-12T09:44:01.221Z"
   },
   {
    "duration": 12,
    "start_time": "2022-10-12T09:44:01.229Z"
   },
   {
    "duration": 206,
    "start_time": "2022-10-12T09:44:01.242Z"
   },
   {
    "duration": 4,
    "start_time": "2022-10-12T09:44:01.449Z"
   },
   {
    "duration": 118,
    "start_time": "2022-10-12T09:44:01.455Z"
   },
   {
    "duration": 5,
    "start_time": "2022-10-12T09:44:01.574Z"
   },
   {
    "duration": 10,
    "start_time": "2022-10-12T09:44:01.581Z"
   },
   {
    "duration": 214,
    "start_time": "2022-10-12T09:44:01.593Z"
   },
   {
    "duration": 153,
    "start_time": "2022-10-12T09:44:01.809Z"
   },
   {
    "duration": 10,
    "start_time": "2022-10-12T09:44:01.964Z"
   },
   {
    "duration": 1579,
    "start_time": "2022-10-12T09:55:37.356Z"
   },
   {
    "duration": 1266,
    "start_time": "2022-10-12T09:56:21.147Z"
   },
   {
    "duration": 7,
    "start_time": "2022-10-12T09:56:41.787Z"
   },
   {
    "duration": 1332,
    "start_time": "2022-10-12T09:57:03.833Z"
   },
   {
    "duration": 1047,
    "start_time": "2022-10-12T09:57:14.439Z"
   },
   {
    "duration": 73,
    "start_time": "2022-10-12T09:57:15.487Z"
   },
   {
    "duration": 10,
    "start_time": "2022-10-12T09:57:15.561Z"
   },
   {
    "duration": 8,
    "start_time": "2022-10-12T09:57:15.573Z"
   },
   {
    "duration": 5,
    "start_time": "2022-10-12T09:57:15.582Z"
   },
   {
    "duration": 6,
    "start_time": "2022-10-12T09:57:15.589Z"
   },
   {
    "duration": 5,
    "start_time": "2022-10-12T09:57:15.606Z"
   },
   {
    "duration": 12,
    "start_time": "2022-10-12T09:57:15.612Z"
   },
   {
    "duration": 8,
    "start_time": "2022-10-12T09:57:15.626Z"
   },
   {
    "duration": 11,
    "start_time": "2022-10-12T09:57:15.636Z"
   },
   {
    "duration": 45,
    "start_time": "2022-10-12T09:57:15.649Z"
   },
   {
    "duration": 9,
    "start_time": "2022-10-12T09:57:15.695Z"
   },
   {
    "duration": 15,
    "start_time": "2022-10-12T09:57:15.705Z"
   },
   {
    "duration": 11,
    "start_time": "2022-10-12T09:57:15.721Z"
   },
   {
    "duration": 3,
    "start_time": "2022-10-12T09:57:15.733Z"
   },
   {
    "duration": 8,
    "start_time": "2022-10-12T09:57:15.737Z"
   },
   {
    "duration": 7,
    "start_time": "2022-10-12T09:57:15.746Z"
   },
   {
    "duration": 7,
    "start_time": "2022-10-12T09:57:15.754Z"
   },
   {
    "duration": 17,
    "start_time": "2022-10-12T09:57:15.762Z"
   },
   {
    "duration": 8,
    "start_time": "2022-10-12T09:57:15.781Z"
   },
   {
    "duration": 17,
    "start_time": "2022-10-12T09:57:15.790Z"
   },
   {
    "duration": 11,
    "start_time": "2022-10-12T09:57:15.808Z"
   },
   {
    "duration": 7,
    "start_time": "2022-10-12T09:57:15.820Z"
   },
   {
    "duration": 11,
    "start_time": "2022-10-12T09:57:15.828Z"
   },
   {
    "duration": 19,
    "start_time": "2022-10-12T09:57:15.840Z"
   },
   {
    "duration": 13,
    "start_time": "2022-10-12T09:57:15.861Z"
   },
   {
    "duration": 5,
    "start_time": "2022-10-12T09:57:15.875Z"
   },
   {
    "duration": 5,
    "start_time": "2022-10-12T09:57:15.882Z"
   },
   {
    "duration": 9,
    "start_time": "2022-10-12T09:57:15.888Z"
   },
   {
    "duration": 8,
    "start_time": "2022-10-12T09:57:15.899Z"
   },
   {
    "duration": 8,
    "start_time": "2022-10-12T09:57:15.908Z"
   },
   {
    "duration": 8,
    "start_time": "2022-10-12T09:57:15.917Z"
   },
   {
    "duration": 4,
    "start_time": "2022-10-12T09:57:15.926Z"
   },
   {
    "duration": 159,
    "start_time": "2022-10-12T09:57:15.932Z"
   },
   {
    "duration": 119,
    "start_time": "2022-10-12T09:57:16.093Z"
   },
   {
    "duration": 7,
    "start_time": "2022-10-12T09:57:16.214Z"
   },
   {
    "duration": 17,
    "start_time": "2022-10-12T09:57:16.223Z"
   },
   {
    "duration": 220,
    "start_time": "2022-10-12T09:57:16.241Z"
   },
   {
    "duration": 150,
    "start_time": "2022-10-12T09:57:16.463Z"
   },
   {
    "duration": 243,
    "start_time": "2022-10-12T09:57:16.615Z"
   },
   {
    "duration": 163,
    "start_time": "2022-10-12T09:57:16.859Z"
   },
   {
    "duration": 266,
    "start_time": "2022-10-12T09:57:17.023Z"
   },
   {
    "duration": 14,
    "start_time": "2022-10-12T09:57:17.291Z"
   },
   {
    "duration": 4,
    "start_time": "2022-10-12T09:57:17.307Z"
   },
   {
    "duration": 144,
    "start_time": "2022-10-12T09:57:17.313Z"
   },
   {
    "duration": 4,
    "start_time": "2022-10-12T09:57:17.459Z"
   },
   {
    "duration": 120,
    "start_time": "2022-10-12T09:57:17.464Z"
   },
   {
    "duration": 5,
    "start_time": "2022-10-12T09:57:17.586Z"
   },
   {
    "duration": 27,
    "start_time": "2022-10-12T09:57:17.606Z"
   },
   {
    "duration": 194,
    "start_time": "2022-10-12T09:57:17.635Z"
   },
   {
    "duration": 149,
    "start_time": "2022-10-12T09:57:17.830Z"
   },
   {
    "duration": 24,
    "start_time": "2022-10-12T09:57:17.981Z"
   },
   {
    "duration": 1520,
    "start_time": "2022-10-12T09:57:18.008Z"
   },
   {
    "duration": 1645,
    "start_time": "2022-10-12T09:57:57.515Z"
   },
   {
    "duration": 7,
    "start_time": "2022-10-12T09:58:04.958Z"
   },
   {
    "duration": 9,
    "start_time": "2022-10-12T09:58:30.329Z"
   },
   {
    "duration": 1279,
    "start_time": "2022-10-12T09:58:46.699Z"
   },
   {
    "duration": 12,
    "start_time": "2022-10-12T09:59:15.157Z"
   },
   {
    "duration": 8,
    "start_time": "2022-10-12T09:59:21.413Z"
   },
   {
    "duration": 8,
    "start_time": "2022-10-12T10:00:49.486Z"
   },
   {
    "duration": 20,
    "start_time": "2022-10-12T10:01:00.746Z"
   },
   {
    "duration": 12,
    "start_time": "2022-10-12T10:02:58.496Z"
   },
   {
    "duration": 1334,
    "start_time": "2022-10-12T10:35:10.220Z"
   },
   {
    "duration": 86,
    "start_time": "2022-10-12T10:35:11.555Z"
   },
   {
    "duration": 10,
    "start_time": "2022-10-12T10:35:11.643Z"
   },
   {
    "duration": 14,
    "start_time": "2022-10-12T10:35:11.656Z"
   },
   {
    "duration": 7,
    "start_time": "2022-10-12T10:35:11.672Z"
   },
   {
    "duration": 7,
    "start_time": "2022-10-12T10:35:11.680Z"
   },
   {
    "duration": 9,
    "start_time": "2022-10-12T10:35:11.689Z"
   },
   {
    "duration": 24,
    "start_time": "2022-10-12T10:35:11.699Z"
   },
   {
    "duration": 9,
    "start_time": "2022-10-12T10:35:11.724Z"
   },
   {
    "duration": 9,
    "start_time": "2022-10-12T10:35:11.736Z"
   },
   {
    "duration": 45,
    "start_time": "2022-10-12T10:35:11.746Z"
   },
   {
    "duration": 10,
    "start_time": "2022-10-12T10:35:11.792Z"
   },
   {
    "duration": 14,
    "start_time": "2022-10-12T10:35:11.804Z"
   },
   {
    "duration": 13,
    "start_time": "2022-10-12T10:35:11.820Z"
   },
   {
    "duration": 5,
    "start_time": "2022-10-12T10:35:11.834Z"
   },
   {
    "duration": 8,
    "start_time": "2022-10-12T10:35:11.840Z"
   },
   {
    "duration": 9,
    "start_time": "2022-10-12T10:35:11.849Z"
   },
   {
    "duration": 6,
    "start_time": "2022-10-12T10:35:11.859Z"
   },
   {
    "duration": 29,
    "start_time": "2022-10-12T10:35:11.867Z"
   },
   {
    "duration": 8,
    "start_time": "2022-10-12T10:35:11.898Z"
   },
   {
    "duration": 8,
    "start_time": "2022-10-12T10:35:11.907Z"
   },
   {
    "duration": 15,
    "start_time": "2022-10-12T10:35:11.916Z"
   },
   {
    "duration": 7,
    "start_time": "2022-10-12T10:35:11.933Z"
   },
   {
    "duration": 6,
    "start_time": "2022-10-12T10:35:11.941Z"
   },
   {
    "duration": 7,
    "start_time": "2022-10-12T10:35:11.948Z"
   },
   {
    "duration": 13,
    "start_time": "2022-10-12T10:35:11.956Z"
   },
   {
    "duration": 15,
    "start_time": "2022-10-12T10:35:11.970Z"
   },
   {
    "duration": 8,
    "start_time": "2022-10-12T10:35:11.988Z"
   },
   {
    "duration": 10,
    "start_time": "2022-10-12T10:35:11.998Z"
   },
   {
    "duration": 12,
    "start_time": "2022-10-12T10:35:12.009Z"
   },
   {
    "duration": 5,
    "start_time": "2022-10-12T10:35:12.023Z"
   },
   {
    "duration": 10,
    "start_time": "2022-10-12T10:35:12.030Z"
   },
   {
    "duration": 8,
    "start_time": "2022-10-12T10:35:12.041Z"
   },
   {
    "duration": 166,
    "start_time": "2022-10-12T10:35:12.050Z"
   },
   {
    "duration": 121,
    "start_time": "2022-10-12T10:35:12.218Z"
   },
   {
    "duration": 7,
    "start_time": "2022-10-12T10:35:12.340Z"
   },
   {
    "duration": 10,
    "start_time": "2022-10-12T10:35:12.348Z"
   },
   {
    "duration": 245,
    "start_time": "2022-10-12T10:35:12.359Z"
   },
   {
    "duration": 168,
    "start_time": "2022-10-12T10:35:12.606Z"
   },
   {
    "duration": 227,
    "start_time": "2022-10-12T10:35:12.775Z"
   },
   {
    "duration": 169,
    "start_time": "2022-10-12T10:35:13.032Z"
   },
   {
    "duration": 323,
    "start_time": "2022-10-12T10:35:13.203Z"
   },
   {
    "duration": 6,
    "start_time": "2022-10-12T10:35:13.528Z"
   },
   {
    "duration": 6,
    "start_time": "2022-10-12T10:35:13.535Z"
   },
   {
    "duration": 134,
    "start_time": "2022-10-12T10:35:13.542Z"
   },
   {
    "duration": 4,
    "start_time": "2022-10-12T10:35:13.678Z"
   },
   {
    "duration": 115,
    "start_time": "2022-10-12T10:35:13.684Z"
   },
   {
    "duration": 6,
    "start_time": "2022-10-12T10:35:13.801Z"
   },
   {
    "duration": 5,
    "start_time": "2022-10-12T10:35:13.822Z"
   },
   {
    "duration": 203,
    "start_time": "2022-10-12T10:35:13.828Z"
   },
   {
    "duration": 139,
    "start_time": "2022-10-12T10:35:14.033Z"
   },
   {
    "duration": 9,
    "start_time": "2022-10-12T10:35:14.173Z"
   },
   {
    "duration": 10,
    "start_time": "2022-10-12T10:35:14.184Z"
   },
   {
    "duration": 9,
    "start_time": "2022-10-12T10:35:14.195Z"
   },
   {
    "duration": 32,
    "start_time": "2022-10-12T10:35:14.205Z"
   },
   {
    "duration": 12,
    "start_time": "2022-10-12T10:35:14.238Z"
   },
   {
    "duration": 1315,
    "start_time": "2022-10-12T15:30:02.252Z"
   },
   {
    "duration": 139,
    "start_time": "2022-10-12T15:30:03.569Z"
   },
   {
    "duration": 10,
    "start_time": "2022-10-12T15:30:03.709Z"
   },
   {
    "duration": 15,
    "start_time": "2022-10-12T15:30:03.721Z"
   },
   {
    "duration": 15,
    "start_time": "2022-10-12T15:30:03.738Z"
   },
   {
    "duration": 11,
    "start_time": "2022-10-12T15:30:03.755Z"
   },
   {
    "duration": 7,
    "start_time": "2022-10-12T15:30:03.767Z"
   },
   {
    "duration": 11,
    "start_time": "2022-10-12T15:30:03.776Z"
   },
   {
    "duration": 8,
    "start_time": "2022-10-12T15:30:03.789Z"
   },
   {
    "duration": 7,
    "start_time": "2022-10-12T15:30:03.799Z"
   },
   {
    "duration": 102,
    "start_time": "2022-10-12T15:30:03.808Z"
   },
   {
    "duration": 11,
    "start_time": "2022-10-12T15:30:03.911Z"
   },
   {
    "duration": 17,
    "start_time": "2022-10-12T15:30:03.923Z"
   },
   {
    "duration": 15,
    "start_time": "2022-10-12T15:30:03.941Z"
   },
   {
    "duration": 9,
    "start_time": "2022-10-12T15:30:03.958Z"
   },
   {
    "duration": 9,
    "start_time": "2022-10-12T15:30:03.968Z"
   },
   {
    "duration": 7,
    "start_time": "2022-10-12T15:30:03.978Z"
   },
   {
    "duration": 7,
    "start_time": "2022-10-12T15:30:03.986Z"
   },
   {
    "duration": 77,
    "start_time": "2022-10-12T15:30:03.994Z"
   },
   {
    "duration": 9,
    "start_time": "2022-10-12T15:30:04.072Z"
   },
   {
    "duration": 6,
    "start_time": "2022-10-12T15:30:04.083Z"
   },
   {
    "duration": 11,
    "start_time": "2022-10-12T15:30:04.090Z"
   },
   {
    "duration": 8,
    "start_time": "2022-10-12T15:30:04.102Z"
   },
   {
    "duration": 8,
    "start_time": "2022-10-12T15:30:04.112Z"
   },
   {
    "duration": 10,
    "start_time": "2022-10-12T15:30:04.121Z"
   },
   {
    "duration": 13,
    "start_time": "2022-10-12T15:30:04.133Z"
   },
   {
    "duration": 5,
    "start_time": "2022-10-12T15:30:04.147Z"
   },
   {
    "duration": 5,
    "start_time": "2022-10-12T15:30:04.155Z"
   },
   {
    "duration": 10,
    "start_time": "2022-10-12T15:30:04.162Z"
   },
   {
    "duration": 7,
    "start_time": "2022-10-12T15:30:04.173Z"
   },
   {
    "duration": 26,
    "start_time": "2022-10-12T15:30:04.182Z"
   },
   {
    "duration": 14,
    "start_time": "2022-10-12T15:30:04.209Z"
   },
   {
    "duration": 7,
    "start_time": "2022-10-12T15:30:04.224Z"
   },
   {
    "duration": 150,
    "start_time": "2022-10-12T15:30:04.232Z"
   },
   {
    "duration": 126,
    "start_time": "2022-10-12T15:30:04.383Z"
   },
   {
    "duration": 6,
    "start_time": "2022-10-12T15:30:04.511Z"
   },
   {
    "duration": 15,
    "start_time": "2022-10-12T15:30:04.518Z"
   },
   {
    "duration": 220,
    "start_time": "2022-10-12T15:30:04.535Z"
   },
   {
    "duration": 157,
    "start_time": "2022-10-12T15:30:04.756Z"
   },
   {
    "duration": 272,
    "start_time": "2022-10-12T15:30:04.915Z"
   },
   {
    "duration": 173,
    "start_time": "2022-10-12T15:30:05.189Z"
   },
   {
    "duration": 276,
    "start_time": "2022-10-12T15:30:05.364Z"
   },
   {
    "duration": 7,
    "start_time": "2022-10-12T15:30:05.641Z"
   },
   {
    "duration": 11,
    "start_time": "2022-10-12T15:30:05.649Z"
   },
   {
    "duration": 125,
    "start_time": "2022-10-12T15:30:05.661Z"
   },
   {
    "duration": 5,
    "start_time": "2022-10-12T15:30:05.788Z"
   },
   {
    "duration": 112,
    "start_time": "2022-10-12T15:30:05.804Z"
   },
   {
    "duration": 6,
    "start_time": "2022-10-12T15:30:05.917Z"
   },
   {
    "duration": 10,
    "start_time": "2022-10-12T15:30:05.924Z"
   },
   {
    "duration": 220,
    "start_time": "2022-10-12T15:30:05.935Z"
   },
   {
    "duration": 162,
    "start_time": "2022-10-12T15:30:06.156Z"
   },
   {
    "duration": 9,
    "start_time": "2022-10-12T15:30:06.320Z"
   },
   {
    "duration": 8,
    "start_time": "2022-10-12T15:30:06.330Z"
   },
   {
    "duration": 9,
    "start_time": "2022-10-12T15:30:06.339Z"
   },
   {
    "duration": 22,
    "start_time": "2022-10-12T15:30:06.349Z"
   },
   {
    "duration": 35,
    "start_time": "2022-10-12T15:30:06.373Z"
   },
   {
    "duration": 6,
    "start_time": "2022-10-12T15:38:15.780Z"
   },
   {
    "duration": 6,
    "start_time": "2022-10-12T15:38:25.204Z"
   },
   {
    "duration": 7,
    "start_time": "2022-10-12T15:41:42.695Z"
   },
   {
    "duration": 7,
    "start_time": "2022-10-12T15:41:54.966Z"
   },
   {
    "duration": 82,
    "start_time": "2022-10-12T15:45:51.162Z"
   },
   {
    "duration": 52,
    "start_time": "2022-10-13T04:48:03.958Z"
   },
   {
    "duration": 1153,
    "start_time": "2022-10-13T04:48:15.363Z"
   },
   {
    "duration": 87,
    "start_time": "2022-10-13T04:48:16.518Z"
   },
   {
    "duration": 9,
    "start_time": "2022-10-13T04:48:16.607Z"
   },
   {
    "duration": 15,
    "start_time": "2022-10-13T04:48:16.617Z"
   },
   {
    "duration": 5,
    "start_time": "2022-10-13T04:48:16.635Z"
   },
   {
    "duration": 6,
    "start_time": "2022-10-13T04:48:16.641Z"
   },
   {
    "duration": 8,
    "start_time": "2022-10-13T04:48:16.649Z"
   },
   {
    "duration": 7,
    "start_time": "2022-10-13T04:48:16.658Z"
   },
   {
    "duration": 6,
    "start_time": "2022-10-13T04:48:16.666Z"
   },
   {
    "duration": 36,
    "start_time": "2022-10-13T04:48:16.673Z"
   },
   {
    "duration": 42,
    "start_time": "2022-10-13T04:48:16.711Z"
   },
   {
    "duration": 10,
    "start_time": "2022-10-13T04:48:16.754Z"
   },
   {
    "duration": 15,
    "start_time": "2022-10-13T04:48:16.765Z"
   },
   {
    "duration": 17,
    "start_time": "2022-10-13T04:48:16.782Z"
   },
   {
    "duration": 6,
    "start_time": "2022-10-13T04:48:16.800Z"
   },
   {
    "duration": 7,
    "start_time": "2022-10-13T04:48:16.807Z"
   },
   {
    "duration": 8,
    "start_time": "2022-10-13T04:48:16.815Z"
   },
   {
    "duration": 9,
    "start_time": "2022-10-13T04:48:16.824Z"
   },
   {
    "duration": 37,
    "start_time": "2022-10-13T04:48:16.834Z"
   },
   {
    "duration": 9,
    "start_time": "2022-10-13T04:48:16.872Z"
   },
   {
    "duration": 5,
    "start_time": "2022-10-13T04:48:16.883Z"
   },
   {
    "duration": 14,
    "start_time": "2022-10-13T04:48:16.890Z"
   },
   {
    "duration": 6,
    "start_time": "2022-10-13T04:48:16.905Z"
   },
   {
    "duration": 7,
    "start_time": "2022-10-13T04:48:16.912Z"
   },
   {
    "duration": 7,
    "start_time": "2022-10-13T04:48:16.921Z"
   },
   {
    "duration": 20,
    "start_time": "2022-10-13T04:48:16.929Z"
   },
   {
    "duration": 4,
    "start_time": "2022-10-13T04:48:16.951Z"
   },
   {
    "duration": 6,
    "start_time": "2022-10-13T04:48:16.957Z"
   },
   {
    "duration": 9,
    "start_time": "2022-10-13T04:48:16.965Z"
   },
   {
    "duration": 4,
    "start_time": "2022-10-13T04:48:16.975Z"
   },
   {
    "duration": 28,
    "start_time": "2022-10-13T04:48:16.981Z"
   },
   {
    "duration": 7,
    "start_time": "2022-10-13T04:48:17.010Z"
   },
   {
    "duration": 4,
    "start_time": "2022-10-13T04:48:17.019Z"
   },
   {
    "duration": 160,
    "start_time": "2022-10-13T04:48:17.024Z"
   },
   {
    "duration": 123,
    "start_time": "2022-10-13T04:48:17.186Z"
   },
   {
    "duration": 6,
    "start_time": "2022-10-13T04:48:17.310Z"
   },
   {
    "duration": 8,
    "start_time": "2022-10-13T04:48:17.318Z"
   },
   {
    "duration": 242,
    "start_time": "2022-10-13T04:48:17.327Z"
   },
   {
    "duration": 160,
    "start_time": "2022-10-13T04:48:17.571Z"
   },
   {
    "duration": 267,
    "start_time": "2022-10-13T04:48:17.733Z"
   },
   {
    "duration": 159,
    "start_time": "2022-10-13T04:48:18.009Z"
   },
   {
    "duration": 275,
    "start_time": "2022-10-13T04:48:18.170Z"
   },
   {
    "duration": 6,
    "start_time": "2022-10-13T04:48:18.447Z"
   },
   {
    "duration": 6,
    "start_time": "2022-10-13T04:48:18.454Z"
   },
   {
    "duration": 132,
    "start_time": "2022-10-13T04:48:18.462Z"
   },
   {
    "duration": 3,
    "start_time": "2022-10-13T04:48:18.596Z"
   },
   {
    "duration": 118,
    "start_time": "2022-10-13T04:48:18.600Z"
   },
   {
    "duration": 5,
    "start_time": "2022-10-13T04:48:18.720Z"
   },
   {
    "duration": 4,
    "start_time": "2022-10-13T04:48:18.726Z"
   },
   {
    "duration": 211,
    "start_time": "2022-10-13T04:48:18.732Z"
   },
   {
    "duration": 148,
    "start_time": "2022-10-13T04:48:18.944Z"
   },
   {
    "duration": 16,
    "start_time": "2022-10-13T04:48:19.093Z"
   },
   {
    "duration": 8,
    "start_time": "2022-10-13T04:48:19.111Z"
   },
   {
    "duration": 10,
    "start_time": "2022-10-13T04:48:19.120Z"
   },
   {
    "duration": 21,
    "start_time": "2022-10-13T04:48:19.131Z"
   },
   {
    "duration": 12,
    "start_time": "2022-10-13T04:48:19.153Z"
   },
   {
    "duration": 168,
    "start_time": "2022-10-13T04:51:02.233Z"
   },
   {
    "duration": 212,
    "start_time": "2022-10-13T04:52:46.640Z"
   },
   {
    "duration": 170,
    "start_time": "2022-10-13T04:53:07.307Z"
   },
   {
    "duration": 166,
    "start_time": "2022-10-13T04:53:31.897Z"
   },
   {
    "duration": 276,
    "start_time": "2022-10-13T04:53:54.263Z"
   },
   {
    "duration": 177,
    "start_time": "2022-10-13T04:54:16.120Z"
   },
   {
    "duration": 158,
    "start_time": "2022-10-13T04:54:29.739Z"
   },
   {
    "duration": 129,
    "start_time": "2022-10-13T04:54:50.134Z"
   },
   {
    "duration": 169,
    "start_time": "2022-10-13T04:54:56.139Z"
   },
   {
    "duration": 207,
    "start_time": "2022-10-13T05:02:27.536Z"
   },
   {
    "duration": 213,
    "start_time": "2022-10-13T05:02:36.512Z"
   },
   {
    "duration": 208,
    "start_time": "2022-10-13T05:02:47.733Z"
   },
   {
    "duration": 281,
    "start_time": "2022-10-13T05:03:00.428Z"
   },
   {
    "duration": 204,
    "start_time": "2022-10-13T05:04:35.144Z"
   },
   {
    "duration": 204,
    "start_time": "2022-10-13T05:04:53.105Z"
   },
   {
    "duration": 214,
    "start_time": "2022-10-13T05:05:13.223Z"
   },
   {
    "duration": 285,
    "start_time": "2022-10-13T05:06:14.126Z"
   },
   {
    "duration": 280,
    "start_time": "2022-10-13T05:06:30.374Z"
   },
   {
    "duration": 181,
    "start_time": "2022-10-13T05:06:42.832Z"
   },
   {
    "duration": 42,
    "start_time": "2022-10-13T05:07:23.447Z"
   },
   {
    "duration": 207,
    "start_time": "2022-10-13T05:07:29.092Z"
   },
   {
    "duration": 303,
    "start_time": "2022-10-13T05:08:53.915Z"
   },
   {
    "duration": 332,
    "start_time": "2022-10-13T05:09:06.894Z"
   },
   {
    "duration": 323,
    "start_time": "2022-10-13T05:09:18.576Z"
   },
   {
    "duration": 58,
    "start_time": "2022-10-13T05:10:25.906Z"
   },
   {
    "duration": 192,
    "start_time": "2022-10-13T05:12:36.594Z"
   },
   {
    "duration": 141,
    "start_time": "2022-10-13T05:13:53.734Z"
   },
   {
    "duration": 148,
    "start_time": "2022-10-13T05:13:58.339Z"
   },
   {
    "duration": 135,
    "start_time": "2022-10-13T05:16:36.997Z"
   },
   {
    "duration": 124,
    "start_time": "2022-10-13T05:28:13.810Z"
   },
   {
    "duration": 130,
    "start_time": "2022-10-13T05:29:05.369Z"
   },
   {
    "duration": 135,
    "start_time": "2022-10-13T05:30:45.838Z"
   },
   {
    "duration": 142,
    "start_time": "2022-10-13T05:31:35.140Z"
   },
   {
    "duration": 10,
    "start_time": "2022-10-13T05:32:32.570Z"
   },
   {
    "duration": 142,
    "start_time": "2022-10-13T05:32:57.602Z"
   },
   {
    "duration": 10,
    "start_time": "2022-10-13T05:33:06.387Z"
   },
   {
    "duration": 21,
    "start_time": "2022-10-13T05:33:41.431Z"
   },
   {
    "duration": 23,
    "start_time": "2022-10-13T05:34:29.307Z"
   },
   {
    "duration": 14,
    "start_time": "2022-10-13T05:43:55.163Z"
   },
   {
    "duration": 129,
    "start_time": "2022-10-13T12:28:33.896Z"
   }
  ],
  "kernelspec": {
   "display_name": "Python 3 (ipykernel)",
   "language": "python",
   "name": "python3"
  },
  "language_info": {
   "codemirror_mode": {
    "name": "ipython",
    "version": 3
   },
   "file_extension": ".py",
   "mimetype": "text/x-python",
   "name": "python",
   "nbconvert_exporter": "python",
   "pygments_lexer": "ipython3",
   "version": "3.9.12"
  },
  "toc": {
   "base_numbering": 1,
   "nav_menu": {},
   "number_sections": true,
   "sideBar": true,
   "skip_h1_title": true,
   "title_cell": "Table of Contents",
   "title_sidebar": "Contents",
   "toc_cell": false,
   "toc_position": {},
   "toc_section_display": true,
   "toc_window_display": false
  },
  "widgets": {
   "application/vnd.jupyter.widget-state+json": {
    "state": {},
    "version_major": 2,
    "version_minor": 0
   }
  }
 },
 "nbformat": 4,
 "nbformat_minor": 2
}
