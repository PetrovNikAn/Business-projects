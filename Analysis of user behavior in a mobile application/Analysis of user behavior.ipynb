{
 "cells": [
  {
   "cell_type": "markdown",
   "metadata": {},
   "source": [
    "# Проект по изучению воронки продаж и исследованию результатов А/А/В-эксперимента (изменение шрифтов в приложении)"
   ]
  },
  {
   "cell_type": "markdown",
   "metadata": {},
   "source": [
    "## Цели проекта:"
   ]
  },
  {
   "cell_type": "markdown",
   "metadata": {},
   "source": [
    "- Определить долю пользователей, доходящих от первого события до оплаты;\n",
    "- По данным воронки событий выяснить, какая доля пользователей проходит на следующий шаг воронки;\n",
    "- Определить наиболее популярное событие и долю пользователей, совершивших это событие;\n",
    "- Выяснить какой шрифт является лучшим."
   ]
  },
  {
   "cell_type": "markdown",
   "metadata": {},
   "source": [
    "## Задачи проекта:"
   ]
  },
  {
   "cell_type": "markdown",
   "metadata": {},
   "source": [
    "- Подготовить данные для анализа, провести их предобработку;\n",
    "- Изучить воронку событий:\n",
    "\n",
    "**а)** определить какие события есть в логах, как часто они встречаются;\n",
    "\n",
    "**б)** посчитать, сколько пользователей совершали каждое из этих событий;\n",
    "\n",
    "**в)** выяснить порядок осуществления события;\n",
    "\n",
    "**г)** зафиксировать долю пользователей, проходящих на следующий шаг воронки;\n",
    "\n",
    "**д)** определить долю потерь пользователей при переходе по шагам;\n",
    "\n",
    "**е)** выяснить долю пользователей, остающихся до оплаты.\n",
    "\n",
    "- Изучить результаты эксперимента:\n",
    "\n",
    "**а)** определить количество пользователей в каждой из групп;\n",
    "\n",
    "**б)** выяснить, какое из событий является наиболее популярным и определить долю пользователей, совершивгих это событие в каждой из групп;\n",
    "\n",
    "**в)** аналогично пунтку б) провести исследование по измененинию шрифта в приложении."
   ]
  },
  {
   "cell_type": "markdown",
   "metadata": {},
   "source": [
    "# Предобработка данных"
   ]
  },
  {
   "cell_type": "markdown",
   "metadata": {},
   "source": [
    "**в самом начале проекта загрузим все необходимые для дальнейшей работы библиотеки**"
   ]
  },
  {
   "cell_type": "code",
   "execution_count": 1,
   "metadata": {},
   "outputs": [],
   "source": [
    "import pandas as pd\n",
    "import scipy.stats as st\n",
    "import seaborn as sns\n",
    "import datetime as dt\n",
    "import numpy as np\n",
    "import matplotlib.pyplot as plt\n",
    "import math as mth"
   ]
  },
  {
   "cell_type": "markdown",
   "metadata": {},
   "source": [
    "загрузим данные"
   ]
  },
  {
   "cell_type": "code",
   "execution_count": 3,
   "metadata": {},
   "outputs": [
    {
     "data": {
      "text/html": [
       "<div>\n",
       "<style scoped>\n",
       "    .dataframe tbody tr th:only-of-type {\n",
       "        vertical-align: middle;\n",
       "    }\n",
       "\n",
       "    .dataframe tbody tr th {\n",
       "        vertical-align: top;\n",
       "    }\n",
       "\n",
       "    .dataframe thead th {\n",
       "        text-align: right;\n",
       "    }\n",
       "</style>\n",
       "<table border=\"1\" class=\"dataframe\">\n",
       "  <thead>\n",
       "    <tr style=\"text-align: right;\">\n",
       "      <th></th>\n",
       "      <th>EventName</th>\n",
       "      <th>DeviceIDHash</th>\n",
       "      <th>EventTimestamp</th>\n",
       "      <th>ExpId</th>\n",
       "    </tr>\n",
       "  </thead>\n",
       "  <tbody>\n",
       "    <tr>\n",
       "      <th>0</th>\n",
       "      <td>MainScreenAppear</td>\n",
       "      <td>4575588528974610257</td>\n",
       "      <td>1564029816</td>\n",
       "      <td>246</td>\n",
       "    </tr>\n",
       "    <tr>\n",
       "      <th>1</th>\n",
       "      <td>MainScreenAppear</td>\n",
       "      <td>7416695313311560658</td>\n",
       "      <td>1564053102</td>\n",
       "      <td>246</td>\n",
       "    </tr>\n",
       "    <tr>\n",
       "      <th>2</th>\n",
       "      <td>PaymentScreenSuccessful</td>\n",
       "      <td>3518123091307005509</td>\n",
       "      <td>1564054127</td>\n",
       "      <td>248</td>\n",
       "    </tr>\n",
       "    <tr>\n",
       "      <th>3</th>\n",
       "      <td>CartScreenAppear</td>\n",
       "      <td>3518123091307005509</td>\n",
       "      <td>1564054127</td>\n",
       "      <td>248</td>\n",
       "    </tr>\n",
       "    <tr>\n",
       "      <th>4</th>\n",
       "      <td>PaymentScreenSuccessful</td>\n",
       "      <td>6217807653094995999</td>\n",
       "      <td>1564055322</td>\n",
       "      <td>248</td>\n",
       "    </tr>\n",
       "    <tr>\n",
       "      <th>...</th>\n",
       "      <td>...</td>\n",
       "      <td>...</td>\n",
       "      <td>...</td>\n",
       "      <td>...</td>\n",
       "    </tr>\n",
       "    <tr>\n",
       "      <th>244121</th>\n",
       "      <td>MainScreenAppear</td>\n",
       "      <td>4599628364049201812</td>\n",
       "      <td>1565212345</td>\n",
       "      <td>247</td>\n",
       "    </tr>\n",
       "    <tr>\n",
       "      <th>244122</th>\n",
       "      <td>MainScreenAppear</td>\n",
       "      <td>5849806612437486590</td>\n",
       "      <td>1565212439</td>\n",
       "      <td>246</td>\n",
       "    </tr>\n",
       "    <tr>\n",
       "      <th>244123</th>\n",
       "      <td>MainScreenAppear</td>\n",
       "      <td>5746969938801999050</td>\n",
       "      <td>1565212483</td>\n",
       "      <td>246</td>\n",
       "    </tr>\n",
       "    <tr>\n",
       "      <th>244124</th>\n",
       "      <td>MainScreenAppear</td>\n",
       "      <td>5746969938801999050</td>\n",
       "      <td>1565212498</td>\n",
       "      <td>246</td>\n",
       "    </tr>\n",
       "    <tr>\n",
       "      <th>244125</th>\n",
       "      <td>OffersScreenAppear</td>\n",
       "      <td>5746969938801999050</td>\n",
       "      <td>1565212517</td>\n",
       "      <td>246</td>\n",
       "    </tr>\n",
       "  </tbody>\n",
       "</table>\n",
       "<p>244126 rows × 4 columns</p>\n",
       "</div>"
      ],
      "text/plain": [
       "                      EventName         DeviceIDHash  EventTimestamp  ExpId\n",
       "0              MainScreenAppear  4575588528974610257      1564029816    246\n",
       "1              MainScreenAppear  7416695313311560658      1564053102    246\n",
       "2       PaymentScreenSuccessful  3518123091307005509      1564054127    248\n",
       "3              CartScreenAppear  3518123091307005509      1564054127    248\n",
       "4       PaymentScreenSuccessful  6217807653094995999      1564055322    248\n",
       "...                         ...                  ...             ...    ...\n",
       "244121         MainScreenAppear  4599628364049201812      1565212345    247\n",
       "244122         MainScreenAppear  5849806612437486590      1565212439    246\n",
       "244123         MainScreenAppear  5746969938801999050      1565212483    246\n",
       "244124         MainScreenAppear  5746969938801999050      1565212498    246\n",
       "244125       OffersScreenAppear  5746969938801999050      1565212517    246\n",
       "\n",
       "[244126 rows x 4 columns]"
      ]
     },
     "execution_count": 3,
     "metadata": {},
     "output_type": "execute_result"
    }
   ],
   "source": [
    "#data = pd.read_csv(\"C:\\\\Users\\\\petro\\\\Downloads\\\\logs_exp.csv\",  sep='\\t')\n",
    "data = pd.read_csv(\"/datasets/logs_exp.csv\",  sep='\\t')\n",
    "data"
   ]
  },
  {
   "cell_type": "markdown",
   "metadata": {},
   "source": [
    "изучаем данные"
   ]
  },
  {
   "cell_type": "code",
   "execution_count": 4,
   "metadata": {},
   "outputs": [
    {
     "data": {
      "text/html": [
       "<div>\n",
       "<style scoped>\n",
       "    .dataframe tbody tr th:only-of-type {\n",
       "        vertical-align: middle;\n",
       "    }\n",
       "\n",
       "    .dataframe tbody tr th {\n",
       "        vertical-align: top;\n",
       "    }\n",
       "\n",
       "    .dataframe thead th {\n",
       "        text-align: right;\n",
       "    }\n",
       "</style>\n",
       "<table border=\"1\" class=\"dataframe\">\n",
       "  <thead>\n",
       "    <tr style=\"text-align: right;\">\n",
       "      <th></th>\n",
       "      <th>EventName</th>\n",
       "      <th>DeviceIDHash</th>\n",
       "      <th>EventTimestamp</th>\n",
       "      <th>ExpId</th>\n",
       "    </tr>\n",
       "  </thead>\n",
       "  <tbody>\n",
       "    <tr>\n",
       "      <th>0</th>\n",
       "      <td>MainScreenAppear</td>\n",
       "      <td>4575588528974610257</td>\n",
       "      <td>1564029816</td>\n",
       "      <td>246</td>\n",
       "    </tr>\n",
       "    <tr>\n",
       "      <th>1</th>\n",
       "      <td>MainScreenAppear</td>\n",
       "      <td>7416695313311560658</td>\n",
       "      <td>1564053102</td>\n",
       "      <td>246</td>\n",
       "    </tr>\n",
       "    <tr>\n",
       "      <th>2</th>\n",
       "      <td>PaymentScreenSuccessful</td>\n",
       "      <td>3518123091307005509</td>\n",
       "      <td>1564054127</td>\n",
       "      <td>248</td>\n",
       "    </tr>\n",
       "    <tr>\n",
       "      <th>3</th>\n",
       "      <td>CartScreenAppear</td>\n",
       "      <td>3518123091307005509</td>\n",
       "      <td>1564054127</td>\n",
       "      <td>248</td>\n",
       "    </tr>\n",
       "    <tr>\n",
       "      <th>4</th>\n",
       "      <td>PaymentScreenSuccessful</td>\n",
       "      <td>6217807653094995999</td>\n",
       "      <td>1564055322</td>\n",
       "      <td>248</td>\n",
       "    </tr>\n",
       "  </tbody>\n",
       "</table>\n",
       "</div>"
      ],
      "text/plain": [
       "                 EventName         DeviceIDHash  EventTimestamp  ExpId\n",
       "0         MainScreenAppear  4575588528974610257      1564029816    246\n",
       "1         MainScreenAppear  7416695313311560658      1564053102    246\n",
       "2  PaymentScreenSuccessful  3518123091307005509      1564054127    248\n",
       "3         CartScreenAppear  3518123091307005509      1564054127    248\n",
       "4  PaymentScreenSuccessful  6217807653094995999      1564055322    248"
      ]
     },
     "execution_count": 4,
     "metadata": {},
     "output_type": "execute_result"
    }
   ],
   "source": [
    "data.head(5)"
   ]
  },
  {
   "cell_type": "markdown",
   "metadata": {},
   "source": [
    "изменим регистр и приведем названия столбцов к наиболее подходящему для работы виду"
   ]
  },
  {
   "cell_type": "code",
   "execution_count": 5,
   "metadata": {},
   "outputs": [
    {
     "data": {
      "text/html": [
       "<div>\n",
       "<style scoped>\n",
       "    .dataframe tbody tr th:only-of-type {\n",
       "        vertical-align: middle;\n",
       "    }\n",
       "\n",
       "    .dataframe tbody tr th {\n",
       "        vertical-align: top;\n",
       "    }\n",
       "\n",
       "    .dataframe thead th {\n",
       "        text-align: right;\n",
       "    }\n",
       "</style>\n",
       "<table border=\"1\" class=\"dataframe\">\n",
       "  <thead>\n",
       "    <tr style=\"text-align: right;\">\n",
       "      <th></th>\n",
       "      <th>event_name</th>\n",
       "      <th>device_id_hash</th>\n",
       "      <th>event_time_stamp</th>\n",
       "      <th>exp_id</th>\n",
       "    </tr>\n",
       "  </thead>\n",
       "  <tbody>\n",
       "    <tr>\n",
       "      <th>0</th>\n",
       "      <td>MainScreenAppear</td>\n",
       "      <td>4575588528974610257</td>\n",
       "      <td>1564029816</td>\n",
       "      <td>246</td>\n",
       "    </tr>\n",
       "    <tr>\n",
       "      <th>1</th>\n",
       "      <td>MainScreenAppear</td>\n",
       "      <td>7416695313311560658</td>\n",
       "      <td>1564053102</td>\n",
       "      <td>246</td>\n",
       "    </tr>\n",
       "    <tr>\n",
       "      <th>2</th>\n",
       "      <td>PaymentScreenSuccessful</td>\n",
       "      <td>3518123091307005509</td>\n",
       "      <td>1564054127</td>\n",
       "      <td>248</td>\n",
       "    </tr>\n",
       "    <tr>\n",
       "      <th>3</th>\n",
       "      <td>CartScreenAppear</td>\n",
       "      <td>3518123091307005509</td>\n",
       "      <td>1564054127</td>\n",
       "      <td>248</td>\n",
       "    </tr>\n",
       "    <tr>\n",
       "      <th>4</th>\n",
       "      <td>PaymentScreenSuccessful</td>\n",
       "      <td>6217807653094995999</td>\n",
       "      <td>1564055322</td>\n",
       "      <td>248</td>\n",
       "    </tr>\n",
       "  </tbody>\n",
       "</table>\n",
       "</div>"
      ],
      "text/plain": [
       "                event_name       device_id_hash  event_time_stamp  exp_id\n",
       "0         MainScreenAppear  4575588528974610257        1564029816     246\n",
       "1         MainScreenAppear  7416695313311560658        1564053102     246\n",
       "2  PaymentScreenSuccessful  3518123091307005509        1564054127     248\n",
       "3         CartScreenAppear  3518123091307005509        1564054127     248\n",
       "4  PaymentScreenSuccessful  6217807653094995999        1564055322     248"
      ]
     },
     "execution_count": 5,
     "metadata": {},
     "output_type": "execute_result"
    }
   ],
   "source": [
    "data.columns = data.columns.str.lower()\n",
    "data.columns = ['event_name', 'device_id_hash', 'event_time_stamp', 'exp_id']\n",
    "data.head ()"
   ]
  },
  {
   "cell_type": "markdown",
   "metadata": {},
   "source": [
    "Проверим данные на наличие пропусков, дубликатов, корректность типов данных"
   ]
  },
  {
   "cell_type": "code",
   "execution_count": 6,
   "metadata": {},
   "outputs": [
    {
     "name": "stdout",
     "output_type": "stream",
     "text": [
      "<class 'pandas.core.frame.DataFrame'>\n",
      "RangeIndex: 244126 entries, 0 to 244125\n",
      "Data columns (total 4 columns):\n",
      " #   Column            Non-Null Count   Dtype \n",
      "---  ------            --------------   ----- \n",
      " 0   event_name        244126 non-null  object\n",
      " 1   device_id_hash    244126 non-null  int64 \n",
      " 2   event_time_stamp  244126 non-null  int64 \n",
      " 3   exp_id            244126 non-null  int64 \n",
      "dtypes: int64(3), object(1)\n",
      "memory usage: 7.5+ MB\n"
     ]
    }
   ],
   "source": [
    "# узнаем типы данных\n",
    "data.info()"
   ]
  },
  {
   "cell_type": "markdown",
   "metadata": {},
   "source": [
    "Данные в столбце \"event_time_stamp\" отображены не формате даты. Исправим это в дальнейшем путем создания двух столбцов с датой и временем и датой"
   ]
  },
  {
   "cell_type": "code",
   "execution_count": 7,
   "metadata": {},
   "outputs": [
    {
     "data": {
      "text/plain": [
       "event_name          0\n",
       "device_id_hash      0\n",
       "event_time_stamp    0\n",
       "exp_id              0\n",
       "dtype: int64"
      ]
     },
     "execution_count": 7,
     "metadata": {},
     "output_type": "execute_result"
    }
   ],
   "source": [
    "#проверим наличие пропусков\n",
    "data.isna().sum()"
   ]
  },
  {
   "cell_type": "code",
   "execution_count": 8,
   "metadata": {},
   "outputs": [
    {
     "data": {
      "text/plain": [
       "413"
      ]
     },
     "execution_count": 8,
     "metadata": {},
     "output_type": "execute_result"
    }
   ],
   "source": [
    "# проверим наличие строк - дубликатов\n",
    "data.duplicated().sum()"
   ]
  },
  {
   "cell_type": "markdown",
   "metadata": {},
   "source": [
    "- посмотрим, что за дубликаты в датафрейме\n",
    "- поменяем тип данных столбца \"event_time_stamp\", добавим столбцы \"дата\" и \"дата и время\""
   ]
  },
  {
   "cell_type": "code",
   "execution_count": 9,
   "metadata": {},
   "outputs": [
    {
     "data": {
      "text/html": [
       "<div>\n",
       "<style scoped>\n",
       "    .dataframe tbody tr th:only-of-type {\n",
       "        vertical-align: middle;\n",
       "    }\n",
       "\n",
       "    .dataframe tbody tr th {\n",
       "        vertical-align: top;\n",
       "    }\n",
       "\n",
       "    .dataframe thead th {\n",
       "        text-align: right;\n",
       "    }\n",
       "</style>\n",
       "<table border=\"1\" class=\"dataframe\">\n",
       "  <thead>\n",
       "    <tr style=\"text-align: right;\">\n",
       "      <th></th>\n",
       "      <th>event_name</th>\n",
       "      <th>device_id_hash</th>\n",
       "      <th>event_time_stamp</th>\n",
       "      <th>exp_id</th>\n",
       "    </tr>\n",
       "  </thead>\n",
       "  <tbody>\n",
       "    <tr>\n",
       "      <th>453</th>\n",
       "      <td>MainScreenAppear</td>\n",
       "      <td>5613408041324010552</td>\n",
       "      <td>1564474784</td>\n",
       "      <td>248</td>\n",
       "    </tr>\n",
       "    <tr>\n",
       "      <th>2350</th>\n",
       "      <td>CartScreenAppear</td>\n",
       "      <td>1694940645335807244</td>\n",
       "      <td>1564609899</td>\n",
       "      <td>248</td>\n",
       "    </tr>\n",
       "    <tr>\n",
       "      <th>3573</th>\n",
       "      <td>MainScreenAppear</td>\n",
       "      <td>434103746454591587</td>\n",
       "      <td>1564628377</td>\n",
       "      <td>248</td>\n",
       "    </tr>\n",
       "    <tr>\n",
       "      <th>4076</th>\n",
       "      <td>MainScreenAppear</td>\n",
       "      <td>3761373764179762633</td>\n",
       "      <td>1564631266</td>\n",
       "      <td>247</td>\n",
       "    </tr>\n",
       "    <tr>\n",
       "      <th>4803</th>\n",
       "      <td>MainScreenAppear</td>\n",
       "      <td>2835328739789306622</td>\n",
       "      <td>1564634641</td>\n",
       "      <td>248</td>\n",
       "    </tr>\n",
       "    <tr>\n",
       "      <th>...</th>\n",
       "      <td>...</td>\n",
       "      <td>...</td>\n",
       "      <td>...</td>\n",
       "      <td>...</td>\n",
       "    </tr>\n",
       "    <tr>\n",
       "      <th>242329</th>\n",
       "      <td>MainScreenAppear</td>\n",
       "      <td>8870358373313968633</td>\n",
       "      <td>1565206004</td>\n",
       "      <td>247</td>\n",
       "    </tr>\n",
       "    <tr>\n",
       "      <th>242332</th>\n",
       "      <td>PaymentScreenSuccessful</td>\n",
       "      <td>4718002964983105693</td>\n",
       "      <td>1565206005</td>\n",
       "      <td>247</td>\n",
       "    </tr>\n",
       "    <tr>\n",
       "      <th>242360</th>\n",
       "      <td>PaymentScreenSuccessful</td>\n",
       "      <td>2382591782303281935</td>\n",
       "      <td>1565206049</td>\n",
       "      <td>246</td>\n",
       "    </tr>\n",
       "    <tr>\n",
       "      <th>242362</th>\n",
       "      <td>CartScreenAppear</td>\n",
       "      <td>2382591782303281935</td>\n",
       "      <td>1565206049</td>\n",
       "      <td>246</td>\n",
       "    </tr>\n",
       "    <tr>\n",
       "      <th>242635</th>\n",
       "      <td>MainScreenAppear</td>\n",
       "      <td>4097782667445790512</td>\n",
       "      <td>1565206618</td>\n",
       "      <td>246</td>\n",
       "    </tr>\n",
       "  </tbody>\n",
       "</table>\n",
       "<p>413 rows × 4 columns</p>\n",
       "</div>"
      ],
      "text/plain": [
       "                     event_name       device_id_hash  event_time_stamp  exp_id\n",
       "453            MainScreenAppear  5613408041324010552        1564474784     248\n",
       "2350           CartScreenAppear  1694940645335807244        1564609899     248\n",
       "3573           MainScreenAppear   434103746454591587        1564628377     248\n",
       "4076           MainScreenAppear  3761373764179762633        1564631266     247\n",
       "4803           MainScreenAppear  2835328739789306622        1564634641     248\n",
       "...                         ...                  ...               ...     ...\n",
       "242329         MainScreenAppear  8870358373313968633        1565206004     247\n",
       "242332  PaymentScreenSuccessful  4718002964983105693        1565206005     247\n",
       "242360  PaymentScreenSuccessful  2382591782303281935        1565206049     246\n",
       "242362         CartScreenAppear  2382591782303281935        1565206049     246\n",
       "242635         MainScreenAppear  4097782667445790512        1565206618     246\n",
       "\n",
       "[413 rows x 4 columns]"
      ]
     },
     "execution_count": 9,
     "metadata": {},
     "output_type": "execute_result"
    }
   ],
   "source": [
    "#посмотрим на дубликаты:\n",
    "data[data.duplicated() == True]"
   ]
  },
  {
   "cell_type": "code",
   "execution_count": 10,
   "metadata": {},
   "outputs": [],
   "source": [
    "# удалим дубликаты:\n",
    "data = data.drop_duplicates().reset_index(drop=True)"
   ]
  },
  {
   "cell_type": "code",
   "execution_count": 11,
   "metadata": {},
   "outputs": [
    {
     "data": {
      "text/plain": [
       "0"
      ]
     },
     "execution_count": 11,
     "metadata": {},
     "output_type": "execute_result"
    }
   ],
   "source": [
    "#проверим наличие строк-дубликатов:\n",
    "data.duplicated().sum()"
   ]
  },
  {
   "cell_type": "code",
   "execution_count": 12,
   "metadata": {},
   "outputs": [
    {
     "data": {
      "text/html": [
       "<div>\n",
       "<style scoped>\n",
       "    .dataframe tbody tr th:only-of-type {\n",
       "        vertical-align: middle;\n",
       "    }\n",
       "\n",
       "    .dataframe tbody tr th {\n",
       "        vertical-align: top;\n",
       "    }\n",
       "\n",
       "    .dataframe thead th {\n",
       "        text-align: right;\n",
       "    }\n",
       "</style>\n",
       "<table border=\"1\" class=\"dataframe\">\n",
       "  <thead>\n",
       "    <tr style=\"text-align: right;\">\n",
       "      <th></th>\n",
       "      <th>event_name</th>\n",
       "      <th>device_id_hash</th>\n",
       "      <th>event_time_stamp</th>\n",
       "      <th>exp_id</th>\n",
       "      <th>date_time</th>\n",
       "      <th>date</th>\n",
       "    </tr>\n",
       "  </thead>\n",
       "  <tbody>\n",
       "    <tr>\n",
       "      <th>0</th>\n",
       "      <td>MainScreenAppear</td>\n",
       "      <td>4575588528974610257</td>\n",
       "      <td>1564029816</td>\n",
       "      <td>246</td>\n",
       "      <td>2019-07-25 04:43:36</td>\n",
       "      <td>2019-07-25</td>\n",
       "    </tr>\n",
       "    <tr>\n",
       "      <th>1</th>\n",
       "      <td>MainScreenAppear</td>\n",
       "      <td>7416695313311560658</td>\n",
       "      <td>1564053102</td>\n",
       "      <td>246</td>\n",
       "      <td>2019-07-25 11:11:42</td>\n",
       "      <td>2019-07-25</td>\n",
       "    </tr>\n",
       "    <tr>\n",
       "      <th>2</th>\n",
       "      <td>PaymentScreenSuccessful</td>\n",
       "      <td>3518123091307005509</td>\n",
       "      <td>1564054127</td>\n",
       "      <td>248</td>\n",
       "      <td>2019-07-25 11:28:47</td>\n",
       "      <td>2019-07-25</td>\n",
       "    </tr>\n",
       "    <tr>\n",
       "      <th>3</th>\n",
       "      <td>CartScreenAppear</td>\n",
       "      <td>3518123091307005509</td>\n",
       "      <td>1564054127</td>\n",
       "      <td>248</td>\n",
       "      <td>2019-07-25 11:28:47</td>\n",
       "      <td>2019-07-25</td>\n",
       "    </tr>\n",
       "    <tr>\n",
       "      <th>4</th>\n",
       "      <td>PaymentScreenSuccessful</td>\n",
       "      <td>6217807653094995999</td>\n",
       "      <td>1564055322</td>\n",
       "      <td>248</td>\n",
       "      <td>2019-07-25 11:48:42</td>\n",
       "      <td>2019-07-25</td>\n",
       "    </tr>\n",
       "  </tbody>\n",
       "</table>\n",
       "</div>"
      ],
      "text/plain": [
       "                event_name       device_id_hash  event_time_stamp  exp_id  \\\n",
       "0         MainScreenAppear  4575588528974610257        1564029816     246   \n",
       "1         MainScreenAppear  7416695313311560658        1564053102     246   \n",
       "2  PaymentScreenSuccessful  3518123091307005509        1564054127     248   \n",
       "3         CartScreenAppear  3518123091307005509        1564054127     248   \n",
       "4  PaymentScreenSuccessful  6217807653094995999        1564055322     248   \n",
       "\n",
       "            date_time       date  \n",
       "0 2019-07-25 04:43:36 2019-07-25  \n",
       "1 2019-07-25 11:11:42 2019-07-25  \n",
       "2 2019-07-25 11:28:47 2019-07-25  \n",
       "3 2019-07-25 11:28:47 2019-07-25  \n",
       "4 2019-07-25 11:48:42 2019-07-25  "
      ]
     },
     "execution_count": 12,
     "metadata": {},
     "output_type": "execute_result"
    }
   ],
   "source": [
    "# Изменим тип данных стоблца \"event_time_stamp\"\n",
    "data['date_time'] = pd.to_datetime(data['event_time_stamp'], unit='s')\n",
    "data['date'] = data['date_time'].dt.floor('1D')\n",
    "data.head()"
   ]
  },
  {
   "cell_type": "markdown",
   "metadata": {},
   "source": [
    "# Изучение данных"
   ]
  },
  {
   "cell_type": "markdown",
   "metadata": {},
   "source": [
    "Посмотрим, сколько всего событий в логе:"
   ]
  },
  {
   "cell_type": "code",
   "execution_count": 13,
   "metadata": {},
   "outputs": [
    {
     "data": {
      "text/plain": [
       "5"
      ]
     },
     "execution_count": 13,
     "metadata": {},
     "output_type": "execute_result"
    }
   ],
   "source": [
    "count_event = data['event_name'].nunique()\n",
    "count_event"
   ]
  },
  {
   "cell_type": "markdown",
   "metadata": {},
   "source": [
    "Укажем эти события:"
   ]
  },
  {
   "cell_type": "code",
   "execution_count": 14,
   "metadata": {},
   "outputs": [
    {
     "data": {
      "text/plain": [
       "array(['MainScreenAppear', 'PaymentScreenSuccessful', 'CartScreenAppear',\n",
       "       'OffersScreenAppear', 'Tutorial'], dtype=object)"
      ]
     },
     "execution_count": 14,
     "metadata": {},
     "output_type": "execute_result"
    }
   ],
   "source": [
    "data['event_name'].unique()"
   ]
  },
  {
   "cell_type": "markdown",
   "metadata": {},
   "source": [
    "Посмотрим, сколько строк каждого события в нашем датафрейме:"
   ]
  },
  {
   "cell_type": "markdown",
   "metadata": {},
   "source": [
    "1 вариант"
   ]
  },
  {
   "cell_type": "code",
   "execution_count": 15,
   "metadata": {
    "scrolled": true
   },
   "outputs": [
    {
     "data": {
      "text/html": [
       "<div>\n",
       "<style scoped>\n",
       "    .dataframe tbody tr th:only-of-type {\n",
       "        vertical-align: middle;\n",
       "    }\n",
       "\n",
       "    .dataframe tbody tr th {\n",
       "        vertical-align: top;\n",
       "    }\n",
       "\n",
       "    .dataframe thead th {\n",
       "        text-align: right;\n",
       "    }\n",
       "</style>\n",
       "<table border=\"1\" class=\"dataframe\">\n",
       "  <thead>\n",
       "    <tr style=\"text-align: right;\">\n",
       "      <th></th>\n",
       "      <th>device_id_hash</th>\n",
       "    </tr>\n",
       "    <tr>\n",
       "      <th>event_name</th>\n",
       "      <th></th>\n",
       "    </tr>\n",
       "  </thead>\n",
       "  <tbody>\n",
       "    <tr>\n",
       "      <th>MainScreenAppear</th>\n",
       "      <td>119101</td>\n",
       "    </tr>\n",
       "    <tr>\n",
       "      <th>OffersScreenAppear</th>\n",
       "      <td>46808</td>\n",
       "    </tr>\n",
       "    <tr>\n",
       "      <th>CartScreenAppear</th>\n",
       "      <td>42668</td>\n",
       "    </tr>\n",
       "    <tr>\n",
       "      <th>PaymentScreenSuccessful</th>\n",
       "      <td>34118</td>\n",
       "    </tr>\n",
       "    <tr>\n",
       "      <th>Tutorial</th>\n",
       "      <td>1018</td>\n",
       "    </tr>\n",
       "  </tbody>\n",
       "</table>\n",
       "</div>"
      ],
      "text/plain": [
       "                         device_id_hash\n",
       "event_name                             \n",
       "MainScreenAppear                 119101\n",
       "OffersScreenAppear                46808\n",
       "CartScreenAppear                  42668\n",
       "PaymentScreenSuccessful           34118\n",
       "Tutorial                           1018"
      ]
     },
     "execution_count": 15,
     "metadata": {},
     "output_type": "execute_result"
    }
   ],
   "source": [
    "events_count = data.groupby('event_name').agg({'device_id_hash':'count'}).sort_values(by='device_id_hash', ascending = False)\n",
    "events_count"
   ]
  },
  {
   "cell_type": "markdown",
   "metadata": {},
   "source": [
    "2 вариант"
   ]
  },
  {
   "cell_type": "code",
   "execution_count": 16,
   "metadata": {},
   "outputs": [
    {
     "data": {
      "text/plain": [
       "MainScreenAppear           119101\n",
       "OffersScreenAppear          46808\n",
       "CartScreenAppear            42668\n",
       "PaymentScreenSuccessful     34118\n",
       "Tutorial                     1018\n",
       "Name: event_name, dtype: int64"
      ]
     },
     "execution_count": 16,
     "metadata": {},
     "output_type": "execute_result"
    }
   ],
   "source": [
    "data['event_name'].value_counts()"
   ]
  },
  {
   "cell_type": "markdown",
   "metadata": {},
   "source": [
    "Пользователи участвуют в выполнении следующих событий:\n",
    "- зайти на главный экран (**MainScreenAppear**): событие произошло 119 101 раз;\n",
    "- зайти на экран выбора товара (экран предложений) (**OffersScreenAppear**): событие произошло 46 808 раз;\n",
    "- зайти в \"корзину\" (**CartScreenAppear**): событие произошло 42 668 раз;\n",
    "- успешно оплатить товар (**PaymentScreenSuccessful**): событие произошло 34 118 раз;\n",
    "- зайти на экран руководства/справки (**Tutorial**): событие произошло 1018 раз."
   ]
  },
  {
   "cell_type": "markdown",
   "metadata": {},
   "source": [
    "Определим, сколько всего пользователей в логе:"
   ]
  },
  {
   "cell_type": "code",
   "execution_count": 17,
   "metadata": {},
   "outputs": [
    {
     "data": {
      "text/plain": [
       "7551"
      ]
     },
     "execution_count": 17,
     "metadata": {},
     "output_type": "execute_result"
    }
   ],
   "source": [
    "count_user = data['device_id_hash'].nunique()\n",
    "count_user"
   ]
  },
  {
   "cell_type": "markdown",
   "metadata": {},
   "source": [
    "Приложением на момент анализа данных пользуются 7 551 пользователь"
   ]
  },
  {
   "cell_type": "code",
   "execution_count": 18,
   "metadata": {},
   "outputs": [
    {
     "data": {
      "text/plain": [
       "device_id_hash    32.28\n",
       "dtype: float64"
      ]
     },
     "execution_count": 18,
     "metadata": {},
     "output_type": "execute_result"
    }
   ],
   "source": [
    "avg_count_event = round(events_count.sum()/count_user,2)\n",
    "avg_count_event"
   ]
  },
  {
   "cell_type": "markdown",
   "metadata": {},
   "source": [
    "В среднем на одного пользователя приходится 32 события."
   ]
  },
  {
   "cell_type": "markdown",
   "metadata": {},
   "source": [
    "Посмотрим, сколько пользователей в каждой из экспериментальных групп"
   ]
  },
  {
   "cell_type": "code",
   "execution_count": 19,
   "metadata": {},
   "outputs": [
    {
     "data": {
      "text/plain": [
       "array([246, 248, 247])"
      ]
     },
     "execution_count": 19,
     "metadata": {},
     "output_type": "execute_result"
    }
   ],
   "source": [
    "data['exp_id'].unique()"
   ]
  },
  {
   "cell_type": "code",
   "execution_count": 20,
   "metadata": {},
   "outputs": [
    {
     "data": {
      "text/plain": [
       "2489"
      ]
     },
     "execution_count": 20,
     "metadata": {},
     "output_type": "execute_result"
    }
   ],
   "source": [
    "exp_id_246 = data[data['exp_id']==246]\n",
    "exp_id_246['device_id_hash'].nunique()"
   ]
  },
  {
   "cell_type": "code",
   "execution_count": 21,
   "metadata": {},
   "outputs": [
    {
     "data": {
      "text/plain": [
       "2542"
      ]
     },
     "execution_count": 21,
     "metadata": {},
     "output_type": "execute_result"
    }
   ],
   "source": [
    "exp_id_248 = data[data['exp_id']==248]\n",
    "exp_id_248['device_id_hash'].nunique()"
   ]
  },
  {
   "cell_type": "code",
   "execution_count": 22,
   "metadata": {
    "scrolled": true
   },
   "outputs": [
    {
     "data": {
      "text/plain": [
       "2520"
      ]
     },
     "execution_count": 22,
     "metadata": {},
     "output_type": "execute_result"
    }
   ],
   "source": [
    "exp_id_247 = data[data['exp_id']==247]\n",
    "exp_id_247['device_id_hash'].nunique()"
   ]
  },
  {
   "cell_type": "markdown",
   "metadata": {},
   "source": [
    "- В группе \"246\" - 2489 человек;\n",
    "- В группе \"247\" - 2520 человек;\n",
    "- В группе \"248\" - 2542 человека."
   ]
  },
  {
   "cell_type": "markdown",
   "metadata": {},
   "source": [
    "Определим период, за который имеются доступные данные, а также минимальную и максимальную даты:"
   ]
  },
  {
   "cell_type": "code",
   "execution_count": 23,
   "metadata": {},
   "outputs": [
    {
     "name": "stdout",
     "output_type": "stream",
     "text": [
      "минимальная дата привлечения: 2019-07-25 00:00:00\n",
      "максимальная дата привлечения: 2019-08-07 00:00:00\n"
     ]
    }
   ],
   "source": [
    "min_date = data['date'].min()\n",
    "print (f'минимальная дата привлечения: {min_date}')\n",
    "max_date = data['date'].max()\n",
    "print (f'максимальная дата привлечения: {max_date}')"
   ]
  },
  {
   "cell_type": "markdown",
   "metadata": {},
   "source": [
    "построим гистрограмму по дате и времени"
   ]
  },
  {
   "cell_type": "code",
   "execution_count": 24,
   "metadata": {},
   "outputs": [
    {
     "data": {
      "image/png": "[encoded data removed]",
      "text/plain": [
       "<Figure size 1440x360 with 1 Axes>"
      ]
     },
     "metadata": {
      "needs_background": "light"
     },
     "output_type": "display_data"
    }
   ],
   "source": [
    "data['date_time'].hist(bins = 15, figsize=(20,5))\n",
    "plt.title('График активности использования приложения пользователями')\n",
    "plt.xlabel('Дата')\n",
    "plt.ylabel('Количество событий')\n",
    "plt.show()"
   ]
  },
  {
   "cell_type": "code",
   "execution_count": 25,
   "metadata": {},
   "outputs": [
    {
     "data": {
      "image/png": "[encoded data removed]",
      "text/plain": [
       "<Figure size 1008x360 with 1 Axes>"
      ]
     },
     "metadata": {
      "needs_background": "light"
     },
     "output_type": "display_data"
    }
   ],
   "source": [
    "data['date_time'].hist(bins=14*24, figsize=(14, 5));"
   ]
  },
  {
   "cell_type": "markdown",
   "metadata": {},
   "source": [
    "До 1 августа 2019г. пользователи не активно использовали приложение. Наиболее полные данные имеем с 01.08.2019, сдеалем срез данных с этой даты для дальнейшего анализа."
   ]
  },
  {
   "cell_type": "code",
   "execution_count": 26,
   "metadata": {},
   "outputs": [],
   "source": [
    "data_for_analyze = data.query('date_time >= \"2019-08-01\"').reset_index(drop = True)"
   ]
  },
  {
   "cell_type": "code",
   "execution_count": 27,
   "metadata": {},
   "outputs": [
    {
     "data": {
      "text/html": [
       "<div>\n",
       "<style scoped>\n",
       "    .dataframe tbody tr th:only-of-type {\n",
       "        vertical-align: middle;\n",
       "    }\n",
       "\n",
       "    .dataframe tbody tr th {\n",
       "        vertical-align: top;\n",
       "    }\n",
       "\n",
       "    .dataframe thead th {\n",
       "        text-align: right;\n",
       "    }\n",
       "</style>\n",
       "<table border=\"1\" class=\"dataframe\">\n",
       "  <thead>\n",
       "    <tr style=\"text-align: right;\">\n",
       "      <th></th>\n",
       "      <th>event_name</th>\n",
       "      <th>device_id_hash</th>\n",
       "      <th>event_time_stamp</th>\n",
       "      <th>exp_id</th>\n",
       "      <th>date_time</th>\n",
       "      <th>date</th>\n",
       "    </tr>\n",
       "  </thead>\n",
       "  <tbody>\n",
       "    <tr>\n",
       "      <th>0</th>\n",
       "      <td>Tutorial</td>\n",
       "      <td>3737462046622621720</td>\n",
       "      <td>1564618048</td>\n",
       "      <td>246</td>\n",
       "      <td>2019-08-01 00:07:28</td>\n",
       "      <td>2019-08-01</td>\n",
       "    </tr>\n",
       "    <tr>\n",
       "      <th>1</th>\n",
       "      <td>MainScreenAppear</td>\n",
       "      <td>3737462046622621720</td>\n",
       "      <td>1564618080</td>\n",
       "      <td>246</td>\n",
       "      <td>2019-08-01 00:08:00</td>\n",
       "      <td>2019-08-01</td>\n",
       "    </tr>\n",
       "    <tr>\n",
       "      <th>2</th>\n",
       "      <td>MainScreenAppear</td>\n",
       "      <td>3737462046622621720</td>\n",
       "      <td>1564618135</td>\n",
       "      <td>246</td>\n",
       "      <td>2019-08-01 00:08:55</td>\n",
       "      <td>2019-08-01</td>\n",
       "    </tr>\n",
       "    <tr>\n",
       "      <th>3</th>\n",
       "      <td>OffersScreenAppear</td>\n",
       "      <td>3737462046622621720</td>\n",
       "      <td>1564618138</td>\n",
       "      <td>246</td>\n",
       "      <td>2019-08-01 00:08:58</td>\n",
       "      <td>2019-08-01</td>\n",
       "    </tr>\n",
       "    <tr>\n",
       "      <th>4</th>\n",
       "      <td>MainScreenAppear</td>\n",
       "      <td>1433840883824088890</td>\n",
       "      <td>1564618139</td>\n",
       "      <td>247</td>\n",
       "      <td>2019-08-01 00:08:59</td>\n",
       "      <td>2019-08-01</td>\n",
       "    </tr>\n",
       "  </tbody>\n",
       "</table>\n",
       "</div>"
      ],
      "text/plain": [
       "           event_name       device_id_hash  event_time_stamp  exp_id  \\\n",
       "0            Tutorial  3737462046622621720        1564618048     246   \n",
       "1    MainScreenAppear  3737462046622621720        1564618080     246   \n",
       "2    MainScreenAppear  3737462046622621720        1564618135     246   \n",
       "3  OffersScreenAppear  3737462046622621720        1564618138     246   \n",
       "4    MainScreenAppear  1433840883824088890        1564618139     247   \n",
       "\n",
       "            date_time       date  \n",
       "0 2019-08-01 00:07:28 2019-08-01  \n",
       "1 2019-08-01 00:08:00 2019-08-01  \n",
       "2 2019-08-01 00:08:55 2019-08-01  \n",
       "3 2019-08-01 00:08:58 2019-08-01  \n",
       "4 2019-08-01 00:08:59 2019-08-01  "
      ]
     },
     "execution_count": 27,
     "metadata": {},
     "output_type": "execute_result"
    }
   ],
   "source": [
    "data_for_analyze.head()"
   ]
  },
  {
   "cell_type": "markdown",
   "metadata": {},
   "source": [
    "Определим, сколько событий потеряно в результате отброса старых данных:"
   ]
  },
  {
   "cell_type": "code",
   "execution_count": 28,
   "metadata": {},
   "outputs": [
    {
     "data": {
      "text/html": [
       "<style  type=\"text/css\" >\n",
       "</style><table id=\"T_2a7b7_\" ><thead>    <tr>        <th class=\"blank level0\" ></th>        <th class=\"col_heading level0 col0\" >Число событий до фильтра данных, ед.</th>        <th class=\"col_heading level0 col1\" >Число событий после фильтра данных, ед.</th>        <th class=\"col_heading level0 col2\" >процент потерь каждого из событий, %</th>    </tr>    <tr>        <th class=\"index_name level0\" >event_name</th>        <th class=\"blank\" ></th>        <th class=\"blank\" ></th>        <th class=\"blank\" ></th>    </tr></thead><tbody>\n",
       "                <tr>\n",
       "                        <th id=\"T_2a7b7_level0_row0\" class=\"row_heading level0 row0\" >MainScreenAppear</th>\n",
       "                        <td id=\"T_2a7b7_row0_col0\" class=\"data row0 col0\" >119101</td>\n",
       "                        <td id=\"T_2a7b7_row0_col1\" class=\"data row0 col1\" >117328</td>\n",
       "                        <td id=\"T_2a7b7_row0_col2\" class=\"data row0 col2\" >-1.49%</td>\n",
       "            </tr>\n",
       "            <tr>\n",
       "                        <th id=\"T_2a7b7_level0_row1\" class=\"row_heading level0 row1\" >OffersScreenAppear</th>\n",
       "                        <td id=\"T_2a7b7_row1_col0\" class=\"data row1 col0\" >46808</td>\n",
       "                        <td id=\"T_2a7b7_row1_col1\" class=\"data row1 col1\" >46333</td>\n",
       "                        <td id=\"T_2a7b7_row1_col2\" class=\"data row1 col2\" >-1.01%</td>\n",
       "            </tr>\n",
       "            <tr>\n",
       "                        <th id=\"T_2a7b7_level0_row2\" class=\"row_heading level0 row2\" >CartScreenAppear</th>\n",
       "                        <td id=\"T_2a7b7_row2_col0\" class=\"data row2 col0\" >42668</td>\n",
       "                        <td id=\"T_2a7b7_row2_col1\" class=\"data row2 col1\" >42303</td>\n",
       "                        <td id=\"T_2a7b7_row2_col2\" class=\"data row2 col2\" >-0.86%</td>\n",
       "            </tr>\n",
       "            <tr>\n",
       "                        <th id=\"T_2a7b7_level0_row3\" class=\"row_heading level0 row3\" >PaymentScreenSuccessful</th>\n",
       "                        <td id=\"T_2a7b7_row3_col0\" class=\"data row3 col0\" >34118</td>\n",
       "                        <td id=\"T_2a7b7_row3_col1\" class=\"data row3 col1\" >33918</td>\n",
       "                        <td id=\"T_2a7b7_row3_col2\" class=\"data row3 col2\" >-0.59%</td>\n",
       "            </tr>\n",
       "            <tr>\n",
       "                        <th id=\"T_2a7b7_level0_row4\" class=\"row_heading level0 row4\" >Tutorial</th>\n",
       "                        <td id=\"T_2a7b7_row4_col0\" class=\"data row4 col0\" >1018</td>\n",
       "                        <td id=\"T_2a7b7_row4_col1\" class=\"data row4 col1\" >1005</td>\n",
       "                        <td id=\"T_2a7b7_row4_col2\" class=\"data row4 col2\" >-1.28%</td>\n",
       "            </tr>\n",
       "    </tbody></table>"
      ],
      "text/plain": [
       "<pandas.io.formats.style.Styler at 0x7f24dac8bbe0>"
      ]
     },
     "execution_count": 28,
     "metadata": {},
     "output_type": "execute_result"
    }
   ],
   "source": [
    "data_loss_events = data.groupby('event_name').agg({'device_id_hash':'count'}).sort_values(by='device_id_hash', ascending = False)\n",
    "data_loss_events['Число событий после фильтра данных, ед.'] = data_for_analyze.groupby('event_name').agg({'device_id_hash':'count'}).sort_values(by='device_id_hash', ascending = False)\n",
    "data_loss_events['процент потерь каждого из событий, %'] = data_loss_events['Число событий после фильтра данных, ед.']/data_loss_events['device_id_hash']*100-100\n",
    "data_loss_events.rename(columns={'device_id_hash':'Число событий до фильтра данных, ед.'}, inplace = True)\n",
    "data_loss_events = data_loss_events.style.format({'процент потерь каждого из событий, %': '{:.2f}%'})\n",
    "data_loss_events"
   ]
  },
  {
   "cell_type": "markdown",
   "metadata": {},
   "source": [
    "До фильтра старых данных в логе было 243 713 событий, после стало 240 887 событий. Общая сумма потери - 2 826 события (что составляет 1,16% потерь от изначального количества событий). Больше всего потерь у события MainScreenAppear - 1.49%."
   ]
  },
  {
   "cell_type": "markdown",
   "metadata": {},
   "source": [
    "Определим количество пользователей после фильтрации данных:"
   ]
  },
  {
   "cell_type": "code",
   "execution_count": 29,
   "metadata": {},
   "outputs": [
    {
     "data": {
      "text/plain": [
       "7534"
      ]
     },
     "execution_count": 29,
     "metadata": {},
     "output_type": "execute_result"
    }
   ],
   "source": [
    "count_new_user = data_for_analyze['device_id_hash'].nunique()\n",
    "count_new_user"
   ]
  },
  {
   "cell_type": "markdown",
   "metadata": {},
   "source": [
    "До отбрасывания старых данных пользователей было 7 551 чел., после фильтрации 7 534 чел. - потери в данных 17 человек (что составляет 0.2%)."
   ]
  },
  {
   "cell_type": "code",
   "execution_count": 30,
   "metadata": {
    "scrolled": true
   },
   "outputs": [
    {
     "data": {
      "text/html": [
       "<style  type=\"text/css\" >\n",
       "</style><table id=\"T_360b8_\" ><thead>    <tr>        <th class=\"blank level0\" ></th>        <th class=\"col_heading level0 col0\" >Количество пользователей после фильтрации, ед.</th>        <th class=\"col_heading level0 col1\" >Количество пользователей до фильтрации, ед.</th>        <th class=\"col_heading level0 col2\" >процент потерь пользователей по группам, %</th>    </tr>    <tr>        <th class=\"index_name level0\" >exp_id</th>        <th class=\"blank\" ></th>        <th class=\"blank\" ></th>        <th class=\"blank\" ></th>    </tr></thead><tbody>\n",
       "                <tr>\n",
       "                        <th id=\"T_360b8_level0_row0\" class=\"row_heading level0 row0\" >248</th>\n",
       "                        <td id=\"T_360b8_row0_col0\" class=\"data row0 col0\" >2537</td>\n",
       "                        <td id=\"T_360b8_row0_col1\" class=\"data row0 col1\" >2542</td>\n",
       "                        <td id=\"T_360b8_row0_col2\" class=\"data row0 col2\" >-0.20%</td>\n",
       "            </tr>\n",
       "            <tr>\n",
       "                        <th id=\"T_360b8_level0_row1\" class=\"row_heading level0 row1\" >247</th>\n",
       "                        <td id=\"T_360b8_row1_col0\" class=\"data row1 col0\" >2513</td>\n",
       "                        <td id=\"T_360b8_row1_col1\" class=\"data row1 col1\" >2520</td>\n",
       "                        <td id=\"T_360b8_row1_col2\" class=\"data row1 col2\" >-0.28%</td>\n",
       "            </tr>\n",
       "            <tr>\n",
       "                        <th id=\"T_360b8_level0_row2\" class=\"row_heading level0 row2\" >246</th>\n",
       "                        <td id=\"T_360b8_row2_col0\" class=\"data row2 col0\" >2484</td>\n",
       "                        <td id=\"T_360b8_row2_col1\" class=\"data row2 col1\" >2489</td>\n",
       "                        <td id=\"T_360b8_row2_col2\" class=\"data row2 col2\" >-0.20%</td>\n",
       "            </tr>\n",
       "    </tbody></table>"
      ],
      "text/plain": [
       "<pandas.io.formats.style.Styler at 0x7f24dac0f430>"
      ]
     },
     "execution_count": 30,
     "metadata": {},
     "output_type": "execute_result"
    }
   ],
   "source": [
    "data_cev = data_for_analyze.groupby('exp_id').agg({'device_id_hash':'nunique'}).sort_values(by='device_id_hash', ascending = False)\n",
    "data_cev['Количество пользователей до фильтрации, ед.'] = data.groupby('exp_id').agg({'device_id_hash':'nunique'}).sort_values(by='device_id_hash', ascending = False)\n",
    "data_cev['процент потерь пользователей по группам, %'] = data_cev['device_id_hash']/data_cev['Количество пользователей до фильтрации, ед.']*100-100\n",
    "data_cev.rename(columns={'device_id_hash':'Количество пользователей после фильтрации, ед.'}, inplace = True)\n",
    "data_cev = data_cev.style.format({'процент потерь пользователей по группам, %': '{:.2f}%'})\n",
    "data_cev"
   ]
  },
  {
   "cell_type": "code",
   "execution_count": 31,
   "metadata": {},
   "outputs": [
    {
     "name": "stdout",
     "output_type": "stream",
     "text": [
      "количество пользователей в группе 246: 2484 чел.\n",
      "количество пользователей в группе 247: 2513 чел.\n",
      "количество пользователей в группе \"248\": 2537 чел.\n"
     ]
    }
   ],
   "source": [
    "exp_id_246 = data_for_analyze[data_for_analyze['exp_id']==246]\n",
    "q246 = exp_id_246['device_id_hash'].nunique()\n",
    "print (f\"количество пользователей в группе 246: {q246} чел.\")\n",
    "\n",
    "exp_id_247 = data_for_analyze[data_for_analyze['exp_id']==247]\n",
    "q247 = exp_id_247['device_id_hash'].nunique()\n",
    "print (f\"количество пользователей в группе 247: {q247} чел.\")\n",
    "\n",
    "exp_id_248 = data_for_analyze[data_for_analyze['exp_id']==248]\n",
    "q248 = exp_id_248['device_id_hash'].nunique()\n",
    "print (f'количество пользователей в группе \"248\": {q248} чел.')\n"
   ]
  },
  {
   "cell_type": "markdown",
   "metadata": {},
   "source": [
    "- До фильтрации в группе \"246\" было 2489 человек (стало 2484 -0.2%)\n",
    "- До фильтрации в группе \"247\" было 2520 человек (стало 2513 -0.3%)\n",
    "- До фильтрации в группе \"248\" было 2542 человек (стало 2537 -0.2%)"
   ]
  },
  {
   "cell_type": "markdown",
   "metadata": {},
   "source": [
    "# Изучение воронки событий"
   ]
  },
  {
   "cell_type": "markdown",
   "metadata": {},
   "source": [
    "Таким образом, исходя из имеющихся отфильтрованных данных, можно выделить следующие события, совершаемые пользователями:"
   ]
  },
  {
   "cell_type": "code",
   "execution_count": 32,
   "metadata": {},
   "outputs": [
    {
     "data": {
      "text/html": [
       "<style  type=\"text/css\" >\n",
       "</style><table id=\"T_bdf87_\" ><thead>    <tr>        <th class=\"blank level0\" ></th>        <th class=\"col_heading level0 col0\" >Количество событий, ед.</th>        <th class=\"col_heading level0 col1\" >Частота наступления события, %</th>    </tr>    <tr>        <th class=\"index_name level0\" >event_name</th>        <th class=\"blank\" ></th>        <th class=\"blank\" ></th>    </tr></thead><tbody>\n",
       "                <tr>\n",
       "                        <th id=\"T_bdf87_level0_row0\" class=\"row_heading level0 row0\" >MainScreenAppear</th>\n",
       "                        <td id=\"T_bdf87_row0_col0\" class=\"data row0 col0\" >117328</td>\n",
       "                        <td id=\"T_bdf87_row0_col1\" class=\"data row0 col1\" >48.71%</td>\n",
       "            </tr>\n",
       "            <tr>\n",
       "                        <th id=\"T_bdf87_level0_row1\" class=\"row_heading level0 row1\" >OffersScreenAppear</th>\n",
       "                        <td id=\"T_bdf87_row1_col0\" class=\"data row1 col0\" >46333</td>\n",
       "                        <td id=\"T_bdf87_row1_col1\" class=\"data row1 col1\" >19.23%</td>\n",
       "            </tr>\n",
       "            <tr>\n",
       "                        <th id=\"T_bdf87_level0_row2\" class=\"row_heading level0 row2\" >CartScreenAppear</th>\n",
       "                        <td id=\"T_bdf87_row2_col0\" class=\"data row2 col0\" >42303</td>\n",
       "                        <td id=\"T_bdf87_row2_col1\" class=\"data row2 col1\" >17.56%</td>\n",
       "            </tr>\n",
       "            <tr>\n",
       "                        <th id=\"T_bdf87_level0_row3\" class=\"row_heading level0 row3\" >PaymentScreenSuccessful</th>\n",
       "                        <td id=\"T_bdf87_row3_col0\" class=\"data row3 col0\" >33918</td>\n",
       "                        <td id=\"T_bdf87_row3_col1\" class=\"data row3 col1\" >14.08%</td>\n",
       "            </tr>\n",
       "            <tr>\n",
       "                        <th id=\"T_bdf87_level0_row4\" class=\"row_heading level0 row4\" >Tutorial</th>\n",
       "                        <td id=\"T_bdf87_row4_col0\" class=\"data row4 col0\" >1005</td>\n",
       "                        <td id=\"T_bdf87_row4_col1\" class=\"data row4 col1\" >0.42%</td>\n",
       "            </tr>\n",
       "    </tbody></table>"
      ],
      "text/plain": [
       "<pandas.io.formats.style.Styler at 0x7f2519ce8d30>"
      ]
     },
     "execution_count": 32,
     "metadata": {},
     "output_type": "execute_result"
    }
   ],
   "source": [
    "data_new_events = data_for_analyze.groupby('event_name').agg({'device_id_hash':'count'}).sort_values(by='device_id_hash', ascending = False)\n",
    "data_new_events.rename(columns={'device_id_hash':'Количество событий, ед.'}, inplace = True)\n",
    "data_new_events['Частота наступления события, %'] = data_new_events['Количество событий, ед.']/data_new_events['Количество событий, ед.'].sum()*100\n",
    "data_new_events = data_new_events.style.format({'Частота наступления события, %': '{:.2f}%'})\n",
    "data_new_events"
   ]
  },
  {
   "cell_type": "markdown",
   "metadata": {},
   "source": [
    "Чаще всего пользователи совершают следующие события:\n",
    "- зайти на главный экран (MainScreenAppear): событие произошло 117 328 раз;\n",
    "- зайти на экран выбора товара (экран предложений) (OffersScreenAppear): событие произошло 46 333 раза;\n",
    "- зайти в \"корзину\" (CartScreenAppear): событие произошло 42 303 раза;\n",
    "- успешно оплатить товар (PaymentScreenSuccessful): событие произошло 33 918 раз;\n",
    "- зайти на экран руководства/справки (Tutorial): событие произошло 1005 раз.\n",
    "\n",
    "Большая часть произошедших событий - открытие главного экрана - 48.71% от общего числа событий. На экран выбора товара приходится 19.23% пользователей, на экран \"корзины покупок\" приходится 17.56% всех событий, а на экран успешного совершенного платежа - 14.08% событий. Справка/руководство пользуется наименьшей популярностью - 0.42%: либо совсем не заметно расположение справки на сайте, либо совсем не интересен этот этап знакомства с сайтом и процессом выбора товара, и его дальнейшей оплатой пользователям."
   ]
  },
  {
   "cell_type": "markdown",
   "metadata": {},
   "source": [
    "Посчитаем, сколько пользователей совершали каждое из этих событий"
   ]
  },
  {
   "cell_type": "code",
   "execution_count": 33,
   "metadata": {},
   "outputs": [
    {
     "data": {
      "text/html": [
       "<style  type=\"text/css\" >\n",
       "</style><table id=\"T_20176_\" ><thead>    <tr>        <th class=\"blank level0\" ></th>        <th class=\"col_heading level0 col0\" >Количество событий, ед.</th>        <th class=\"col_heading level0 col1\" >Количество пользователей, чел.</th>        <th class=\"col_heading level0 col2\" >Доля пользователей, хоть раз совершивших событие, %</th>    </tr>    <tr>        <th class=\"index_name level0\" >event_name</th>        <th class=\"blank\" ></th>        <th class=\"blank\" ></th>        <th class=\"blank\" ></th>    </tr></thead><tbody>\n",
       "                <tr>\n",
       "                        <th id=\"T_20176_level0_row0\" class=\"row_heading level0 row0\" >MainScreenAppear</th>\n",
       "                        <td id=\"T_20176_row0_col0\" class=\"data row0 col0\" >117328</td>\n",
       "                        <td id=\"T_20176_row0_col1\" class=\"data row0 col1\" >7419</td>\n",
       "                        <td id=\"T_20176_row0_col2\" class=\"data row0 col2\" >98.47%</td>\n",
       "            </tr>\n",
       "            <tr>\n",
       "                        <th id=\"T_20176_level0_row1\" class=\"row_heading level0 row1\" >OffersScreenAppear</th>\n",
       "                        <td id=\"T_20176_row1_col0\" class=\"data row1 col0\" >46333</td>\n",
       "                        <td id=\"T_20176_row1_col1\" class=\"data row1 col1\" >4593</td>\n",
       "                        <td id=\"T_20176_row1_col2\" class=\"data row1 col2\" >60.96%</td>\n",
       "            </tr>\n",
       "            <tr>\n",
       "                        <th id=\"T_20176_level0_row2\" class=\"row_heading level0 row2\" >CartScreenAppear</th>\n",
       "                        <td id=\"T_20176_row2_col0\" class=\"data row2 col0\" >42303</td>\n",
       "                        <td id=\"T_20176_row2_col1\" class=\"data row2 col1\" >3734</td>\n",
       "                        <td id=\"T_20176_row2_col2\" class=\"data row2 col2\" >49.56%</td>\n",
       "            </tr>\n",
       "            <tr>\n",
       "                        <th id=\"T_20176_level0_row3\" class=\"row_heading level0 row3\" >PaymentScreenSuccessful</th>\n",
       "                        <td id=\"T_20176_row3_col0\" class=\"data row3 col0\" >33918</td>\n",
       "                        <td id=\"T_20176_row3_col1\" class=\"data row3 col1\" >3539</td>\n",
       "                        <td id=\"T_20176_row3_col2\" class=\"data row3 col2\" >46.97%</td>\n",
       "            </tr>\n",
       "            <tr>\n",
       "                        <th id=\"T_20176_level0_row4\" class=\"row_heading level0 row4\" >Tutorial</th>\n",
       "                        <td id=\"T_20176_row4_col0\" class=\"data row4 col0\" >1005</td>\n",
       "                        <td id=\"T_20176_row4_col1\" class=\"data row4 col1\" >840</td>\n",
       "                        <td id=\"T_20176_row4_col2\" class=\"data row4 col2\" >11.15%</td>\n",
       "            </tr>\n",
       "    </tbody></table>"
      ],
      "text/plain": [
       "<pandas.io.formats.style.Styler at 0x7f24dac0f250>"
      ]
     },
     "execution_count": 33,
     "metadata": {},
     "output_type": "execute_result"
    }
   ],
   "source": [
    "users_count = data_for_analyze.groupby('event_name').agg({'event_name':'count','device_id_hash': 'nunique'}).sort_values(by='device_id_hash', ascending=False)\n",
    "users_count.rename(columns={'device_id_hash':'Количество пользователей, чел.', 'event_name':'Количество событий, ед.'}, inplace = True)\n",
    "users_count['Доля пользователей, хоть раз совершивших событие, %'] = users_count['Количество пользователей, чел.']/count_new_user*100\n",
    "users_count = users_count.style.format({'Доля пользователей, хоть раз совершивших событие, %': '{:.2f}%'})\n",
    "users_count"
   ]
  },
  {
   "cell_type": "markdown",
   "metadata": {},
   "source": [
    "Исходя из полученных данных по доле пользователей, хоть раз совершивших определенное событие, сделаем следующие выводы:\n",
    "1. 98.47% пользователей из общего числа открывают главный экран (вероятно оставшиеся 2.53% посещают страницы сайта сразу из закладок в браузере);\n",
    "2. 60.96% пользователей заходят на страницу выбора товара;\n",
    "3. 49.56% пользователей выбирают товар и кладут его в корзину;\n",
    "4. 46.97% пользователей оплачивают товар.\n",
    "5. 11.15% пользователей просматривают руководство."
   ]
  },
  {
   "cell_type": "markdown",
   "metadata": {},
   "source": [
    "**Графически определим динамику событий по числу пользователей и долю пользователей, совершивших хотя бы одно событие**"
   ]
  },
  {
   "cell_type": "code",
   "execution_count": 34,
   "metadata": {},
   "outputs": [
    {
     "data": {
      "text/html": [
       "<div>\n",
       "<style scoped>\n",
       "    .dataframe tbody tr th:only-of-type {\n",
       "        vertical-align: middle;\n",
       "    }\n",
       "\n",
       "    .dataframe tbody tr th {\n",
       "        vertical-align: top;\n",
       "    }\n",
       "\n",
       "    .dataframe thead th {\n",
       "        text-align: right;\n",
       "    }\n",
       "</style>\n",
       "<table border=\"1\" class=\"dataframe\">\n",
       "  <thead>\n",
       "    <tr style=\"text-align: right;\">\n",
       "      <th></th>\n",
       "      <th>event_name</th>\n",
       "      <th>events_count</th>\n",
       "      <th>users_count</th>\n",
       "      <th>users_action_once</th>\n",
       "    </tr>\n",
       "  </thead>\n",
       "  <tbody>\n",
       "    <tr>\n",
       "      <th>0</th>\n",
       "      <td>MainScreenAppear</td>\n",
       "      <td>117328</td>\n",
       "      <td>7419</td>\n",
       "      <td>98.5</td>\n",
       "    </tr>\n",
       "    <tr>\n",
       "      <th>1</th>\n",
       "      <td>OffersScreenAppear</td>\n",
       "      <td>46333</td>\n",
       "      <td>4593</td>\n",
       "      <td>61.0</td>\n",
       "    </tr>\n",
       "    <tr>\n",
       "      <th>2</th>\n",
       "      <td>CartScreenAppear</td>\n",
       "      <td>42303</td>\n",
       "      <td>3734</td>\n",
       "      <td>49.6</td>\n",
       "    </tr>\n",
       "    <tr>\n",
       "      <th>3</th>\n",
       "      <td>PaymentScreenSuccessful</td>\n",
       "      <td>33918</td>\n",
       "      <td>3539</td>\n",
       "      <td>47.0</td>\n",
       "    </tr>\n",
       "    <tr>\n",
       "      <th>4</th>\n",
       "      <td>Tutorial</td>\n",
       "      <td>1005</td>\n",
       "      <td>840</td>\n",
       "      <td>11.1</td>\n",
       "    </tr>\n",
       "  </tbody>\n",
       "</table>\n",
       "</div>"
      ],
      "text/plain": [
       "                event_name  events_count  users_count  users_action_once\n",
       "0         MainScreenAppear        117328         7419               98.5\n",
       "1       OffersScreenAppear         46333         4593               61.0\n",
       "2         CartScreenAppear         42303         3734               49.6\n",
       "3  PaymentScreenSuccessful         33918         3539               47.0\n",
       "4                 Tutorial          1005          840               11.1"
      ]
     },
     "execution_count": 34,
     "metadata": {},
     "output_type": "execute_result"
    }
   ],
   "source": [
    "events_table = data_for_analyze.groupby('event_name').agg({'event_name':'count', 'device_id_hash':'nunique'}).sort_values(by='device_id_hash', ascending=False)\n",
    "events_table.columns = ['events_count', 'users_count']\n",
    "events_table = events_table.reset_index()\n",
    "events_table['users_action_once'] = (events_table['users_count'] / count_new_user * 100).round(1) \n",
    "events_table"
   ]
  },
  {
   "cell_type": "markdown",
   "metadata": {},
   "source": [
    "Построим график распределения событий по числу пользователей:"
   ]
  },
  {
   "cell_type": "code",
   "execution_count": 35,
   "metadata": {},
   "outputs": [
    {
     "data": {
      "image/png": "[encoded data removed]",
      "text/plain": [
       "<Figure size 864x432 with 1 Axes>"
      ]
     },
     "metadata": {
      "needs_background": "light"
     },
     "output_type": "display_data"
    }
   ],
   "source": [
    "plt.figure(figsize=(12,6))\n",
    "plt.style.use('seaborn-muted')\n",
    "ax = sns.barplot(y='users_count', x='event_name', data=events_table, palette='Blues_r')\n",
    "plt.xlabel('События')\n",
    "plt.ylabel('Число пользователей, ед.')\n",
    "plt.title('События по числу пользователей')\n",
    "plt.show()"
   ]
  },
  {
   "cell_type": "markdown",
   "metadata": {},
   "source": [
    "Построим график распределения долей пользователей, совершивших хотя бы одно событие"
   ]
  },
  {
   "cell_type": "code",
   "execution_count": 36,
   "metadata": {},
   "outputs": [
    {
     "data": {
      "image/png": "[encoded data removed]",
      "text/plain": [
       "<Figure size 864x432 with 1 Axes>"
      ]
     },
     "metadata": {
      "needs_background": "light"
     },
     "output_type": "display_data"
    }
   ],
   "source": [
    "plt.figure(figsize=(12,6))\n",
    "plt.style.use('seaborn-muted')\n",
    "ax = sns.barplot(y='users_action_once', x='event_name', data=events_table, palette='Greens_r')\n",
    "plt.xlabel('События')\n",
    "plt.ylabel('Доля пользователей,%')\n",
    "plt.title('Доля пользователей, совершивших хотя бы одно событие')\n",
    "plt.show()"
   ]
  },
  {
   "cell_type": "markdown",
   "metadata": {},
   "source": [
    "На графике также заметна цепочка последовательности совершения событий.\n",
    "\n",
    "Определим порядок проведения событий:\n",
    "Исходя из количества совершенных событий прослеживается четкая цепочка совершаемых действий пользователями:\n",
    "1. Зайти на главную страницу (MainScreenAppear)\n",
    "2. Зайти на экран выбора товара (OffersScreenAppear)\n",
    "3. Зайти в \"корзину\" (CartScreenAppear)\n",
    "4. Успешно оплатить товар (PaymentScreenSuccessful)\n",
    "\n",
    "Посещение раздела сайта с руководством (Tutorial) не пользуется популярностью. Его можно удалить из воронки продаж. Однако, нужно быть уверенным, что этот раздел не интересен ни одной из экспериментальных групп. Проверим долю пользователей, кот. заходят в Tutorial по группам."
   ]
  },
  {
   "cell_type": "code",
   "execution_count": 37,
   "metadata": {},
   "outputs": [
    {
     "data": {
      "text/html": [
       "<div>\n",
       "<style scoped>\n",
       "    .dataframe tbody tr th:only-of-type {\n",
       "        vertical-align: middle;\n",
       "    }\n",
       "\n",
       "    .dataframe tbody tr th {\n",
       "        vertical-align: top;\n",
       "    }\n",
       "\n",
       "    .dataframe thead th {\n",
       "        text-align: right;\n",
       "    }\n",
       "</style>\n",
       "<table border=\"1\" class=\"dataframe\">\n",
       "  <thead>\n",
       "    <tr style=\"text-align: right;\">\n",
       "      <th></th>\n",
       "      <th>event_name</th>\n",
       "      <th>exp_id</th>\n",
       "      <th>events_count</th>\n",
       "      <th>users_count</th>\n",
       "      <th>users_action_once</th>\n",
       "    </tr>\n",
       "  </thead>\n",
       "  <tbody>\n",
       "    <tr>\n",
       "      <th>0</th>\n",
       "      <td>MainScreenAppear</td>\n",
       "      <td>248</td>\n",
       "      <td>40562</td>\n",
       "      <td>2493</td>\n",
       "      <td>98.27</td>\n",
       "    </tr>\n",
       "    <tr>\n",
       "      <th>1</th>\n",
       "      <td>OffersScreenAppear</td>\n",
       "      <td>248</td>\n",
       "      <td>16387</td>\n",
       "      <td>1531</td>\n",
       "      <td>60.35</td>\n",
       "    </tr>\n",
       "    <tr>\n",
       "      <th>2</th>\n",
       "      <td>CartScreenAppear</td>\n",
       "      <td>248</td>\n",
       "      <td>15179</td>\n",
       "      <td>1230</td>\n",
       "      <td>48.48</td>\n",
       "    </tr>\n",
       "    <tr>\n",
       "      <th>3</th>\n",
       "      <td>PaymentScreenSuccessful</td>\n",
       "      <td>248</td>\n",
       "      <td>12085</td>\n",
       "      <td>1181</td>\n",
       "      <td>46.55</td>\n",
       "    </tr>\n",
       "    <tr>\n",
       "      <th>4</th>\n",
       "      <td>Tutorial</td>\n",
       "      <td>248</td>\n",
       "      <td>350</td>\n",
       "      <td>279</td>\n",
       "      <td>11.00</td>\n",
       "    </tr>\n",
       "    <tr>\n",
       "      <th>5</th>\n",
       "      <td>MainScreenAppear</td>\n",
       "      <td>247</td>\n",
       "      <td>39090</td>\n",
       "      <td>2476</td>\n",
       "      <td>98.53</td>\n",
       "    </tr>\n",
       "    <tr>\n",
       "      <th>6</th>\n",
       "      <td>OffersScreenAppear</td>\n",
       "      <td>247</td>\n",
       "      <td>15179</td>\n",
       "      <td>1520</td>\n",
       "      <td>60.49</td>\n",
       "    </tr>\n",
       "    <tr>\n",
       "      <th>7</th>\n",
       "      <td>CartScreenAppear</td>\n",
       "      <td>247</td>\n",
       "      <td>12434</td>\n",
       "      <td>1238</td>\n",
       "      <td>49.26</td>\n",
       "    </tr>\n",
       "    <tr>\n",
       "      <th>8</th>\n",
       "      <td>PaymentScreenSuccessful</td>\n",
       "      <td>247</td>\n",
       "      <td>9981</td>\n",
       "      <td>1158</td>\n",
       "      <td>46.08</td>\n",
       "    </tr>\n",
       "    <tr>\n",
       "      <th>9</th>\n",
       "      <td>Tutorial</td>\n",
       "      <td>247</td>\n",
       "      <td>338</td>\n",
       "      <td>283</td>\n",
       "      <td>11.26</td>\n",
       "    </tr>\n",
       "    <tr>\n",
       "      <th>10</th>\n",
       "      <td>MainScreenAppear</td>\n",
       "      <td>246</td>\n",
       "      <td>37676</td>\n",
       "      <td>2450</td>\n",
       "      <td>98.63</td>\n",
       "    </tr>\n",
       "    <tr>\n",
       "      <th>11</th>\n",
       "      <td>OffersScreenAppear</td>\n",
       "      <td>246</td>\n",
       "      <td>14767</td>\n",
       "      <td>1542</td>\n",
       "      <td>62.08</td>\n",
       "    </tr>\n",
       "    <tr>\n",
       "      <th>12</th>\n",
       "      <td>CartScreenAppear</td>\n",
       "      <td>246</td>\n",
       "      <td>14690</td>\n",
       "      <td>1266</td>\n",
       "      <td>50.97</td>\n",
       "    </tr>\n",
       "    <tr>\n",
       "      <th>13</th>\n",
       "      <td>PaymentScreenSuccessful</td>\n",
       "      <td>246</td>\n",
       "      <td>11852</td>\n",
       "      <td>1200</td>\n",
       "      <td>48.31</td>\n",
       "    </tr>\n",
       "    <tr>\n",
       "      <th>14</th>\n",
       "      <td>Tutorial</td>\n",
       "      <td>246</td>\n",
       "      <td>317</td>\n",
       "      <td>278</td>\n",
       "      <td>11.19</td>\n",
       "    </tr>\n",
       "  </tbody>\n",
       "</table>\n",
       "</div>"
      ],
      "text/plain": [
       "                 event_name  exp_id  events_count  users_count  \\\n",
       "0          MainScreenAppear     248         40562         2493   \n",
       "1        OffersScreenAppear     248         16387         1531   \n",
       "2          CartScreenAppear     248         15179         1230   \n",
       "3   PaymentScreenSuccessful     248         12085         1181   \n",
       "4                  Tutorial     248           350          279   \n",
       "5          MainScreenAppear     247         39090         2476   \n",
       "6        OffersScreenAppear     247         15179         1520   \n",
       "7          CartScreenAppear     247         12434         1238   \n",
       "8   PaymentScreenSuccessful     247          9981         1158   \n",
       "9                  Tutorial     247           338          283   \n",
       "10         MainScreenAppear     246         37676         2450   \n",
       "11       OffersScreenAppear     246         14767         1542   \n",
       "12         CartScreenAppear     246         14690         1266   \n",
       "13  PaymentScreenSuccessful     246         11852         1200   \n",
       "14                 Tutorial     246           317          278   \n",
       "\n",
       "    users_action_once  \n",
       "0               98.27  \n",
       "1               60.35  \n",
       "2               48.48  \n",
       "3               46.55  \n",
       "4               11.00  \n",
       "5               98.53  \n",
       "6               60.49  \n",
       "7               49.26  \n",
       "8               46.08  \n",
       "9               11.26  \n",
       "10              98.63  \n",
       "11              62.08  \n",
       "12              50.97  \n",
       "13              48.31  \n",
       "14              11.19  "
      ]
     },
     "execution_count": 37,
     "metadata": {},
     "output_type": "execute_result"
    }
   ],
   "source": [
    "events_group = data_for_analyze.groupby(['event_name','exp_id']).agg({'event_name':'count', 'device_id_hash':'nunique'})\n",
    "events_group.columns = ['events_count', 'users_count']\n",
    "events_group = events_group.reset_index()\n",
    "\n",
    "A246_users = data_for_analyze[data_for_analyze['exp_id']==246]['device_id_hash'].nunique()\n",
    "A247_users = data_for_analyze[data_for_analyze['exp_id']==247]['device_id_hash'].nunique()\n",
    "B248_users = data_for_analyze[data_for_analyze['exp_id']==248]['device_id_hash'].nunique()\n",
    "\n",
    "def users_by_group(row):\n",
    "    if row['exp_id'] == 246:\n",
    "        return (row['users_count'] / A246_users*100)\n",
    "    elif row['exp_id'] == 247:\n",
    "        return (row['users_count'] / A247_users*100)\n",
    "    elif row['exp_id'] == 248:\n",
    "        return (row['users_count'] / B248_users*100)\n",
    "\n",
    "events_group['users_action_once'] = events_group.apply(users_by_group, axis=1).round(2)\n",
    "events_group.sort_values(by=['exp_id','users_count'], ascending=False).reset_index(drop=True)"
   ]
  },
  {
   "cell_type": "markdown",
   "metadata": {},
   "source": [
    "Видим, что доля посещения раздела Tutorial пользователями каждой из групп колеблется в пределах 11% от общего количества конкретной группы.\n",
    "\n",
    "Удалим раздел с руководством (Tutorial) из воронки продаж."
   ]
  },
  {
   "cell_type": "code",
   "execution_count": 38,
   "metadata": {},
   "outputs": [
    {
     "data": {
      "text/html": [
       "<div>\n",
       "<style scoped>\n",
       "    .dataframe tbody tr th:only-of-type {\n",
       "        vertical-align: middle;\n",
       "    }\n",
       "\n",
       "    .dataframe tbody tr th {\n",
       "        vertical-align: top;\n",
       "    }\n",
       "\n",
       "    .dataframe thead th {\n",
       "        text-align: right;\n",
       "    }\n",
       "</style>\n",
       "<table border=\"1\" class=\"dataframe\">\n",
       "  <thead>\n",
       "    <tr style=\"text-align: right;\">\n",
       "      <th></th>\n",
       "      <th>event_name</th>\n",
       "      <th>device_id_hash</th>\n",
       "      <th>event_time_stamp</th>\n",
       "      <th>exp_id</th>\n",
       "      <th>date_time</th>\n",
       "      <th>date</th>\n",
       "    </tr>\n",
       "  </thead>\n",
       "  <tbody>\n",
       "    <tr>\n",
       "      <th>0</th>\n",
       "      <td>MainScreenAppear</td>\n",
       "      <td>3737462046622621720</td>\n",
       "      <td>1564618080</td>\n",
       "      <td>246</td>\n",
       "      <td>2019-08-01 00:08:00</td>\n",
       "      <td>2019-08-01</td>\n",
       "    </tr>\n",
       "    <tr>\n",
       "      <th>1</th>\n",
       "      <td>MainScreenAppear</td>\n",
       "      <td>3737462046622621720</td>\n",
       "      <td>1564618135</td>\n",
       "      <td>246</td>\n",
       "      <td>2019-08-01 00:08:55</td>\n",
       "      <td>2019-08-01</td>\n",
       "    </tr>\n",
       "    <tr>\n",
       "      <th>2</th>\n",
       "      <td>OffersScreenAppear</td>\n",
       "      <td>3737462046622621720</td>\n",
       "      <td>1564618138</td>\n",
       "      <td>246</td>\n",
       "      <td>2019-08-01 00:08:58</td>\n",
       "      <td>2019-08-01</td>\n",
       "    </tr>\n",
       "    <tr>\n",
       "      <th>3</th>\n",
       "      <td>MainScreenAppear</td>\n",
       "      <td>1433840883824088890</td>\n",
       "      <td>1564618139</td>\n",
       "      <td>247</td>\n",
       "      <td>2019-08-01 00:08:59</td>\n",
       "      <td>2019-08-01</td>\n",
       "    </tr>\n",
       "    <tr>\n",
       "      <th>4</th>\n",
       "      <td>MainScreenAppear</td>\n",
       "      <td>4899590676214355127</td>\n",
       "      <td>1564618215</td>\n",
       "      <td>247</td>\n",
       "      <td>2019-08-01 00:10:15</td>\n",
       "      <td>2019-08-01</td>\n",
       "    </tr>\n",
       "    <tr>\n",
       "      <th>...</th>\n",
       "      <td>...</td>\n",
       "      <td>...</td>\n",
       "      <td>...</td>\n",
       "      <td>...</td>\n",
       "      <td>...</td>\n",
       "      <td>...</td>\n",
       "    </tr>\n",
       "    <tr>\n",
       "      <th>239877</th>\n",
       "      <td>MainScreenAppear</td>\n",
       "      <td>4599628364049201812</td>\n",
       "      <td>1565212345</td>\n",
       "      <td>247</td>\n",
       "      <td>2019-08-07 21:12:25</td>\n",
       "      <td>2019-08-07</td>\n",
       "    </tr>\n",
       "    <tr>\n",
       "      <th>239878</th>\n",
       "      <td>MainScreenAppear</td>\n",
       "      <td>5849806612437486590</td>\n",
       "      <td>1565212439</td>\n",
       "      <td>246</td>\n",
       "      <td>2019-08-07 21:13:59</td>\n",
       "      <td>2019-08-07</td>\n",
       "    </tr>\n",
       "    <tr>\n",
       "      <th>239879</th>\n",
       "      <td>MainScreenAppear</td>\n",
       "      <td>5746969938801999050</td>\n",
       "      <td>1565212483</td>\n",
       "      <td>246</td>\n",
       "      <td>2019-08-07 21:14:43</td>\n",
       "      <td>2019-08-07</td>\n",
       "    </tr>\n",
       "    <tr>\n",
       "      <th>239880</th>\n",
       "      <td>MainScreenAppear</td>\n",
       "      <td>5746969938801999050</td>\n",
       "      <td>1565212498</td>\n",
       "      <td>246</td>\n",
       "      <td>2019-08-07 21:14:58</td>\n",
       "      <td>2019-08-07</td>\n",
       "    </tr>\n",
       "    <tr>\n",
       "      <th>239881</th>\n",
       "      <td>OffersScreenAppear</td>\n",
       "      <td>5746969938801999050</td>\n",
       "      <td>1565212517</td>\n",
       "      <td>246</td>\n",
       "      <td>2019-08-07 21:15:17</td>\n",
       "      <td>2019-08-07</td>\n",
       "    </tr>\n",
       "  </tbody>\n",
       "</table>\n",
       "<p>239882 rows × 6 columns</p>\n",
       "</div>"
      ],
      "text/plain": [
       "                event_name       device_id_hash  event_time_stamp  exp_id  \\\n",
       "0         MainScreenAppear  3737462046622621720        1564618080     246   \n",
       "1         MainScreenAppear  3737462046622621720        1564618135     246   \n",
       "2       OffersScreenAppear  3737462046622621720        1564618138     246   \n",
       "3         MainScreenAppear  1433840883824088890        1564618139     247   \n",
       "4         MainScreenAppear  4899590676214355127        1564618215     247   \n",
       "...                    ...                  ...               ...     ...   \n",
       "239877    MainScreenAppear  4599628364049201812        1565212345     247   \n",
       "239878    MainScreenAppear  5849806612437486590        1565212439     246   \n",
       "239879    MainScreenAppear  5746969938801999050        1565212483     246   \n",
       "239880    MainScreenAppear  5746969938801999050        1565212498     246   \n",
       "239881  OffersScreenAppear  5746969938801999050        1565212517     246   \n",
       "\n",
       "                 date_time       date  \n",
       "0      2019-08-01 00:08:00 2019-08-01  \n",
       "1      2019-08-01 00:08:55 2019-08-01  \n",
       "2      2019-08-01 00:08:58 2019-08-01  \n",
       "3      2019-08-01 00:08:59 2019-08-01  \n",
       "4      2019-08-01 00:10:15 2019-08-01  \n",
       "...                    ...        ...  \n",
       "239877 2019-08-07 21:12:25 2019-08-07  \n",
       "239878 2019-08-07 21:13:59 2019-08-07  \n",
       "239879 2019-08-07 21:14:43 2019-08-07  \n",
       "239880 2019-08-07 21:14:58 2019-08-07  \n",
       "239881 2019-08-07 21:15:17 2019-08-07  \n",
       "\n",
       "[239882 rows x 6 columns]"
      ]
     },
     "execution_count": 38,
     "metadata": {},
     "output_type": "execute_result"
    }
   ],
   "source": [
    "new_event_name = ['MainScreenAppear', 'OffersScreenAppear', 'CartScreenAppear', 'PaymentScreenSuccessful']\n",
    "data_sales = data_for_analyze.query('event_name in @new_event_name').reset_index(drop = True)\n",
    "data_sales"
   ]
  },
  {
   "cell_type": "code",
   "execution_count": 39,
   "metadata": {},
   "outputs": [
    {
     "data": {
      "text/plain": [
       "MainScreenAppear           117328\n",
       "OffersScreenAppear          46333\n",
       "CartScreenAppear            42303\n",
       "PaymentScreenSuccessful     33918\n",
       "Name: event_name, dtype: int64"
      ]
     },
     "execution_count": 39,
     "metadata": {},
     "output_type": "execute_result"
    }
   ],
   "source": [
    "data_sales['event_name'].value_counts()"
   ]
  },
  {
   "cell_type": "markdown",
   "metadata": {},
   "source": [
    "Оределим долю пользователей, которая проходит на следующий шаг воронки:"
   ]
  },
  {
   "cell_type": "code",
   "execution_count": 40,
   "metadata": {},
   "outputs": [
    {
     "data": {
      "text/html": [
       "<div>\n",
       "<style scoped>\n",
       "    .dataframe tbody tr th:only-of-type {\n",
       "        vertical-align: middle;\n",
       "    }\n",
       "\n",
       "    .dataframe tbody tr th {\n",
       "        vertical-align: top;\n",
       "    }\n",
       "\n",
       "    .dataframe thead th {\n",
       "        text-align: right;\n",
       "    }\n",
       "</style>\n",
       "<table border=\"1\" class=\"dataframe\">\n",
       "  <thead>\n",
       "    <tr style=\"text-align: right;\">\n",
       "      <th></th>\n",
       "      <th>event_name</th>\n",
       "      <th>events_count</th>\n",
       "      <th>users_count</th>\n",
       "      <th>users_action_once</th>\n",
       "      <th>Пользователи, перешедшие на следующий шаг,%</th>\n",
       "      <th>Доля пользователей относительно первого события, %</th>\n",
       "    </tr>\n",
       "  </thead>\n",
       "  <tbody>\n",
       "    <tr>\n",
       "      <th>0</th>\n",
       "      <td>MainScreenAppear</td>\n",
       "      <td>117328</td>\n",
       "      <td>7419</td>\n",
       "      <td>98.5</td>\n",
       "      <td>100.0</td>\n",
       "      <td>100.0</td>\n",
       "    </tr>\n",
       "    <tr>\n",
       "      <th>1</th>\n",
       "      <td>OffersScreenAppear</td>\n",
       "      <td>46333</td>\n",
       "      <td>4593</td>\n",
       "      <td>61.0</td>\n",
       "      <td>61.9</td>\n",
       "      <td>61.9</td>\n",
       "    </tr>\n",
       "    <tr>\n",
       "      <th>2</th>\n",
       "      <td>CartScreenAppear</td>\n",
       "      <td>42303</td>\n",
       "      <td>3734</td>\n",
       "      <td>49.6</td>\n",
       "      <td>81.3</td>\n",
       "      <td>50.3</td>\n",
       "    </tr>\n",
       "    <tr>\n",
       "      <th>3</th>\n",
       "      <td>PaymentScreenSuccessful</td>\n",
       "      <td>33918</td>\n",
       "      <td>3539</td>\n",
       "      <td>47.0</td>\n",
       "      <td>94.8</td>\n",
       "      <td>47.7</td>\n",
       "    </tr>\n",
       "  </tbody>\n",
       "</table>\n",
       "</div>"
      ],
      "text/plain": [
       "                event_name  events_count  users_count  users_action_once  \\\n",
       "0         MainScreenAppear        117328         7419               98.5   \n",
       "1       OffersScreenAppear         46333         4593               61.0   \n",
       "2         CartScreenAppear         42303         3734               49.6   \n",
       "3  PaymentScreenSuccessful         33918         3539               47.0   \n",
       "\n",
       "   Пользователи, перешедшие на следующий шаг,%  \\\n",
       "0                                        100.0   \n",
       "1                                         61.9   \n",
       "2                                         81.3   \n",
       "3                                         94.8   \n",
       "\n",
       "   Доля пользователей относительно первого события, %  \n",
       "0                                              100.0   \n",
       "1                                               61.9   \n",
       "2                                               50.3   \n",
       "3                                               47.7   "
      ]
     },
     "execution_count": 40,
     "metadata": {},
     "output_type": "execute_result"
    }
   ],
   "source": [
    "previous_user = events_table.loc[0,'users_count']\n",
    "start_user = previous_user\n",
    "for i in events_table.index:\n",
    "    events_table.loc[i,'Пользователи, перешедшие на следующий шаг,%'] = (events_table.loc[i,'users_count']/previous_user*100).round(1)\n",
    "    events_table.loc[i,'Доля пользователей относительно первого события, %'] = (events_table.loc[i,'users_count'] / start_user * 100).round(1)\n",
    "    previous_user = events_table.loc[i,'users_count']\n",
    "events_table.query('event_name in @new_event_name')"
   ]
  },
  {
   "cell_type": "markdown",
   "metadata": {},
   "source": [
    "Как видим из анализа долей пользователей, перешедших на следующий шаг - наибольшее \"проседание\" наблюдается при переходе с главной страницы на страницу выбора заказов(-38.1%). При дальнейших переходах на страницу корзины и оплаты - больших потерь уже не наблюдается. Возможно, имеются определенные проблемы на главной странице - поскольку теряется более 1/3 пользователей. До оплаты доходит 47.7% пользователей, посетивших первую страницу."
   ]
  },
  {
   "cell_type": "markdown",
   "metadata": {},
   "source": [
    "Определим количество пользователей в каждой экспериментальной групп"
   ]
  },
  {
   "cell_type": "code",
   "execution_count": 41,
   "metadata": {},
   "outputs": [
    {
     "name": "stdout",
     "output_type": "stream",
     "text": [
      "Группа 246 включает в себя 2483 пользователей\n",
      "Группа 247 включает в себя 2512 пользователей\n",
      "Группа 248 включает в себя 2535 пользователей\n"
     ]
    }
   ],
   "source": [
    "for i in [246,247,248]:\n",
    "    print(f\"Группа {i} включает в себя {data_sales[data_sales['exp_id']==i]['device_id_hash'].nunique()} пользователей\")"
   ]
  },
  {
   "cell_type": "markdown",
   "metadata": {},
   "source": [
    "- Подготовим данные для проведения и анализа тестов (А/А, А/В эксперименты), а также расчета статистических критериев:"
   ]
  },
  {
   "cell_type": "markdown",
   "metadata": {},
   "source": [
    "Переименуем названия групп 246 на А, 247 на А_, 248 на В для упрощения проведения и интерпретации результатов статистических расчетов."
   ]
  },
  {
   "cell_type": "code",
   "execution_count": 42,
   "metadata": {},
   "outputs": [
    {
     "data": {
      "text/plain": [
       "B     84213\n",
       "A     78985\n",
       "A_    76684\n",
       "Name: exp_id, dtype: int64"
      ]
     },
     "execution_count": 42,
     "metadata": {},
     "output_type": "execute_result"
    }
   ],
   "source": [
    "data_sales['exp_id']  = data_sales['exp_id'].apply(lambda x: 'A' if x==246 else ('A_' if x==247 else 'B'))\n",
    "data_sales['exp_id'].value_counts()"
   ]
  },
  {
   "cell_type": "code",
   "execution_count": 43,
   "metadata": {},
   "outputs": [
    {
     "data": {
      "text/plain": [
       "exp_id\n",
       "A      2483\n",
       "A_     2512\n",
       "B      2535\n",
       "AA_    4995\n",
       "Name: device_id_hash, dtype: int64"
      ]
     },
     "execution_count": 43,
     "metadata": {},
     "output_type": "execute_result"
    }
   ],
   "source": [
    "# создадим комбинированный столбец АА_\n",
    "users_bygroup = data_sales.groupby('exp_id')['device_id_hash'].nunique()\n",
    "users_bygroup ['AA_'] = users_bygroup ['A']+users_bygroup ['A_']\n",
    "users_bygroup"
   ]
  },
  {
   "cell_type": "markdown",
   "metadata": {},
   "source": [
    "Определим наиболее популярное событие и сколько процентов пользователей его совершили из каждой экспериментальной группы."
   ]
  },
  {
   "cell_type": "code",
   "execution_count": 44,
   "metadata": {},
   "outputs": [
    {
     "data": {
      "text/html": [
       "<div>\n",
       "<style scoped>\n",
       "    .dataframe tbody tr th:only-of-type {\n",
       "        vertical-align: middle;\n",
       "    }\n",
       "\n",
       "    .dataframe tbody tr th {\n",
       "        vertical-align: top;\n",
       "    }\n",
       "\n",
       "    .dataframe thead th {\n",
       "        text-align: right;\n",
       "    }\n",
       "</style>\n",
       "<table border=\"1\" class=\"dataframe\">\n",
       "  <thead>\n",
       "    <tr style=\"text-align: right;\">\n",
       "      <th>exp_id</th>\n",
       "      <th>event_name</th>\n",
       "      <th>A</th>\n",
       "      <th>A_</th>\n",
       "      <th>B</th>\n",
       "      <th>AA_</th>\n",
       "      <th>all</th>\n",
       "      <th>ratio A</th>\n",
       "      <th>ratio A_</th>\n",
       "      <th>ratio B</th>\n",
       "      <th>ratio A_A</th>\n",
       "    </tr>\n",
       "  </thead>\n",
       "  <tbody>\n",
       "    <tr>\n",
       "      <th>0</th>\n",
       "      <td>MainScreenAppear</td>\n",
       "      <td>2450</td>\n",
       "      <td>2476</td>\n",
       "      <td>2493</td>\n",
       "      <td>4926</td>\n",
       "      <td>7419</td>\n",
       "      <td>98.7</td>\n",
       "      <td>98.6</td>\n",
       "      <td>98.3</td>\n",
       "      <td>98.6</td>\n",
       "    </tr>\n",
       "    <tr>\n",
       "      <th>1</th>\n",
       "      <td>OffersScreenAppear</td>\n",
       "      <td>1542</td>\n",
       "      <td>1520</td>\n",
       "      <td>1531</td>\n",
       "      <td>3062</td>\n",
       "      <td>4593</td>\n",
       "      <td>62.1</td>\n",
       "      <td>60.5</td>\n",
       "      <td>60.4</td>\n",
       "      <td>61.3</td>\n",
       "    </tr>\n",
       "    <tr>\n",
       "      <th>2</th>\n",
       "      <td>CartScreenAppear</td>\n",
       "      <td>1266</td>\n",
       "      <td>1238</td>\n",
       "      <td>1230</td>\n",
       "      <td>2504</td>\n",
       "      <td>3734</td>\n",
       "      <td>51.0</td>\n",
       "      <td>49.3</td>\n",
       "      <td>48.5</td>\n",
       "      <td>50.1</td>\n",
       "    </tr>\n",
       "    <tr>\n",
       "      <th>3</th>\n",
       "      <td>PaymentScreenSuccessful</td>\n",
       "      <td>1200</td>\n",
       "      <td>1158</td>\n",
       "      <td>1181</td>\n",
       "      <td>2358</td>\n",
       "      <td>3539</td>\n",
       "      <td>48.3</td>\n",
       "      <td>46.1</td>\n",
       "      <td>46.6</td>\n",
       "      <td>47.2</td>\n",
       "    </tr>\n",
       "  </tbody>\n",
       "</table>\n",
       "</div>"
      ],
      "text/plain": [
       "exp_id               event_name     A    A_     B   AA_   all  ratio A  \\\n",
       "0              MainScreenAppear  2450  2476  2493  4926  7419     98.7   \n",
       "1            OffersScreenAppear  1542  1520  1531  3062  4593     62.1   \n",
       "2              CartScreenAppear  1266  1238  1230  2504  3734     51.0   \n",
       "3       PaymentScreenSuccessful  1200  1158  1181  2358  3539     48.3   \n",
       "\n",
       "exp_id  ratio A_  ratio B  ratio A_A  \n",
       "0           98.6     98.3       98.6  \n",
       "1           60.5     60.4       61.3  \n",
       "2           49.3     48.5       50.1  \n",
       "3           46.1     46.6       47.2  "
      ]
     },
     "execution_count": 44,
     "metadata": {},
     "output_type": "execute_result"
    }
   ],
   "source": [
    "users_bygroup = data_sales.groupby('exp_id')['device_id_hash'].nunique()\n",
    "test_table = data_sales.pivot_table(\n",
    "    index='event_name', \n",
    "    columns='exp_id', \n",
    "    values='device_id_hash',\n",
    "    aggfunc='nunique').sort_values(by='A', ascending=False)\n",
    "\n",
    "test_table = test_table.reset_index()\n",
    "test_table['AA_'] = test_table['A'] + test_table['A_']\n",
    "test_table['all'] = test_table['A'] + test_table['A_'] + test_table['B']\n",
    "test_table['ratio A'] = (test_table['A'] / users_bygroup['A'] * 100).round(1)\n",
    "test_table['ratio A_'] = (test_table['A_'] / users_bygroup['A_'] * 100).round(1)\n",
    "test_table['ratio B'] = (test_table['B'] / users_bygroup['B'] * 100).round(1)\n",
    "test_table['ratio A_A'] = ((test_table['A'] + test_table['A_']) / (users_bygroup['A'] + users_bygroup['A_']) * 100).round(1)\n",
    "test_table"
   ]
  },
  {
   "cell_type": "markdown",
   "metadata": {},
   "source": [
    "**1.** Самым популярным событием является открытие главной страницы (MainScreenAppear). Данное событие совершило 7 419 пользователей приложения:\n",
    "- Из группы А (246) - 2450 человек;\n",
    "- Из группы А_ (247) - 2476 человек;\n",
    "- Из группы В (248) - 2493 человек.\n",
    "\n",
    "**2.** Доля пользователей, совершивших это событие - 98.5% (расчитана при определении воронки продаж). По экспериментальным группам структура следующая:\n",
    "- Группа А (246): 98.7%\n",
    "- Группа А_ (247): 98.6%\n",
    "- Группа В (248): 98.3%\n"
   ]
  },
  {
   "cell_type": "markdown",
   "metadata": {},
   "source": [
    "**Напишем функцию, сравнивающую группы и проверяющую статистическую значимость.**\n",
    "\n",
    "Степень различия ключевых метрик по группам зависит от необходимой чувствительности эксперимента. Для A/A-теста критерием успешности будет использование alpha 1%, так как по заданию эти группы одинаковы. \n",
    "\n",
    "Для A/B теста не требуется высокая точность, вследствии этого для него будет использован стандартный уровень значимости alpha  5%. "
   ]
  },
  {
   "cell_type": "code",
   "execution_count": 45,
   "metadata": {},
   "outputs": [],
   "source": [
    "def test(group1, group2, alpha):\n",
    "    for i in test_table.index:\n",
    "        p1 = test_table[group1][i] / users_bygroup[group1]\n",
    "        p2 = test_table[group2][i] / users_bygroup[group2]\n",
    "        p_all = ((test_table[group1][i] + test_table[group2][i]) / (users_bygroup[group1] + users_bygroup[group2]))\n",
    "        z_value = (p1 - p2) / mth.sqrt(p_all * (1 - p_all) * (1 / users_bygroup[group1] + 1 / users_bygroup[group2]))\n",
    "        distr = st.norm(0, 1)\n",
    "        p_value = (1 - distr.cdf(abs(z_value))) * 2\n",
    "        print('{} p-значение: {}'.format(test_table['event_name'][i], p_value))\n",
    "        if p_value < alpha:\n",
    "            print('Отвергаем нулевую гипотезу: между долями есть значимая разница')\n",
    "        else:\n",
    "            print('Не получилось отвергнуть нулевую гипотезу, нет оснований считать доли разными')\n",
    "        print('')"
   ]
  },
  {
   "cell_type": "markdown",
   "metadata": {},
   "source": [
    "Гипотезы:\n",
    "\n",
    "H0: Отсутствует статистическая значимость в отличии в долях пользователей, перешедших на следующий этап воронки. Нет оснований считать доли разными.\n",
    "\n",
    "H1: Присутствует статистическая значимость в отличии в долях пользователей, перешедших на следующий этап воронки. Есть основания считать доли разными.\n",
    "\n"
   ]
  },
  {
   "cell_type": "markdown",
   "metadata": {},
   "source": [
    "**A/A тест**"
   ]
  },
  {
   "cell_type": "code",
   "execution_count": 46,
   "metadata": {},
   "outputs": [
    {
     "name": "stdout",
     "output_type": "stream",
     "text": [
      "MainScreenAppear p-значение: 0.7526703436483038\n",
      "Не получилось отвергнуть нулевую гипотезу, нет оснований считать доли разными\n",
      "\n",
      "OffersScreenAppear p-значение: 0.24786096925282264\n",
      "Не получилось отвергнуть нулевую гипотезу, нет оснований считать доли разными\n",
      "\n",
      "CartScreenAppear p-значение: 0.22867643757335676\n",
      "Не получилось отвергнуть нулевую гипотезу, нет оснований считать доли разными\n",
      "\n",
      "PaymentScreenSuccessful p-значение: 0.11446627829276612\n",
      "Не получилось отвергнуть нулевую гипотезу, нет оснований считать доли разными\n",
      "\n"
     ]
    }
   ],
   "source": [
    "test('A', 'A_', 0.01)"
   ]
  },
  {
   "cell_type": "markdown",
   "metadata": {},
   "source": [
    "**А/В тест**"
   ]
  },
  {
   "cell_type": "code",
   "execution_count": 47,
   "metadata": {},
   "outputs": [
    {
     "name": "stdout",
     "output_type": "stream",
     "text": [
      "MainScreenAppear p-значение: 0.3387114076159288\n",
      "Не получилось отвергнуть нулевую гипотезу, нет оснований считать доли разными\n",
      "\n",
      "OffersScreenAppear p-значение: 0.21442476639710506\n",
      "Не получилось отвергнуть нулевую гипотезу, нет оснований считать доли разными\n",
      "\n",
      "CartScreenAppear p-значение: 0.08067367598823139\n",
      "Не получилось отвергнуть нулевую гипотезу, нет оснований считать доли разными\n",
      "\n",
      "PaymentScreenSuccessful p-значение: 0.21693033984516674\n",
      "Не получилось отвергнуть нулевую гипотезу, нет оснований считать доли разными\n",
      "\n"
     ]
    }
   ],
   "source": [
    "test('A', 'B', 0.05)"
   ]
  },
  {
   "cell_type": "markdown",
   "metadata": {},
   "source": [
    "**A_/B тест**"
   ]
  },
  {
   "cell_type": "code",
   "execution_count": 48,
   "metadata": {},
   "outputs": [
    {
     "name": "stdout",
     "output_type": "stream",
     "text": [
      "MainScreenAppear p-значение: 0.5194964354051703\n",
      "Не получилось отвергнуть нулевую гипотезу, нет оснований считать доли разными\n",
      "\n",
      "OffersScreenAppear p-значение: 0.9333751305879443\n",
      "Не получилось отвергнуть нулевую гипотезу, нет оснований считать доли разными\n",
      "\n",
      "CartScreenAppear p-значение: 0.5878284605111943\n",
      "Не получилось отвергнуть нулевую гипотезу, нет оснований считать доли разными\n",
      "\n",
      "PaymentScreenSuccessful p-значение: 0.7275718682261119\n",
      "Не получилось отвергнуть нулевую гипотезу, нет оснований считать доли разными\n",
      "\n"
     ]
    }
   ],
   "source": [
    "test('A_', 'B', 0.05)"
   ]
  },
  {
   "cell_type": "markdown",
   "metadata": {},
   "source": [
    "**АА_/В тест**"
   ]
  },
  {
   "cell_type": "code",
   "execution_count": 53,
   "metadata": {},
   "outputs": [
    {
     "data": {
      "text/html": [
       "<div>\n",
       "<style scoped>\n",
       "    .dataframe tbody tr th:only-of-type {\n",
       "        vertical-align: middle;\n",
       "    }\n",
       "\n",
       "    .dataframe tbody tr th {\n",
       "        vertical-align: top;\n",
       "    }\n",
       "\n",
       "    .dataframe thead th {\n",
       "        text-align: right;\n",
       "    }\n",
       "</style>\n",
       "<table border=\"1\" class=\"dataframe\">\n",
       "  <thead>\n",
       "    <tr style=\"text-align: right;\">\n",
       "      <th>exp_id</th>\n",
       "      <th>event_name</th>\n",
       "      <th>A</th>\n",
       "      <th>A_</th>\n",
       "      <th>B</th>\n",
       "      <th>AA_</th>\n",
       "      <th>all</th>\n",
       "      <th>ratio A</th>\n",
       "      <th>ratio A_</th>\n",
       "      <th>ratio B</th>\n",
       "      <th>ratio A_A</th>\n",
       "    </tr>\n",
       "  </thead>\n",
       "  <tbody>\n",
       "    <tr>\n",
       "      <th>0</th>\n",
       "      <td>MainScreenAppear</td>\n",
       "      <td>2450</td>\n",
       "      <td>2476</td>\n",
       "      <td>2493</td>\n",
       "      <td>4926</td>\n",
       "      <td>7419</td>\n",
       "      <td>98.7</td>\n",
       "      <td>98.6</td>\n",
       "      <td>98.3</td>\n",
       "      <td>98.6</td>\n",
       "    </tr>\n",
       "    <tr>\n",
       "      <th>1</th>\n",
       "      <td>OffersScreenAppear</td>\n",
       "      <td>1542</td>\n",
       "      <td>1520</td>\n",
       "      <td>1531</td>\n",
       "      <td>3062</td>\n",
       "      <td>4593</td>\n",
       "      <td>62.1</td>\n",
       "      <td>60.5</td>\n",
       "      <td>60.4</td>\n",
       "      <td>61.3</td>\n",
       "    </tr>\n",
       "    <tr>\n",
       "      <th>2</th>\n",
       "      <td>CartScreenAppear</td>\n",
       "      <td>1266</td>\n",
       "      <td>1238</td>\n",
       "      <td>1230</td>\n",
       "      <td>2504</td>\n",
       "      <td>3734</td>\n",
       "      <td>51.0</td>\n",
       "      <td>49.3</td>\n",
       "      <td>48.5</td>\n",
       "      <td>50.1</td>\n",
       "    </tr>\n",
       "    <tr>\n",
       "      <th>3</th>\n",
       "      <td>PaymentScreenSuccessful</td>\n",
       "      <td>1200</td>\n",
       "      <td>1158</td>\n",
       "      <td>1181</td>\n",
       "      <td>2358</td>\n",
       "      <td>3539</td>\n",
       "      <td>48.3</td>\n",
       "      <td>46.1</td>\n",
       "      <td>46.6</td>\n",
       "      <td>47.2</td>\n",
       "    </tr>\n",
       "  </tbody>\n",
       "</table>\n",
       "</div>"
      ],
      "text/plain": [
       "exp_id               event_name     A    A_     B   AA_   all  ratio A  \\\n",
       "0              MainScreenAppear  2450  2476  2493  4926  7419     98.7   \n",
       "1            OffersScreenAppear  1542  1520  1531  3062  4593     62.1   \n",
       "2              CartScreenAppear  1266  1238  1230  2504  3734     51.0   \n",
       "3       PaymentScreenSuccessful  1200  1158  1181  2358  3539     48.3   \n",
       "\n",
       "exp_id  ratio A_  ratio B  ratio A_A  \n",
       "0           98.6     98.3       98.6  \n",
       "1           60.5     60.4       61.3  \n",
       "2           49.3     48.5       50.1  \n",
       "3           46.1     46.6       47.2  "
      ]
     },
     "execution_count": 53,
     "metadata": {},
     "output_type": "execute_result"
    }
   ],
   "source": [
    "test_table"
   ]
  },
  {
   "cell_type": "code",
   "execution_count": 55,
   "metadata": {},
   "outputs": [
    {
     "data": {
      "text/plain": [
       "exp_id\n",
       "A     2483\n",
       "A_    2512\n",
       "B     2535\n",
       "Name: device_id_hash, dtype: int64"
      ]
     },
     "execution_count": 55,
     "metadata": {},
     "output_type": "execute_result"
    }
   ],
   "source": [
    "users_bygroup"
   ]
  },
  {
   "cell_type": "markdown",
   "metadata": {},
   "source": [
    "Таким образом, проведенный АА тест позволил сделать вывод о предварительных результатах А/В теста. Две контрольные группы оказались практически равными, что можно трактовать как достигнутую точность в проведимом исследовании. Возможно предлагаемые шрифты стоит использовать в приложении. Статистической значимости в изменении долей пользователей, переходящих на страницы в мобильном приложенни нет: ни в контрольных группах, ни в экспериментальной. Пользователи также продолжают пользоваться приложением, что и до нововведений со шрифтами."
   ]
  },
  {
   "cell_type": "code",
   "execution_count": null,
   "metadata": {},
   "outputs": [],
   "source": [
    "alpha = 0.05  # критический уровень статистической значимости\n",
    "\n",
    "results_AB = st.ttest_ind(test_table['A'], test_table['B'])\n",
    "\n",
    "results_AA_ = st.ttest_ind(test_table['A'], test_table['A_'])\n",
    "\n",
    "results_A_B = st.ttest_ind(test_table['A_'], test_table['B'])\n",
    "\n",
    "results_AA_B = st.ttest_ind(test_table['AA_'], test_table['B'])\n",
    "\n",
    "\n",
    "bonferroni_alpha = alpha /16  # произведено шестнадцать сравнений\n",
    "\n",
    "print('p-значение для сравнения групп А и B: ', results_AB.pvalue)\n",
    "print('p-значение для сравнения групп А и А_ ', results_AA_.pvalue)\n",
    "print('p-значение для сравнения групп А_ и B: ', results_A_B.pvalue)\n",
    "print('p-значение для сравнения групп АA_ и B: ', results_AA_B.pvalue)\n",
    "\n",
    "if results_AB.pvalue < bonferroni_alpha:\n",
    "    print('Отвергаем нулевую гипотезу для сравнения групп А и B')\n",
    "else:\n",
    "    print(\n",
    "        'Не получилось отвергнуть нулевую гипотезу для сравнения групп А и B'\n",
    "    )\n",
    "\n",
    "if results_AA_.pvalue < bonferroni_alpha:\n",
    "    print('Отвергаем нулевую гипотезу для сравнения групп А и А_')\n",
    "else:\n",
    "    print(\n",
    "        'Не получилось отвергнуть нулевую гипотезу для сравнения групп А и А_'\n",
    "    )\n",
    "\n",
    "if results_A_B.pvalue < bonferroni_alpha:\n",
    "    print('Отвергаем нулевую гипотезу для сравнения групп А_ и B')\n",
    "else:\n",
    "    print(\n",
    "        'Не получилось отвергнуть нулевую гипотезу для сравнения групп А_ и B'\n",
    "    ) \n",
    "\n",
    "if results_AA_B.pvalue < bonferroni_alpha:\n",
    "    print('Отвергаем нулевую гипотезу для сравнения групп АA_ и B')\n",
    "else:\n",
    "    print(\n",
    "        'Не получилось отвергнуть нулевую гипотезу для сравнения групп АA_ и B'\n",
    "    ) "
   ]
  },
  {
   "cell_type": "markdown",
   "metadata": {},
   "source": [
    "Результаты получающихся p-value - почти все они намного больше установленного нами уровня альфа (0.05). Поэтому можно сделать вывод о том, что можно оставить уровень значимости, например, 0.05. От этого наши выводы по проверке гипотез не изменятся - отличия в долях пользователей, совершивших события, не являются статистически значимыми."
   ]
  },
  {
   "cell_type": "markdown",
   "metadata": {},
   "source": [
    "# Выводы:\n",
    "\n",
    "\n"
   ]
  },
  {
   "cell_type": "markdown",
   "metadata": {},
   "source": [
    "Перед исследованием поведения пользователей мобильного приложения магазина была проведена предобработка данных:\n",
    "1. Был изменен регистр и приведено названия столбцов к наиболее подходящему для работы виду;\n",
    "2. Данные были проверены на наличие пропусков, дубликатов, проанализирована корректность типов данных:\n",
    " - дубликаты были удалены;\n",
    " - типы данных в графе даты были изменены на соответствующие;\n",
    "\n",
    "При исследовательском анализе данных было определено, что пользователи участвуют в выполнении следующих событий:\n",
    "- зайти на главный экран (**MainScreenAppear**): событие произошло 119 101 раз;\n",
    "- зайти на экран выбора товара (экран предложений) (**OffersScreenAppear**): событие произошло 46 808 раз;\n",
    "- зайти в \"корзину\" (**CartScreenAppear**): событие произошло 42 668 раз;\n",
    "- успешно оплатить товар (**PaymentScreenSuccessful**): событие произошло 34 118 раз;\n",
    "- зайти на экран руководства/справки (**Tutorial**): событие произошло 1018 раз.\n",
    "\n",
    "Выяснено, что В среднем на одного пользователя приходится 32 события.\n",
    "\n",
    "При анализе графика активности использования приложения пользователями удалось определить, что до 1 августа 2019г. пользователи не активно использовали приложение. Наиболее полные данные имеем с 01.08.2019, был сдеалан срез данных с этой даты для дальнейшего анализа. До фильтра старых данных в логе было 243 713 событий, после стало 240 887 событий. Общая сумма потери - 2 826 события (что составляет 1,16% потерь от изначального количества событий). Больше всего потерь у события MainScreenAppear - 1.49%. До отбрасывания старых данных пользователей было 7 551 чел., после фильтрации 7 534 чел. - потери в данных 17 человек (что составляет 0.2%).\n",
    "\n",
    "После фильтрации данных определено, что чаще всего пользователи совершают следующие события:\n",
    "- зайти на главный экран (MainScreenAppear): событие произошло 117 328 раз;\n",
    "- зайти на экран выбора товара (экран предложений) (OffersScreenAppear): событие произошло 46 333 раза;\n",
    "- зайти в \"корзину\" (CartScreenAppear): событие произошло 42 303 раза;\n",
    "- успешно оплатить товар (PaymentScreenSuccessful): событие произошло 33 918 раз;\n",
    "- зайти на экран руководства/справки (Tutorial): событие произошло 1005 раз.\n",
    "\n",
    "Большая часть произошедших событий - открытие главного экрана - 48.71% от общего числа событий. На экран выбора товара приходится 19.23% пользователей, на экран \"корзины покупок\" приходится 17.56% всех событий, а на экран успешного совершенного платежа - 14.08% событий. Справка/руководство пользуется наименьшей популярностью - 0.42%: либо совсем не заметно расположение справки на сайте, либо совсем не интересен этот этап знакомства с сайтом и процессом выбора товара, и его дальнейшей оплатой пользователям.\n",
    "\n",
    "\n",
    "Исходя из полученных данных по доле пользователей, хоть раз совершивших определенное событие, сделаем следующие выводы:\n",
    "1. 98.47% пользователей из общего числа открывают главный экран (вероятно оставшиеся 2.53% посещают страницы сайта сразу из закладок в браузере);\n",
    "2. 60.96% пользователей заходят на страницу выбора товара;\n",
    "3. 49.56% пользователей выбирают товар и кладут его в корзину;\n",
    "4. 46.97% пользователей оплачивают товар.\n",
    "5. 11.15% пользователей просматривают руководство.\n",
    "\n",
    "Был определен порядок проведения событий:\n",
    "Исходя из количества совершенных событий прослеживается четкая цепочка совершаемых действий пользователями:\n",
    "1. Зайти на главную страницу (MainScreenAppear)\n",
    "2. Зайти на экран выбора товара (OffersScreenAppear)\n",
    "3. Зайти в \"корзину\" (CartScreenAppear)\n",
    "4. Успешно оплатить товар (PaymentScreenSuccessful)\n",
    "\n",
    "Посещение раздела сайта с руководством (Tutorial) не пользуется популярностью. Было принято решение об удалении его из воронки продаж.\n",
    "\n",
    "Оределена доля пользователей, которая проходит на следующий шаг воронки:\n",
    "\n",
    "из анализа долей пользователей, перешедших на следующий шаг - наибольшее \"проседание\" наблюдается при переходе с главной страницы на страницу выбора заказов(-38.1%). При дальнейших переходах на страницу корзины и оплаты - больших потерь уже не наблюдается. Возможно, имеются определенные проблемы на главной странице - поскольку теряется более 1/3 пользователей. До оплаты доходит 47.7% пользователей, посетивших первую страницу.\n",
    "\n",
    "Были подготовлены данные для проведения и анализа тестов (А/А, А/В эксперименты), а также расчета статистических критериев.\n",
    "\n",
    "Выяснено, что:\n",
    "\n",
    "1. Самым популярным событием является открытие главной страницы (MainScreenAppear). Данное событие совершило 7 419 пользователей приложения:\n",
    "\n",
    "Из группы А (246) - 2450 человек;\n",
    "Из группы А_ (247) - 2476 человек;\n",
    "Из группы В (248) - 2493 человек.\n",
    "2. Доля пользователей, совершивших это событие - 98.5% (расчитана при определении воронки продаж). По экспериментальным группам структура следующая:\n",
    "\n",
    "Группа А (246): 98.7%\n",
    "Группа А_ (247): 98.6%\n",
    "Группа В (248): 98.3%\n",
    "\n",
    "Проведены АА, А/В, А_/В, АА_/В тесты. По результатам которых на каждом из событий не удалось отвергнуть нулевую гипотезу, нет оснований считать доли разными.\n",
    "\n",
    "Таким образом, проведенный АА тест позволил сделать вывод о предварительных результатах А/В теста. Две контрольные группы оказались практически равными, что можно трактовать как достигнутую точность в проведимом исследовании. Возможно предлагаемые шрифты стоит использовать в приложении. Статистической значимости в изменении долей пользователей, переходящих на страцийы в мобильном приложенни нет: ни в контрольных группах, ни в экспериментальной. Пользователи также продолжают пользоваться приложением, что и до нововведений со шрифтами.\n",
    "\n",
    "Результаты получающихся p-value - почти все они намного больше установленного нами уровня альфа (0.05). Поэтому можно сделать вывод о том, что можно оставить уровень значимости, например, 0.05. От этого наши выводы по проверке гипотез не изменятся - отличия в долях пользователей, совершивших события, не являются статистически значимыми.\n"
   ]
  }
 ],
 "metadata": {
  "ExecuteTimeLog": [
   {
    "duration": 1323,
    "start_time": "2022-10-18T06:42:19.778Z"
   },
   {
    "duration": 917,
    "start_time": "2022-10-18T06:43:37.970Z"
   },
   {
    "duration": 15,
    "start_time": "2022-10-18T06:44:20.375Z"
   },
   {
    "duration": 321,
    "start_time": "2022-10-18T06:44:32.490Z"
   },
   {
    "duration": 7,
    "start_time": "2022-10-18T06:44:34.982Z"
   },
   {
    "duration": 7,
    "start_time": "2022-10-18T06:44:40.967Z"
   },
   {
    "duration": 7,
    "start_time": "2022-10-18T06:44:54.609Z"
   },
   {
    "duration": 74,
    "start_time": "2022-10-18T09:11:01.855Z"
   },
   {
    "duration": 8,
    "start_time": "2022-10-18T09:11:10.251Z"
   },
   {
    "duration": 8,
    "start_time": "2022-10-18T09:11:16.695Z"
   },
   {
    "duration": 1184,
    "start_time": "2022-10-18T09:11:22.861Z"
   },
   {
    "duration": 878,
    "start_time": "2022-10-18T09:11:24.047Z"
   },
   {
    "duration": 12,
    "start_time": "2022-10-18T09:11:24.926Z"
   },
   {
    "duration": 8,
    "start_time": "2022-10-18T09:11:32.341Z"
   },
   {
    "duration": 138,
    "start_time": "2022-10-18T09:12:26.539Z"
   },
   {
    "duration": 8,
    "start_time": "2022-10-18T09:12:28.133Z"
   },
   {
    "duration": 3,
    "start_time": "2022-10-18T09:16:38.001Z"
   },
   {
    "duration": 10,
    "start_time": "2022-10-18T09:16:42.765Z"
   },
   {
    "duration": 7,
    "start_time": "2022-10-18T09:23:25.077Z"
   },
   {
    "duration": 9,
    "start_time": "2022-10-18T09:23:28.662Z"
   },
   {
    "duration": 7,
    "start_time": "2022-10-18T09:23:39.204Z"
   },
   {
    "duration": 9,
    "start_time": "2022-10-18T09:23:59.430Z"
   },
   {
    "duration": 9,
    "start_time": "2022-10-18T09:24:02.082Z"
   },
   {
    "duration": 9,
    "start_time": "2022-10-18T09:24:04.075Z"
   },
   {
    "duration": 3,
    "start_time": "2022-10-18T09:24:19.777Z"
   },
   {
    "duration": 7,
    "start_time": "2022-10-18T09:24:21.367Z"
   },
   {
    "duration": 14,
    "start_time": "2022-10-18T09:24:30.481Z"
   },
   {
    "duration": 440,
    "start_time": "2022-10-18T09:25:53.325Z"
   },
   {
    "duration": 2,
    "start_time": "2022-10-18T09:26:24.774Z"
   },
   {
    "duration": 10,
    "start_time": "2022-10-18T09:26:29.915Z"
   },
   {
    "duration": 11,
    "start_time": "2022-10-18T09:26:53.046Z"
   },
   {
    "duration": 9,
    "start_time": "2022-10-18T09:26:58.424Z"
   },
   {
    "duration": 8,
    "start_time": "2022-10-18T09:27:36.644Z"
   },
   {
    "duration": 20,
    "start_time": "2022-10-18T09:28:19.697Z"
   },
   {
    "duration": 16,
    "start_time": "2022-10-18T09:29:29.959Z"
   },
   {
    "duration": 19,
    "start_time": "2022-10-18T09:30:47.262Z"
   },
   {
    "duration": 65,
    "start_time": "2022-10-18T09:32:36.507Z"
   },
   {
    "duration": 45,
    "start_time": "2022-10-18T09:36:39.502Z"
   },
   {
    "duration": 15,
    "start_time": "2022-10-18T09:37:39.341Z"
   },
   {
    "duration": 17,
    "start_time": "2022-10-18T09:37:56.913Z"
   },
   {
    "duration": 21,
    "start_time": "2022-10-18T09:38:11.019Z"
   },
   {
    "duration": 23,
    "start_time": "2022-10-18T09:38:20.149Z"
   },
   {
    "duration": 24,
    "start_time": "2022-10-18T09:38:25.985Z"
   },
   {
    "duration": 20,
    "start_time": "2022-10-18T09:38:35.411Z"
   },
   {
    "duration": 24,
    "start_time": "2022-10-18T09:40:50.387Z"
   },
   {
    "duration": 40,
    "start_time": "2022-10-18T09:41:03.604Z"
   },
   {
    "duration": 16,
    "start_time": "2022-10-18T09:43:25.762Z"
   },
   {
    "duration": 45,
    "start_time": "2022-10-18T09:43:36.728Z"
   },
   {
    "duration": 980,
    "start_time": "2022-10-18T09:43:45.326Z"
   },
   {
    "duration": 960,
    "start_time": "2022-10-18T09:44:12.596Z"
   },
   {
    "duration": 1120,
    "start_time": "2022-10-18T09:44:34.198Z"
   },
   {
    "duration": 13,
    "start_time": "2022-10-18T09:44:52.142Z"
   },
   {
    "duration": 30,
    "start_time": "2022-10-18T09:44:58.048Z"
   },
   {
    "duration": 13,
    "start_time": "2022-10-18T09:51:15.032Z"
   },
   {
    "duration": 997,
    "start_time": "2022-10-18T09:56:53.077Z"
   },
   {
    "duration": 847,
    "start_time": "2022-10-18T09:57:02.983Z"
   },
   {
    "duration": 1026,
    "start_time": "2022-10-18T09:57:13.643Z"
   },
   {
    "duration": 190,
    "start_time": "2022-10-18T09:57:14.671Z"
   },
   {
    "duration": 12,
    "start_time": "2022-10-18T09:57:14.862Z"
   },
   {
    "duration": 8,
    "start_time": "2022-10-18T09:57:14.876Z"
   },
   {
    "duration": 35,
    "start_time": "2022-10-18T09:57:14.886Z"
   },
   {
    "duration": 14,
    "start_time": "2022-10-18T09:57:14.922Z"
   },
   {
    "duration": 74,
    "start_time": "2022-10-18T09:57:14.938Z"
   },
   {
    "duration": 321,
    "start_time": "2022-10-18T09:57:15.014Z"
   },
   {
    "duration": 66,
    "start_time": "2022-10-18T10:03:06.743Z"
   },
   {
    "duration": 77,
    "start_time": "2022-10-18T10:03:25.753Z"
   },
   {
    "duration": 952,
    "start_time": "2022-10-18T10:03:42.869Z"
   },
   {
    "duration": 182,
    "start_time": "2022-10-18T10:03:43.823Z"
   },
   {
    "duration": 13,
    "start_time": "2022-10-18T10:03:44.007Z"
   },
   {
    "duration": 13,
    "start_time": "2022-10-18T10:03:44.023Z"
   },
   {
    "duration": 19,
    "start_time": "2022-10-18T10:03:44.038Z"
   },
   {
    "duration": 13,
    "start_time": "2022-10-18T10:03:44.059Z"
   },
   {
    "duration": 87,
    "start_time": "2022-10-18T10:03:44.074Z"
   },
   {
    "duration": 82,
    "start_time": "2022-10-18T10:03:44.163Z"
   },
   {
    "duration": 144,
    "start_time": "2022-10-18T10:04:22.698Z"
   },
   {
    "duration": 154,
    "start_time": "2022-10-18T10:04:31.819Z"
   },
   {
    "duration": 244,
    "start_time": "2022-10-18T10:04:47.930Z"
   },
   {
    "duration": 12,
    "start_time": "2022-10-18T10:05:20.760Z"
   },
   {
    "duration": 9,
    "start_time": "2022-10-18T10:07:59.329Z"
   },
   {
    "duration": 13,
    "start_time": "2022-10-18T10:08:06.612Z"
   },
   {
    "duration": 1019,
    "start_time": "2022-10-18T10:08:19.003Z"
   },
   {
    "duration": 175,
    "start_time": "2022-10-18T10:08:20.024Z"
   },
   {
    "duration": 14,
    "start_time": "2022-10-18T10:08:20.200Z"
   },
   {
    "duration": 11,
    "start_time": "2022-10-18T10:08:20.215Z"
   },
   {
    "duration": 21,
    "start_time": "2022-10-18T10:08:20.228Z"
   },
   {
    "duration": 13,
    "start_time": "2022-10-18T10:08:20.251Z"
   },
   {
    "duration": 88,
    "start_time": "2022-10-18T10:08:20.265Z"
   },
   {
    "duration": 65,
    "start_time": "2022-10-18T10:08:20.355Z"
   },
   {
    "duration": 68,
    "start_time": "2022-10-18T10:10:27.740Z"
   },
   {
    "duration": 118,
    "start_time": "2022-10-18T10:10:51.751Z"
   },
   {
    "duration": 97,
    "start_time": "2022-10-18T10:11:34.651Z"
   },
   {
    "duration": 123,
    "start_time": "2022-10-18T10:11:46.673Z"
   },
   {
    "duration": 124,
    "start_time": "2022-10-18T10:11:52.221Z"
   },
   {
    "duration": 1010,
    "start_time": "2022-10-18T10:12:06.100Z"
   },
   {
    "duration": 182,
    "start_time": "2022-10-18T10:12:07.113Z"
   },
   {
    "duration": 11,
    "start_time": "2022-10-18T10:12:07.297Z"
   },
   {
    "duration": 24,
    "start_time": "2022-10-18T10:12:07.310Z"
   },
   {
    "duration": 32,
    "start_time": "2022-10-18T10:12:07.336Z"
   },
   {
    "duration": 13,
    "start_time": "2022-10-18T10:12:07.370Z"
   },
   {
    "duration": 72,
    "start_time": "2022-10-18T10:12:07.385Z"
   },
   {
    "duration": 126,
    "start_time": "2022-10-18T10:12:07.458Z"
   },
   {
    "duration": 454,
    "start_time": "2022-10-18T10:13:31.162Z"
   },
   {
    "duration": 115,
    "start_time": "2022-10-18T10:14:21.745Z"
   },
   {
    "duration": 27,
    "start_time": "2022-10-18T10:14:37.699Z"
   },
   {
    "duration": 19,
    "start_time": "2022-10-18T10:14:50.450Z"
   },
   {
    "duration": 29,
    "start_time": "2022-10-18T10:15:02.581Z"
   },
   {
    "duration": 36,
    "start_time": "2022-10-18T10:17:51.494Z"
   },
   {
    "duration": 1008,
    "start_time": "2022-10-18T10:18:03.063Z"
   },
   {
    "duration": 169,
    "start_time": "2022-10-18T10:18:04.072Z"
   },
   {
    "duration": 12,
    "start_time": "2022-10-18T10:18:04.242Z"
   },
   {
    "duration": 8,
    "start_time": "2022-10-18T10:18:04.256Z"
   },
   {
    "duration": 21,
    "start_time": "2022-10-18T10:18:04.265Z"
   },
   {
    "duration": 38,
    "start_time": "2022-10-18T10:18:04.287Z"
   },
   {
    "duration": 71,
    "start_time": "2022-10-18T10:18:04.326Z"
   },
   {
    "duration": 83,
    "start_time": "2022-10-18T10:18:04.410Z"
   },
   {
    "duration": 268,
    "start_time": "2022-10-18T10:21:48.253Z"
   },
   {
    "duration": 699,
    "start_time": "2022-10-18T10:22:04.659Z"
   },
   {
    "duration": 753,
    "start_time": "2022-10-18T10:22:13.582Z"
   },
   {
    "duration": 958,
    "start_time": "2022-10-18T10:22:22.667Z"
   },
   {
    "duration": 179,
    "start_time": "2022-10-18T10:22:23.626Z"
   },
   {
    "duration": 14,
    "start_time": "2022-10-18T10:22:23.809Z"
   },
   {
    "duration": 18,
    "start_time": "2022-10-18T10:22:23.824Z"
   },
   {
    "duration": 22,
    "start_time": "2022-10-18T10:22:23.845Z"
   },
   {
    "duration": 14,
    "start_time": "2022-10-18T10:22:23.868Z"
   },
   {
    "duration": 84,
    "start_time": "2022-10-18T10:22:23.884Z"
   },
   {
    "duration": 49,
    "start_time": "2022-10-18T10:22:23.970Z"
   },
   {
    "duration": 47,
    "start_time": "2022-10-18T10:27:12.189Z"
   },
   {
    "duration": 8,
    "start_time": "2022-10-18T10:27:23.987Z"
   },
   {
    "duration": 718,
    "start_time": "2022-10-18T10:29:34.908Z"
   },
   {
    "duration": 1124,
    "start_time": "2022-10-18T10:30:04.228Z"
   },
   {
    "duration": 187,
    "start_time": "2022-10-18T10:30:05.354Z"
   },
   {
    "duration": 11,
    "start_time": "2022-10-18T10:30:05.542Z"
   },
   {
    "duration": 21,
    "start_time": "2022-10-18T10:30:05.555Z"
   },
   {
    "duration": 54,
    "start_time": "2022-10-18T10:30:05.577Z"
   },
   {
    "duration": 15,
    "start_time": "2022-10-18T10:30:05.633Z"
   },
   {
    "duration": 65,
    "start_time": "2022-10-18T10:30:05.649Z"
   },
   {
    "duration": 37,
    "start_time": "2022-10-18T10:30:05.715Z"
   },
   {
    "duration": 268,
    "start_time": "2022-10-18T10:30:35.953Z"
   },
   {
    "duration": 9,
    "start_time": "2022-10-18T10:43:24.494Z"
   },
   {
    "duration": 24,
    "start_time": "2022-10-18T10:43:32.451Z"
   },
   {
    "duration": 28,
    "start_time": "2022-10-18T10:43:39.926Z"
   },
   {
    "duration": 37,
    "start_time": "2022-10-18T10:43:54.444Z"
   },
   {
    "duration": 30,
    "start_time": "2022-10-18T10:44:06.772Z"
   },
   {
    "duration": 1013,
    "start_time": "2022-10-18T10:46:33.302Z"
   },
   {
    "duration": 199,
    "start_time": "2022-10-18T10:46:34.316Z"
   },
   {
    "duration": 13,
    "start_time": "2022-10-18T10:46:34.516Z"
   },
   {
    "duration": 10,
    "start_time": "2022-10-18T10:46:34.531Z"
   },
   {
    "duration": 23,
    "start_time": "2022-10-18T10:46:34.543Z"
   },
   {
    "duration": 42,
    "start_time": "2022-10-18T10:46:34.568Z"
   },
   {
    "duration": 60,
    "start_time": "2022-10-18T10:46:34.611Z"
   },
   {
    "duration": 43,
    "start_time": "2022-10-18T10:46:34.672Z"
   },
   {
    "duration": 102,
    "start_time": "2022-10-18T10:47:08.910Z"
   },
   {
    "duration": 23,
    "start_time": "2022-10-18T10:47:19.666Z"
   },
   {
    "duration": 30,
    "start_time": "2022-10-18T10:48:38.401Z"
   },
   {
    "duration": 989,
    "start_time": "2022-10-18T10:48:48.342Z"
   },
   {
    "duration": 180,
    "start_time": "2022-10-18T10:48:49.332Z"
   },
   {
    "duration": 11,
    "start_time": "2022-10-18T10:48:49.513Z"
   },
   {
    "duration": 10,
    "start_time": "2022-10-18T10:48:49.525Z"
   },
   {
    "duration": 19,
    "start_time": "2022-10-18T10:48:49.537Z"
   },
   {
    "duration": 13,
    "start_time": "2022-10-18T10:48:49.558Z"
   },
   {
    "duration": 86,
    "start_time": "2022-10-18T10:48:49.573Z"
   },
   {
    "duration": 62,
    "start_time": "2022-10-18T10:48:49.660Z"
   },
   {
    "duration": 10,
    "start_time": "2022-10-18T10:49:35.363Z"
   },
   {
    "duration": 18,
    "start_time": "2022-10-18T10:55:55.466Z"
   },
   {
    "duration": 63,
    "start_time": "2022-10-18T11:00:38.076Z"
   },
   {
    "duration": 60,
    "start_time": "2022-10-18T11:01:12.576Z"
   },
   {
    "duration": 69,
    "start_time": "2022-10-18T11:01:22.420Z"
   },
   {
    "duration": 11,
    "start_time": "2022-10-18T11:01:44.792Z"
   },
   {
    "duration": 10,
    "start_time": "2022-10-18T11:02:03.207Z"
   },
   {
    "duration": 10,
    "start_time": "2022-10-18T11:02:12.584Z"
   },
   {
    "duration": 66,
    "start_time": "2022-10-18T11:02:51.581Z"
   },
   {
    "duration": 63,
    "start_time": "2022-10-18T11:04:23.468Z"
   },
   {
    "duration": 58,
    "start_time": "2022-10-18T11:04:34.645Z"
   },
   {
    "duration": 71,
    "start_time": "2022-10-18T11:05:36.189Z"
   },
   {
    "duration": 57,
    "start_time": "2022-10-18T11:05:47.601Z"
   },
   {
    "duration": 52,
    "start_time": "2022-10-18T11:06:07.941Z"
   },
   {
    "duration": 54,
    "start_time": "2022-10-18T11:06:20.581Z"
   },
   {
    "duration": 984,
    "start_time": "2022-10-18T11:06:30.174Z"
   },
   {
    "duration": 187,
    "start_time": "2022-10-18T11:06:31.160Z"
   },
   {
    "duration": 10,
    "start_time": "2022-10-18T11:06:31.349Z"
   },
   {
    "duration": 12,
    "start_time": "2022-10-18T11:06:31.360Z"
   },
   {
    "duration": 45,
    "start_time": "2022-10-18T11:06:31.374Z"
   },
   {
    "duration": 13,
    "start_time": "2022-10-18T11:06:31.420Z"
   },
   {
    "duration": 66,
    "start_time": "2022-10-18T11:06:31.435Z"
   },
   {
    "duration": 65,
    "start_time": "2022-10-18T11:06:31.508Z"
   },
   {
    "duration": 81,
    "start_time": "2022-10-18T11:06:31.574Z"
   },
   {
    "duration": 73,
    "start_time": "2022-10-18T11:06:31.656Z"
   },
   {
    "duration": 32,
    "start_time": "2022-10-18T11:06:31.730Z"
   },
   {
    "duration": 48,
    "start_time": "2022-10-18T11:06:31.764Z"
   },
   {
    "duration": 9,
    "start_time": "2022-10-18T11:12:24.503Z"
   },
   {
    "duration": 17,
    "start_time": "2022-10-18T11:12:45.765Z"
   },
   {
    "duration": 19,
    "start_time": "2022-10-18T11:13:04.804Z"
   },
   {
    "duration": 1028,
    "start_time": "2022-10-18T11:13:17.291Z"
   },
   {
    "duration": 175,
    "start_time": "2022-10-18T11:13:18.321Z"
   },
   {
    "duration": 12,
    "start_time": "2022-10-18T11:13:18.497Z"
   },
   {
    "duration": 8,
    "start_time": "2022-10-18T11:13:18.511Z"
   },
   {
    "duration": 20,
    "start_time": "2022-10-18T11:13:18.520Z"
   },
   {
    "duration": 14,
    "start_time": "2022-10-18T11:13:18.541Z"
   },
   {
    "duration": 81,
    "start_time": "2022-10-18T11:13:18.556Z"
   },
   {
    "duration": 75,
    "start_time": "2022-10-18T11:13:18.638Z"
   },
   {
    "duration": 64,
    "start_time": "2022-10-18T11:13:18.714Z"
   },
   {
    "duration": 70,
    "start_time": "2022-10-18T11:13:18.780Z"
   },
   {
    "duration": 32,
    "start_time": "2022-10-18T11:13:18.852Z"
   },
   {
    "duration": 30,
    "start_time": "2022-10-18T11:13:18.885Z"
   },
   {
    "duration": 17,
    "start_time": "2022-10-18T11:13:24.656Z"
   },
   {
    "duration": 161,
    "start_time": "2022-10-18T11:13:43.168Z"
   },
   {
    "duration": 57,
    "start_time": "2022-10-18T11:14:42.279Z"
   },
   {
    "duration": 59,
    "start_time": "2022-10-18T11:14:53.212Z"
   },
   {
    "duration": 66,
    "start_time": "2022-10-18T11:16:48.652Z"
   },
   {
    "duration": 57,
    "start_time": "2022-10-18T11:16:50.746Z"
   },
   {
    "duration": 18,
    "start_time": "2022-10-18T11:16:54.213Z"
   },
   {
    "duration": 1046,
    "start_time": "2022-10-18T11:17:10.498Z"
   },
   {
    "duration": 187,
    "start_time": "2022-10-18T11:17:11.546Z"
   },
   {
    "duration": 11,
    "start_time": "2022-10-18T11:17:11.735Z"
   },
   {
    "duration": 7,
    "start_time": "2022-10-18T11:17:11.748Z"
   },
   {
    "duration": 20,
    "start_time": "2022-10-18T11:17:11.757Z"
   },
   {
    "duration": 32,
    "start_time": "2022-10-18T11:17:11.778Z"
   },
   {
    "duration": 60,
    "start_time": "2022-10-18T11:17:11.811Z"
   },
   {
    "duration": 79,
    "start_time": "2022-10-18T11:17:11.872Z"
   },
   {
    "duration": 79,
    "start_time": "2022-10-18T11:17:11.953Z"
   },
   {
    "duration": 79,
    "start_time": "2022-10-18T11:17:12.035Z"
   },
   {
    "duration": 31,
    "start_time": "2022-10-18T11:17:12.115Z"
   },
   {
    "duration": 25,
    "start_time": "2022-10-18T11:17:12.147Z"
   },
   {
    "duration": 70,
    "start_time": "2022-10-18T11:22:10.433Z"
   },
   {
    "duration": 1076,
    "start_time": "2022-10-18T11:22:16.637Z"
   },
   {
    "duration": 15,
    "start_time": "2022-10-18T11:26:23.137Z"
   },
   {
    "duration": 14,
    "start_time": "2022-10-18T11:26:33.403Z"
   },
   {
    "duration": 17,
    "start_time": "2022-10-18T11:26:40.758Z"
   },
   {
    "duration": 98,
    "start_time": "2022-10-18T11:27:05.838Z"
   },
   {
    "duration": 1023,
    "start_time": "2022-10-18T11:27:15.618Z"
   },
   {
    "duration": 179,
    "start_time": "2022-10-18T11:27:16.643Z"
   },
   {
    "duration": 13,
    "start_time": "2022-10-18T11:27:16.824Z"
   },
   {
    "duration": 11,
    "start_time": "2022-10-18T11:27:16.838Z"
   },
   {
    "duration": 23,
    "start_time": "2022-10-18T11:27:16.852Z"
   },
   {
    "duration": 33,
    "start_time": "2022-10-18T11:27:16.876Z"
   },
   {
    "duration": 60,
    "start_time": "2022-10-18T11:27:16.911Z"
   },
   {
    "duration": 87,
    "start_time": "2022-10-18T11:27:16.973Z"
   },
   {
    "duration": 79,
    "start_time": "2022-10-18T11:27:17.062Z"
   },
   {
    "duration": 81,
    "start_time": "2022-10-18T11:27:17.142Z"
   },
   {
    "duration": 32,
    "start_time": "2022-10-18T11:27:17.224Z"
   },
   {
    "duration": 27,
    "start_time": "2022-10-18T11:27:17.258Z"
   },
   {
    "duration": 69,
    "start_time": "2022-10-18T11:27:27.894Z"
   },
   {
    "duration": 15,
    "start_time": "2022-10-18T11:29:09.005Z"
   },
   {
    "duration": 18,
    "start_time": "2022-10-18T11:29:15.457Z"
   },
   {
    "duration": 1092,
    "start_time": "2022-10-18T11:29:32.782Z"
   },
   {
    "duration": 203,
    "start_time": "2022-10-18T11:29:33.876Z"
   },
   {
    "duration": 11,
    "start_time": "2022-10-18T11:29:34.081Z"
   },
   {
    "duration": 18,
    "start_time": "2022-10-18T11:29:34.093Z"
   },
   {
    "duration": 22,
    "start_time": "2022-10-18T11:29:34.113Z"
   },
   {
    "duration": 13,
    "start_time": "2022-10-18T11:29:34.137Z"
   },
   {
    "duration": 90,
    "start_time": "2022-10-18T11:29:34.152Z"
   },
   {
    "duration": 76,
    "start_time": "2022-10-18T11:29:34.244Z"
   },
   {
    "duration": 73,
    "start_time": "2022-10-18T11:29:34.322Z"
   },
   {
    "duration": 88,
    "start_time": "2022-10-18T11:29:34.409Z"
   },
   {
    "duration": 19,
    "start_time": "2022-10-18T11:29:34.499Z"
   },
   {
    "duration": 23,
    "start_time": "2022-10-18T11:30:06.660Z"
   },
   {
    "duration": 19,
    "start_time": "2022-10-18T11:30:35.395Z"
   },
   {
    "duration": 14,
    "start_time": "2022-10-18T11:30:45.159Z"
   },
   {
    "duration": 15,
    "start_time": "2022-10-18T11:31:53.599Z"
   },
   {
    "duration": 24,
    "start_time": "2022-10-18T11:32:24.904Z"
   },
   {
    "duration": 120,
    "start_time": "2022-10-18T11:32:43.552Z"
   },
   {
    "duration": 93,
    "start_time": "2022-10-18T11:32:45.143Z"
   },
   {
    "duration": 98,
    "start_time": "2022-10-18T11:32:47.920Z"
   },
   {
    "duration": 23,
    "start_time": "2022-10-18T11:32:49.511Z"
   },
   {
    "duration": 1084,
    "start_time": "2022-10-18T11:32:57.971Z"
   },
   {
    "duration": 234,
    "start_time": "2022-10-18T11:32:59.059Z"
   },
   {
    "duration": 16,
    "start_time": "2022-10-18T11:32:59.299Z"
   },
   {
    "duration": 16,
    "start_time": "2022-10-18T11:32:59.317Z"
   },
   {
    "duration": 35,
    "start_time": "2022-10-18T11:32:59.336Z"
   },
   {
    "duration": 40,
    "start_time": "2022-10-18T11:32:59.373Z"
   },
   {
    "duration": 97,
    "start_time": "2022-10-18T11:32:59.415Z"
   },
   {
    "duration": 81,
    "start_time": "2022-10-18T11:32:59.514Z"
   },
   {
    "duration": 78,
    "start_time": "2022-10-18T11:32:59.610Z"
   },
   {
    "duration": 71,
    "start_time": "2022-10-18T11:32:59.690Z"
   },
   {
    "duration": 15,
    "start_time": "2022-10-18T11:32:59.763Z"
   },
   {
    "duration": 51,
    "start_time": "2022-10-18T11:32:59.780Z"
   },
   {
    "duration": 74,
    "start_time": "2022-10-18T11:33:24.111Z"
   },
   {
    "duration": 56,
    "start_time": "2022-10-18T11:33:25.820Z"
   },
   {
    "duration": 17,
    "start_time": "2022-10-18T11:33:27.384Z"
   },
   {
    "duration": 19,
    "start_time": "2022-10-18T11:33:39.025Z"
   },
   {
    "duration": 102,
    "start_time": "2022-10-18T11:34:03.616Z"
   },
   {
    "duration": 994,
    "start_time": "2022-10-18T11:34:20.575Z"
   },
   {
    "duration": 183,
    "start_time": "2022-10-18T11:34:21.571Z"
   },
   {
    "duration": 10,
    "start_time": "2022-10-18T11:34:21.756Z"
   },
   {
    "duration": 9,
    "start_time": "2022-10-18T11:34:21.767Z"
   },
   {
    "duration": 45,
    "start_time": "2022-10-18T11:34:21.778Z"
   },
   {
    "duration": 22,
    "start_time": "2022-10-18T11:34:21.825Z"
   },
   {
    "duration": 73,
    "start_time": "2022-10-18T11:34:21.849Z"
   },
   {
    "duration": 64,
    "start_time": "2022-10-18T11:34:21.924Z"
   },
   {
    "duration": 82,
    "start_time": "2022-10-18T11:34:21.990Z"
   },
   {
    "duration": 66,
    "start_time": "2022-10-18T11:34:22.074Z"
   },
   {
    "duration": 13,
    "start_time": "2022-10-18T11:34:22.142Z"
   },
   {
    "duration": 122,
    "start_time": "2022-10-18T11:34:22.156Z"
   },
   {
    "duration": 23,
    "start_time": "2022-10-18T11:34:33.952Z"
   },
   {
    "duration": 29,
    "start_time": "2022-10-18T11:35:05.051Z"
   },
   {
    "duration": 91,
    "start_time": "2022-10-18T11:36:21.117Z"
   },
   {
    "duration": 91,
    "start_time": "2022-10-18T11:36:30.741Z"
   },
   {
    "duration": 37,
    "start_time": "2022-10-18T11:36:41.424Z"
   },
   {
    "duration": 75,
    "start_time": "2022-10-18T11:36:49.030Z"
   },
   {
    "duration": 153,
    "start_time": "2022-10-18T11:36:52.453Z"
   },
   {
    "duration": 725,
    "start_time": "2022-10-18T11:40:57.484Z"
   },
   {
    "duration": 20,
    "start_time": "2022-10-18T11:41:18.630Z"
   },
   {
    "duration": 1030,
    "start_time": "2022-10-18T11:41:48.381Z"
   },
   {
    "duration": 182,
    "start_time": "2022-10-18T11:41:49.413Z"
   },
   {
    "duration": 13,
    "start_time": "2022-10-18T11:41:49.596Z"
   },
   {
    "duration": 8,
    "start_time": "2022-10-18T11:41:49.611Z"
   },
   {
    "duration": 20,
    "start_time": "2022-10-18T11:41:49.620Z"
   },
   {
    "duration": 24,
    "start_time": "2022-10-18T11:41:49.642Z"
   },
   {
    "duration": 118,
    "start_time": "2022-10-18T11:41:49.668Z"
   },
   {
    "duration": 74,
    "start_time": "2022-10-18T11:41:49.788Z"
   },
   {
    "duration": 82,
    "start_time": "2022-10-18T11:41:49.864Z"
   },
   {
    "duration": 61,
    "start_time": "2022-10-18T11:41:49.948Z"
   },
   {
    "duration": 15,
    "start_time": "2022-10-18T11:41:50.011Z"
   },
   {
    "duration": 18,
    "start_time": "2022-10-18T11:42:09.905Z"
   },
   {
    "duration": 783,
    "start_time": "2022-10-18T11:42:26.046Z"
   },
   {
    "duration": 78,
    "start_time": "2022-10-18T11:42:37.582Z"
   },
   {
    "duration": 24,
    "start_time": "2022-10-18T11:42:43.405Z"
   },
   {
    "duration": 15,
    "start_time": "2022-10-18T11:43:09.682Z"
   },
   {
    "duration": 973,
    "start_time": "2022-10-18T11:43:32.836Z"
   },
   {
    "duration": 176,
    "start_time": "2022-10-18T11:43:33.811Z"
   },
   {
    "duration": 11,
    "start_time": "2022-10-18T11:43:33.988Z"
   },
   {
    "duration": 9,
    "start_time": "2022-10-18T11:43:34.008Z"
   },
   {
    "duration": 28,
    "start_time": "2022-10-18T11:43:34.018Z"
   },
   {
    "duration": 13,
    "start_time": "2022-10-18T11:43:34.047Z"
   },
   {
    "duration": 79,
    "start_time": "2022-10-18T11:43:34.062Z"
   },
   {
    "duration": 80,
    "start_time": "2022-10-18T11:43:34.142Z"
   },
   {
    "duration": 74,
    "start_time": "2022-10-18T11:43:34.223Z"
   },
   {
    "duration": 57,
    "start_time": "2022-10-18T11:43:34.310Z"
   },
   {
    "duration": 20,
    "start_time": "2022-10-18T11:43:34.368Z"
   },
   {
    "duration": 31,
    "start_time": "2022-10-18T11:43:34.413Z"
   },
   {
    "duration": 44,
    "start_time": "2022-10-18T17:32:42.051Z"
   },
   {
    "duration": 1328,
    "start_time": "2022-10-18T17:32:51.202Z"
   },
   {
    "duration": 728,
    "start_time": "2022-10-18T17:32:52.531Z"
   },
   {
    "duration": 11,
    "start_time": "2022-10-18T17:32:53.260Z"
   },
   {
    "duration": 10,
    "start_time": "2022-10-18T17:32:53.272Z"
   },
   {
    "duration": 17,
    "start_time": "2022-10-18T17:32:53.283Z"
   },
   {
    "duration": 11,
    "start_time": "2022-10-18T17:32:53.302Z"
   },
   {
    "duration": 59,
    "start_time": "2022-10-18T17:32:53.314Z"
   },
   {
    "duration": 63,
    "start_time": "2022-10-18T17:32:53.385Z"
   },
   {
    "duration": 82,
    "start_time": "2022-10-18T17:32:53.449Z"
   },
   {
    "duration": 56,
    "start_time": "2022-10-18T17:32:53.533Z"
   },
   {
    "duration": 17,
    "start_time": "2022-10-18T17:32:53.590Z"
   },
   {
    "duration": 17,
    "start_time": "2022-10-18T17:33:03.425Z"
   },
   {
    "duration": 16,
    "start_time": "2022-10-18T17:33:18.206Z"
   },
   {
    "duration": 18,
    "start_time": "2022-10-18T17:33:24.550Z"
   },
   {
    "duration": 85,
    "start_time": "2022-10-18T17:38:35.979Z"
   },
   {
    "duration": 148,
    "start_time": "2022-10-18T17:38:42.803Z"
   },
   {
    "duration": 19,
    "start_time": "2022-10-18T17:38:57.309Z"
   },
   {
    "duration": 9,
    "start_time": "2022-10-18T17:42:43.709Z"
   },
   {
    "duration": 19,
    "start_time": "2022-10-18T17:42:51.438Z"
   },
   {
    "duration": 22,
    "start_time": "2022-10-18T17:42:58.247Z"
   },
   {
    "duration": 24,
    "start_time": "2022-10-18T17:43:10.804Z"
   },
   {
    "duration": 25,
    "start_time": "2022-10-18T17:43:42.805Z"
   },
   {
    "duration": 25,
    "start_time": "2022-10-18T17:43:54.530Z"
   },
   {
    "duration": 23,
    "start_time": "2022-10-18T17:44:00.466Z"
   },
   {
    "duration": 23,
    "start_time": "2022-10-18T17:44:08.458Z"
   },
   {
    "duration": 23,
    "start_time": "2022-10-18T17:44:25.286Z"
   },
   {
    "duration": 23,
    "start_time": "2022-10-18T17:44:34.610Z"
   },
   {
    "duration": 24,
    "start_time": "2022-10-18T17:44:54.964Z"
   },
   {
    "duration": 23,
    "start_time": "2022-10-18T17:45:13.743Z"
   },
   {
    "duration": 8,
    "start_time": "2022-10-18T17:49:53.118Z"
   },
   {
    "duration": 4,
    "start_time": "2022-10-18T17:50:07.957Z"
   },
   {
    "duration": 19,
    "start_time": "2022-10-18T17:50:45.585Z"
   },
   {
    "duration": 25,
    "start_time": "2022-10-18T17:51:22.209Z"
   },
   {
    "duration": 16,
    "start_time": "2022-10-18T17:52:13.900Z"
   },
   {
    "duration": 19,
    "start_time": "2022-10-18T17:56:46.325Z"
   },
   {
    "duration": 7,
    "start_time": "2022-10-18T18:04:16.072Z"
   },
   {
    "duration": 7,
    "start_time": "2022-10-18T18:05:34.331Z"
   },
   {
    "duration": 26,
    "start_time": "2022-10-18T18:05:55.028Z"
   },
   {
    "duration": 24,
    "start_time": "2022-10-18T18:05:57.307Z"
   },
   {
    "duration": 5,
    "start_time": "2022-10-18T18:09:37.957Z"
   },
   {
    "duration": 1171,
    "start_time": "2022-10-18T18:09:52.625Z"
   },
   {
    "duration": 4,
    "start_time": "2022-10-18T18:09:58.918Z"
   },
   {
    "duration": 4,
    "start_time": "2022-10-18T18:10:02.357Z"
   },
   {
    "duration": 4,
    "start_time": "2022-10-18T18:10:39.374Z"
   },
   {
    "duration": 4,
    "start_time": "2022-10-18T18:10:45.158Z"
   },
   {
    "duration": 8,
    "start_time": "2022-10-18T18:10:48.228Z"
   },
   {
    "duration": 4,
    "start_time": "2022-10-18T18:12:33.498Z"
   },
   {
    "duration": 6,
    "start_time": "2022-10-18T18:12:42.807Z"
   },
   {
    "duration": 6,
    "start_time": "2022-10-18T18:12:59.603Z"
   },
   {
    "duration": 6,
    "start_time": "2022-10-18T18:13:04.107Z"
   },
   {
    "duration": 5,
    "start_time": "2022-10-18T18:13:35.555Z"
   },
   {
    "duration": 8,
    "start_time": "2022-10-18T18:18:38.039Z"
   },
   {
    "duration": 6,
    "start_time": "2022-10-18T18:18:52.300Z"
   },
   {
    "duration": 6,
    "start_time": "2022-10-18T18:18:55.815Z"
   },
   {
    "duration": 7,
    "start_time": "2022-10-18T18:19:48.739Z"
   },
   {
    "duration": 5,
    "start_time": "2022-10-18T18:19:59.844Z"
   },
   {
    "duration": 6,
    "start_time": "2022-10-18T18:20:07.886Z"
   },
   {
    "duration": 5,
    "start_time": "2022-10-18T18:20:09.680Z"
   },
   {
    "duration": 6,
    "start_time": "2022-10-18T18:20:28.658Z"
   },
   {
    "duration": 9,
    "start_time": "2022-10-18T18:20:33.196Z"
   },
   {
    "duration": 9,
    "start_time": "2022-10-18T18:21:26.233Z"
   },
   {
    "duration": 9,
    "start_time": "2022-10-18T18:21:44.113Z"
   },
   {
    "duration": 11,
    "start_time": "2022-10-18T18:22:28.924Z"
   },
   {
    "duration": 9,
    "start_time": "2022-10-18T18:22:34.151Z"
   },
   {
    "duration": 11,
    "start_time": "2022-10-18T18:22:42.716Z"
   },
   {
    "duration": 9,
    "start_time": "2022-10-18T18:22:44.898Z"
   },
   {
    "duration": 11,
    "start_time": "2022-10-18T18:23:59.962Z"
   },
   {
    "duration": 7,
    "start_time": "2022-10-18T18:24:45.979Z"
   },
   {
    "duration": 69,
    "start_time": "2022-10-18T18:25:42.999Z"
   },
   {
    "duration": 9,
    "start_time": "2022-10-18T18:25:47.521Z"
   },
   {
    "duration": 897,
    "start_time": "2022-10-18T18:26:02.866Z"
   },
   {
    "duration": 12,
    "start_time": "2022-10-18T18:26:31.650Z"
   },
   {
    "duration": 858,
    "start_time": "2022-10-18T18:27:39.495Z"
   },
   {
    "duration": 11,
    "start_time": "2022-10-18T18:27:44.799Z"
   },
   {
    "duration": 11,
    "start_time": "2022-10-18T18:28:29.054Z"
   },
   {
    "duration": 889,
    "start_time": "2022-10-18T18:28:55.016Z"
   },
   {
    "duration": 987,
    "start_time": "2022-10-18T18:29:10.802Z"
   },
   {
    "duration": 189,
    "start_time": "2022-10-18T18:29:11.791Z"
   },
   {
    "duration": 12,
    "start_time": "2022-10-18T18:29:11.981Z"
   },
   {
    "duration": 12,
    "start_time": "2022-10-18T18:29:11.995Z"
   },
   {
    "duration": 33,
    "start_time": "2022-10-18T18:29:12.009Z"
   },
   {
    "duration": 16,
    "start_time": "2022-10-18T18:29:12.043Z"
   },
   {
    "duration": 67,
    "start_time": "2022-10-18T18:29:12.060Z"
   },
   {
    "duration": 72,
    "start_time": "2022-10-18T18:29:12.128Z"
   },
   {
    "duration": 66,
    "start_time": "2022-10-18T18:29:12.201Z"
   },
   {
    "duration": 59,
    "start_time": "2022-10-18T18:29:12.270Z"
   },
   {
    "duration": 18,
    "start_time": "2022-10-18T18:29:12.331Z"
   },
   {
    "duration": 42,
    "start_time": "2022-10-18T18:29:12.350Z"
   },
   {
    "duration": 16,
    "start_time": "2022-10-18T18:29:12.394Z"
   },
   {
    "duration": 26,
    "start_time": "2022-10-18T18:29:12.411Z"
   },
   {
    "duration": 18,
    "start_time": "2022-10-18T18:29:12.438Z"
   },
   {
    "duration": 28,
    "start_time": "2022-10-18T18:29:12.457Z"
   },
   {
    "duration": 4,
    "start_time": "2022-10-18T18:29:12.487Z"
   },
   {
    "duration": 10,
    "start_time": "2022-10-18T18:29:12.493Z"
   },
   {
    "duration": 5,
    "start_time": "2022-10-18T18:29:12.504Z"
   },
   {
    "duration": 17,
    "start_time": "2022-10-18T18:29:12.511Z"
   },
   {
    "duration": 925,
    "start_time": "2022-10-18T18:29:12.529Z"
   },
   {
    "duration": 0,
    "start_time": "2022-10-18T18:29:13.456Z"
   },
   {
    "duration": 13,
    "start_time": "2022-10-18T18:29:17.492Z"
   },
   {
    "duration": 12,
    "start_time": "2022-10-18T18:29:29.219Z"
   },
   {
    "duration": 11,
    "start_time": "2022-10-18T18:29:40.486Z"
   },
   {
    "duration": 11,
    "start_time": "2022-10-18T18:29:46.582Z"
   },
   {
    "duration": 11,
    "start_time": "2022-10-18T18:29:49.690Z"
   },
   {
    "duration": 6,
    "start_time": "2022-10-18T18:32:14.141Z"
   },
   {
    "duration": 45,
    "start_time": "2022-10-19T10:29:17.510Z"
   },
   {
    "duration": 6,
    "start_time": "2022-10-19T10:29:53.632Z"
   },
   {
    "duration": 1127,
    "start_time": "2022-10-19T10:30:04.840Z"
   },
   {
    "duration": 794,
    "start_time": "2022-10-19T10:30:05.969Z"
   },
   {
    "duration": 12,
    "start_time": "2022-10-19T10:30:06.766Z"
   },
   {
    "duration": 16,
    "start_time": "2022-10-19T10:30:06.780Z"
   },
   {
    "duration": 44,
    "start_time": "2022-10-19T10:30:06.798Z"
   },
   {
    "duration": 14,
    "start_time": "2022-10-19T10:30:06.844Z"
   },
   {
    "duration": 84,
    "start_time": "2022-10-19T10:30:06.860Z"
   },
   {
    "duration": 73,
    "start_time": "2022-10-19T10:30:06.946Z"
   },
   {
    "duration": 78,
    "start_time": "2022-10-19T10:30:07.020Z"
   },
   {
    "duration": 58,
    "start_time": "2022-10-19T10:30:07.101Z"
   },
   {
    "duration": 18,
    "start_time": "2022-10-19T10:30:07.161Z"
   },
   {
    "duration": 28,
    "start_time": "2022-10-19T10:30:07.195Z"
   },
   {
    "duration": 17,
    "start_time": "2022-10-19T10:30:07.225Z"
   },
   {
    "duration": 52,
    "start_time": "2022-10-19T10:30:07.244Z"
   },
   {
    "duration": 20,
    "start_time": "2022-10-19T10:30:07.298Z"
   },
   {
    "duration": 12,
    "start_time": "2022-10-19T10:30:07.320Z"
   },
   {
    "duration": 6,
    "start_time": "2022-10-19T10:30:07.333Z"
   },
   {
    "duration": 8,
    "start_time": "2022-10-19T10:30:07.341Z"
   },
   {
    "duration": 13,
    "start_time": "2022-10-19T10:30:07.350Z"
   },
   {
    "duration": 37,
    "start_time": "2022-10-19T10:30:07.365Z"
   },
   {
    "duration": 32,
    "start_time": "2022-10-19T10:30:07.404Z"
   },
   {
    "duration": 5,
    "start_time": "2022-10-19T10:30:07.438Z"
   },
   {
    "duration": 6,
    "start_time": "2022-10-19T10:30:16.650Z"
   },
   {
    "duration": 20,
    "start_time": "2022-10-19T10:30:45.454Z"
   },
   {
    "duration": 4,
    "start_time": "2022-10-19T10:31:10.708Z"
   },
   {
    "duration": 6,
    "start_time": "2022-10-19T10:33:03.310Z"
   },
   {
    "duration": 6,
    "start_time": "2022-10-19T10:33:17.517Z"
   },
   {
    "duration": 7,
    "start_time": "2022-10-19T10:38:03.214Z"
   },
   {
    "duration": 5,
    "start_time": "2022-10-19T10:38:20.707Z"
   },
   {
    "duration": 5,
    "start_time": "2022-10-19T10:38:23.472Z"
   },
   {
    "duration": 1317,
    "start_time": "2022-10-19T10:39:21.041Z"
   },
   {
    "duration": 1293,
    "start_time": "2022-10-19T10:39:35.494Z"
   },
   {
    "duration": 235,
    "start_time": "2022-10-19T10:39:40.177Z"
   },
   {
    "duration": 174,
    "start_time": "2022-10-19T10:41:35.499Z"
   },
   {
    "duration": 13,
    "start_time": "2022-10-19T10:42:17.222Z"
   },
   {
    "duration": 181,
    "start_time": "2022-10-19T10:42:34.852Z"
   },
   {
    "duration": 188,
    "start_time": "2022-10-19T10:43:14.093Z"
   },
   {
    "duration": 222,
    "start_time": "2022-10-19T10:43:24.993Z"
   },
   {
    "duration": 198,
    "start_time": "2022-10-19T10:43:37.491Z"
   },
   {
    "duration": 215,
    "start_time": "2022-10-19T10:43:49.682Z"
   },
   {
    "duration": 213,
    "start_time": "2022-10-19T10:44:15.265Z"
   },
   {
    "duration": 213,
    "start_time": "2022-10-19T10:44:44.803Z"
   },
   {
    "duration": 213,
    "start_time": "2022-10-19T10:44:54.869Z"
   },
   {
    "duration": 267,
    "start_time": "2022-10-19T10:45:05.130Z"
   },
   {
    "duration": 194,
    "start_time": "2022-10-19T10:45:10.272Z"
   },
   {
    "duration": 200,
    "start_time": "2022-10-19T10:46:12.579Z"
   },
   {
    "duration": 241,
    "start_time": "2022-10-19T10:47:37.877Z"
   },
   {
    "duration": 224,
    "start_time": "2022-10-19T10:47:44.892Z"
   },
   {
    "duration": 216,
    "start_time": "2022-10-19T10:48:20.071Z"
   },
   {
    "duration": 217,
    "start_time": "2022-10-19T10:48:48.841Z"
   },
   {
    "duration": 224,
    "start_time": "2022-10-19T10:49:58.166Z"
   },
   {
    "duration": 248,
    "start_time": "2022-10-19T10:57:41.904Z"
   },
   {
    "duration": 81,
    "start_time": "2022-10-19T11:05:51.135Z"
   },
   {
    "duration": 63,
    "start_time": "2022-10-19T11:05:57.252Z"
   },
   {
    "duration": 29,
    "start_time": "2022-10-19T11:06:08.275Z"
   },
   {
    "duration": 20,
    "start_time": "2022-10-19T11:06:19.189Z"
   },
   {
    "duration": 229,
    "start_time": "2022-10-19T11:06:34.756Z"
   },
   {
    "duration": 213,
    "start_time": "2022-10-19T11:06:43.974Z"
   },
   {
    "duration": 6,
    "start_time": "2022-10-19T11:06:57.455Z"
   },
   {
    "duration": 20,
    "start_time": "2022-10-19T11:07:07.914Z"
   },
   {
    "duration": 11,
    "start_time": "2022-10-19T11:09:10.151Z"
   },
   {
    "duration": 10,
    "start_time": "2022-10-19T11:11:19.606Z"
   },
   {
    "duration": 16,
    "start_time": "2022-10-19T11:11:21.478Z"
   },
   {
    "duration": 9,
    "start_time": "2022-10-19T11:11:25.839Z"
   },
   {
    "duration": 19,
    "start_time": "2022-10-19T11:11:33.267Z"
   },
   {
    "duration": 18,
    "start_time": "2022-10-19T11:12:20.302Z"
   },
   {
    "duration": 981,
    "start_time": "2022-10-19T11:12:37.043Z"
   },
   {
    "duration": 214,
    "start_time": "2022-10-19T11:12:38.026Z"
   },
   {
    "duration": 11,
    "start_time": "2022-10-19T11:12:38.241Z"
   },
   {
    "duration": 9,
    "start_time": "2022-10-19T11:12:38.254Z"
   },
   {
    "duration": 34,
    "start_time": "2022-10-19T11:12:38.265Z"
   },
   {
    "duration": 13,
    "start_time": "2022-10-19T11:12:38.301Z"
   },
   {
    "duration": 79,
    "start_time": "2022-10-19T11:12:38.316Z"
   },
   {
    "duration": 70,
    "start_time": "2022-10-19T11:12:38.397Z"
   },
   {
    "duration": 81,
    "start_time": "2022-10-19T11:12:38.469Z"
   },
   {
    "duration": 62,
    "start_time": "2022-10-19T11:12:38.553Z"
   },
   {
    "duration": 18,
    "start_time": "2022-10-19T11:12:38.617Z"
   },
   {
    "duration": 25,
    "start_time": "2022-10-19T11:12:38.636Z"
   },
   {
    "duration": 36,
    "start_time": "2022-10-19T11:12:38.662Z"
   },
   {
    "duration": 25,
    "start_time": "2022-10-19T11:12:38.699Z"
   },
   {
    "duration": 18,
    "start_time": "2022-10-19T11:12:38.726Z"
   },
   {
    "duration": 11,
    "start_time": "2022-10-19T11:12:38.745Z"
   },
   {
    "duration": 8,
    "start_time": "2022-10-19T11:12:38.757Z"
   },
   {
    "duration": 30,
    "start_time": "2022-10-19T11:12:38.766Z"
   },
   {
    "duration": 13,
    "start_time": "2022-10-19T11:12:38.798Z"
   },
   {
    "duration": 12,
    "start_time": "2022-10-19T11:12:38.813Z"
   },
   {
    "duration": 12,
    "start_time": "2022-10-19T11:12:38.827Z"
   },
   {
    "duration": 7,
    "start_time": "2022-10-19T11:12:38.841Z"
   },
   {
    "duration": 350,
    "start_time": "2022-10-19T11:12:38.851Z"
   },
   {
    "duration": 15,
    "start_time": "2022-10-19T11:12:39.202Z"
   },
   {
    "duration": 10,
    "start_time": "2022-10-19T11:12:39.219Z"
   },
   {
    "duration": 22,
    "start_time": "2022-10-19T11:12:39.231Z"
   },
   {
    "duration": 18,
    "start_time": "2022-10-19T11:12:58.352Z"
   },
   {
    "duration": 5,
    "start_time": "2022-10-19T11:15:01.816Z"
   },
   {
    "duration": 27,
    "start_time": "2022-10-19T11:16:13.277Z"
   },
   {
    "duration": 1036,
    "start_time": "2022-10-19T11:17:58.785Z"
   },
   {
    "duration": 189,
    "start_time": "2022-10-19T11:17:59.823Z"
   },
   {
    "duration": 11,
    "start_time": "2022-10-19T11:18:00.014Z"
   },
   {
    "duration": 23,
    "start_time": "2022-10-19T11:18:00.026Z"
   },
   {
    "duration": 43,
    "start_time": "2022-10-19T11:18:00.052Z"
   },
   {
    "duration": 33,
    "start_time": "2022-10-19T11:18:00.097Z"
   },
   {
    "duration": 75,
    "start_time": "2022-10-19T11:18:00.132Z"
   },
   {
    "duration": 66,
    "start_time": "2022-10-19T11:18:00.209Z"
   },
   {
    "duration": 81,
    "start_time": "2022-10-19T11:18:00.277Z"
   },
   {
    "duration": 67,
    "start_time": "2022-10-19T11:18:00.360Z"
   },
   {
    "duration": 18,
    "start_time": "2022-10-19T11:18:00.429Z"
   },
   {
    "duration": 37,
    "start_time": "2022-10-19T11:18:00.449Z"
   },
   {
    "duration": 19,
    "start_time": "2022-10-19T11:18:00.494Z"
   },
   {
    "duration": 45,
    "start_time": "2022-10-19T11:18:00.516Z"
   },
   {
    "duration": 20,
    "start_time": "2022-10-19T11:18:00.563Z"
   },
   {
    "duration": 16,
    "start_time": "2022-10-19T11:18:00.585Z"
   },
   {
    "duration": 13,
    "start_time": "2022-10-19T11:18:00.603Z"
   },
   {
    "duration": 13,
    "start_time": "2022-10-19T11:18:00.617Z"
   },
   {
    "duration": 22,
    "start_time": "2022-10-19T11:18:00.631Z"
   },
   {
    "duration": 12,
    "start_time": "2022-10-19T11:18:00.655Z"
   },
   {
    "duration": 11,
    "start_time": "2022-10-19T11:18:00.669Z"
   },
   {
    "duration": 6,
    "start_time": "2022-10-19T11:18:00.696Z"
   },
   {
    "duration": 372,
    "start_time": "2022-10-19T11:18:00.703Z"
   },
   {
    "duration": 25,
    "start_time": "2022-10-19T11:18:01.077Z"
   },
   {
    "duration": 11,
    "start_time": "2022-10-19T11:18:01.104Z"
   },
   {
    "duration": 36,
    "start_time": "2022-10-19T11:18:01.118Z"
   },
   {
    "duration": 23,
    "start_time": "2022-10-19T11:18:01.156Z"
   },
   {
    "duration": 18,
    "start_time": "2022-10-19T11:18:01.181Z"
   },
   {
    "duration": 38,
    "start_time": "2022-10-19T11:18:01.201Z"
   },
   {
    "duration": 132,
    "start_time": "2022-10-19T11:19:52.776Z"
   },
   {
    "duration": 42,
    "start_time": "2022-10-19T11:20:21.053Z"
   },
   {
    "duration": 44,
    "start_time": "2022-10-19T11:23:24.926Z"
   },
   {
    "duration": 51,
    "start_time": "2022-10-19T11:23:50.842Z"
   },
   {
    "duration": 50,
    "start_time": "2022-10-19T11:24:11.890Z"
   },
   {
    "duration": 48,
    "start_time": "2022-10-19T11:24:26.996Z"
   },
   {
    "duration": 55,
    "start_time": "2022-10-19T11:24:31.886Z"
   },
   {
    "duration": 47,
    "start_time": "2022-10-19T11:24:41.010Z"
   },
   {
    "duration": 1349,
    "start_time": "2022-10-19T11:25:05.817Z"
   },
   {
    "duration": 1169,
    "start_time": "2022-10-19T11:25:22.121Z"
   },
   {
    "duration": 51,
    "start_time": "2022-10-19T11:25:32.859Z"
   },
   {
    "duration": 44,
    "start_time": "2022-10-19T11:26:57.206Z"
   },
   {
    "duration": 79,
    "start_time": "2022-10-19T11:27:37.474Z"
   },
   {
    "duration": 21,
    "start_time": "2022-10-19T11:28:02.631Z"
   },
   {
    "duration": 19,
    "start_time": "2022-10-19T11:29:08.680Z"
   },
   {
    "duration": 25,
    "start_time": "2022-10-19T11:29:35.568Z"
   },
   {
    "duration": 18,
    "start_time": "2022-10-19T11:29:39.306Z"
   },
   {
    "duration": 10,
    "start_time": "2022-10-19T11:29:46.773Z"
   },
   {
    "duration": 18,
    "start_time": "2022-10-19T11:29:56.350Z"
   },
   {
    "duration": 9,
    "start_time": "2022-10-19T11:29:58.122Z"
   },
   {
    "duration": 46,
    "start_time": "2022-10-19T11:30:05.314Z"
   },
   {
    "duration": 19,
    "start_time": "2022-10-19T11:30:09.394Z"
   },
   {
    "duration": 44,
    "start_time": "2022-10-19T11:33:39.426Z"
   },
   {
    "duration": 46,
    "start_time": "2022-10-19T11:33:53.928Z"
   },
   {
    "duration": 46,
    "start_time": "2022-10-19T11:34:03.179Z"
   },
   {
    "duration": 1047,
    "start_time": "2022-10-19T11:34:11.492Z"
   },
   {
    "duration": 215,
    "start_time": "2022-10-19T11:34:12.541Z"
   },
   {
    "duration": 11,
    "start_time": "2022-10-19T11:34:12.758Z"
   },
   {
    "duration": 14,
    "start_time": "2022-10-19T11:34:12.771Z"
   },
   {
    "duration": 20,
    "start_time": "2022-10-19T11:34:12.795Z"
   },
   {
    "duration": 19,
    "start_time": "2022-10-19T11:34:12.817Z"
   },
   {
    "duration": 93,
    "start_time": "2022-10-19T11:34:12.838Z"
   },
   {
    "duration": 85,
    "start_time": "2022-10-19T11:34:12.933Z"
   },
   {
    "duration": 87,
    "start_time": "2022-10-19T11:34:13.019Z"
   },
   {
    "duration": 59,
    "start_time": "2022-10-19T11:34:13.107Z"
   },
   {
    "duration": 31,
    "start_time": "2022-10-19T11:34:13.168Z"
   },
   {
    "duration": 27,
    "start_time": "2022-10-19T11:34:13.201Z"
   },
   {
    "duration": 19,
    "start_time": "2022-10-19T11:34:13.229Z"
   },
   {
    "duration": 50,
    "start_time": "2022-10-19T11:34:13.250Z"
   },
   {
    "duration": 20,
    "start_time": "2022-10-19T11:34:13.301Z"
   },
   {
    "duration": 12,
    "start_time": "2022-10-19T11:34:13.323Z"
   },
   {
    "duration": 7,
    "start_time": "2022-10-19T11:34:13.337Z"
   },
   {
    "duration": 7,
    "start_time": "2022-10-19T11:34:13.345Z"
   },
   {
    "duration": 14,
    "start_time": "2022-10-19T11:34:13.354Z"
   },
   {
    "duration": 15,
    "start_time": "2022-10-19T11:34:13.395Z"
   },
   {
    "duration": 13,
    "start_time": "2022-10-19T11:34:13.411Z"
   },
   {
    "duration": 7,
    "start_time": "2022-10-19T11:34:13.426Z"
   },
   {
    "duration": 348,
    "start_time": "2022-10-19T11:34:13.435Z"
   },
   {
    "duration": 31,
    "start_time": "2022-10-19T11:34:13.784Z"
   },
   {
    "duration": 12,
    "start_time": "2022-10-19T11:34:13.816Z"
   },
   {
    "duration": 96,
    "start_time": "2022-10-19T11:34:13.830Z"
   },
   {
    "duration": 7,
    "start_time": "2022-10-19T11:36:03.326Z"
   },
   {
    "duration": 26,
    "start_time": "2022-10-19T11:40:02.039Z"
   },
   {
    "duration": 76,
    "start_time": "2022-10-19T11:40:59.612Z"
   },
   {
    "duration": 96,
    "start_time": "2022-10-19T11:41:04.092Z"
   },
   {
    "duration": 24,
    "start_time": "2022-10-19T11:42:13.111Z"
   },
   {
    "duration": 10,
    "start_time": "2022-10-19T11:43:31.668Z"
   },
   {
    "duration": 10,
    "start_time": "2022-10-19T11:43:40.439Z"
   },
   {
    "duration": 11,
    "start_time": "2022-10-19T11:44:02.889Z"
   },
   {
    "duration": 17,
    "start_time": "2022-10-19T11:44:37.632Z"
   },
   {
    "duration": 27,
    "start_time": "2022-10-19T11:45:08.229Z"
   },
   {
    "duration": 46,
    "start_time": "2022-10-19T11:45:41.334Z"
   },
   {
    "duration": 47,
    "start_time": "2022-10-19T11:45:50.907Z"
   },
   {
    "duration": 22,
    "start_time": "2022-10-19T11:47:08.611Z"
   },
   {
    "duration": 22,
    "start_time": "2022-10-19T11:52:32.658Z"
   },
   {
    "duration": 54,
    "start_time": "2022-10-19T14:11:27.005Z"
   },
   {
    "duration": 8,
    "start_time": "2022-10-19T14:11:46.733Z"
   },
   {
    "duration": 1293,
    "start_time": "2022-10-19T14:11:53.580Z"
   },
   {
    "duration": 697,
    "start_time": "2022-10-19T14:11:54.876Z"
   },
   {
    "duration": 13,
    "start_time": "2022-10-19T14:11:55.575Z"
   },
   {
    "duration": 20,
    "start_time": "2022-10-19T14:11:55.589Z"
   },
   {
    "duration": 38,
    "start_time": "2022-10-19T14:11:55.612Z"
   },
   {
    "duration": 14,
    "start_time": "2022-10-19T14:11:55.652Z"
   },
   {
    "duration": 69,
    "start_time": "2022-10-19T14:11:55.668Z"
   },
   {
    "duration": 83,
    "start_time": "2022-10-19T14:11:55.739Z"
   },
   {
    "duration": 82,
    "start_time": "2022-10-19T14:11:55.824Z"
   },
   {
    "duration": 60,
    "start_time": "2022-10-19T14:11:55.920Z"
   },
   {
    "duration": 38,
    "start_time": "2022-10-19T14:11:55.982Z"
   },
   {
    "duration": 30,
    "start_time": "2022-10-19T14:11:56.022Z"
   },
   {
    "duration": 27,
    "start_time": "2022-10-19T14:11:56.054Z"
   },
   {
    "duration": 46,
    "start_time": "2022-10-19T14:11:56.084Z"
   },
   {
    "duration": 21,
    "start_time": "2022-10-19T14:11:56.132Z"
   },
   {
    "duration": 12,
    "start_time": "2022-10-19T14:11:56.155Z"
   },
   {
    "duration": 10,
    "start_time": "2022-10-19T14:11:56.168Z"
   },
   {
    "duration": 13,
    "start_time": "2022-10-19T14:11:56.180Z"
   },
   {
    "duration": 38,
    "start_time": "2022-10-19T14:11:56.194Z"
   },
   {
    "duration": 17,
    "start_time": "2022-10-19T14:11:56.234Z"
   },
   {
    "duration": 16,
    "start_time": "2022-10-19T14:11:56.253Z"
   },
   {
    "duration": 8,
    "start_time": "2022-10-19T14:11:56.271Z"
   },
   {
    "duration": 400,
    "start_time": "2022-10-19T14:11:56.281Z"
   },
   {
    "duration": 23,
    "start_time": "2022-10-19T14:11:56.683Z"
   },
   {
    "duration": 21,
    "start_time": "2022-10-19T14:11:56.708Z"
   },
   {
    "duration": 103,
    "start_time": "2022-10-19T14:11:56.731Z"
   },
   {
    "duration": 9,
    "start_time": "2022-10-19T14:11:56.835Z"
   },
   {
    "duration": 33,
    "start_time": "2022-10-19T14:11:56.845Z"
   },
   {
    "duration": 46,
    "start_time": "2022-10-19T14:11:56.879Z"
   },
   {
    "duration": 27,
    "start_time": "2022-10-19T14:12:01.379Z"
   },
   {
    "duration": 36,
    "start_time": "2022-10-19T14:14:42.334Z"
   },
   {
    "duration": 56,
    "start_time": "2022-10-19T14:31:11.955Z"
   },
   {
    "duration": 56,
    "start_time": "2022-10-19T14:31:54.626Z"
   },
   {
    "duration": 51,
    "start_time": "2022-10-19T17:56:32.254Z"
   },
   {
    "duration": 1274,
    "start_time": "2022-10-19T17:56:47.001Z"
   },
   {
    "duration": 766,
    "start_time": "2022-10-19T17:56:48.278Z"
   },
   {
    "duration": 12,
    "start_time": "2022-10-19T17:56:49.046Z"
   },
   {
    "duration": 8,
    "start_time": "2022-10-19T17:56:49.059Z"
   },
   {
    "duration": 24,
    "start_time": "2022-10-19T17:56:49.069Z"
   },
   {
    "duration": 16,
    "start_time": "2022-10-19T17:56:49.096Z"
   },
   {
    "duration": 68,
    "start_time": "2022-10-19T17:56:49.114Z"
   },
   {
    "duration": 72,
    "start_time": "2022-10-19T17:56:49.196Z"
   },
   {
    "duration": 85,
    "start_time": "2022-10-19T17:56:49.269Z"
   },
   {
    "duration": 68,
    "start_time": "2022-10-19T17:56:49.357Z"
   },
   {
    "duration": 18,
    "start_time": "2022-10-19T17:56:49.426Z"
   },
   {
    "duration": 33,
    "start_time": "2022-10-19T17:56:49.445Z"
   },
   {
    "duration": 22,
    "start_time": "2022-10-19T17:56:49.496Z"
   },
   {
    "duration": 29,
    "start_time": "2022-10-19T17:56:49.520Z"
   },
   {
    "duration": 49,
    "start_time": "2022-10-19T17:56:49.551Z"
   },
   {
    "duration": 10,
    "start_time": "2022-10-19T17:56:49.602Z"
   },
   {
    "duration": 9,
    "start_time": "2022-10-19T17:56:49.614Z"
   },
   {
    "duration": 15,
    "start_time": "2022-10-19T17:56:49.625Z"
   },
   {
    "duration": 12,
    "start_time": "2022-10-19T17:56:49.641Z"
   },
   {
    "duration": 13,
    "start_time": "2022-10-19T17:56:49.654Z"
   },
   {
    "duration": 13,
    "start_time": "2022-10-19T17:56:49.696Z"
   },
   {
    "duration": 6,
    "start_time": "2022-10-19T17:56:49.710Z"
   },
   {
    "duration": 337,
    "start_time": "2022-10-19T17:56:49.718Z"
   },
   {
    "duration": 21,
    "start_time": "2022-10-19T17:56:50.057Z"
   },
   {
    "duration": 18,
    "start_time": "2022-10-19T17:56:50.080Z"
   },
   {
    "duration": 82,
    "start_time": "2022-10-19T17:56:50.099Z"
   },
   {
    "duration": 21,
    "start_time": "2022-10-19T17:56:50.182Z"
   },
   {
    "duration": 22,
    "start_time": "2022-10-19T17:56:50.206Z"
   },
   {
    "duration": 29,
    "start_time": "2022-10-19T17:56:50.229Z"
   },
   {
    "duration": 75,
    "start_time": "2022-10-19T17:56:50.259Z"
   },
   {
    "duration": 29,
    "start_time": "2022-10-19T17:58:18.555Z"
   },
   {
    "duration": 28,
    "start_time": "2022-10-19T17:59:02.058Z"
   },
   {
    "duration": 28,
    "start_time": "2022-10-19T18:00:02.423Z"
   },
   {
    "duration": 85,
    "start_time": "2022-10-19T18:11:42.119Z"
   },
   {
    "duration": 70,
    "start_time": "2022-10-19T18:12:32.600Z"
   },
   {
    "duration": 56,
    "start_time": "2022-10-19T18:16:37.661Z"
   },
   {
    "duration": 3,
    "start_time": "2022-10-19T18:28:30.384Z"
   },
   {
    "duration": 111,
    "start_time": "2022-10-19T18:29:38.953Z"
   },
   {
    "duration": 66,
    "start_time": "2022-10-19T18:30:12.564Z"
   },
   {
    "duration": 11,
    "start_time": "2022-10-19T18:30:24.558Z"
   },
   {
    "duration": 9,
    "start_time": "2022-10-19T18:31:41.075Z"
   },
   {
    "duration": 68,
    "start_time": "2022-10-19T18:34:39.737Z"
   },
   {
    "duration": 66,
    "start_time": "2022-10-19T18:35:00.320Z"
   },
   {
    "duration": 110,
    "start_time": "2022-10-19T18:35:28.057Z"
   },
   {
    "duration": 68,
    "start_time": "2022-10-19T18:35:34.099Z"
   },
   {
    "duration": 67,
    "start_time": "2022-10-19T18:35:40.394Z"
   },
   {
    "duration": 16,
    "start_time": "2022-10-19T18:37:02.772Z"
   },
   {
    "duration": 18,
    "start_time": "2022-10-19T18:37:53.872Z"
   },
   {
    "duration": 79,
    "start_time": "2022-10-19T18:38:07.217Z"
   },
   {
    "duration": 78,
    "start_time": "2022-10-19T18:38:12.298Z"
   },
   {
    "duration": 18,
    "start_time": "2022-10-19T18:38:33.573Z"
   },
   {
    "duration": 1121,
    "start_time": "2022-10-19T18:38:56.040Z"
   },
   {
    "duration": 228,
    "start_time": "2022-10-19T18:38:57.163Z"
   },
   {
    "duration": 26,
    "start_time": "2022-10-19T18:38:57.393Z"
   },
   {
    "duration": 12,
    "start_time": "2022-10-19T18:38:57.421Z"
   },
   {
    "duration": 24,
    "start_time": "2022-10-19T18:38:57.435Z"
   },
   {
    "duration": 15,
    "start_time": "2022-10-19T18:38:57.461Z"
   },
   {
    "duration": 84,
    "start_time": "2022-10-19T18:38:57.478Z"
   },
   {
    "duration": 81,
    "start_time": "2022-10-19T18:38:57.564Z"
   },
   {
    "duration": 94,
    "start_time": "2022-10-19T18:38:57.647Z"
   },
   {
    "duration": 95,
    "start_time": "2022-10-19T18:38:57.744Z"
   },
   {
    "duration": 22,
    "start_time": "2022-10-19T18:38:57.841Z"
   },
   {
    "duration": 60,
    "start_time": "2022-10-19T18:38:57.865Z"
   },
   {
    "duration": 27,
    "start_time": "2022-10-19T18:38:57.927Z"
   },
   {
    "duration": 50,
    "start_time": "2022-10-19T18:38:57.958Z"
   },
   {
    "duration": 25,
    "start_time": "2022-10-19T18:38:58.009Z"
   },
   {
    "duration": 18,
    "start_time": "2022-10-19T18:38:58.037Z"
   },
   {
    "duration": 23,
    "start_time": "2022-10-19T18:38:58.058Z"
   },
   {
    "duration": 26,
    "start_time": "2022-10-19T18:38:58.083Z"
   },
   {
    "duration": 24,
    "start_time": "2022-10-19T18:38:58.111Z"
   },
   {
    "duration": 19,
    "start_time": "2022-10-19T18:38:58.137Z"
   },
   {
    "duration": 39,
    "start_time": "2022-10-19T18:38:58.158Z"
   },
   {
    "duration": 7,
    "start_time": "2022-10-19T18:38:58.200Z"
   },
   {
    "duration": 480,
    "start_time": "2022-10-19T18:38:58.209Z"
   },
   {
    "duration": 31,
    "start_time": "2022-10-19T18:38:58.691Z"
   },
   {
    "duration": 13,
    "start_time": "2022-10-19T18:38:58.724Z"
   },
   {
    "duration": 151,
    "start_time": "2022-10-19T18:38:58.739Z"
   },
   {
    "duration": 12,
    "start_time": "2022-10-19T18:38:58.893Z"
   },
   {
    "duration": 25,
    "start_time": "2022-10-19T18:38:58.907Z"
   },
   {
    "duration": 31,
    "start_time": "2022-10-19T18:38:58.934Z"
   },
   {
    "duration": 123,
    "start_time": "2022-10-19T18:38:58.997Z"
   },
   {
    "duration": 193,
    "start_time": "2022-10-19T18:38:59.122Z"
   },
   {
    "duration": 95,
    "start_time": "2022-10-19T18:39:45.242Z"
   },
   {
    "duration": 100,
    "start_time": "2022-10-19T18:40:28.330Z"
   },
   {
    "duration": 70,
    "start_time": "2022-10-19T18:40:41.109Z"
   },
   {
    "duration": 69,
    "start_time": "2022-10-19T18:40:45.219Z"
   },
   {
    "duration": 9,
    "start_time": "2022-10-19T18:43:28.757Z"
   },
   {
    "duration": 24,
    "start_time": "2022-10-19T18:57:12.441Z"
   },
   {
    "duration": 1073,
    "start_time": "2022-10-19T18:57:50.098Z"
   },
   {
    "duration": 222,
    "start_time": "2022-10-19T18:57:51.173Z"
   },
   {
    "duration": 12,
    "start_time": "2022-10-19T18:57:51.397Z"
   },
   {
    "duration": 8,
    "start_time": "2022-10-19T18:57:51.411Z"
   },
   {
    "duration": 27,
    "start_time": "2022-10-19T18:57:51.421Z"
   },
   {
    "duration": 16,
    "start_time": "2022-10-19T18:57:51.449Z"
   },
   {
    "duration": 90,
    "start_time": "2022-10-19T18:57:51.467Z"
   },
   {
    "duration": 79,
    "start_time": "2022-10-19T18:57:51.559Z"
   },
   {
    "duration": 84,
    "start_time": "2022-10-19T18:57:51.640Z"
   },
   {
    "duration": 75,
    "start_time": "2022-10-19T18:57:51.726Z"
   },
   {
    "duration": 18,
    "start_time": "2022-10-19T18:57:51.803Z"
   },
   {
    "duration": 31,
    "start_time": "2022-10-19T18:57:51.822Z"
   },
   {
    "duration": 33,
    "start_time": "2022-10-19T18:57:51.868Z"
   },
   {
    "duration": 36,
    "start_time": "2022-10-19T18:57:51.905Z"
   },
   {
    "duration": 56,
    "start_time": "2022-10-19T18:57:51.943Z"
   },
   {
    "duration": 13,
    "start_time": "2022-10-19T18:57:52.001Z"
   },
   {
    "duration": 7,
    "start_time": "2022-10-19T18:57:52.016Z"
   },
   {
    "duration": 13,
    "start_time": "2022-10-19T18:57:52.025Z"
   },
   {
    "duration": 14,
    "start_time": "2022-10-19T18:57:52.040Z"
   },
   {
    "duration": 44,
    "start_time": "2022-10-19T18:57:52.056Z"
   },
   {
    "duration": 14,
    "start_time": "2022-10-19T18:57:52.102Z"
   },
   {
    "duration": 7,
    "start_time": "2022-10-19T18:57:52.118Z"
   },
   {
    "duration": 352,
    "start_time": "2022-10-19T18:57:52.127Z"
   },
   {
    "duration": 33,
    "start_time": "2022-10-19T18:57:52.482Z"
   },
   {
    "duration": 10,
    "start_time": "2022-10-19T18:57:52.517Z"
   },
   {
    "duration": 101,
    "start_time": "2022-10-19T18:57:52.529Z"
   },
   {
    "duration": 9,
    "start_time": "2022-10-19T18:57:52.632Z"
   },
   {
    "duration": 26,
    "start_time": "2022-10-19T18:57:52.643Z"
   },
   {
    "duration": 30,
    "start_time": "2022-10-19T18:57:52.696Z"
   },
   {
    "duration": 85,
    "start_time": "2022-10-19T18:57:52.728Z"
   },
   {
    "duration": 122,
    "start_time": "2022-10-19T18:57:52.814Z"
   },
   {
    "duration": 30,
    "start_time": "2022-10-19T18:59:15.151Z"
   },
   {
    "duration": 19,
    "start_time": "2022-10-19T19:00:00.924Z"
   },
   {
    "duration": 29,
    "start_time": "2022-10-19T19:00:24.534Z"
   },
   {
    "duration": 25,
    "start_time": "2022-10-19T19:00:45.534Z"
   },
   {
    "duration": 35,
    "start_time": "2022-10-19T19:00:49.580Z"
   },
   {
    "duration": 21,
    "start_time": "2022-10-19T19:01:16.072Z"
   },
   {
    "duration": 25,
    "start_time": "2022-10-19T19:01:24.365Z"
   },
   {
    "duration": 39,
    "start_time": "2022-10-19T19:01:39.952Z"
   },
   {
    "duration": 34,
    "start_time": "2022-10-19T19:01:48.840Z"
   },
   {
    "duration": 24,
    "start_time": "2022-10-19T19:01:52.671Z"
   },
   {
    "duration": 1165,
    "start_time": "2022-10-19T19:02:18.986Z"
   },
   {
    "duration": 23,
    "start_time": "2022-10-19T19:02:26.719Z"
   },
   {
    "duration": 21,
    "start_time": "2022-10-19T19:02:56.815Z"
   },
   {
    "duration": 61,
    "start_time": "2022-10-19T19:05:36.893Z"
   },
   {
    "duration": 48,
    "start_time": "2022-10-20T06:38:07.136Z"
   },
   {
    "duration": 1111,
    "start_time": "2022-10-20T06:38:15.548Z"
   },
   {
    "duration": 519,
    "start_time": "2022-10-20T06:38:16.660Z"
   },
   {
    "duration": 10,
    "start_time": "2022-10-20T06:38:17.180Z"
   },
   {
    "duration": 20,
    "start_time": "2022-10-20T06:38:17.192Z"
   },
   {
    "duration": 22,
    "start_time": "2022-10-20T06:38:17.214Z"
   },
   {
    "duration": 11,
    "start_time": "2022-10-20T06:38:17.238Z"
   },
   {
    "duration": 70,
    "start_time": "2022-10-20T06:38:17.251Z"
   },
   {
    "duration": 62,
    "start_time": "2022-10-20T06:38:17.322Z"
   },
   {
    "duration": 79,
    "start_time": "2022-10-20T06:38:17.385Z"
   },
   {
    "duration": 61,
    "start_time": "2022-10-20T06:38:17.465Z"
   },
   {
    "duration": 17,
    "start_time": "2022-10-20T06:38:17.527Z"
   },
   {
    "duration": 27,
    "start_time": "2022-10-20T06:38:17.545Z"
   },
   {
    "duration": 38,
    "start_time": "2022-10-20T06:38:17.573Z"
   },
   {
    "duration": 28,
    "start_time": "2022-10-20T06:38:17.615Z"
   },
   {
    "duration": 18,
    "start_time": "2022-10-20T06:38:17.645Z"
   },
   {
    "duration": 10,
    "start_time": "2022-10-20T06:38:17.664Z"
   },
   {
    "duration": 38,
    "start_time": "2022-10-20T06:38:17.676Z"
   },
   {
    "duration": 8,
    "start_time": "2022-10-20T06:38:17.716Z"
   },
   {
    "duration": 12,
    "start_time": "2022-10-20T06:38:17.725Z"
   },
   {
    "duration": 12,
    "start_time": "2022-10-20T06:38:17.739Z"
   },
   {
    "duration": 9,
    "start_time": "2022-10-20T06:38:17.752Z"
   },
   {
    "duration": 5,
    "start_time": "2022-10-20T06:38:17.762Z"
   },
   {
    "duration": 313,
    "start_time": "2022-10-20T06:38:17.769Z"
   },
   {
    "duration": 30,
    "start_time": "2022-10-20T06:38:18.083Z"
   },
   {
    "duration": 8,
    "start_time": "2022-10-20T06:38:18.115Z"
   },
   {
    "duration": 92,
    "start_time": "2022-10-20T06:38:18.124Z"
   },
   {
    "duration": 7,
    "start_time": "2022-10-20T06:38:18.217Z"
   },
   {
    "duration": 31,
    "start_time": "2022-10-20T06:38:18.226Z"
   },
   {
    "duration": 28,
    "start_time": "2022-10-20T06:38:18.259Z"
   },
   {
    "duration": 74,
    "start_time": "2022-10-20T06:38:18.288Z"
   },
   {
    "duration": 97,
    "start_time": "2022-10-20T06:38:18.363Z"
   },
   {
    "duration": 0,
    "start_time": "2022-10-20T06:38:18.461Z"
   },
   {
    "duration": 0,
    "start_time": "2022-10-20T06:38:18.462Z"
   },
   {
    "duration": 38,
    "start_time": "2022-10-20T06:38:30.579Z"
   },
   {
    "duration": 49,
    "start_time": "2022-10-20T06:38:33.242Z"
   },
   {
    "duration": 65,
    "start_time": "2022-10-20T06:41:57.600Z"
   },
   {
    "duration": 862,
    "start_time": "2022-10-20T06:42:13.136Z"
   },
   {
    "duration": 58,
    "start_time": "2022-10-20T06:42:49.514Z"
   },
   {
    "duration": 76,
    "start_time": "2022-10-20T06:44:58.145Z"
   },
   {
    "duration": 62,
    "start_time": "2022-10-20T06:45:21.965Z"
   },
   {
    "duration": 57,
    "start_time": "2022-10-20T06:45:40.212Z"
   },
   {
    "duration": 85,
    "start_time": "2022-10-20T06:45:52.134Z"
   },
   {
    "duration": 37,
    "start_time": "2022-10-20T06:46:04.140Z"
   },
   {
    "duration": 64,
    "start_time": "2022-10-20T06:46:06.651Z"
   },
   {
    "duration": 16,
    "start_time": "2022-10-20T06:46:22.860Z"
   },
   {
    "duration": 50,
    "start_time": "2022-10-20T06:46:29.871Z"
   },
   {
    "duration": 61,
    "start_time": "2022-10-20T06:46:59.695Z"
   },
   {
    "duration": 20,
    "start_time": "2022-10-20T06:48:45.896Z"
   },
   {
    "duration": 199,
    "start_time": "2022-10-20T06:49:02.074Z"
   },
   {
    "duration": 21,
    "start_time": "2022-10-20T06:49:43.954Z"
   },
   {
    "duration": 20,
    "start_time": "2022-10-20T06:49:52.274Z"
   },
   {
    "duration": 211,
    "start_time": "2022-10-20T06:50:02.142Z"
   },
   {
    "duration": 67,
    "start_time": "2022-10-20T06:51:37.575Z"
   },
   {
    "duration": 164,
    "start_time": "2022-10-20T06:51:45.651Z"
   },
   {
    "duration": 3,
    "start_time": "2022-10-20T06:53:37.140Z"
   },
   {
    "duration": 1168,
    "start_time": "2022-10-20T06:53:44.844Z"
   },
   {
    "duration": 141,
    "start_time": "2022-10-20T06:53:46.017Z"
   },
   {
    "duration": 11,
    "start_time": "2022-10-20T06:53:46.160Z"
   },
   {
    "duration": 17,
    "start_time": "2022-10-20T06:53:46.173Z"
   },
   {
    "duration": 30,
    "start_time": "2022-10-20T06:53:46.193Z"
   },
   {
    "duration": 17,
    "start_time": "2022-10-20T06:53:46.225Z"
   },
   {
    "duration": 90,
    "start_time": "2022-10-20T06:53:46.244Z"
   },
   {
    "duration": 98,
    "start_time": "2022-10-20T06:53:46.336Z"
   },
   {
    "duration": 83,
    "start_time": "2022-10-20T06:53:46.435Z"
   },
   {
    "duration": 60,
    "start_time": "2022-10-20T06:53:46.520Z"
   },
   {
    "duration": 31,
    "start_time": "2022-10-20T06:53:46.582Z"
   },
   {
    "duration": 27,
    "start_time": "2022-10-20T06:53:46.622Z"
   },
   {
    "duration": 16,
    "start_time": "2022-10-20T06:53:46.650Z"
   },
   {
    "duration": 41,
    "start_time": "2022-10-20T06:53:46.669Z"
   },
   {
    "duration": 24,
    "start_time": "2022-10-20T06:53:46.712Z"
   },
   {
    "duration": 16,
    "start_time": "2022-10-20T06:53:46.737Z"
   },
   {
    "duration": 9,
    "start_time": "2022-10-20T06:53:46.754Z"
   },
   {
    "duration": 11,
    "start_time": "2022-10-20T06:53:46.765Z"
   },
   {
    "duration": 33,
    "start_time": "2022-10-20T06:53:46.778Z"
   },
   {
    "duration": 26,
    "start_time": "2022-10-20T06:53:46.812Z"
   },
   {
    "duration": 12,
    "start_time": "2022-10-20T06:53:46.839Z"
   },
   {
    "duration": 7,
    "start_time": "2022-10-20T06:53:46.853Z"
   },
   {
    "duration": 357,
    "start_time": "2022-10-20T06:53:46.862Z"
   },
   {
    "duration": 22,
    "start_time": "2022-10-20T06:53:47.221Z"
   },
   {
    "duration": 10,
    "start_time": "2022-10-20T06:53:47.245Z"
   },
   {
    "duration": 89,
    "start_time": "2022-10-20T06:53:47.256Z"
   },
   {
    "duration": 8,
    "start_time": "2022-10-20T06:53:47.347Z"
   },
   {
    "duration": 26,
    "start_time": "2022-10-20T06:53:47.358Z"
   },
   {
    "duration": 33,
    "start_time": "2022-10-20T06:53:47.410Z"
   },
   {
    "duration": 76,
    "start_time": "2022-10-20T06:53:47.445Z"
   },
   {
    "duration": 84,
    "start_time": "2022-10-20T06:53:47.524Z"
   },
   {
    "duration": 155,
    "start_time": "2022-10-20T06:53:47.612Z"
   },
   {
    "duration": 56,
    "start_time": "2022-10-20T06:53:47.770Z"
   },
   {
    "duration": 49,
    "start_time": "2022-10-20T06:53:47.828Z"
   },
   {
    "duration": 124,
    "start_time": "2022-10-20T06:54:35.558Z"
   },
   {
    "duration": 24,
    "start_time": "2022-10-20T06:54:37.884Z"
   },
   {
    "duration": 170,
    "start_time": "2022-10-20T06:56:01.596Z"
   },
   {
    "duration": 154,
    "start_time": "2022-10-20T06:57:09.042Z"
   },
   {
    "duration": 157,
    "start_time": "2022-10-20T06:57:38.718Z"
   },
   {
    "duration": 209,
    "start_time": "2022-10-20T07:00:50.097Z"
   },
   {
    "duration": 36,
    "start_time": "2022-10-20T07:01:30.939Z"
   },
   {
    "duration": 1261,
    "start_time": "2022-10-20T07:01:43.997Z"
   },
   {
    "duration": 165,
    "start_time": "2022-10-20T07:01:45.260Z"
   },
   {
    "duration": 15,
    "start_time": "2022-10-20T07:01:45.431Z"
   },
   {
    "duration": 16,
    "start_time": "2022-10-20T07:01:45.450Z"
   },
   {
    "duration": 23,
    "start_time": "2022-10-20T07:01:45.468Z"
   },
   {
    "duration": 25,
    "start_time": "2022-10-20T07:01:45.492Z"
   },
   {
    "duration": 98,
    "start_time": "2022-10-20T07:01:45.519Z"
   },
   {
    "duration": 114,
    "start_time": "2022-10-20T07:01:45.621Z"
   },
   {
    "duration": 90,
    "start_time": "2022-10-20T07:01:45.740Z"
   },
   {
    "duration": 63,
    "start_time": "2022-10-20T07:01:45.832Z"
   },
   {
    "duration": 30,
    "start_time": "2022-10-20T07:01:45.896Z"
   },
   {
    "duration": 31,
    "start_time": "2022-10-20T07:01:45.928Z"
   },
   {
    "duration": 19,
    "start_time": "2022-10-20T07:01:45.961Z"
   },
   {
    "duration": 41,
    "start_time": "2022-10-20T07:01:45.982Z"
   },
   {
    "duration": 24,
    "start_time": "2022-10-20T07:01:46.024Z"
   },
   {
    "duration": 13,
    "start_time": "2022-10-20T07:01:46.050Z"
   },
   {
    "duration": 8,
    "start_time": "2022-10-20T07:01:46.065Z"
   },
   {
    "duration": 7,
    "start_time": "2022-10-20T07:01:46.075Z"
   },
   {
    "duration": 24,
    "start_time": "2022-10-20T07:01:46.083Z"
   },
   {
    "duration": 36,
    "start_time": "2022-10-20T07:01:46.109Z"
   },
   {
    "duration": 11,
    "start_time": "2022-10-20T07:01:46.146Z"
   },
   {
    "duration": 5,
    "start_time": "2022-10-20T07:01:46.159Z"
   },
   {
    "duration": 321,
    "start_time": "2022-10-20T07:01:46.165Z"
   },
   {
    "duration": 31,
    "start_time": "2022-10-20T07:01:46.488Z"
   },
   {
    "duration": 18,
    "start_time": "2022-10-20T07:01:46.521Z"
   },
   {
    "duration": 98,
    "start_time": "2022-10-20T07:01:46.541Z"
   },
   {
    "duration": 7,
    "start_time": "2022-10-20T07:01:46.641Z"
   },
   {
    "duration": 27,
    "start_time": "2022-10-20T07:01:46.650Z"
   },
   {
    "duration": 44,
    "start_time": "2022-10-20T07:01:46.678Z"
   },
   {
    "duration": 87,
    "start_time": "2022-10-20T07:01:46.730Z"
   },
   {
    "duration": 70,
    "start_time": "2022-10-20T07:01:46.819Z"
   },
   {
    "duration": 174,
    "start_time": "2022-10-20T07:01:46.890Z"
   },
   {
    "duration": 160,
    "start_time": "2022-10-20T07:01:47.066Z"
   },
   {
    "duration": 42,
    "start_time": "2022-10-20T07:01:47.227Z"
   },
   {
    "duration": 76,
    "start_time": "2022-10-20T07:01:47.271Z"
   },
   {
    "duration": 6,
    "start_time": "2022-10-20T07:16:26.871Z"
   },
   {
    "duration": 950,
    "start_time": "2022-10-20T07:16:51.316Z"
   },
   {
    "duration": 74,
    "start_time": "2022-10-20T07:17:32.142Z"
   },
   {
    "duration": 78,
    "start_time": "2022-10-20T07:20:51.614Z"
   },
   {
    "duration": 1222,
    "start_time": "2022-10-20T07:21:14.278Z"
   },
   {
    "duration": 131,
    "start_time": "2022-10-20T07:21:15.502Z"
   },
   {
    "duration": 11,
    "start_time": "2022-10-20T07:21:15.634Z"
   },
   {
    "duration": 13,
    "start_time": "2022-10-20T07:21:15.648Z"
   },
   {
    "duration": 24,
    "start_time": "2022-10-20T07:21:15.662Z"
   },
   {
    "duration": 18,
    "start_time": "2022-10-20T07:21:15.687Z"
   },
   {
    "duration": 64,
    "start_time": "2022-10-20T07:21:15.707Z"
   },
   {
    "duration": 77,
    "start_time": "2022-10-20T07:21:15.773Z"
   },
   {
    "duration": 77,
    "start_time": "2022-10-20T07:21:15.852Z"
   },
   {
    "duration": 56,
    "start_time": "2022-10-20T07:21:15.931Z"
   },
   {
    "duration": 25,
    "start_time": "2022-10-20T07:21:15.989Z"
   },
   {
    "duration": 36,
    "start_time": "2022-10-20T07:21:16.016Z"
   },
   {
    "duration": 17,
    "start_time": "2022-10-20T07:21:16.053Z"
   },
   {
    "duration": 32,
    "start_time": "2022-10-20T07:21:16.072Z"
   },
   {
    "duration": 23,
    "start_time": "2022-10-20T07:21:16.106Z"
   },
   {
    "duration": 14,
    "start_time": "2022-10-20T07:21:16.131Z"
   },
   {
    "duration": 9,
    "start_time": "2022-10-20T07:21:16.146Z"
   },
   {
    "duration": 11,
    "start_time": "2022-10-20T07:21:16.156Z"
   },
   {
    "duration": 34,
    "start_time": "2022-10-20T07:21:16.169Z"
   },
   {
    "duration": 14,
    "start_time": "2022-10-20T07:21:16.204Z"
   },
   {
    "duration": 11,
    "start_time": "2022-10-20T07:21:16.220Z"
   },
   {
    "duration": 6,
    "start_time": "2022-10-20T07:21:16.232Z"
   },
   {
    "duration": 322,
    "start_time": "2022-10-20T07:21:16.239Z"
   },
   {
    "duration": 20,
    "start_time": "2022-10-20T07:21:16.562Z"
   },
   {
    "duration": 20,
    "start_time": "2022-10-20T07:21:16.584Z"
   },
   {
    "duration": 81,
    "start_time": "2022-10-20T07:21:16.606Z"
   },
   {
    "duration": 17,
    "start_time": "2022-10-20T07:21:16.689Z"
   },
   {
    "duration": 28,
    "start_time": "2022-10-20T07:21:16.709Z"
   },
   {
    "duration": 25,
    "start_time": "2022-10-20T07:21:16.738Z"
   },
   {
    "duration": 79,
    "start_time": "2022-10-20T07:21:16.765Z"
   },
   {
    "duration": 71,
    "start_time": "2022-10-20T07:21:16.846Z"
   },
   {
    "duration": 160,
    "start_time": "2022-10-20T07:21:16.919Z"
   },
   {
    "duration": 154,
    "start_time": "2022-10-20T07:21:17.081Z"
   },
   {
    "duration": 176,
    "start_time": "2022-10-20T07:21:17.237Z"
   },
   {
    "duration": 0,
    "start_time": "2022-10-20T07:21:17.415Z"
   },
   {
    "duration": 0,
    "start_time": "2022-10-20T07:21:17.418Z"
   },
   {
    "duration": 99,
    "start_time": "2022-10-20T07:21:44.486Z"
   },
   {
    "duration": 79,
    "start_time": "2022-10-20T07:24:50.955Z"
   },
   {
    "duration": 86,
    "start_time": "2022-10-20T07:24:57.340Z"
   },
   {
    "duration": 85,
    "start_time": "2022-10-20T07:25:10.637Z"
   },
   {
    "duration": 79,
    "start_time": "2022-10-20T07:25:21.842Z"
   },
   {
    "duration": 37,
    "start_time": "2022-10-20T07:29:09.299Z"
   },
   {
    "duration": 47,
    "start_time": "2022-10-20T07:29:12.435Z"
   },
   {
    "duration": 24,
    "start_time": "2022-10-20T07:32:24.247Z"
   },
   {
    "duration": 30,
    "start_time": "2022-10-20T07:37:03.392Z"
   },
   {
    "duration": 82,
    "start_time": "2022-10-20T07:53:10.897Z"
   },
   {
    "duration": 77,
    "start_time": "2022-10-20T07:54:17.262Z"
   },
   {
    "duration": 44,
    "start_time": "2022-10-20T07:54:25.171Z"
   },
   {
    "duration": 82,
    "start_time": "2022-10-20T07:54:29.504Z"
   },
   {
    "duration": 195,
    "start_time": "2022-10-20T07:54:38.812Z"
   },
   {
    "duration": 50,
    "start_time": "2022-10-20T07:54:53.680Z"
   },
   {
    "duration": 73,
    "start_time": "2022-10-20T07:54:58.780Z"
   },
   {
    "duration": 63,
    "start_time": "2022-10-20T08:03:38.301Z"
   },
   {
    "duration": 196662,
    "start_time": "2022-10-20T08:08:22.089Z"
   },
   {
    "duration": 198058,
    "start_time": "2022-10-20T08:12:50.814Z"
   },
   {
    "duration": 59,
    "start_time": "2022-10-20T08:17:11.173Z"
   },
   {
    "duration": 63,
    "start_time": "2022-10-20T08:17:14.396Z"
   },
   {
    "duration": 9,
    "start_time": "2022-10-20T08:17:34.346Z"
   },
   {
    "duration": 1209,
    "start_time": "2022-10-20T08:17:43.428Z"
   },
   {
    "duration": 172,
    "start_time": "2022-10-20T08:17:44.640Z"
   },
   {
    "duration": 13,
    "start_time": "2022-10-20T08:17:44.814Z"
   },
   {
    "duration": 9,
    "start_time": "2022-10-20T08:17:44.829Z"
   },
   {
    "duration": 23,
    "start_time": "2022-10-20T08:17:44.840Z"
   },
   {
    "duration": 36,
    "start_time": "2022-10-20T08:17:44.865Z"
   },
   {
    "duration": 67,
    "start_time": "2022-10-20T08:17:44.903Z"
   },
   {
    "duration": 98,
    "start_time": "2022-10-20T08:17:44.972Z"
   },
   {
    "duration": 81,
    "start_time": "2022-10-20T08:17:45.072Z"
   },
   {
    "duration": 71,
    "start_time": "2022-10-20T08:17:45.156Z"
   },
   {
    "duration": 18,
    "start_time": "2022-10-20T08:17:45.228Z"
   },
   {
    "duration": 26,
    "start_time": "2022-10-20T08:17:45.248Z"
   },
   {
    "duration": 37,
    "start_time": "2022-10-20T08:17:45.276Z"
   },
   {
    "duration": 37,
    "start_time": "2022-10-20T08:17:45.314Z"
   },
   {
    "duration": 18,
    "start_time": "2022-10-20T08:17:45.353Z"
   },
   {
    "duration": 11,
    "start_time": "2022-10-20T08:17:45.372Z"
   },
   {
    "duration": 16,
    "start_time": "2022-10-20T08:17:45.385Z"
   },
   {
    "duration": 17,
    "start_time": "2022-10-20T08:17:45.403Z"
   },
   {
    "duration": 15,
    "start_time": "2022-10-20T08:17:45.422Z"
   },
   {
    "duration": 15,
    "start_time": "2022-10-20T08:17:45.438Z"
   },
   {
    "duration": 11,
    "start_time": "2022-10-20T08:17:45.454Z"
   },
   {
    "duration": 10,
    "start_time": "2022-10-20T08:17:45.467Z"
   },
   {
    "duration": 317,
    "start_time": "2022-10-20T08:17:45.478Z"
   },
   {
    "duration": 25,
    "start_time": "2022-10-20T08:17:45.796Z"
   },
   {
    "duration": 11,
    "start_time": "2022-10-20T08:17:45.823Z"
   },
   {
    "duration": 88,
    "start_time": "2022-10-20T08:17:45.835Z"
   },
   {
    "duration": 6,
    "start_time": "2022-10-20T08:17:45.925Z"
   },
   {
    "duration": 20,
    "start_time": "2022-10-20T08:17:45.935Z"
   },
   {
    "duration": 45,
    "start_time": "2022-10-20T08:17:45.956Z"
   },
   {
    "duration": 63,
    "start_time": "2022-10-20T08:17:46.003Z"
   },
   {
    "duration": 83,
    "start_time": "2022-10-20T08:17:46.067Z"
   },
   {
    "duration": 159,
    "start_time": "2022-10-20T08:17:46.151Z"
   },
   {
    "duration": 136,
    "start_time": "2022-10-20T08:17:46.315Z"
   },
   {
    "duration": 90,
    "start_time": "2022-10-20T08:17:46.453Z"
   },
   {
    "duration": 36,
    "start_time": "2022-10-20T08:17:46.544Z"
   },
   {
    "duration": 32,
    "start_time": "2022-10-20T08:17:46.582Z"
   },
   {
    "duration": 114,
    "start_time": "2022-10-20T08:17:46.616Z"
   },
   {
    "duration": 12,
    "start_time": "2022-10-20T08:18:01.830Z"
   },
   {
    "duration": 1019,
    "start_time": "2022-10-20T08:19:02.803Z"
   },
   {
    "duration": 11,
    "start_time": "2022-10-20T08:19:23.412Z"
   },
   {
    "duration": 19,
    "start_time": "2022-10-20T08:20:28.219Z"
   },
   {
    "duration": 13,
    "start_time": "2022-10-20T08:21:28.270Z"
   },
   {
    "duration": 1096,
    "start_time": "2022-10-20T08:21:37.616Z"
   },
   {
    "duration": 137,
    "start_time": "2022-10-20T08:21:38.714Z"
   },
   {
    "duration": 10,
    "start_time": "2022-10-20T08:21:38.853Z"
   },
   {
    "duration": 10,
    "start_time": "2022-10-20T08:21:38.865Z"
   },
   {
    "duration": 34,
    "start_time": "2022-10-20T08:21:38.876Z"
   },
   {
    "duration": 13,
    "start_time": "2022-10-20T08:21:38.911Z"
   },
   {
    "duration": 76,
    "start_time": "2022-10-20T08:21:38.926Z"
   },
   {
    "duration": 73,
    "start_time": "2022-10-20T08:21:39.004Z"
   },
   {
    "duration": 80,
    "start_time": "2022-10-20T08:21:39.079Z"
   },
   {
    "duration": 74,
    "start_time": "2022-10-20T08:21:39.161Z"
   },
   {
    "duration": 16,
    "start_time": "2022-10-20T08:21:39.236Z"
   },
   {
    "duration": 27,
    "start_time": "2022-10-20T08:21:39.253Z"
   },
   {
    "duration": 35,
    "start_time": "2022-10-20T08:21:39.281Z"
   },
   {
    "duration": 26,
    "start_time": "2022-10-20T08:21:39.318Z"
   },
   {
    "duration": 20,
    "start_time": "2022-10-20T08:21:39.345Z"
   },
   {
    "duration": 15,
    "start_time": "2022-10-20T08:21:39.367Z"
   },
   {
    "duration": 78,
    "start_time": "2022-10-20T08:21:39.383Z"
   },
   {
    "duration": 15,
    "start_time": "2022-10-20T08:21:39.463Z"
   },
   {
    "duration": 13,
    "start_time": "2022-10-20T08:21:39.479Z"
   },
   {
    "duration": 13,
    "start_time": "2022-10-20T08:21:39.493Z"
   },
   {
    "duration": 17,
    "start_time": "2022-10-20T08:21:39.508Z"
   },
   {
    "duration": 4,
    "start_time": "2022-10-20T08:21:39.527Z"
   },
   {
    "duration": 314,
    "start_time": "2022-10-20T08:21:39.532Z"
   },
   {
    "duration": 21,
    "start_time": "2022-10-20T08:21:39.848Z"
   },
   {
    "duration": 10,
    "start_time": "2022-10-20T08:21:39.870Z"
   },
   {
    "duration": 93,
    "start_time": "2022-10-20T08:21:39.881Z"
   },
   {
    "duration": 6,
    "start_time": "2022-10-20T08:21:39.975Z"
   },
   {
    "duration": 34,
    "start_time": "2022-10-20T08:21:39.984Z"
   },
   {
    "duration": 23,
    "start_time": "2022-10-20T08:21:40.020Z"
   },
   {
    "duration": 71,
    "start_time": "2022-10-20T08:21:40.045Z"
   },
   {
    "duration": 57,
    "start_time": "2022-10-20T08:21:40.118Z"
   },
   {
    "duration": 163,
    "start_time": "2022-10-20T08:21:40.176Z"
   },
   {
    "duration": 144,
    "start_time": "2022-10-20T08:21:40.340Z"
   },
   {
    "duration": 91,
    "start_time": "2022-10-20T08:21:40.486Z"
   },
   {
    "duration": 41,
    "start_time": "2022-10-20T08:21:40.578Z"
   },
   {
    "duration": 17,
    "start_time": "2022-10-20T08:21:40.621Z"
   },
   {
    "duration": 19,
    "start_time": "2022-10-20T08:21:40.639Z"
   },
   {
    "duration": 15,
    "start_time": "2022-10-20T08:22:50.023Z"
   },
   {
    "duration": 1091,
    "start_time": "2022-10-20T08:23:05.423Z"
   },
   {
    "duration": 138,
    "start_time": "2022-10-20T08:23:06.516Z"
   },
   {
    "duration": 10,
    "start_time": "2022-10-20T08:23:06.656Z"
   },
   {
    "duration": 10,
    "start_time": "2022-10-20T08:23:06.667Z"
   },
   {
    "duration": 27,
    "start_time": "2022-10-20T08:23:06.678Z"
   },
   {
    "duration": 14,
    "start_time": "2022-10-20T08:23:06.708Z"
   },
   {
    "duration": 69,
    "start_time": "2022-10-20T08:23:06.723Z"
   },
   {
    "duration": 68,
    "start_time": "2022-10-20T08:23:06.800Z"
   },
   {
    "duration": 81,
    "start_time": "2022-10-20T08:23:06.869Z"
   },
   {
    "duration": 64,
    "start_time": "2022-10-20T08:23:06.952Z"
   },
   {
    "duration": 18,
    "start_time": "2022-10-20T08:23:07.017Z"
   },
   {
    "duration": 26,
    "start_time": "2022-10-20T08:23:07.036Z"
   },
   {
    "duration": 38,
    "start_time": "2022-10-20T08:23:07.064Z"
   },
   {
    "duration": 29,
    "start_time": "2022-10-20T08:23:07.104Z"
   },
   {
    "duration": 27,
    "start_time": "2022-10-20T08:23:07.134Z"
   },
   {
    "duration": 18,
    "start_time": "2022-10-20T08:23:07.163Z"
   },
   {
    "duration": 6,
    "start_time": "2022-10-20T08:23:07.183Z"
   },
   {
    "duration": 13,
    "start_time": "2022-10-20T08:23:07.200Z"
   },
   {
    "duration": 17,
    "start_time": "2022-10-20T08:23:07.214Z"
   },
   {
    "duration": 12,
    "start_time": "2022-10-20T08:23:07.232Z"
   },
   {
    "duration": 9,
    "start_time": "2022-10-20T08:23:07.246Z"
   },
   {
    "duration": 5,
    "start_time": "2022-10-20T08:23:07.257Z"
   },
   {
    "duration": 320,
    "start_time": "2022-10-20T08:23:07.263Z"
   },
   {
    "duration": 30,
    "start_time": "2022-10-20T08:23:07.584Z"
   },
   {
    "duration": 9,
    "start_time": "2022-10-20T08:23:07.616Z"
   },
   {
    "duration": 86,
    "start_time": "2022-10-20T08:23:07.627Z"
   },
   {
    "duration": 6,
    "start_time": "2022-10-20T08:23:07.715Z"
   },
   {
    "duration": 28,
    "start_time": "2022-10-20T08:23:07.724Z"
   },
   {
    "duration": 25,
    "start_time": "2022-10-20T08:23:07.753Z"
   },
   {
    "duration": 74,
    "start_time": "2022-10-20T08:23:07.779Z"
   },
   {
    "duration": 76,
    "start_time": "2022-10-20T08:23:07.855Z"
   },
   {
    "duration": 163,
    "start_time": "2022-10-20T08:23:07.932Z"
   },
   {
    "duration": 149,
    "start_time": "2022-10-20T08:23:08.097Z"
   },
   {
    "duration": 89,
    "start_time": "2022-10-20T08:23:08.248Z"
   },
   {
    "duration": 34,
    "start_time": "2022-10-20T08:23:08.338Z"
   },
   {
    "duration": 29,
    "start_time": "2022-10-20T08:23:08.373Z"
   },
   {
    "duration": 17,
    "start_time": "2022-10-20T08:23:08.404Z"
   },
   {
    "duration": 17,
    "start_time": "2022-10-20T08:33:10.816Z"
   },
   {
    "duration": 49,
    "start_time": "2022-10-20T12:59:09.170Z"
   },
   {
    "duration": 1367,
    "start_time": "2022-10-20T12:59:17.290Z"
   },
   {
    "duration": 593,
    "start_time": "2022-10-20T12:59:18.661Z"
   },
   {
    "duration": 13,
    "start_time": "2022-10-20T12:59:19.256Z"
   },
   {
    "duration": 8,
    "start_time": "2022-10-20T12:59:19.271Z"
   },
   {
    "duration": 22,
    "start_time": "2022-10-20T12:59:19.281Z"
   },
   {
    "duration": 14,
    "start_time": "2022-10-20T12:59:19.305Z"
   },
   {
    "duration": 81,
    "start_time": "2022-10-20T12:59:19.321Z"
   },
   {
    "duration": 82,
    "start_time": "2022-10-20T12:59:19.404Z"
   },
   {
    "duration": 78,
    "start_time": "2022-10-20T12:59:19.487Z"
   },
   {
    "duration": 57,
    "start_time": "2022-10-20T12:59:19.566Z"
   },
   {
    "duration": 36,
    "start_time": "2022-10-20T12:59:19.624Z"
   },
   {
    "duration": 38,
    "start_time": "2022-10-20T12:59:19.663Z"
   },
   {
    "duration": 22,
    "start_time": "2022-10-20T12:59:19.703Z"
   },
   {
    "duration": 41,
    "start_time": "2022-10-20T12:59:19.737Z"
   },
   {
    "duration": 26,
    "start_time": "2022-10-20T12:59:19.780Z"
   },
   {
    "duration": 11,
    "start_time": "2022-10-20T12:59:19.808Z"
   },
   {
    "duration": 9,
    "start_time": "2022-10-20T12:59:19.834Z"
   },
   {
    "duration": 24,
    "start_time": "2022-10-20T12:59:19.845Z"
   },
   {
    "duration": 12,
    "start_time": "2022-10-20T12:59:19.871Z"
   },
   {
    "duration": 12,
    "start_time": "2022-10-20T12:59:19.884Z"
   },
   {
    "duration": 10,
    "start_time": "2022-10-20T12:59:19.898Z"
   },
   {
    "duration": 24,
    "start_time": "2022-10-20T12:59:19.910Z"
   },
   {
    "duration": 366,
    "start_time": "2022-10-20T12:59:19.940Z"
   },
   {
    "duration": 31,
    "start_time": "2022-10-20T12:59:20.308Z"
   },
   {
    "duration": 12,
    "start_time": "2022-10-20T12:59:20.342Z"
   },
   {
    "duration": 109,
    "start_time": "2022-10-20T12:59:20.356Z"
   },
   {
    "duration": 8,
    "start_time": "2022-10-20T12:59:20.467Z"
   },
   {
    "duration": 21,
    "start_time": "2022-10-20T12:59:20.476Z"
   },
   {
    "duration": 54,
    "start_time": "2022-10-20T12:59:20.498Z"
   },
   {
    "duration": 69,
    "start_time": "2022-10-20T12:59:20.554Z"
   },
   {
    "duration": 84,
    "start_time": "2022-10-20T12:59:20.625Z"
   },
   {
    "duration": 183,
    "start_time": "2022-10-20T12:59:20.711Z"
   },
   {
    "duration": 176,
    "start_time": "2022-10-20T12:59:20.895Z"
   },
   {
    "duration": 116,
    "start_time": "2022-10-20T12:59:21.073Z"
   },
   {
    "duration": 45,
    "start_time": "2022-10-20T12:59:21.190Z"
   },
   {
    "duration": 36,
    "start_time": "2022-10-20T12:59:21.238Z"
   },
   {
    "duration": 20,
    "start_time": "2022-10-20T12:59:21.275Z"
   },
   {
    "duration": 135,
    "start_time": "2022-10-20T12:59:35.661Z"
   },
   {
    "duration": 99,
    "start_time": "2022-10-20T12:59:58.799Z"
   },
   {
    "duration": 96,
    "start_time": "2022-10-20T13:00:57.803Z"
   },
   {
    "duration": 45,
    "start_time": "2022-10-20T13:03:46.621Z"
   },
   {
    "duration": 25,
    "start_time": "2022-10-20T13:03:51.746Z"
   },
   {
    "duration": 17,
    "start_time": "2022-10-20T13:03:57.748Z"
   },
   {
    "duration": 18,
    "start_time": "2022-10-20T13:04:33.798Z"
   },
   {
    "duration": 1195,
    "start_time": "2022-10-20T13:04:46.458Z"
   },
   {
    "duration": 158,
    "start_time": "2022-10-20T13:04:47.655Z"
   },
   {
    "duration": 13,
    "start_time": "2022-10-20T13:04:47.814Z"
   },
   {
    "duration": 11,
    "start_time": "2022-10-20T13:04:47.833Z"
   },
   {
    "duration": 36,
    "start_time": "2022-10-20T13:04:47.847Z"
   },
   {
    "duration": 15,
    "start_time": "2022-10-20T13:04:47.885Z"
   },
   {
    "duration": 80,
    "start_time": "2022-10-20T13:04:47.902Z"
   },
   {
    "duration": 100,
    "start_time": "2022-10-20T13:04:47.984Z"
   },
   {
    "duration": 94,
    "start_time": "2022-10-20T13:04:48.085Z"
   },
   {
    "duration": 74,
    "start_time": "2022-10-20T13:04:48.182Z"
   },
   {
    "duration": 18,
    "start_time": "2022-10-20T13:04:48.257Z"
   },
   {
    "duration": 30,
    "start_time": "2022-10-20T13:04:48.277Z"
   },
   {
    "duration": 43,
    "start_time": "2022-10-20T13:04:48.309Z"
   },
   {
    "duration": 25,
    "start_time": "2022-10-20T13:04:48.356Z"
   },
   {
    "duration": 21,
    "start_time": "2022-10-20T13:04:48.383Z"
   },
   {
    "duration": 34,
    "start_time": "2022-10-20T13:04:48.405Z"
   },
   {
    "duration": 15,
    "start_time": "2022-10-20T13:04:48.441Z"
   },
   {
    "duration": 9,
    "start_time": "2022-10-20T13:04:48.457Z"
   },
   {
    "duration": 15,
    "start_time": "2022-10-20T13:04:48.467Z"
   },
   {
    "duration": 12,
    "start_time": "2022-10-20T13:04:48.484Z"
   },
   {
    "duration": 38,
    "start_time": "2022-10-20T13:04:48.498Z"
   },
   {
    "duration": 6,
    "start_time": "2022-10-20T13:04:48.538Z"
   },
   {
    "duration": 376,
    "start_time": "2022-10-20T13:04:48.546Z"
   },
   {
    "duration": 29,
    "start_time": "2022-10-20T13:04:48.924Z"
   },
   {
    "duration": 12,
    "start_time": "2022-10-20T13:04:48.955Z"
   },
   {
    "duration": 120,
    "start_time": "2022-10-20T13:04:48.968Z"
   },
   {
    "duration": 7,
    "start_time": "2022-10-20T13:04:49.089Z"
   },
   {
    "duration": 39,
    "start_time": "2022-10-20T13:04:49.098Z"
   },
   {
    "duration": 41,
    "start_time": "2022-10-20T13:04:49.139Z"
   },
   {
    "duration": 81,
    "start_time": "2022-10-20T13:04:49.181Z"
   },
   {
    "duration": 70,
    "start_time": "2022-10-20T13:04:49.264Z"
   },
   {
    "duration": 176,
    "start_time": "2022-10-20T13:04:49.336Z"
   },
   {
    "duration": 164,
    "start_time": "2022-10-20T13:04:49.514Z"
   },
   {
    "duration": 131,
    "start_time": "2022-10-20T13:04:49.681Z"
   },
   {
    "duration": 50,
    "start_time": "2022-10-20T13:04:49.813Z"
   },
   {
    "duration": 22,
    "start_time": "2022-10-20T13:04:49.865Z"
   },
   {
    "duration": 20,
    "start_time": "2022-10-20T13:04:49.889Z"
   },
   {
    "duration": 64,
    "start_time": "2022-10-21T04:50:03.915Z"
   },
   {
    "duration": 1303,
    "start_time": "2022-10-21T04:50:31.955Z"
   },
   {
    "duration": 495,
    "start_time": "2022-10-21T04:50:33.260Z"
   },
   {
    "duration": 14,
    "start_time": "2022-10-21T04:50:33.757Z"
   },
   {
    "duration": 10,
    "start_time": "2022-10-21T04:50:33.773Z"
   },
   {
    "duration": 32,
    "start_time": "2022-10-21T04:50:33.786Z"
   },
   {
    "duration": 14,
    "start_time": "2022-10-21T04:50:33.820Z"
   },
   {
    "duration": 78,
    "start_time": "2022-10-21T04:50:33.836Z"
   },
   {
    "duration": 68,
    "start_time": "2022-10-21T04:50:33.915Z"
   },
   {
    "duration": 104,
    "start_time": "2022-10-21T04:50:33.985Z"
   },
   {
    "duration": 80,
    "start_time": "2022-10-21T04:50:34.100Z"
   },
   {
    "duration": 33,
    "start_time": "2022-10-21T04:50:34.182Z"
   },
   {
    "duration": 34,
    "start_time": "2022-10-21T04:50:34.217Z"
   },
   {
    "duration": 16,
    "start_time": "2022-10-21T04:50:34.253Z"
   },
   {
    "duration": 42,
    "start_time": "2022-10-21T04:50:34.273Z"
   },
   {
    "duration": 23,
    "start_time": "2022-10-21T04:50:34.317Z"
   },
   {
    "duration": 11,
    "start_time": "2022-10-21T04:50:34.341Z"
   },
   {
    "duration": 6,
    "start_time": "2022-10-21T04:50:34.354Z"
   },
   {
    "duration": 11,
    "start_time": "2022-10-21T04:50:34.361Z"
   },
   {
    "duration": 39,
    "start_time": "2022-10-21T04:50:34.373Z"
   },
   {
    "duration": 19,
    "start_time": "2022-10-21T04:50:34.414Z"
   },
   {
    "duration": 22,
    "start_time": "2022-10-21T04:50:34.435Z"
   },
   {
    "duration": 15,
    "start_time": "2022-10-21T04:50:34.459Z"
   },
   {
    "duration": 388,
    "start_time": "2022-10-21T04:50:34.477Z"
   },
   {
    "duration": 21,
    "start_time": "2022-10-21T04:50:34.867Z"
   },
   {
    "duration": 12,
    "start_time": "2022-10-21T04:50:34.899Z"
   },
   {
    "duration": 93,
    "start_time": "2022-10-21T04:50:34.913Z"
   },
   {
    "duration": 7,
    "start_time": "2022-10-21T04:50:35.007Z"
   },
   {
    "duration": 22,
    "start_time": "2022-10-21T04:50:35.016Z"
   },
   {
    "duration": 26,
    "start_time": "2022-10-21T04:50:35.040Z"
   },
   {
    "duration": 89,
    "start_time": "2022-10-21T04:50:35.068Z"
   },
   {
    "duration": 75,
    "start_time": "2022-10-21T04:50:35.159Z"
   },
   {
    "duration": 197,
    "start_time": "2022-10-21T04:50:35.236Z"
   },
   {
    "duration": 173,
    "start_time": "2022-10-21T04:50:35.435Z"
   },
   {
    "duration": 95,
    "start_time": "2022-10-21T04:50:35.610Z"
   },
   {
    "duration": 37,
    "start_time": "2022-10-21T04:50:35.707Z"
   },
   {
    "duration": 21,
    "start_time": "2022-10-21T04:50:35.745Z"
   },
   {
    "duration": 46,
    "start_time": "2022-10-21T04:50:35.768Z"
   },
   {
    "duration": 7,
    "start_time": "2022-10-21T04:50:35.816Z"
   },
   {
    "duration": 27,
    "start_time": "2022-10-21T04:51:11.879Z"
   },
   {
    "duration": 94,
    "start_time": "2022-10-21T09:36:02.680Z"
   },
   {
    "duration": 0,
    "start_time": "2022-10-21T09:36:02.776Z"
   },
   {
    "duration": 0,
    "start_time": "2022-10-21T09:36:02.777Z"
   },
   {
    "duration": 0,
    "start_time": "2022-10-21T09:36:02.778Z"
   },
   {
    "duration": 0,
    "start_time": "2022-10-21T09:36:02.779Z"
   },
   {
    "duration": 0,
    "start_time": "2022-10-21T09:36:02.780Z"
   },
   {
    "duration": 0,
    "start_time": "2022-10-21T09:36:02.781Z"
   },
   {
    "duration": 0,
    "start_time": "2022-10-21T09:36:02.782Z"
   },
   {
    "duration": 0,
    "start_time": "2022-10-21T09:36:02.784Z"
   },
   {
    "duration": 0,
    "start_time": "2022-10-21T09:36:02.784Z"
   },
   {
    "duration": 0,
    "start_time": "2022-10-21T09:36:02.785Z"
   },
   {
    "duration": 0,
    "start_time": "2022-10-21T09:36:02.786Z"
   },
   {
    "duration": 0,
    "start_time": "2022-10-21T09:36:02.787Z"
   },
   {
    "duration": 0,
    "start_time": "2022-10-21T09:36:02.788Z"
   },
   {
    "duration": 0,
    "start_time": "2022-10-21T09:36:02.790Z"
   },
   {
    "duration": 45,
    "start_time": "2022-10-21T09:36:02.792Z"
   },
   {
    "duration": 0,
    "start_time": "2022-10-21T09:36:02.838Z"
   },
   {
    "duration": 0,
    "start_time": "2022-10-21T09:36:02.839Z"
   },
   {
    "duration": 0,
    "start_time": "2022-10-21T09:36:02.840Z"
   },
   {
    "duration": 0,
    "start_time": "2022-10-21T09:36:02.841Z"
   },
   {
    "duration": 0,
    "start_time": "2022-10-21T09:36:02.842Z"
   },
   {
    "duration": 0,
    "start_time": "2022-10-21T09:36:02.842Z"
   },
   {
    "duration": 0,
    "start_time": "2022-10-21T09:36:02.843Z"
   },
   {
    "duration": 0,
    "start_time": "2022-10-21T09:36:02.844Z"
   },
   {
    "duration": 0,
    "start_time": "2022-10-21T09:36:02.845Z"
   },
   {
    "duration": 0,
    "start_time": "2022-10-21T09:36:02.846Z"
   },
   {
    "duration": 0,
    "start_time": "2022-10-21T09:36:02.846Z"
   },
   {
    "duration": 0,
    "start_time": "2022-10-21T09:36:02.847Z"
   },
   {
    "duration": 7,
    "start_time": "2022-10-21T09:36:02.849Z"
   },
   {
    "duration": 0,
    "start_time": "2022-10-21T09:36:02.857Z"
   },
   {
    "duration": 0,
    "start_time": "2022-10-21T09:36:02.858Z"
   },
   {
    "duration": 17,
    "start_time": "2022-10-21T09:36:02.860Z"
   },
   {
    "duration": 1,
    "start_time": "2022-10-21T09:36:02.878Z"
   },
   {
    "duration": 1,
    "start_time": "2022-10-21T09:36:02.879Z"
   },
   {
    "duration": 0,
    "start_time": "2022-10-21T09:36:02.922Z"
   },
   {
    "duration": 0,
    "start_time": "2022-10-21T09:36:02.923Z"
   },
   {
    "duration": 10,
    "start_time": "2022-10-21T09:36:02.924Z"
   },
   {
    "duration": 0,
    "start_time": "2022-10-21T09:36:02.936Z"
   },
   {
    "duration": 78,
    "start_time": "2022-10-21T09:36:27.130Z"
   },
   {
    "duration": 0,
    "start_time": "2022-10-21T09:36:27.210Z"
   },
   {
    "duration": 0,
    "start_time": "2022-10-21T09:36:27.211Z"
   },
   {
    "duration": 0,
    "start_time": "2022-10-21T09:36:27.213Z"
   },
   {
    "duration": 0,
    "start_time": "2022-10-21T09:36:27.214Z"
   },
   {
    "duration": 0,
    "start_time": "2022-10-21T09:36:27.216Z"
   },
   {
    "duration": 0,
    "start_time": "2022-10-21T09:36:27.217Z"
   },
   {
    "duration": 0,
    "start_time": "2022-10-21T09:36:27.218Z"
   },
   {
    "duration": 0,
    "start_time": "2022-10-21T09:36:27.220Z"
   },
   {
    "duration": 0,
    "start_time": "2022-10-21T09:36:27.221Z"
   },
   {
    "duration": 0,
    "start_time": "2022-10-21T09:36:27.223Z"
   },
   {
    "duration": 0,
    "start_time": "2022-10-21T09:36:27.224Z"
   },
   {
    "duration": 0,
    "start_time": "2022-10-21T09:36:27.225Z"
   },
   {
    "duration": 0,
    "start_time": "2022-10-21T09:36:27.227Z"
   },
   {
    "duration": 0,
    "start_time": "2022-10-21T09:36:27.228Z"
   },
   {
    "duration": 98,
    "start_time": "2022-10-21T09:36:27.231Z"
   },
   {
    "duration": 0,
    "start_time": "2022-10-21T09:36:27.332Z"
   },
   {
    "duration": 0,
    "start_time": "2022-10-21T09:36:27.333Z"
   },
   {
    "duration": 0,
    "start_time": "2022-10-21T09:36:27.334Z"
   },
   {
    "duration": 0,
    "start_time": "2022-10-21T09:36:27.336Z"
   },
   {
    "duration": 0,
    "start_time": "2022-10-21T09:36:27.337Z"
   },
   {
    "duration": 0,
    "start_time": "2022-10-21T09:36:27.339Z"
   },
   {
    "duration": 0,
    "start_time": "2022-10-21T09:36:27.340Z"
   },
   {
    "duration": 0,
    "start_time": "2022-10-21T09:36:27.341Z"
   },
   {
    "duration": 0,
    "start_time": "2022-10-21T09:36:27.342Z"
   },
   {
    "duration": 0,
    "start_time": "2022-10-21T09:36:27.343Z"
   },
   {
    "duration": 0,
    "start_time": "2022-10-21T09:36:27.344Z"
   },
   {
    "duration": 0,
    "start_time": "2022-10-21T09:36:27.344Z"
   },
   {
    "duration": 0,
    "start_time": "2022-10-21T09:36:27.345Z"
   },
   {
    "duration": 0,
    "start_time": "2022-10-21T09:36:27.346Z"
   },
   {
    "duration": 0,
    "start_time": "2022-10-21T09:36:27.348Z"
   },
   {
    "duration": 0,
    "start_time": "2022-10-21T09:36:27.349Z"
   },
   {
    "duration": 0,
    "start_time": "2022-10-21T09:36:27.350Z"
   },
   {
    "duration": 0,
    "start_time": "2022-10-21T09:36:27.351Z"
   },
   {
    "duration": 8,
    "start_time": "2022-10-21T09:36:27.354Z"
   },
   {
    "duration": 0,
    "start_time": "2022-10-21T09:36:27.364Z"
   },
   {
    "duration": 0,
    "start_time": "2022-10-21T09:36:27.365Z"
   },
   {
    "duration": 0,
    "start_time": "2022-10-21T09:36:27.367Z"
   },
   {
    "duration": 8,
    "start_time": "2022-10-21T09:36:39.673Z"
   },
   {
    "duration": 6,
    "start_time": "2022-10-21T09:36:50.815Z"
   },
   {
    "duration": 1265,
    "start_time": "2022-10-21T09:37:27.128Z"
   },
   {
    "duration": 716,
    "start_time": "2022-10-21T09:37:28.395Z"
   },
   {
    "duration": 9,
    "start_time": "2022-10-21T09:37:29.113Z"
   },
   {
    "duration": 8,
    "start_time": "2022-10-21T09:37:29.124Z"
   },
   {
    "duration": 21,
    "start_time": "2022-10-21T09:37:29.134Z"
   },
   {
    "duration": 11,
    "start_time": "2022-10-21T09:37:29.156Z"
   },
   {
    "duration": 66,
    "start_time": "2022-10-21T09:37:29.169Z"
   },
   {
    "duration": 60,
    "start_time": "2022-10-21T09:37:29.237Z"
   },
   {
    "duration": 78,
    "start_time": "2022-10-21T09:37:29.299Z"
   },
   {
    "duration": 57,
    "start_time": "2022-10-21T09:37:29.379Z"
   },
   {
    "duration": 16,
    "start_time": "2022-10-21T09:37:29.437Z"
   },
   {
    "duration": 23,
    "start_time": "2022-10-21T09:37:29.455Z"
   },
   {
    "duration": 15,
    "start_time": "2022-10-21T09:37:29.480Z"
   },
   {
    "duration": 48,
    "start_time": "2022-10-21T09:37:29.496Z"
   },
   {
    "duration": 18,
    "start_time": "2022-10-21T09:37:29.546Z"
   },
   {
    "duration": 12,
    "start_time": "2022-10-21T09:37:29.566Z"
   },
   {
    "duration": 5,
    "start_time": "2022-10-21T09:37:29.579Z"
   },
   {
    "duration": 8,
    "start_time": "2022-10-21T09:37:29.586Z"
   },
   {
    "duration": 32,
    "start_time": "2022-10-21T09:37:29.596Z"
   },
   {
    "duration": 12,
    "start_time": "2022-10-21T09:37:29.629Z"
   },
   {
    "duration": 10,
    "start_time": "2022-10-21T09:37:29.642Z"
   },
   {
    "duration": 5,
    "start_time": "2022-10-21T09:37:29.653Z"
   },
   {
    "duration": 296,
    "start_time": "2022-10-21T09:37:29.659Z"
   },
   {
    "duration": 19,
    "start_time": "2022-10-21T09:37:29.956Z"
   },
   {
    "duration": 10,
    "start_time": "2022-10-21T09:37:29.977Z"
   },
   {
    "duration": 89,
    "start_time": "2022-10-21T09:37:29.988Z"
   },
   {
    "duration": 7,
    "start_time": "2022-10-21T09:37:30.079Z"
   },
   {
    "duration": 35,
    "start_time": "2022-10-21T09:37:30.089Z"
   },
   {
    "duration": 25,
    "start_time": "2022-10-21T09:37:30.125Z"
   },
   {
    "duration": 71,
    "start_time": "2022-10-21T09:37:30.152Z"
   },
   {
    "duration": 59,
    "start_time": "2022-10-21T09:37:30.225Z"
   },
   {
    "duration": 154,
    "start_time": "2022-10-21T09:37:30.286Z"
   },
   {
    "duration": 149,
    "start_time": "2022-10-21T09:37:30.442Z"
   },
   {
    "duration": 96,
    "start_time": "2022-10-21T09:37:30.593Z"
   },
   {
    "duration": 39,
    "start_time": "2022-10-21T09:37:30.691Z"
   },
   {
    "duration": 18,
    "start_time": "2022-10-21T09:37:30.732Z"
   },
   {
    "duration": 38,
    "start_time": "2022-10-21T09:37:30.752Z"
   },
   {
    "duration": 48,
    "start_time": "2022-10-21T09:37:30.792Z"
   },
   {
    "duration": 8,
    "start_time": "2022-10-21T09:43:38.398Z"
   },
   {
    "duration": 31,
    "start_time": "2022-10-21T09:44:48.262Z"
   },
   {
    "duration": 123,
    "start_time": "2022-10-21T09:46:12.433Z"
   },
   {
    "duration": 29,
    "start_time": "2022-10-21T09:46:17.747Z"
   },
   {
    "duration": 951,
    "start_time": "2022-10-21T09:48:47.676Z"
   },
   {
    "duration": 1001,
    "start_time": "2022-10-21T09:50:21.024Z"
   },
   {
    "duration": 1024,
    "start_time": "2022-10-21T09:50:58.351Z"
   },
   {
    "duration": 911,
    "start_time": "2022-10-21T09:51:18.320Z"
   },
   {
    "duration": 27,
    "start_time": "2022-10-21T09:51:50.293Z"
   },
   {
    "duration": 69,
    "start_time": "2022-10-21T09:52:46.270Z"
   },
   {
    "duration": 37,
    "start_time": "2022-10-21T09:53:07.057Z"
   },
   {
    "duration": 123,
    "start_time": "2022-10-21T09:53:23.836Z"
   },
   {
    "duration": 95,
    "start_time": "2022-10-21T09:53:32.089Z"
   },
   {
    "duration": 94,
    "start_time": "2022-10-21T09:53:38.065Z"
   },
   {
    "duration": 48,
    "start_time": "2022-10-21T09:57:13.807Z"
   },
   {
    "duration": 42,
    "start_time": "2022-10-21T09:57:21.028Z"
   },
   {
    "duration": 44,
    "start_time": "2022-10-21T09:57:29.159Z"
   },
   {
    "duration": 44,
    "start_time": "2022-10-21T09:57:36.976Z"
   },
   {
    "duration": 48,
    "start_time": "2022-10-21T09:58:08.800Z"
   },
   {
    "duration": 1217,
    "start_time": "2022-10-21T09:58:59.319Z"
   },
   {
    "duration": 153,
    "start_time": "2022-10-21T09:59:00.539Z"
   },
   {
    "duration": 14,
    "start_time": "2022-10-21T09:59:00.694Z"
   },
   {
    "duration": 28,
    "start_time": "2022-10-21T09:59:00.710Z"
   },
   {
    "duration": 59,
    "start_time": "2022-10-21T09:59:00.740Z"
   },
   {
    "duration": 35,
    "start_time": "2022-10-21T09:59:00.800Z"
   },
   {
    "duration": 82,
    "start_time": "2022-10-21T09:59:00.836Z"
   },
   {
    "duration": 67,
    "start_time": "2022-10-21T09:59:00.920Z"
   },
   {
    "duration": 84,
    "start_time": "2022-10-21T09:59:00.989Z"
   },
   {
    "duration": 70,
    "start_time": "2022-10-21T09:59:01.076Z"
   },
   {
    "duration": 17,
    "start_time": "2022-10-21T09:59:01.148Z"
   },
   {
    "duration": 60,
    "start_time": "2022-10-21T09:59:01.167Z"
   },
   {
    "duration": 24,
    "start_time": "2022-10-21T09:59:01.230Z"
   },
   {
    "duration": 24,
    "start_time": "2022-10-21T09:59:01.259Z"
   },
   {
    "duration": 45,
    "start_time": "2022-10-21T09:59:01.285Z"
   },
   {
    "duration": 15,
    "start_time": "2022-10-21T09:59:01.334Z"
   },
   {
    "duration": 18,
    "start_time": "2022-10-21T09:59:01.350Z"
   },
   {
    "duration": 15,
    "start_time": "2022-10-21T09:59:01.370Z"
   },
   {
    "duration": 18,
    "start_time": "2022-10-21T09:59:01.386Z"
   },
   {
    "duration": 23,
    "start_time": "2022-10-21T09:59:01.406Z"
   },
   {
    "duration": 13,
    "start_time": "2022-10-21T09:59:01.432Z"
   },
   {
    "duration": 7,
    "start_time": "2022-10-21T09:59:01.447Z"
   },
   {
    "duration": 321,
    "start_time": "2022-10-21T09:59:01.456Z"
   },
   {
    "duration": 19,
    "start_time": "2022-10-21T09:59:01.779Z"
   },
   {
    "duration": 23,
    "start_time": "2022-10-21T09:59:01.800Z"
   },
   {
    "duration": 109,
    "start_time": "2022-10-21T09:59:01.825Z"
   },
   {
    "duration": 9,
    "start_time": "2022-10-21T09:59:01.936Z"
   },
   {
    "duration": 30,
    "start_time": "2022-10-21T09:59:01.947Z"
   },
   {
    "duration": 50,
    "start_time": "2022-10-21T09:59:01.979Z"
   },
   {
    "duration": 100,
    "start_time": "2022-10-21T09:59:02.031Z"
   },
   {
    "duration": 67,
    "start_time": "2022-10-21T09:59:02.133Z"
   },
   {
    "duration": 166,
    "start_time": "2022-10-21T09:59:02.201Z"
   },
   {
    "duration": 168,
    "start_time": "2022-10-21T09:59:02.368Z"
   },
   {
    "duration": 138,
    "start_time": "2022-10-21T09:59:02.538Z"
   },
   {
    "duration": 77,
    "start_time": "2022-10-21T09:59:02.679Z"
   },
   {
    "duration": 41,
    "start_time": "2022-10-21T09:59:02.757Z"
   },
   {
    "duration": 27,
    "start_time": "2022-10-21T09:59:02.800Z"
   },
   {
    "duration": 25,
    "start_time": "2022-10-21T09:59:02.829Z"
   },
   {
    "duration": 9,
    "start_time": "2022-10-21T09:59:02.856Z"
   },
   {
    "duration": 67,
    "start_time": "2022-10-21T09:59:02.867Z"
   },
   {
    "duration": 233,
    "start_time": "2022-10-21T09:59:02.937Z"
   },
   {
    "duration": 184,
    "start_time": "2022-10-21T09:59:35.231Z"
   },
   {
    "duration": 155,
    "start_time": "2022-10-21T09:59:41.201Z"
   },
   {
    "duration": 169,
    "start_time": "2022-10-21T09:59:47.028Z"
   },
   {
    "duration": 38,
    "start_time": "2022-10-21T10:01:50.668Z"
   },
   {
    "duration": 55,
    "start_time": "2022-10-21T10:02:34.215Z"
   },
   {
    "duration": 40,
    "start_time": "2022-10-21T10:02:45.867Z"
   },
   {
    "duration": 154,
    "start_time": "2022-10-21T10:07:45.975Z"
   },
   {
    "duration": 5,
    "start_time": "2022-10-21T10:27:49.575Z"
   },
   {
    "duration": 5,
    "start_time": "2022-10-21T10:27:52.159Z"
   },
   {
    "duration": 14,
    "start_time": "2022-10-21T10:28:04.935Z"
   },
   {
    "duration": 1102,
    "start_time": "2022-10-21T10:28:58.384Z"
   },
   {
    "duration": 153,
    "start_time": "2022-10-21T10:28:59.488Z"
   },
   {
    "duration": 10,
    "start_time": "2022-10-21T10:28:59.643Z"
   },
   {
    "duration": 10,
    "start_time": "2022-10-21T10:28:59.655Z"
   },
   {
    "duration": 20,
    "start_time": "2022-10-21T10:28:59.666Z"
   },
   {
    "duration": 11,
    "start_time": "2022-10-21T10:28:59.688Z"
   },
   {
    "duration": 60,
    "start_time": "2022-10-21T10:28:59.721Z"
   },
   {
    "duration": 86,
    "start_time": "2022-10-21T10:28:59.783Z"
   },
   {
    "duration": 77,
    "start_time": "2022-10-21T10:28:59.871Z"
   },
   {
    "duration": 53,
    "start_time": "2022-10-21T10:28:59.951Z"
   },
   {
    "duration": 29,
    "start_time": "2022-10-21T10:29:00.006Z"
   },
   {
    "duration": 33,
    "start_time": "2022-10-21T10:29:00.037Z"
   },
   {
    "duration": 15,
    "start_time": "2022-10-21T10:29:00.072Z"
   },
   {
    "duration": 40,
    "start_time": "2022-10-21T10:29:00.089Z"
   },
   {
    "duration": 35,
    "start_time": "2022-10-21T10:29:00.131Z"
   },
   {
    "duration": 22,
    "start_time": "2022-10-21T10:29:00.167Z"
   },
   {
    "duration": 22,
    "start_time": "2022-10-21T10:29:00.191Z"
   },
   {
    "duration": 16,
    "start_time": "2022-10-21T10:29:00.214Z"
   },
   {
    "duration": 34,
    "start_time": "2022-10-21T10:29:00.231Z"
   },
   {
    "duration": 27,
    "start_time": "2022-10-21T10:29:00.267Z"
   },
   {
    "duration": 21,
    "start_time": "2022-10-21T10:29:00.295Z"
   },
   {
    "duration": 15,
    "start_time": "2022-10-21T10:29:00.318Z"
   },
   {
    "duration": 303,
    "start_time": "2022-10-21T10:29:00.334Z"
   },
   {
    "duration": 21,
    "start_time": "2022-10-21T10:29:00.639Z"
   },
   {
    "duration": 19,
    "start_time": "2022-10-21T10:29:00.662Z"
   },
   {
    "duration": 119,
    "start_time": "2022-10-21T10:29:00.683Z"
   },
   {
    "duration": 7,
    "start_time": "2022-10-21T10:29:00.804Z"
   },
   {
    "duration": 40,
    "start_time": "2022-10-21T10:29:00.815Z"
   },
   {
    "duration": 25,
    "start_time": "2022-10-21T10:29:00.857Z"
   },
   {
    "duration": 90,
    "start_time": "2022-10-21T10:29:00.884Z"
   },
   {
    "duration": 67,
    "start_time": "2022-10-21T10:29:00.975Z"
   },
   {
    "duration": 181,
    "start_time": "2022-10-21T10:29:01.044Z"
   },
   {
    "duration": 194,
    "start_time": "2022-10-21T10:29:01.227Z"
   },
   {
    "duration": 91,
    "start_time": "2022-10-21T10:29:01.422Z"
   },
   {
    "duration": 32,
    "start_time": "2022-10-21T10:29:01.521Z"
   },
   {
    "duration": 18,
    "start_time": "2022-10-21T10:29:01.554Z"
   },
   {
    "duration": 30,
    "start_time": "2022-10-21T10:29:01.573Z"
   },
   {
    "duration": 66,
    "start_time": "2022-10-21T10:29:01.605Z"
   },
   {
    "duration": 51,
    "start_time": "2022-10-21T10:29:01.674Z"
   },
   {
    "duration": 54,
    "start_time": "2022-10-21T10:29:01.726Z"
   },
   {
    "duration": 145,
    "start_time": "2022-10-21T10:29:01.781Z"
   },
   {
    "duration": 5,
    "start_time": "2022-10-21T10:29:01.928Z"
   },
   {
    "duration": 132,
    "start_time": "2022-10-21T10:29:01.935Z"
   },
   {
    "duration": 4,
    "start_time": "2022-10-21T10:29:46.755Z"
   },
   {
    "duration": 17,
    "start_time": "2022-10-21T10:29:49.463Z"
   },
   {
    "duration": 6,
    "start_time": "2022-10-21T10:30:20.040Z"
   },
   {
    "duration": 21,
    "start_time": "2022-10-21T10:30:22.702Z"
   },
   {
    "duration": 115,
    "start_time": "2022-10-21T10:30:32.611Z"
   },
   {
    "duration": 38,
    "start_time": "2022-10-21T10:31:03.046Z"
   },
   {
    "duration": 122,
    "start_time": "2022-10-21T10:31:04.935Z"
   },
   {
    "duration": 5,
    "start_time": "2022-10-21T10:31:23.904Z"
   },
   {
    "duration": 16,
    "start_time": "2022-10-21T10:31:25.618Z"
   },
   {
    "duration": 14,
    "start_time": "2022-10-21T10:31:29.779Z"
   },
   {
    "duration": 52,
    "start_time": "2022-10-21T10:31:36.880Z"
   },
   {
    "duration": 116,
    "start_time": "2022-10-21T10:31:38.801Z"
   },
   {
    "duration": 6,
    "start_time": "2022-10-21T10:31:44.200Z"
   },
   {
    "duration": 7,
    "start_time": "2022-10-21T10:40:38.782Z"
   },
   {
    "duration": 18,
    "start_time": "2022-10-21T10:40:41.876Z"
   },
   {
    "duration": 5,
    "start_time": "2022-10-21T10:42:16.614Z"
   },
   {
    "duration": 17,
    "start_time": "2022-10-21T10:42:18.336Z"
   },
   {
    "duration": 1414,
    "start_time": "2022-10-21T10:42:24.911Z"
   },
   {
    "duration": 149,
    "start_time": "2022-10-21T10:42:26.328Z"
   },
   {
    "duration": 11,
    "start_time": "2022-10-21T10:42:26.478Z"
   },
   {
    "duration": 14,
    "start_time": "2022-10-21T10:42:26.491Z"
   },
   {
    "duration": 35,
    "start_time": "2022-10-21T10:42:26.508Z"
   },
   {
    "duration": 15,
    "start_time": "2022-10-21T10:42:26.544Z"
   },
   {
    "duration": 61,
    "start_time": "2022-10-21T10:42:26.560Z"
   },
   {
    "duration": 65,
    "start_time": "2022-10-21T10:42:26.622Z"
   },
   {
    "duration": 82,
    "start_time": "2022-10-21T10:42:26.689Z"
   },
   {
    "duration": 62,
    "start_time": "2022-10-21T10:42:26.772Z"
   },
   {
    "duration": 17,
    "start_time": "2022-10-21T10:42:26.836Z"
   },
   {
    "duration": 42,
    "start_time": "2022-10-21T10:42:26.854Z"
   },
   {
    "duration": 16,
    "start_time": "2022-10-21T10:42:26.898Z"
   },
   {
    "duration": 24,
    "start_time": "2022-10-21T10:42:26.924Z"
   },
   {
    "duration": 33,
    "start_time": "2022-10-21T10:42:26.950Z"
   },
   {
    "duration": 40,
    "start_time": "2022-10-21T10:42:26.984Z"
   },
   {
    "duration": 18,
    "start_time": "2022-10-21T10:42:27.026Z"
   },
   {
    "duration": 24,
    "start_time": "2022-10-21T10:42:27.046Z"
   },
   {
    "duration": 48,
    "start_time": "2022-10-21T10:42:27.072Z"
   },
   {
    "duration": 25,
    "start_time": "2022-10-21T10:42:27.121Z"
   },
   {
    "duration": 16,
    "start_time": "2022-10-21T10:42:27.148Z"
   },
   {
    "duration": 22,
    "start_time": "2022-10-21T10:42:27.166Z"
   },
   {
    "duration": 308,
    "start_time": "2022-10-21T10:42:27.189Z"
   },
   {
    "duration": 26,
    "start_time": "2022-10-21T10:42:27.498Z"
   },
   {
    "duration": 9,
    "start_time": "2022-10-21T10:42:27.525Z"
   },
   {
    "duration": 93,
    "start_time": "2022-10-21T10:42:27.535Z"
   },
   {
    "duration": 9,
    "start_time": "2022-10-21T10:42:27.630Z"
   },
   {
    "duration": 56,
    "start_time": "2022-10-21T10:42:27.641Z"
   },
   {
    "duration": 35,
    "start_time": "2022-10-21T10:42:27.699Z"
   },
   {
    "duration": 70,
    "start_time": "2022-10-21T10:42:27.736Z"
   },
   {
    "duration": 63,
    "start_time": "2022-10-21T10:42:27.808Z"
   },
   {
    "duration": 164,
    "start_time": "2022-10-21T10:42:27.873Z"
   },
   {
    "duration": 150,
    "start_time": "2022-10-21T10:42:28.039Z"
   },
   {
    "duration": 129,
    "start_time": "2022-10-21T10:42:28.190Z"
   },
   {
    "duration": 32,
    "start_time": "2022-10-21T10:42:28.322Z"
   },
   {
    "duration": 18,
    "start_time": "2022-10-21T10:42:28.355Z"
   },
   {
    "duration": 31,
    "start_time": "2022-10-21T10:42:28.375Z"
   },
   {
    "duration": 43,
    "start_time": "2022-10-21T10:42:28.408Z"
   },
   {
    "duration": 48,
    "start_time": "2022-10-21T10:42:28.452Z"
   },
   {
    "duration": 50,
    "start_time": "2022-10-21T10:42:28.501Z"
   },
   {
    "duration": 163,
    "start_time": "2022-10-21T10:42:28.555Z"
   },
   {
    "duration": 6,
    "start_time": "2022-10-21T10:42:28.722Z"
   },
   {
    "duration": 109,
    "start_time": "2022-10-21T10:42:28.729Z"
   },
   {
    "duration": 82,
    "start_time": "2022-10-21T10:43:34.723Z"
   },
   {
    "duration": 6,
    "start_time": "2022-10-21T10:43:38.278Z"
   },
   {
    "duration": 73,
    "start_time": "2022-10-21T10:43:43.711Z"
   },
   {
    "duration": 86,
    "start_time": "2022-10-21T10:43:56.229Z"
   },
   {
    "duration": 5,
    "start_time": "2022-10-21T10:44:09.571Z"
   },
   {
    "duration": 5,
    "start_time": "2022-10-21T10:44:27.284Z"
   },
   {
    "duration": 15,
    "start_time": "2022-10-21T10:44:29.497Z"
   },
   {
    "duration": 5,
    "start_time": "2022-10-21T10:45:08.024Z"
   },
   {
    "duration": 8,
    "start_time": "2022-10-21T10:50:33.350Z"
   },
   {
    "duration": 21,
    "start_time": "2022-10-21T10:50:35.565Z"
   },
   {
    "duration": 71,
    "start_time": "2022-10-21T10:50:54.154Z"
   },
   {
    "duration": 7,
    "start_time": "2022-10-21T10:50:59.878Z"
   },
   {
    "duration": 19,
    "start_time": "2022-10-21T10:51:03.930Z"
   },
   {
    "duration": 8,
    "start_time": "2022-10-21T10:51:33.844Z"
   },
   {
    "duration": 27,
    "start_time": "2022-10-21T10:51:36.331Z"
   },
   {
    "duration": 9,
    "start_time": "2022-10-21T10:51:47.885Z"
   },
   {
    "duration": 14,
    "start_time": "2022-10-21T10:51:51.703Z"
   },
   {
    "duration": 1375,
    "start_time": "2022-10-21T16:43:28.196Z"
   },
   {
    "duration": 613,
    "start_time": "2022-10-21T16:43:29.573Z"
   },
   {
    "duration": 13,
    "start_time": "2022-10-21T16:43:30.188Z"
   },
   {
    "duration": 9,
    "start_time": "2022-10-21T16:43:30.202Z"
   },
   {
    "duration": 29,
    "start_time": "2022-10-21T16:43:30.214Z"
   },
   {
    "duration": 13,
    "start_time": "2022-10-21T16:43:30.245Z"
   },
   {
    "duration": 73,
    "start_time": "2022-10-21T16:43:30.260Z"
   },
   {
    "duration": 83,
    "start_time": "2022-10-21T16:43:30.335Z"
   },
   {
    "duration": 77,
    "start_time": "2022-10-21T16:43:30.420Z"
   },
   {
    "duration": 66,
    "start_time": "2022-10-21T16:43:30.510Z"
   },
   {
    "duration": 30,
    "start_time": "2022-10-21T16:43:30.585Z"
   },
   {
    "duration": 58,
    "start_time": "2022-10-21T16:43:30.619Z"
   },
   {
    "duration": 21,
    "start_time": "2022-10-21T16:43:30.678Z"
   },
   {
    "duration": 52,
    "start_time": "2022-10-21T16:43:30.703Z"
   },
   {
    "duration": 20,
    "start_time": "2022-10-21T16:43:30.756Z"
   },
   {
    "duration": 28,
    "start_time": "2022-10-21T16:43:30.778Z"
   },
   {
    "duration": 28,
    "start_time": "2022-10-21T16:43:30.807Z"
   },
   {
    "duration": 27,
    "start_time": "2022-10-21T16:43:30.837Z"
   },
   {
    "duration": 20,
    "start_time": "2022-10-21T16:43:30.865Z"
   },
   {
    "duration": 15,
    "start_time": "2022-10-21T16:43:30.887Z"
   },
   {
    "duration": 25,
    "start_time": "2022-10-21T16:43:30.904Z"
   },
   {
    "duration": 7,
    "start_time": "2022-10-21T16:43:30.931Z"
   },
   {
    "duration": 313,
    "start_time": "2022-10-21T16:43:30.939Z"
   },
   {
    "duration": 21,
    "start_time": "2022-10-21T16:43:31.253Z"
   },
   {
    "duration": 38,
    "start_time": "2022-10-21T16:43:31.276Z"
   },
   {
    "duration": 101,
    "start_time": "2022-10-21T16:43:31.316Z"
   },
   {
    "duration": 10,
    "start_time": "2022-10-21T16:43:31.420Z"
   },
   {
    "duration": 34,
    "start_time": "2022-10-21T16:43:31.432Z"
   },
   {
    "duration": 28,
    "start_time": "2022-10-21T16:43:31.467Z"
   },
   {
    "duration": 73,
    "start_time": "2022-10-21T16:43:31.509Z"
   },
   {
    "duration": 86,
    "start_time": "2022-10-21T16:43:31.583Z"
   },
   {
    "duration": 183,
    "start_time": "2022-10-21T16:43:31.670Z"
   },
   {
    "duration": 153,
    "start_time": "2022-10-21T16:43:31.855Z"
   },
   {
    "duration": 115,
    "start_time": "2022-10-21T16:43:32.011Z"
   },
   {
    "duration": 37,
    "start_time": "2022-10-21T16:43:32.128Z"
   },
   {
    "duration": 19,
    "start_time": "2022-10-21T16:43:32.166Z"
   },
   {
    "duration": 41,
    "start_time": "2022-10-21T16:43:32.187Z"
   },
   {
    "duration": 24,
    "start_time": "2022-10-21T16:43:32.230Z"
   },
   {
    "duration": 72,
    "start_time": "2022-10-21T16:43:32.256Z"
   },
   {
    "duration": 45,
    "start_time": "2022-10-21T16:43:32.330Z"
   },
   {
    "duration": 180,
    "start_time": "2022-10-21T16:43:32.379Z"
   },
   {
    "duration": 7,
    "start_time": "2022-10-21T16:43:32.562Z"
   },
   {
    "duration": 131,
    "start_time": "2022-10-21T16:43:32.571Z"
   },
   {
    "duration": 9,
    "start_time": "2022-10-21T16:46:35.018Z"
   },
   {
    "duration": 14,
    "start_time": "2022-10-21T16:46:36.653Z"
   },
   {
    "duration": 6,
    "start_time": "2022-10-21T16:46:54.472Z"
   },
   {
    "duration": 11,
    "start_time": "2022-10-21T16:46:57.309Z"
   },
   {
    "duration": 9,
    "start_time": "2022-10-21T16:50:27.232Z"
   },
   {
    "duration": 10,
    "start_time": "2022-10-21T16:51:21.502Z"
   },
   {
    "duration": 729,
    "start_time": "2022-10-21T16:52:28.997Z"
   },
   {
    "duration": 798,
    "start_time": "2022-10-21T16:52:39.890Z"
   },
   {
    "duration": 761,
    "start_time": "2022-10-21T16:52:44.853Z"
   },
   {
    "duration": 697,
    "start_time": "2022-10-21T16:52:51.681Z"
   },
   {
    "duration": 813,
    "start_time": "2022-10-21T16:53:07.825Z"
   },
   {
    "duration": 695,
    "start_time": "2022-10-21T16:53:27.617Z"
   },
   {
    "duration": 727,
    "start_time": "2022-10-21T16:54:16.105Z"
   },
   {
    "duration": 995,
    "start_time": "2022-10-21T16:54:27.802Z"
   },
   {
    "duration": 1098,
    "start_time": "2022-10-21T16:54:50.374Z"
   },
   {
    "duration": 161,
    "start_time": "2022-10-21T16:54:51.474Z"
   },
   {
    "duration": 10,
    "start_time": "2022-10-21T16:54:51.637Z"
   },
   {
    "duration": 8,
    "start_time": "2022-10-21T16:54:51.649Z"
   },
   {
    "duration": 20,
    "start_time": "2022-10-21T16:54:51.658Z"
   },
   {
    "duration": 33,
    "start_time": "2022-10-21T16:54:51.680Z"
   },
   {
    "duration": 73,
    "start_time": "2022-10-21T16:54:51.717Z"
   },
   {
    "duration": 97,
    "start_time": "2022-10-21T16:54:51.792Z"
   },
   {
    "duration": 78,
    "start_time": "2022-10-21T16:54:51.890Z"
   },
   {
    "duration": 71,
    "start_time": "2022-10-21T16:54:51.972Z"
   },
   {
    "duration": 16,
    "start_time": "2022-10-21T16:54:52.044Z"
   },
   {
    "duration": 29,
    "start_time": "2022-10-21T16:54:52.062Z"
   },
   {
    "duration": 27,
    "start_time": "2022-10-21T16:54:52.110Z"
   },
   {
    "duration": 33,
    "start_time": "2022-10-21T16:54:52.138Z"
   },
   {
    "duration": 41,
    "start_time": "2022-10-21T16:54:52.173Z"
   },
   {
    "duration": 29,
    "start_time": "2022-10-21T16:54:52.218Z"
   },
   {
    "duration": 16,
    "start_time": "2022-10-21T16:54:52.248Z"
   },
   {
    "duration": 15,
    "start_time": "2022-10-21T16:54:52.266Z"
   },
   {
    "duration": 24,
    "start_time": "2022-10-21T16:54:52.284Z"
   },
   {
    "duration": 17,
    "start_time": "2022-10-21T16:54:52.310Z"
   },
   {
    "duration": 20,
    "start_time": "2022-10-21T16:54:52.329Z"
   },
   {
    "duration": 18,
    "start_time": "2022-10-21T16:54:52.351Z"
   },
   {
    "duration": 329,
    "start_time": "2022-10-21T16:54:52.370Z"
   },
   {
    "duration": 28,
    "start_time": "2022-10-21T16:54:52.700Z"
   },
   {
    "duration": 10,
    "start_time": "2022-10-21T16:54:52.730Z"
   },
   {
    "duration": 108,
    "start_time": "2022-10-21T16:54:52.741Z"
   },
   {
    "duration": 6,
    "start_time": "2022-10-21T16:54:52.851Z"
   },
   {
    "duration": 34,
    "start_time": "2022-10-21T16:54:52.860Z"
   },
   {
    "duration": 45,
    "start_time": "2022-10-21T16:54:52.896Z"
   },
   {
    "duration": 78,
    "start_time": "2022-10-21T16:54:52.942Z"
   },
   {
    "duration": 71,
    "start_time": "2022-10-21T16:54:53.021Z"
   },
   {
    "duration": 174,
    "start_time": "2022-10-21T16:54:53.094Z"
   },
   {
    "duration": 168,
    "start_time": "2022-10-21T16:54:53.270Z"
   },
   {
    "duration": 118,
    "start_time": "2022-10-21T16:54:53.439Z"
   },
   {
    "duration": 36,
    "start_time": "2022-10-21T16:54:53.558Z"
   },
   {
    "duration": 45,
    "start_time": "2022-10-21T16:54:53.595Z"
   },
   {
    "duration": 43,
    "start_time": "2022-10-21T16:54:53.642Z"
   },
   {
    "duration": 41,
    "start_time": "2022-10-21T16:54:53.686Z"
   },
   {
    "duration": 54,
    "start_time": "2022-10-21T16:54:53.729Z"
   },
   {
    "duration": 66,
    "start_time": "2022-10-21T16:54:53.784Z"
   },
   {
    "duration": 151,
    "start_time": "2022-10-21T16:54:53.852Z"
   },
   {
    "duration": 5,
    "start_time": "2022-10-21T16:54:54.008Z"
   },
   {
    "duration": 27,
    "start_time": "2022-10-21T16:54:54.015Z"
   },
   {
    "duration": 25,
    "start_time": "2022-10-21T16:54:54.044Z"
   },
   {
    "duration": 21,
    "start_time": "2022-10-21T16:54:54.070Z"
   },
   {
    "duration": 860,
    "start_time": "2022-10-21T16:54:54.093Z"
   },
   {
    "duration": 1720,
    "start_time": "2022-10-21T16:55:01.108Z"
   },
   {
    "duration": 748,
    "start_time": "2022-10-21T16:55:06.494Z"
   },
   {
    "duration": 145,
    "start_time": "2022-10-21T16:59:35.249Z"
   },
   {
    "duration": 631,
    "start_time": "2022-10-21T16:59:41.773Z"
   },
   {
    "duration": 2348,
    "start_time": "2022-10-21T17:00:02.297Z"
   },
   {
    "duration": 9,
    "start_time": "2022-10-21T17:00:15.059Z"
   },
   {
    "duration": 1035,
    "start_time": "2022-10-21T17:00:20.960Z"
   },
   {
    "duration": 1319,
    "start_time": "2022-10-21T17:00:30.858Z"
   },
   {
    "duration": 11,
    "start_time": "2022-10-21T17:00:35.673Z"
   },
   {
    "duration": 50,
    "start_time": "2022-10-21T17:00:58.781Z"
   },
   {
    "duration": 10,
    "start_time": "2022-10-21T17:01:04.837Z"
   },
   {
    "duration": 1238,
    "start_time": "2022-10-21T20:56:42.149Z"
   },
   {
    "duration": 487,
    "start_time": "2022-10-21T20:56:43.389Z"
   },
   {
    "duration": 11,
    "start_time": "2022-10-21T20:56:43.877Z"
   },
   {
    "duration": 8,
    "start_time": "2022-10-21T20:56:43.890Z"
   },
   {
    "duration": 26,
    "start_time": "2022-10-21T20:56:43.900Z"
   },
   {
    "duration": 15,
    "start_time": "2022-10-21T20:56:43.927Z"
   },
   {
    "duration": 59,
    "start_time": "2022-10-21T20:56:43.944Z"
   },
   {
    "duration": 77,
    "start_time": "2022-10-21T20:56:44.005Z"
   },
   {
    "duration": 82,
    "start_time": "2022-10-21T20:56:44.084Z"
   },
   {
    "duration": 54,
    "start_time": "2022-10-21T20:56:44.169Z"
   },
   {
    "duration": 17,
    "start_time": "2022-10-21T20:56:44.225Z"
   },
   {
    "duration": 26,
    "start_time": "2022-10-21T20:56:44.243Z"
   },
   {
    "duration": 16,
    "start_time": "2022-10-21T20:56:44.271Z"
   },
   {
    "duration": 46,
    "start_time": "2022-10-21T20:56:44.288Z"
   },
   {
    "duration": 20,
    "start_time": "2022-10-21T20:56:44.336Z"
   },
   {
    "duration": 12,
    "start_time": "2022-10-21T20:56:44.358Z"
   },
   {
    "duration": 10,
    "start_time": "2022-10-21T20:56:44.371Z"
   },
   {
    "duration": 7,
    "start_time": "2022-10-21T20:56:44.383Z"
   },
   {
    "duration": 38,
    "start_time": "2022-10-21T20:56:44.392Z"
   },
   {
    "duration": 12,
    "start_time": "2022-10-21T20:56:44.432Z"
   },
   {
    "duration": 11,
    "start_time": "2022-10-21T20:56:44.445Z"
   },
   {
    "duration": 5,
    "start_time": "2022-10-21T20:56:44.457Z"
   },
   {
    "duration": 308,
    "start_time": "2022-10-21T20:56:44.464Z"
   },
   {
    "duration": 23,
    "start_time": "2022-10-21T20:56:44.774Z"
   },
   {
    "duration": 9,
    "start_time": "2022-10-21T20:56:44.799Z"
   },
   {
    "duration": 90,
    "start_time": "2022-10-21T20:56:44.810Z"
   },
   {
    "duration": 23,
    "start_time": "2022-10-21T20:56:44.902Z"
   },
   {
    "duration": 23,
    "start_time": "2022-10-21T20:56:44.929Z"
   },
   {
    "duration": 25,
    "start_time": "2022-10-21T20:56:44.954Z"
   },
   {
    "duration": 83,
    "start_time": "2022-10-21T20:56:44.981Z"
   },
   {
    "duration": 75,
    "start_time": "2022-10-21T20:56:45.066Z"
   },
   {
    "duration": 156,
    "start_time": "2022-10-21T20:56:45.143Z"
   },
   {
    "duration": 146,
    "start_time": "2022-10-21T20:56:45.301Z"
   },
   {
    "duration": 102,
    "start_time": "2022-10-21T20:56:45.449Z"
   },
   {
    "duration": 34,
    "start_time": "2022-10-21T20:56:45.553Z"
   },
   {
    "duration": 36,
    "start_time": "2022-10-21T20:56:45.589Z"
   },
   {
    "duration": 19,
    "start_time": "2022-10-21T20:56:45.627Z"
   },
   {
    "duration": 20,
    "start_time": "2022-10-21T20:56:45.650Z"
   },
   {
    "duration": 76,
    "start_time": "2022-10-21T20:56:45.672Z"
   },
   {
    "duration": 39,
    "start_time": "2022-10-21T20:56:45.750Z"
   },
   {
    "duration": 143,
    "start_time": "2022-10-21T20:56:45.791Z"
   },
   {
    "duration": 5,
    "start_time": "2022-10-21T20:56:45.936Z"
   },
   {
    "duration": 15,
    "start_time": "2022-10-21T20:56:45.942Z"
   },
   {
    "duration": 9,
    "start_time": "2022-10-21T20:56:45.958Z"
   },
   {
    "duration": 15,
    "start_time": "2022-10-21T20:56:45.968Z"
   },
   {
    "duration": 887,
    "start_time": "2022-10-21T20:56:45.984Z"
   },
   {
    "duration": 602,
    "start_time": "2022-10-21T21:10:09.730Z"
   },
   {
    "duration": 42,
    "start_time": "2022-10-22T03:34:27.073Z"
   },
   {
    "duration": 1272,
    "start_time": "2022-10-22T03:34:35.494Z"
   },
   {
    "duration": 672,
    "start_time": "2022-10-22T03:34:36.768Z"
   },
   {
    "duration": 10,
    "start_time": "2022-10-22T03:34:37.442Z"
   },
   {
    "duration": 10,
    "start_time": "2022-10-22T03:34:37.454Z"
   },
   {
    "duration": 19,
    "start_time": "2022-10-22T03:34:37.466Z"
   },
   {
    "duration": 12,
    "start_time": "2022-10-22T03:34:37.486Z"
   },
   {
    "duration": 61,
    "start_time": "2022-10-22T03:34:37.500Z"
   },
   {
    "duration": 83,
    "start_time": "2022-10-22T03:34:37.562Z"
   },
   {
    "duration": 85,
    "start_time": "2022-10-22T03:34:37.647Z"
   },
   {
    "duration": 63,
    "start_time": "2022-10-22T03:34:37.733Z"
   },
   {
    "duration": 17,
    "start_time": "2022-10-22T03:34:37.797Z"
   },
   {
    "duration": 25,
    "start_time": "2022-10-22T03:34:37.816Z"
   },
   {
    "duration": 17,
    "start_time": "2022-10-22T03:34:37.843Z"
   },
   {
    "duration": 24,
    "start_time": "2022-10-22T03:34:37.891Z"
   },
   {
    "duration": 19,
    "start_time": "2022-10-22T03:34:37.916Z"
   },
   {
    "duration": 10,
    "start_time": "2022-10-22T03:34:37.936Z"
   },
   {
    "duration": 7,
    "start_time": "2022-10-22T03:34:37.948Z"
   },
   {
    "duration": 34,
    "start_time": "2022-10-22T03:34:37.957Z"
   },
   {
    "duration": 12,
    "start_time": "2022-10-22T03:34:37.993Z"
   },
   {
    "duration": 13,
    "start_time": "2022-10-22T03:34:38.006Z"
   },
   {
    "duration": 11,
    "start_time": "2022-10-22T03:34:38.021Z"
   },
   {
    "duration": 6,
    "start_time": "2022-10-22T03:34:38.034Z"
   },
   {
    "duration": 317,
    "start_time": "2022-10-22T03:34:38.041Z"
   },
   {
    "duration": 524,
    "start_time": "2022-10-22T03:34:38.359Z"
   },
   {
    "duration": 22,
    "start_time": "2022-10-22T03:34:38.885Z"
   },
   {
    "duration": 9,
    "start_time": "2022-10-22T03:34:38.908Z"
   },
   {
    "duration": 91,
    "start_time": "2022-10-22T03:34:38.918Z"
   },
   {
    "duration": 7,
    "start_time": "2022-10-22T03:34:39.010Z"
   },
   {
    "duration": 21,
    "start_time": "2022-10-22T03:34:39.018Z"
   },
   {
    "duration": 25,
    "start_time": "2022-10-22T03:34:39.040Z"
   },
   {
    "duration": 76,
    "start_time": "2022-10-22T03:34:39.066Z"
   },
   {
    "duration": 71,
    "start_time": "2022-10-22T03:34:39.144Z"
   },
   {
    "duration": 154,
    "start_time": "2022-10-22T03:34:39.217Z"
   },
   {
    "duration": 225,
    "start_time": "2022-10-22T03:34:39.373Z"
   },
   {
    "duration": 111,
    "start_time": "2022-10-22T03:34:39.600Z"
   },
   {
    "duration": 30,
    "start_time": "2022-10-22T03:34:39.713Z"
   },
   {
    "duration": 19,
    "start_time": "2022-10-22T03:34:39.745Z"
   },
   {
    "duration": 38,
    "start_time": "2022-10-22T03:34:39.765Z"
   },
   {
    "duration": 20,
    "start_time": "2022-10-22T03:34:39.805Z"
   },
   {
    "duration": 65,
    "start_time": "2022-10-22T03:34:39.827Z"
   },
   {
    "duration": 36,
    "start_time": "2022-10-22T03:34:39.896Z"
   },
   {
    "duration": 137,
    "start_time": "2022-10-22T03:34:39.934Z"
   },
   {
    "duration": 5,
    "start_time": "2022-10-22T03:34:40.073Z"
   },
   {
    "duration": 15,
    "start_time": "2022-10-22T03:34:40.079Z"
   },
   {
    "duration": 7,
    "start_time": "2022-10-22T03:34:40.096Z"
   },
   {
    "duration": 7,
    "start_time": "2022-10-22T03:34:40.104Z"
   },
   {
    "duration": 1706,
    "start_time": "2022-10-22T03:34:40.112Z"
   },
   {
    "duration": 48,
    "start_time": "2022-10-22T07:45:41.316Z"
   },
   {
    "duration": 5,
    "start_time": "2022-10-22T07:45:47.974Z"
   },
   {
    "duration": 6,
    "start_time": "2022-10-22T07:46:03.350Z"
   },
   {
    "duration": 1310,
    "start_time": "2022-10-22T07:46:10.885Z"
   },
   {
    "duration": 586,
    "start_time": "2022-10-22T07:46:12.196Z"
   },
   {
    "duration": 11,
    "start_time": "2022-10-22T07:46:12.783Z"
   },
   {
    "duration": 8,
    "start_time": "2022-10-22T07:46:12.795Z"
   },
   {
    "duration": 20,
    "start_time": "2022-10-22T07:46:12.804Z"
   },
   {
    "duration": 12,
    "start_time": "2022-10-22T07:46:12.825Z"
   },
   {
    "duration": 57,
    "start_time": "2022-10-22T07:46:12.840Z"
   },
   {
    "duration": 65,
    "start_time": "2022-10-22T07:46:12.909Z"
   },
   {
    "duration": 79,
    "start_time": "2022-10-22T07:46:12.975Z"
   },
   {
    "duration": 55,
    "start_time": "2022-10-22T07:46:13.057Z"
   },
   {
    "duration": 14,
    "start_time": "2022-10-22T07:46:13.113Z"
   },
   {
    "duration": 26,
    "start_time": "2022-10-22T07:46:13.129Z"
   },
   {
    "duration": 18,
    "start_time": "2022-10-22T07:46:13.156Z"
   },
   {
    "duration": 52,
    "start_time": "2022-10-22T07:46:13.175Z"
   },
   {
    "duration": 27,
    "start_time": "2022-10-22T07:46:13.228Z"
   },
   {
    "duration": 17,
    "start_time": "2022-10-22T07:46:13.257Z"
   },
   {
    "duration": 9,
    "start_time": "2022-10-22T07:46:13.275Z"
   },
   {
    "duration": 25,
    "start_time": "2022-10-22T07:46:13.285Z"
   },
   {
    "duration": 11,
    "start_time": "2022-10-22T07:46:13.311Z"
   },
   {
    "duration": 11,
    "start_time": "2022-10-22T07:46:13.323Z"
   },
   {
    "duration": 10,
    "start_time": "2022-10-22T07:46:13.336Z"
   },
   {
    "duration": 5,
    "start_time": "2022-10-22T07:46:13.347Z"
   },
   {
    "duration": 309,
    "start_time": "2022-10-22T07:46:13.353Z"
   },
   {
    "duration": 467,
    "start_time": "2022-10-22T07:46:13.664Z"
   },
   {
    "duration": 19,
    "start_time": "2022-10-22T07:46:14.132Z"
   },
   {
    "duration": 9,
    "start_time": "2022-10-22T07:46:14.152Z"
   },
   {
    "duration": 99,
    "start_time": "2022-10-22T07:46:14.163Z"
   },
   {
    "duration": 6,
    "start_time": "2022-10-22T07:46:14.267Z"
   },
   {
    "duration": 37,
    "start_time": "2022-10-22T07:46:14.274Z"
   },
   {
    "duration": 29,
    "start_time": "2022-10-22T07:46:14.312Z"
   },
   {
    "duration": 76,
    "start_time": "2022-10-22T07:46:14.342Z"
   },
   {
    "duration": 89,
    "start_time": "2022-10-22T07:46:14.420Z"
   },
   {
    "duration": 171,
    "start_time": "2022-10-22T07:46:14.510Z"
   },
   {
    "duration": 203,
    "start_time": "2022-10-22T07:46:14.683Z"
   },
   {
    "duration": 103,
    "start_time": "2022-10-22T07:46:14.888Z"
   },
   {
    "duration": 36,
    "start_time": "2022-10-22T07:46:14.993Z"
   },
   {
    "duration": 22,
    "start_time": "2022-10-22T07:46:15.032Z"
   },
   {
    "duration": 19,
    "start_time": "2022-10-22T07:46:15.056Z"
   },
   {
    "duration": 39,
    "start_time": "2022-10-22T07:46:15.077Z"
   },
   {
    "duration": 48,
    "start_time": "2022-10-22T07:46:15.117Z"
   },
   {
    "duration": 52,
    "start_time": "2022-10-22T07:46:15.167Z"
   },
   {
    "duration": 139,
    "start_time": "2022-10-22T07:46:15.220Z"
   },
   {
    "duration": 5,
    "start_time": "2022-10-22T07:46:15.361Z"
   },
   {
    "duration": 11,
    "start_time": "2022-10-22T07:46:15.368Z"
   },
   {
    "duration": 10,
    "start_time": "2022-10-22T07:46:15.381Z"
   },
   {
    "duration": 8,
    "start_time": "2022-10-22T07:46:15.409Z"
   },
   {
    "duration": 785,
    "start_time": "2022-10-22T07:46:15.419Z"
   },
   {
    "duration": 40,
    "start_time": "2022-10-22T07:46:37.629Z"
   },
   {
    "duration": 41,
    "start_time": "2022-10-22T07:46:47.095Z"
   },
   {
    "duration": 43,
    "start_time": "2022-10-22T07:46:56.528Z"
   },
   {
    "duration": 122,
    "start_time": "2022-10-22T07:47:18.926Z"
   },
   {
    "duration": 656,
    "start_time": "2022-10-22T07:47:37.243Z"
   },
   {
    "duration": 118,
    "start_time": "2022-10-22T07:52:52.228Z"
   },
   {
    "duration": 39,
    "start_time": "2022-10-22T07:52:54.758Z"
   },
   {
    "duration": 9,
    "start_time": "2022-10-22T07:53:06.704Z"
   },
   {
    "duration": 55,
    "start_time": "2022-10-22T08:00:08.421Z"
   },
   {
    "duration": 71,
    "start_time": "2022-10-22T08:00:37.117Z"
   },
   {
    "duration": 50,
    "start_time": "2022-10-22T08:00:55.328Z"
   },
   {
    "duration": 22,
    "start_time": "2022-10-22T08:01:15.476Z"
   },
   {
    "duration": 22,
    "start_time": "2022-10-22T08:01:35.829Z"
   },
   {
    "duration": 23,
    "start_time": "2022-10-22T08:01:45.230Z"
   },
   {
    "duration": 29,
    "start_time": "2022-10-22T08:02:14.379Z"
   },
   {
    "duration": 24,
    "start_time": "2022-10-22T08:02:19.957Z"
   },
   {
    "duration": 22,
    "start_time": "2022-10-22T08:02:24.786Z"
   },
   {
    "duration": 6,
    "start_time": "2022-10-22T08:02:42.079Z"
   },
   {
    "duration": 9,
    "start_time": "2022-10-22T08:03:12.578Z"
   },
   {
    "duration": 11,
    "start_time": "2022-10-22T08:03:18.617Z"
   },
   {
    "duration": 10,
    "start_time": "2022-10-22T08:03:21.029Z"
   },
   {
    "duration": 1126,
    "start_time": "2022-10-22T08:03:29.610Z"
   },
   {
    "duration": 137,
    "start_time": "2022-10-22T08:03:30.737Z"
   },
   {
    "duration": 10,
    "start_time": "2022-10-22T08:03:30.876Z"
   },
   {
    "duration": 8,
    "start_time": "2022-10-22T08:03:30.889Z"
   },
   {
    "duration": 34,
    "start_time": "2022-10-22T08:03:30.898Z"
   },
   {
    "duration": 13,
    "start_time": "2022-10-22T08:03:30.934Z"
   },
   {
    "duration": 66,
    "start_time": "2022-10-22T08:03:30.948Z"
   },
   {
    "duration": 65,
    "start_time": "2022-10-22T08:03:31.016Z"
   },
   {
    "duration": 79,
    "start_time": "2022-10-22T08:03:31.082Z"
   },
   {
    "duration": 60,
    "start_time": "2022-10-22T08:03:31.162Z"
   },
   {
    "duration": 14,
    "start_time": "2022-10-22T08:03:31.224Z"
   },
   {
    "duration": 31,
    "start_time": "2022-10-22T08:03:31.239Z"
   },
   {
    "duration": 38,
    "start_time": "2022-10-22T08:03:31.273Z"
   },
   {
    "duration": 25,
    "start_time": "2022-10-22T08:03:31.312Z"
   },
   {
    "duration": 19,
    "start_time": "2022-10-22T08:03:31.338Z"
   },
   {
    "duration": 13,
    "start_time": "2022-10-22T08:03:31.358Z"
   },
   {
    "duration": 17,
    "start_time": "2022-10-22T08:03:31.372Z"
   },
   {
    "duration": 19,
    "start_time": "2022-10-22T08:03:31.390Z"
   },
   {
    "duration": 11,
    "start_time": "2022-10-22T08:03:31.411Z"
   },
   {
    "duration": 12,
    "start_time": "2022-10-22T08:03:31.424Z"
   },
   {
    "duration": 10,
    "start_time": "2022-10-22T08:03:31.438Z"
   },
   {
    "duration": 6,
    "start_time": "2022-10-22T08:03:31.449Z"
   },
   {
    "duration": 310,
    "start_time": "2022-10-22T08:03:31.456Z"
   },
   {
    "duration": 465,
    "start_time": "2022-10-22T08:03:31.768Z"
   },
   {
    "duration": 20,
    "start_time": "2022-10-22T08:03:32.235Z"
   },
   {
    "duration": 8,
    "start_time": "2022-10-22T08:03:32.257Z"
   },
   {
    "duration": 95,
    "start_time": "2022-10-22T08:03:32.267Z"
   },
   {
    "duration": 6,
    "start_time": "2022-10-22T08:03:32.363Z"
   },
   {
    "duration": 4,
    "start_time": "2022-10-22T08:03:32.371Z"
   },
   {
    "duration": 39,
    "start_time": "2022-10-22T08:03:32.376Z"
   },
   {
    "duration": 27,
    "start_time": "2022-10-22T08:03:32.416Z"
   },
   {
    "duration": 75,
    "start_time": "2022-10-22T08:03:32.445Z"
   },
   {
    "duration": 63,
    "start_time": "2022-10-22T08:03:32.522Z"
   },
   {
    "duration": 161,
    "start_time": "2022-10-22T08:03:32.587Z"
   },
   {
    "duration": 201,
    "start_time": "2022-10-22T08:03:32.749Z"
   },
   {
    "duration": 102,
    "start_time": "2022-10-22T08:03:32.952Z"
   },
   {
    "duration": 32,
    "start_time": "2022-10-22T08:03:33.056Z"
   },
   {
    "duration": 28,
    "start_time": "2022-10-22T08:03:33.090Z"
   },
   {
    "duration": 16,
    "start_time": "2022-10-22T08:03:33.119Z"
   },
   {
    "duration": 17,
    "start_time": "2022-10-22T08:03:33.138Z"
   },
   {
    "duration": 70,
    "start_time": "2022-10-22T08:03:33.157Z"
   },
   {
    "duration": 43,
    "start_time": "2022-10-22T08:03:33.229Z"
   },
   {
    "duration": 153,
    "start_time": "2022-10-22T08:03:33.274Z"
   },
   {
    "duration": 6,
    "start_time": "2022-10-22T08:03:33.428Z"
   },
   {
    "duration": 12,
    "start_time": "2022-10-22T08:03:33.435Z"
   },
   {
    "duration": 8,
    "start_time": "2022-10-22T08:03:33.448Z"
   },
   {
    "duration": 7,
    "start_time": "2022-10-22T08:03:33.458Z"
   },
   {
    "duration": 1065,
    "start_time": "2022-10-22T08:03:33.467Z"
   },
   {
    "duration": 770,
    "start_time": "2022-10-22T08:03:51.788Z"
   },
   {
    "duration": 723,
    "start_time": "2022-10-22T08:04:22.098Z"
   },
   {
    "duration": 40,
    "start_time": "2022-10-22T08:04:32.585Z"
   },
   {
    "duration": 125,
    "start_time": "2022-10-22T08:04:36.769Z"
   },
   {
    "duration": 713,
    "start_time": "2022-10-22T08:04:40.885Z"
   },
   {
    "duration": 23,
    "start_time": "2022-10-22T08:07:29.621Z"
   },
   {
    "duration": 11,
    "start_time": "2022-10-22T08:08:42.730Z"
   },
   {
    "duration": 10,
    "start_time": "2022-10-22T08:10:36.653Z"
   },
   {
    "duration": 1280,
    "start_time": "2022-10-22T18:10:59.400Z"
   },
   {
    "duration": 139,
    "start_time": "2022-10-22T18:11:00.682Z"
   },
   {
    "duration": 0,
    "start_time": "2022-10-22T18:11:00.825Z"
   },
   {
    "duration": 0,
    "start_time": "2022-10-22T18:11:00.826Z"
   },
   {
    "duration": 0,
    "start_time": "2022-10-22T18:11:00.828Z"
   },
   {
    "duration": 0,
    "start_time": "2022-10-22T18:11:00.829Z"
   },
   {
    "duration": 0,
    "start_time": "2022-10-22T18:11:00.830Z"
   },
   {
    "duration": 0,
    "start_time": "2022-10-22T18:11:00.832Z"
   },
   {
    "duration": 0,
    "start_time": "2022-10-22T18:11:00.833Z"
   },
   {
    "duration": 0,
    "start_time": "2022-10-22T18:11:00.834Z"
   },
   {
    "duration": 0,
    "start_time": "2022-10-22T18:11:00.835Z"
   },
   {
    "duration": 0,
    "start_time": "2022-10-22T18:11:00.836Z"
   },
   {
    "duration": 0,
    "start_time": "2022-10-22T18:11:00.838Z"
   },
   {
    "duration": 0,
    "start_time": "2022-10-22T18:11:00.839Z"
   },
   {
    "duration": 0,
    "start_time": "2022-10-22T18:11:00.840Z"
   },
   {
    "duration": 0,
    "start_time": "2022-10-22T18:11:00.841Z"
   },
   {
    "duration": 0,
    "start_time": "2022-10-22T18:11:00.842Z"
   },
   {
    "duration": 0,
    "start_time": "2022-10-22T18:11:00.843Z"
   },
   {
    "duration": 0,
    "start_time": "2022-10-22T18:11:00.844Z"
   },
   {
    "duration": 0,
    "start_time": "2022-10-22T18:11:00.845Z"
   },
   {
    "duration": 0,
    "start_time": "2022-10-22T18:11:00.846Z"
   },
   {
    "duration": 0,
    "start_time": "2022-10-22T18:11:00.847Z"
   },
   {
    "duration": 0,
    "start_time": "2022-10-22T18:11:00.848Z"
   },
   {
    "duration": 0,
    "start_time": "2022-10-22T18:11:00.849Z"
   },
   {
    "duration": 0,
    "start_time": "2022-10-22T18:11:00.850Z"
   },
   {
    "duration": 0,
    "start_time": "2022-10-22T18:11:00.851Z"
   },
   {
    "duration": 0,
    "start_time": "2022-10-22T18:11:00.852Z"
   },
   {
    "duration": 0,
    "start_time": "2022-10-22T18:11:00.853Z"
   },
   {
    "duration": 0,
    "start_time": "2022-10-22T18:11:00.854Z"
   },
   {
    "duration": 0,
    "start_time": "2022-10-22T18:11:00.855Z"
   },
   {
    "duration": 0,
    "start_time": "2022-10-22T18:11:00.856Z"
   },
   {
    "duration": 0,
    "start_time": "2022-10-22T18:11:00.857Z"
   },
   {
    "duration": 0,
    "start_time": "2022-10-22T18:11:00.858Z"
   },
   {
    "duration": 0,
    "start_time": "2022-10-22T18:11:00.859Z"
   },
   {
    "duration": 0,
    "start_time": "2022-10-22T18:11:00.860Z"
   },
   {
    "duration": 0,
    "start_time": "2022-10-22T18:11:00.860Z"
   },
   {
    "duration": 0,
    "start_time": "2022-10-22T18:11:00.861Z"
   },
   {
    "duration": 0,
    "start_time": "2022-10-22T18:11:00.862Z"
   },
   {
    "duration": 0,
    "start_time": "2022-10-22T18:11:00.863Z"
   },
   {
    "duration": 0,
    "start_time": "2022-10-22T18:11:00.922Z"
   },
   {
    "duration": 0,
    "start_time": "2022-10-22T18:11:00.923Z"
   },
   {
    "duration": 0,
    "start_time": "2022-10-22T18:11:00.925Z"
   },
   {
    "duration": 0,
    "start_time": "2022-10-22T18:11:00.926Z"
   },
   {
    "duration": 0,
    "start_time": "2022-10-22T18:11:00.927Z"
   },
   {
    "duration": 0,
    "start_time": "2022-10-22T18:11:00.928Z"
   },
   {
    "duration": 0,
    "start_time": "2022-10-22T18:11:00.929Z"
   },
   {
    "duration": 0,
    "start_time": "2022-10-22T18:11:00.930Z"
   },
   {
    "duration": 0,
    "start_time": "2022-10-22T18:11:00.931Z"
   },
   {
    "duration": 0,
    "start_time": "2022-10-22T18:11:00.932Z"
   },
   {
    "duration": 670,
    "start_time": "2022-10-22T18:11:33.544Z"
   },
   {
    "duration": 6,
    "start_time": "2022-10-22T18:11:34.216Z"
   },
   {
    "duration": 10,
    "start_time": "2022-10-22T18:11:34.224Z"
   },
   {
    "duration": 19,
    "start_time": "2022-10-22T18:11:34.236Z"
   },
   {
    "duration": 12,
    "start_time": "2022-10-22T18:11:34.257Z"
   },
   {
    "duration": 68,
    "start_time": "2022-10-22T18:11:34.270Z"
   },
   {
    "duration": 58,
    "start_time": "2022-10-22T18:11:34.339Z"
   },
   {
    "duration": 72,
    "start_time": "2022-10-22T18:11:34.398Z"
   },
   {
    "duration": 62,
    "start_time": "2022-10-22T18:11:34.471Z"
   },
   {
    "duration": 15,
    "start_time": "2022-10-22T18:11:34.535Z"
   },
   {
    "duration": 24,
    "start_time": "2022-10-22T18:11:34.552Z"
   },
   {
    "duration": 16,
    "start_time": "2022-10-22T18:11:34.577Z"
   },
   {
    "duration": 46,
    "start_time": "2022-10-22T18:11:34.594Z"
   },
   {
    "duration": 18,
    "start_time": "2022-10-22T18:11:34.642Z"
   },
   {
    "duration": 10,
    "start_time": "2022-10-22T18:11:34.661Z"
   },
   {
    "duration": 7,
    "start_time": "2022-10-22T18:11:34.673Z"
   },
   {
    "duration": 5,
    "start_time": "2022-10-22T18:11:34.681Z"
   },
   {
    "duration": 34,
    "start_time": "2022-10-22T18:11:34.688Z"
   },
   {
    "duration": 10,
    "start_time": "2022-10-22T18:11:34.724Z"
   },
   {
    "duration": 10,
    "start_time": "2022-10-22T18:11:34.736Z"
   },
   {
    "duration": 5,
    "start_time": "2022-10-22T18:11:34.747Z"
   },
   {
    "duration": 285,
    "start_time": "2022-10-22T18:11:34.753Z"
   },
   {
    "duration": 497,
    "start_time": "2022-10-22T18:11:35.040Z"
   },
   {
    "duration": 20,
    "start_time": "2022-10-22T18:11:35.538Z"
   },
   {
    "duration": 9,
    "start_time": "2022-10-22T18:11:35.559Z"
   },
   {
    "duration": 93,
    "start_time": "2022-10-22T18:11:35.570Z"
   },
   {
    "duration": 7,
    "start_time": "2022-10-22T18:11:35.664Z"
   },
   {
    "duration": 66,
    "start_time": "2022-10-22T18:11:35.674Z"
   },
   {
    "duration": 24,
    "start_time": "2022-10-22T18:11:35.741Z"
   },
   {
    "duration": 27,
    "start_time": "2022-10-22T18:11:35.766Z"
   },
   {
    "duration": 74,
    "start_time": "2022-10-22T18:11:35.795Z"
   },
   {
    "duration": 71,
    "start_time": "2022-10-22T18:11:35.871Z"
   },
   {
    "duration": 180,
    "start_time": "2022-10-22T18:11:35.944Z"
   },
   {
    "duration": 212,
    "start_time": "2022-10-22T18:11:36.126Z"
   },
   {
    "duration": 90,
    "start_time": "2022-10-22T18:11:36.340Z"
   },
   {
    "duration": 29,
    "start_time": "2022-10-22T18:11:36.432Z"
   },
   {
    "duration": 17,
    "start_time": "2022-10-22T18:11:36.462Z"
   },
   {
    "duration": 20,
    "start_time": "2022-10-22T18:11:36.480Z"
   },
   {
    "duration": 36,
    "start_time": "2022-10-22T18:11:36.502Z"
   },
   {
    "duration": 44,
    "start_time": "2022-10-22T18:11:36.540Z"
   },
   {
    "duration": 53,
    "start_time": "2022-10-22T18:11:36.585Z"
   },
   {
    "duration": 122,
    "start_time": "2022-10-22T18:11:36.640Z"
   },
   {
    "duration": 5,
    "start_time": "2022-10-22T18:11:36.763Z"
   },
   {
    "duration": 13,
    "start_time": "2022-10-22T18:11:36.769Z"
   },
   {
    "duration": 9,
    "start_time": "2022-10-22T18:11:36.784Z"
   },
   {
    "duration": 13,
    "start_time": "2022-10-22T18:11:36.794Z"
   },
   {
    "duration": 1164,
    "start_time": "2022-10-22T18:11:36.809Z"
   },
   {
    "duration": 0,
    "start_time": "2022-10-22T18:11:37.975Z"
   },
   {
    "duration": 1229,
    "start_time": "2022-10-22T18:13:41.112Z"
   },
   {
    "duration": 1188,
    "start_time": "2022-10-22T18:13:48.044Z"
   },
   {
    "duration": 1157,
    "start_time": "2022-10-22T18:13:55.552Z"
   },
   {
    "duration": 9,
    "start_time": "2022-10-22T18:14:13.524Z"
   },
   {
    "duration": 1180,
    "start_time": "2022-10-22T18:14:30.904Z"
   },
   {
    "duration": 5,
    "start_time": "2022-10-22T18:15:01.576Z"
   }
  ],
  "kernelspec": {
   "display_name": "Python 3 (ipykernel)",
   "language": "python",
   "name": "python3"
  },
  "language_info": {
   "codemirror_mode": {
    "name": "ipython",
    "version": 3
   },
   "file_extension": ".py",
   "mimetype": "text/x-python",
   "name": "python",
   "nbconvert_exporter": "python",
   "pygments_lexer": "ipython3",
   "version": "3.9.12"
  },
  "toc": {
   "base_numbering": 1,
   "nav_menu": {},
   "number_sections": false,
   "sideBar": true,
   "skip_h1_title": false,
   "title_cell": "Table of Contents",
   "title_sidebar": "Contents",
   "toc_cell": false,
   "toc_position": {
    "height": "calc(100% - 180px)",
    "left": "10px",
    "top": "150px",
    "width": "199.361px"
   },
   "toc_section_display": true,
   "toc_window_display": true
  }
 },
 "nbformat": 4,
 "nbformat_minor": 2
}
